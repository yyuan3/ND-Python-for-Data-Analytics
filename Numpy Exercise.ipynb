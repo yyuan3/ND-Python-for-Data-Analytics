{
 "cells": [
  {
   "cell_type": "markdown",
   "metadata": {
    "colab_type": "text",
    "id": "HREOBd_1GJCH",
    "nbgrader": {
     "grade": false,
     "locked": true,
     "solution": false
    }
   },
   "source": [
    "# Assignment 2.7: Module 2 In-Class Assignment\n",
    "Python for Data Analytics | Module 2  \n",
    "Professor James Ng"
   ]
  },
  {
   "cell_type": "code",
   "execution_count": 50,
   "metadata": {
    "colab": {},
    "colab_type": "code",
    "id": "51rVcjGAGJCM"
   },
   "outputs": [],
   "source": [
    "# PROBLEM 1\n",
    "# Import pandas and numpy per the community conventions\n",
    "\n",
    "### BEGIN SOLUTION\n",
    "\n",
    "# Freebie: everyone gets full points here\n",
    "import pandas as pd\n",
    "import numpy as np\n",
    "### END SOLUTION"
   ]
  },
  {
   "cell_type": "code",
   "execution_count": 51,
   "metadata": {
    "colab": {},
    "colab_type": "code",
    "id": "9To1ESCaMzmJ",
    "nbgrader": {
     "grade": false,
     "locked": true,
     "solution": false
    }
   },
   "outputs": [],
   "source": [
    "# RUN THIS CODE\n",
    "%matplotlib inline\n",
    "import matplotlib.pyplot as plt"
   ]
  },
  {
   "cell_type": "markdown",
   "metadata": {
    "colab_type": "text",
    "id": "tOj8b3UxGJCZ",
    "nbgrader": {
     "grade": false,
     "locked": true,
     "solution": false
    }
   },
   "source": [
    "## The Data Set\n",
    "In this assessment, you will be analyzing data from the U.S. federal goverment on homicides from 1999-2016. It's a heavy topic, but hopefully you will find it instructive and motivating.\n",
    "\n",
    "I will go ahead and load this data set for you and generate the NumPy arrays that you will be interacting with.\n",
    "\n",
    "Take a minute or two to look at the data to familiarize yourself with what is contained in the various columns/NumPy arrays."
   ]
  },
  {
   "cell_type": "code",
   "execution_count": 52,
   "metadata": {
    "colab": {},
    "colab_type": "code",
    "id": "rlc03znPGJCd",
    "nbgrader": {
     "grade": false,
     "locked": true,
     "solution": false
    }
   },
   "outputs": [
    {
     "name": "stdout",
     "output_type": "stream",
     "text": [
      "  % Total    % Received % Xferd  Average Speed   Time    Time     Time  Current\n",
      "                                 Dload  Upload   Total   Spent    Left  Speed\n",
      "100   459  100   459    0     0   1311      0 --:--:-- --:--:-- --:--:--  1307\n",
      "100  116k  100  116k    0     0  60783      0  0:00:01  0:00:01 --:--:--  291k\n"
     ]
    },
    {
     "data": {
      "text/html": [
       "<div>\n",
       "<style scoped>\n",
       "    .dataframe tbody tr th:only-of-type {\n",
       "        vertical-align: middle;\n",
       "    }\n",
       "\n",
       "    .dataframe tbody tr th {\n",
       "        vertical-align: top;\n",
       "    }\n",
       "\n",
       "    .dataframe thead th {\n",
       "        text-align: right;\n",
       "    }\n",
       "</style>\n",
       "<table border=\"1\" class=\"dataframe\">\n",
       "  <thead>\n",
       "    <tr style=\"text-align: right;\">\n",
       "      <th></th>\n",
       "      <th>Sex</th>\n",
       "      <th>Race</th>\n",
       "      <th>Age Group</th>\n",
       "      <th>Year</th>\n",
       "      <th>Deaths</th>\n",
       "      <th>Population</th>\n",
       "    </tr>\n",
       "  </thead>\n",
       "  <tbody>\n",
       "    <tr>\n",
       "      <th>0</th>\n",
       "      <td>Males</td>\n",
       "      <td>Am Indian/AK Native</td>\n",
       "      <td>00-04 yrs</td>\n",
       "      <td>1999</td>\n",
       "      <td>7</td>\n",
       "      <td>128050</td>\n",
       "    </tr>\n",
       "    <tr>\n",
       "      <th>1</th>\n",
       "      <td>Females</td>\n",
       "      <td>Am Indian/AK Native</td>\n",
       "      <td>00-04 yrs</td>\n",
       "      <td>1999</td>\n",
       "      <td>4</td>\n",
       "      <td>123319</td>\n",
       "    </tr>\n",
       "    <tr>\n",
       "      <th>2</th>\n",
       "      <td>Males</td>\n",
       "      <td>Am Indian/AK Native</td>\n",
       "      <td>00-04 yrs</td>\n",
       "      <td>2000</td>\n",
       "      <td>9</td>\n",
       "      <td>135549</td>\n",
       "    </tr>\n",
       "    <tr>\n",
       "      <th>3</th>\n",
       "      <td>Females</td>\n",
       "      <td>Am Indian/AK Native</td>\n",
       "      <td>00-04 yrs</td>\n",
       "      <td>2000</td>\n",
       "      <td>4</td>\n",
       "      <td>130791</td>\n",
       "    </tr>\n",
       "    <tr>\n",
       "      <th>4</th>\n",
       "      <td>Males</td>\n",
       "      <td>Am Indian/AK Native</td>\n",
       "      <td>00-04 yrs</td>\n",
       "      <td>2001</td>\n",
       "      <td>8</td>\n",
       "      <td>139340</td>\n",
       "    </tr>\n",
       "    <tr>\n",
       "      <th>5</th>\n",
       "      <td>Females</td>\n",
       "      <td>Am Indian/AK Native</td>\n",
       "      <td>00-04 yrs</td>\n",
       "      <td>2001</td>\n",
       "      <td>10</td>\n",
       "      <td>134859</td>\n",
       "    </tr>\n",
       "    <tr>\n",
       "      <th>6</th>\n",
       "      <td>Males</td>\n",
       "      <td>Am Indian/AK Native</td>\n",
       "      <td>00-04 yrs</td>\n",
       "      <td>2002</td>\n",
       "      <td>9</td>\n",
       "      <td>142507</td>\n",
       "    </tr>\n",
       "    <tr>\n",
       "      <th>7</th>\n",
       "      <td>Females</td>\n",
       "      <td>Am Indian/AK Native</td>\n",
       "      <td>00-04 yrs</td>\n",
       "      <td>2002</td>\n",
       "      <td>13</td>\n",
       "      <td>138340</td>\n",
       "    </tr>\n",
       "    <tr>\n",
       "      <th>8</th>\n",
       "      <td>Males</td>\n",
       "      <td>Am Indian/AK Native</td>\n",
       "      <td>00-04 yrs</td>\n",
       "      <td>2003</td>\n",
       "      <td>13</td>\n",
       "      <td>146682</td>\n",
       "    </tr>\n",
       "    <tr>\n",
       "      <th>9</th>\n",
       "      <td>Females</td>\n",
       "      <td>Am Indian/AK Native</td>\n",
       "      <td>00-04 yrs</td>\n",
       "      <td>2003</td>\n",
       "      <td>4</td>\n",
       "      <td>142863</td>\n",
       "    </tr>\n",
       "  </tbody>\n",
       "</table>\n",
       "</div>"
      ],
      "text/plain": [
       "       Sex                 Race  Age Group  Year  Deaths  Population\n",
       "0    Males  Am Indian/AK Native  00-04 yrs  1999       7      128050\n",
       "1  Females  Am Indian/AK Native  00-04 yrs  1999       4      123319\n",
       "2    Males  Am Indian/AK Native  00-04 yrs  2000       9      135549\n",
       "3  Females  Am Indian/AK Native  00-04 yrs  2000       4      130791\n",
       "4    Males  Am Indian/AK Native  00-04 yrs  2001       8      139340\n",
       "5  Females  Am Indian/AK Native  00-04 yrs  2001      10      134859\n",
       "6    Males  Am Indian/AK Native  00-04 yrs  2002       9      142507\n",
       "7  Females  Am Indian/AK Native  00-04 yrs  2002      13      138340\n",
       "8    Males  Am Indian/AK Native  00-04 yrs  2003      13      146682\n",
       "9  Females  Am Indian/AK Native  00-04 yrs  2003       4      142863"
      ]
     },
     "execution_count": 52,
     "metadata": {},
     "output_type": "execute_result"
    }
   ],
   "source": [
    "!curl -L https://osf.io/e6tvw/download --create-dirs -o data-sets/us-homicides-1999-2016.csv\n",
    "homicides = pd.read_csv(\n",
    "    'data-sets/us-homicides-1999-2016.csv')\n",
    "homicides[:10]"
   ]
  },
  {
   "cell_type": "code",
   "execution_count": 53,
   "metadata": {
    "colab": {},
    "colab_type": "code",
    "id": "MithMPACGJCl",
    "nbgrader": {
     "grade": false,
     "locked": true,
     "solution": false
    }
   },
   "outputs": [],
   "source": [
    "# Generate NumPy arrays for your use.\n",
    "sex_array = np.array(homicides['Sex'])\n",
    "race_array = np.array(homicides['Race'])\n",
    "age_group_array = np.array(homicides['Age Group'])\n",
    "year_array = np.array(homicides['Year']) \n",
    "deaths_array = np.array(homicides['Deaths'])\n",
    "total_population_array = np.array(homicides['Population'])\n",
    "\n",
    "# And just in case you want it, here are all those arrays in a list.\n",
    "all_arrays = [sex_array, race_array, age_group_array, year_array, \n",
    "              deaths_array, total_population_array]"
   ]
  },
  {
   "cell_type": "markdown",
   "metadata": {
    "colab_type": "text",
    "id": "YK_IQ_ImGJCp",
    "nbgrader": {
     "grade": false,
     "locked": true,
     "solution": false
    }
   },
   "source": [
    "Ok, from here it is up to you! Good luck. I hope you all get some satisfaction from pulling together your skills on a real data set and learn something in the process."
   ]
  },
  {
   "cell_type": "code",
   "execution_count": 54,
   "metadata": {
    "colab": {},
    "colab_type": "code",
    "id": "Bz9vVJXnGJCx"
   },
   "outputs": [
    {
     "name": "stdout",
     "output_type": "stream",
     "text": [
      "object 2592\n",
      "object 2592\n",
      "object 2592\n",
      "int64 2592\n",
      "int64 2592\n",
      "int64 2592\n"
     ]
    }
   ],
   "source": [
    "# PROBLEM 2\n",
    "# - Print out the datatype and size of each array using the \n",
    "#   appropriate array data attributes.\n",
    "# - You can do this one by one, or by using a loop.\n",
    "# - No need to make the output look pretty.\n",
    "\n",
    "### BEGIN SOLUTION\n",
    "for array in all_arrays:\n",
    "    print(array.dtype, array.size)\n",
    "### END SOLUTION\n"
   ]
  },
  {
   "cell_type": "code",
   "execution_count": 55,
   "metadata": {
    "colab": {},
    "colab_type": "code",
    "id": "KGuCgLVeGJDL",
    "nbgrader": {
     "grade": false,
     "locked": true,
     "solution": false
    }
   },
   "outputs": [
    {
     "data": {
      "text/plain": [
       "array([[   1999,  128050,       7],\n",
       "       [   1999,  123319,       4],\n",
       "       [   2000,  135549,       9],\n",
       "       ...,\n",
       "       [   2015, 3608677,      57],\n",
       "       [   2016, 1972484,      34],\n",
       "       [   2016, 3628186,      64]])"
      ]
     },
     "execution_count": 55,
     "metadata": {},
     "output_type": "execute_result"
    }
   ],
   "source": [
    "# Here is a two dimensional array with three columns\n",
    "# of data. Use it in the next two problems.\n",
    "\n",
    "# ALSO, we may come back to this array later in the \n",
    "# exam, so remember its name.\n",
    "year_population_deaths = np.array([year_array, total_population_array, deaths_array]).transpose()\n",
    "year_population_deaths"
   ]
  },
  {
   "cell_type": "code",
   "execution_count": 56,
   "metadata": {
    "colab": {},
    "colab_type": "code",
    "id": "069On-HlGJDX"
   },
   "outputs": [
    {
     "data": {
      "text/plain": [
       "7525332"
      ]
     },
     "execution_count": 56,
     "metadata": {},
     "output_type": "execute_result"
    }
   ],
   "source": [
    "# PROBLEM 3\n",
    "# - What is the value for total population (2nd column) \n",
    "#   of the 126th row of the array?\n",
    "\n",
    "### BEGIN SOLUTION\n",
    "\n",
    "# Either full points or zero points, no in between.\n",
    "\n",
    "year_population_deaths[125, 1]\n",
    "### END SOLUTION\n"
   ]
  },
  {
   "cell_type": "code",
   "execution_count": 57,
   "metadata": {
    "colab": {},
    "colab_type": "code",
    "id": "4oJYyqrWGJDs"
   },
   "outputs": [
    {
     "data": {
      "text/plain": [
       "array([0.05466615, 0.0324362 , 0.06639665, ..., 0.01579526, 0.01723715,\n",
       "       0.01763967])"
      ]
     },
     "execution_count": 57,
     "metadata": {},
     "output_type": "execute_result"
    }
   ],
   "source": [
    "# PROBLEM 4\n",
    "# - Create a new array, called `homicide_rate_per_1000` by \n",
    "#   dividing array containing the total numbers of deaths in a given observation\n",
    "#   by the array containing the total population in a given observation \n",
    "#   then multiplying that result by 1000.\n",
    "# - This will give you the number of people killed per 1000 citizens.\n",
    "\n",
    "### BEGIN SOLUTION\n",
    "\n",
    "# Either full points or zero points, no in between.\n",
    "\n",
    "homicide_rate_per_1000 = (deaths_array / total_population_array) * 1000\n",
    "homicide_rate_per_1000\n",
    "### END SOLUTION"
   ]
  },
  {
   "cell_type": "markdown",
   "metadata": {
    "colab_type": "text",
    "id": "d1hz9PSxGJD1",
    "nbgrader": {
     "grade": false,
     "locked": true,
     "solution": false
    }
   },
   "source": [
    "## Starting Analysis\n",
    "Now you are ready to start performing analysis on the NumPy arrays that you have created."
   ]
  },
  {
   "cell_type": "code",
   "execution_count": 58,
   "metadata": {
    "colab": {},
    "colab_type": "code",
    "id": "YtjnmZFaGJD9"
   },
   "outputs": [
    {
     "data": {
      "text/plain": [
       "314336"
      ]
     },
     "execution_count": 58,
     "metadata": {},
     "output_type": "execute_result"
    }
   ],
   "source": [
    "# PROBLEM 5\n",
    "# - What are the total number of homicides in the data set?\n",
    "# - Don't overthink it, the answer is simple.\n",
    "\n",
    "### BEGIN SOLUTION\n",
    "\n",
    "# Either full points or zero points, no in between.\n",
    "\n",
    "np.sum(deaths_array)\n",
    "### END SOLUTION"
   ]
  },
  {
   "cell_type": "code",
   "execution_count": 59,
   "metadata": {
    "colab": {},
    "colab_type": "code",
    "id": "M0d4d6bVGJEJ"
   },
   "outputs": [],
   "source": [
    "# PROBLEM 6\n",
    "# - Get the total number of homicides and mean homicide_rate_per_1000 ratio \n",
    "#   for each unique year. You could do this with or without a loop, but doing it \n",
    "#   without a loop will require a lot of copying and pasting.\n",
    "\n",
    "# - IMPORTANT: Append all your results to 2 different lists called\n",
    "#   deaths_per_year and homicide_rate_per_1000_per_year. Finally, \n",
    "#   print the 2 lists.\n",
    "\n",
    "### BEGIN SOLUTION\n",
    "\n",
    "# Either full points or zero points, no in between.\n",
    "\n",
    "deaths_per_year = list()\n",
    "homicide_rate_per_1000_per_year = list()\n",
    "for year in np.unique(year_array):\n",
    "    deaths_per_year.append(np.sum(deaths_array[year_array == year]))\n",
    "    homicide_rate_per_1000_per_year.append(np.mean(homicide_rate_per_1000[year_array == year]))\n",
    "### END SOLUTION"
   ]
  },
  {
   "cell_type": "code",
   "execution_count": 60,
   "metadata": {},
   "outputs": [
    {
     "name": "stdout",
     "output_type": "stream",
     "text": [
      "[16840, 16735, 20276, 17597, 17691, 17321, 18103, 18554, 18336, 17819, 16781, 16242, 16231, 16685, 16111, 15866, 17789, 19359]\n",
      "[0.08499254223103211, 0.07924769764587755, 0.08372753119749629, 0.08078751617152248, 0.07674904751788912, 0.07361283671410634, 0.07714379020147259, 0.07617588105212664, 0.07193259807939806, 0.0691600214462, 0.06542369081648941, 0.06294572717828155, 0.06442686082180335, 0.06399817343224304, 0.060562986759590515, 0.06082264618148622, 0.06683334219705496, 0.07254132333284913]\n"
     ]
    }
   ],
   "source": [
    "print(deaths_per_year)\n",
    "print(homicide_rate_per_1000_per_year)"
   ]
  },
  {
   "cell_type": "code",
   "execution_count": 61,
   "metadata": {
    "colab": {},
    "colab_type": "code",
    "id": "7SoECnS-cMbS",
    "nbgrader": {
     "grade": false,
     "locked": true,
     "solution": false
    }
   },
   "outputs": [
    {
     "data": {
      "image/png": "[encoded data removed]",
      "text/plain": [
       "<Figure size 432x288 with 1 Axes>"
      ]
     },
     "metadata": {
      "needs_background": "light"
     },
     "output_type": "display_data"
    }
   ],
   "source": [
    "# VISUALIZATION AID 1: Total # of Homicides Per Year\n",
    "# If you correctly did the last problem, this will\n",
    "# generate a trend line with a noticeable spike on both\n",
    "# ends of the trend line.\n",
    "from pandas.plotting import register_matplotlib_converters\n",
    "register_matplotlib_converters()\n",
    "\n",
    "df = pd.DataFrame({'year': np.unique(year_array), \n",
    "                   'yearly_sum': deaths_per_year, \n",
    "                   'yearly_rate_per_1000': homicide_rate_per_1000_per_year})\n",
    "\n",
    "df['year'] = pd.to_datetime(df['year'], format=\"%Y\")\n",
    "\n",
    "plt.plot(df['year'], df['yearly_sum'])\n",
    "plt.xlabel('Year')\n",
    "plt.ylabel('Deaths')\n",
    "plt.show()"
   ]
  },
  {
   "cell_type": "code",
   "execution_count": 62,
   "metadata": {
    "colab": {},
    "colab_type": "code",
    "id": "pTJeIDZCe3hj",
    "nbgrader": {
     "grade": false,
     "locked": true,
     "solution": false
    }
   },
   "outputs": [
    {
     "data": {
      "image/png": "[encoded data removed]",
      "text/plain": [
       "<Figure size 432x288 with 1 Axes>"
      ]
     },
     "metadata": {
      "needs_background": "light"
     },
     "output_type": "display_data"
    }
   ],
   "source": [
    "# VISUALIZATION 2: Homicides per Thousand Citizens over Time\n",
    "# Here the line should be trending down except for the \n",
    "# last 2 years in which there is a spike.\n",
    "\n",
    "plt.plot(df['year'], df['yearly_rate_per_1000'])\n",
    "plt.xlabel('Year')\n",
    "plt.ylabel('Homicide rate per 1000 persons')\n",
    "plt.show()"
   ]
  },
  {
   "cell_type": "code",
   "execution_count": 63,
   "metadata": {
    "colab": {},
    "colab_type": "code",
    "id": "qKoIDXr2GJEc"
   },
   "outputs": [
    {
     "name": "stdout",
     "output_type": "stream",
     "text": [
      "Men 117865 8812040\n",
      "Women 109531 8329762\n"
     ]
    }
   ],
   "source": [
    "# PROBLEM 7\n",
    "# - What are the minimum and maximum observations in the total population\n",
    "#   array when broken down by men/women who are in the 20-24 year old age group?\n",
    "\n",
    "### BEGIN SOLUTION\n",
    "\n",
    "# Subtract 5 points if general approach is correct except didn't adhere to the requested cross tabulations.\n",
    "\n",
    "men_mask = (age_group_array =='20-24 yrs') & (sex_array == 'Males')\n",
    "women_mask = (age_group_array =='20-24 yrs') & (sex_array == 'Females')\n",
    "print('Men', np.min(total_population_array[men_mask]), np.max(total_population_array[men_mask]))\n",
    "print('Women', np.min(total_population_array[women_mask]), np.max(total_population_array[women_mask]))\n",
    "### END SOLUTION"
   ]
  },
  {
   "cell_type": "code",
   "execution_count": 64,
   "metadata": {
    "colab": {},
    "colab_type": "code",
    "id": "26h6c2BwGJEk"
   },
   "outputs": [
    {
     "name": "stdout",
     "output_type": "stream",
     "text": [
      "Racial Group: Am Indian/AK Native Mean: 6.969135802469136 Standard Deviation: 8.855439034160336\n",
      "Racial Group: Asian/Pac Islander Mean: 10.25462962962963 Standard Deviation: 10.782429273390356\n",
      "Racial Group: Black Mean: 231.99382716049382 Standard Deviation: 385.99741726433297\n",
      "Racial Group: White Mean: 235.86882716049382 Standard Deviation: 238.49299835177968\n"
     ]
    }
   ],
   "source": [
    "# PROBLEM 8\n",
    "# Use a loop to print out the mean and standard deviation of the observations\n",
    "# in deaths_array for each racial group. \n",
    "# - Make sure you don't have duplicate outputs. Hint: loop over np.unique()\n",
    "# - Use string interpolation to print the current racial group, mean, \n",
    "#   and standard deviation on one line for each racial group.\n",
    "\n",
    "### BEGIN SOLUTION\n",
    "\n",
    "# Ignore cosmetics of printout as long as answers are correct\n",
    "\n",
    "for racial_group in np.unique(race_array):\n",
    "    mask = (race_array == racial_group)\n",
    "    print('Racial Group: {} Mean: {} Standard Deviation: {}'.format(\n",
    "        racial_group, np.mean(deaths_array[mask]), np.std(deaths_array[mask])))\n",
    "###"
   ]
  },
  {
   "cell_type": "code",
   "execution_count": 65,
   "metadata": {
    "colab": {},
    "colab_type": "code",
    "id": "twLrRUviGJEq"
   },
   "outputs": [
    {
     "name": "stdout",
     "output_type": "stream",
     "text": [
      "{'00-04 yrs': 0.04189296505866115, '05-09 yrs': 0.00750752732666867, '10-14 yrs': 0.010614149172129918, '15-19 yrs': 0.11287203099809245, '20-24 yrs': 0.20097933320671613, '25-29 yrs': 0.17940469463743727, '30-34 yrs': 0.14481012863800277, '35-39 yrs': 0.10870899785261783, '40-44 yrs': 0.09185467066356184, '45-49 yrs': 0.07675859188906246, '50-54 yrs': 0.06148540512330095, '55-59 yrs': 0.04864404532665874, '60-64 yrs': 0.03904613216683675, '65-69 yrs': 0.0373772041870008, '70-74 yrs': 0.03268386558254562, '75-79 yrs': 0.03153927464211783, '80-84 yrs': 0.03540580123883738, '85+ yrs': 0.029499395266670742}\n"
     ]
    }
   ],
   "source": [
    "# PROBLEM 9 - Are there certain age groups with significantly higher homicide rates?\n",
    "# - Determine the average homicide rate per thousand for each age group in the data set.\n",
    "# - Add your results to a dict called average_homicide_rates_by_age_group where \n",
    "#   the keys are the age groups and the values are the average \n",
    "#   death by thousand rate for that age group.\n",
    "\n",
    "### BEGIN SOLUTION\n",
    "average_homicide_rates_by_age_group = {}\n",
    "for age_group in np.unique(age_group_array):\n",
    "    average_homicide_rates_by_age_group[age_group] = np.mean(\n",
    "        homicide_rate_per_1000[age_group_array == age_group])\n",
    "    \n",
    "print(average_homicide_rates_by_age_group)\n",
    "### END SOLUTION"
   ]
  },
  {
   "cell_type": "code",
   "execution_count": 66,
   "metadata": {
    "colab": {},
    "colab_type": "code",
    "id": "XZMcXLyDgUvT",
    "nbgrader": {
     "grade": false,
     "locked": true,
     "solution": false
    }
   },
   "outputs": [
    {
     "data": {
      "image/png": "[encoded data removed]",
      "text/plain": [
       "<Figure size 432x288 with 1 Axes>"
      ]
     },
     "metadata": {
      "needs_background": "light"
     },
     "output_type": "display_data"
    }
   ],
   "source": [
    "# VISUALIZATION 3 AID: Homicides Rates by Age Group\n",
    "# If you did the previous problem correct, you should\n",
    "# see a clear pattern in the chart.\n",
    "\n",
    "df = pd.DataFrame({\n",
    "    'age_group': list(average_homicide_rates_by_age_group.keys()),\n",
    "    'homicide_rate': list(average_homicide_rates_by_age_group.values())\n",
    "})\n",
    "\n",
    "plt.plot(df['age_group'], df['homicide_rate'], 'o')\n",
    "plt.xticks(rotation=90)\n",
    "plt.xlabel('Age group')\n",
    "plt.ylabel('Homicide rate')\n",
    "plt.show()"
   ]
  },
  {
   "cell_type": "code",
   "execution_count": 67,
   "metadata": {
    "colab": {},
    "colab_type": "code",
    "id": "RBUzRRteGJE3"
   },
   "outputs": [
    {
     "name": "stdout",
     "output_type": "stream",
     "text": [
      "{'00-04 yrs': 0.04664936569239608, '05-09 yrs': 0.007470121123021546, '10-14 yrs': 0.013600283533195158, '15-19 yrs': 0.19414070735980848, '20-24 yrs': 0.3519303545670763, '25-29 yrs': 0.30961339971897794, '30-34 yrs': 0.24259200599473874, '35-39 yrs': 0.17426156999518463, '40-44 yrs': 0.14278011782558878, '45-49 yrs': 0.12024179059987881, '50-54 yrs': 0.09801018292133623, '55-59 yrs': 0.0759730765492765, '60-64 yrs': 0.05983177976125656, '65-69 yrs': 0.0562003525413637, '70-74 yrs': 0.04704256275466023, '75-79 yrs': 0.04345175580732168, '80-84 yrs': 0.045130425525333945, '85+ yrs': 0.03691867572381034} \n",
      "\n",
      " {'00-04 yrs': 0.03713656442492622, '05-09 yrs': 0.007544933530315797, '10-14 yrs': 0.007628014811064678, '15-19 yrs': 0.03160335463637638, '20-24 yrs': 0.05002831184635598, '25-29 yrs': 0.049195989555896595, '30-34 yrs': 0.04702825128126687, '35-39 yrs': 0.043156425710051, '40-44 yrs': 0.04092922350153491, '45-49 yrs': 0.03327539317824611, '50-54 yrs': 0.024960627325265668, '55-59 yrs': 0.02131501410404097, '60-64 yrs': 0.018260484572416955, '65-69 yrs': 0.018554055832637903, '70-74 yrs': 0.018325168410431008, '75-79 yrs': 0.01962679347691397, '80-84 yrs': 0.025681176952340803, '85+ yrs': 0.02208011480953114}\n"
     ]
    }
   ],
   "source": [
    "# PROBLEM 10 - Are there significant differences between homicide rates\n",
    "# for men vs. women when broken out by age group?\n",
    "# - Determine the average homicide rate per thousand for each age group & gender in the data set.\n",
    "# - Add your results to two dicts called average_homicide_rates_by_male_age_group and\n",
    "#   average_homicide_rates_by_female_age_group where the keys are the age groups\n",
    "#   and the values are the mean homicide by thousand rate for that age group.\n",
    "\n",
    "# - There are a good number of steps involved in this. Think through\n",
    "#   the steps you need to take and then start coding it.\n",
    "\n",
    "### BEGIN SOLUTION\n",
    "\n",
    "# Subtract 5 points if student did lots of work but final answers incorrect\n",
    "\n",
    "average_homicide_rates_by_male_age_group = {}\n",
    "average_homicide_rates_by_female_age_group = {}\n",
    "for age_group in np.unique(age_group_array):\n",
    "\n",
    "    average_homicide_rates_by_male_age_group[age_group] = np.mean(\n",
    "        homicide_rate_per_1000[(age_group_array == age_group) & (sex_array == 'Males')])\n",
    "    \n",
    "    average_homicide_rates_by_female_age_group[age_group] = np.mean(\n",
    "        homicide_rate_per_1000[(age_group_array == age_group) & (sex_array == 'Females')])\n",
    "### END SOLUTION\n",
    "print(average_homicide_rates_by_male_age_group, '\\n\\n', average_homicide_rates_by_female_age_group)"
   ]
  },
  {
   "cell_type": "code",
   "execution_count": 68,
   "metadata": {
    "colab": {},
    "colab_type": "code",
    "id": "BmY8ZhtGl8Bq",
    "nbgrader": {
     "grade": false,
     "locked": true,
     "solution": false
    }
   },
   "outputs": [
    {
     "data": {
      "image/png": "[encoded data removed]",
      "text/plain": [
       "<Figure size 432x288 with 1 Axes>"
      ]
     },
     "metadata": {
      "needs_background": "light"
     },
     "output_type": "display_data"
    }
   ],
   "source": [
    "# VISUALIZATION AID 4: Homicides Rates by Age Group & Gender\n",
    "# A correct answer to the previous problem will result in a\n",
    "# chart with obvious differences.\n",
    "\n",
    "df = pd.DataFrame({\n",
    "    'age_group': np.unique(age_group_array),\n",
    "    'homicide_rate_female': list(average_homicide_rates_by_female_age_group.values()),\n",
    "    'homicide_rate_male': list(average_homicide_rates_by_male_age_group.values())\n",
    "})\n",
    "\n",
    "plt.scatter(df['age_group'], df['homicide_rate_female'], marker='o', label='women')\n",
    "plt.scatter(df['age_group'], df['homicide_rate_male'], marker='+', label='men')\n",
    "plt.xticks(rotation=90)\n",
    "plt.legend(loc='upper right')\n",
    "plt.show()\n"
   ]
  },
  {
   "cell_type": "code",
   "execution_count": 69,
   "metadata": {},
   "outputs": [],
   "source": [
    "# PROBLEM 11 - CHALLENGE QUESTION: Determine average yearly homicide rates for each racial group.\n",
    "# - Determine the mean homicide rate per thousand for each racial group for each year\n",
    "# - Add your results to a dict called average_homicide_rates_by_race_and_year \n",
    "#   where the keys are the unique racial groups and the values are nested lists (important)\n",
    "#   of the average homicide rates for that race for each year.      \n",
    "\n",
    "### BEGIN SOLUTION\n",
    "\n",
    "# Subtract 5 points if student did lots of work but final answers incorrect\n",
    "\n",
    "average_homicide_rates_by_race_and_year = dict()\n",
    "\n",
    "for current_race in np.unique(race_array):\n",
    "    racial_homicide_rates_by_year = list()\n",
    "\n",
    "    for current_year in np.unique(year_array):\n",
    "        mask = (year_array == current_year) & (race_array == current_race)\n",
    "        racial_homicide_rates_by_year.append(np.mean(homicide_rate_per_1000[mask]))  \n",
    "        \n",
    "    average_homicide_rates_by_race_and_year[current_race] = racial_homicide_rates_by_year    \n",
    "### END SOLUTION"
   ]
  },
  {
   "cell_type": "code",
   "execution_count": 70,
   "metadata": {},
   "outputs": [
    {
     "data": {
      "text/plain": [
       "{'Am Indian/AK Native': [0.09579144799963829,\n",
       "  0.06990605738043704,\n",
       "  0.06416840315266595,\n",
       "  0.07465861632512137,\n",
       "  0.059496992533690486,\n",
       "  0.057538207461465145,\n",
       "  0.06013292263089365,\n",
       "  0.05624213851492959,\n",
       "  0.04888568187254971,\n",
       "  0.05366556007542854,\n",
       "  0.05181560444953323,\n",
       "  0.04736074611013491,\n",
       "  0.05433084642829031,\n",
       "  0.04918650227307591,\n",
       "  0.045653144126581356,\n",
       "  0.05196676889514261,\n",
       "  0.05331876249514204,\n",
       "  0.058707198187666024],\n",
       " 'Asian/Pac Islander': [0.029229586407598478,\n",
       "  0.029615549293466707,\n",
       "  0.0388755971287755,\n",
       "  0.027147100513907216,\n",
       "  0.026405602509633017,\n",
       "  0.023273968085223435,\n",
       "  0.026163005785411197,\n",
       "  0.025907084821194207,\n",
       "  0.02032013328492542,\n",
       "  0.019780546228626694,\n",
       "  0.019601668739866827,\n",
       "  0.019594204042534244,\n",
       "  0.02105033622360298,\n",
       "  0.01940336845044048,\n",
       "  0.014738622217671256,\n",
       "  0.014779740115882432,\n",
       "  0.016204978714623078,\n",
       "  0.018429816915861374],\n",
       " 'Black': [0.1806650549040005,\n",
       "  0.18465552943391852,\n",
       "  0.18843162485138026,\n",
       "  0.1877109861352219,\n",
       "  0.18734747028600018,\n",
       "  0.180504388692275,\n",
       "  0.18900859000454853,\n",
       "  0.18918893167285353,\n",
       "  0.18553318821351408,\n",
       "  0.1699717042568757,\n",
       "  0.1588405339218511,\n",
       "  0.1553517038047162,\n",
       "  0.1530250695906905,\n",
       "  0.1581800714911729,\n",
       "  0.15355839281245603,\n",
       "  0.1490176149841504,\n",
       "  0.16825762035553207,\n",
       "  0.1813291081947307],\n",
       " 'White': [0.034284079612891205,\n",
       "  0.03281365447568793,\n",
       "  0.0434344996571635,\n",
       "  0.033633361711839366,\n",
       "  0.033746124742232805,\n",
       "  0.03313478261746179,\n",
       "  0.033270642385037005,\n",
       "  0.03336536919952918,\n",
       "  0.03299138894660303,\n",
       "  0.03322227522386908,\n",
       "  0.03143695615470645,\n",
       "  0.029476254755740824,\n",
       "  0.029301191044629596,\n",
       "  0.029222751514282844,\n",
       "  0.028301787881653346,\n",
       "  0.02752646073076946,\n",
       "  0.02955200722292261,\n",
       "  0.031699170033138456]}"
      ]
     },
     "execution_count": 70,
     "metadata": {},
     "output_type": "execute_result"
    }
   ],
   "source": [
    "average_homicide_rates_by_race_and_year"
   ]
  },
  {
   "cell_type": "code",
   "execution_count": 71,
   "metadata": {
    "colab": {},
    "colab_type": "code",
    "id": "aAze5NtDq-Os",
    "nbgrader": {
     "grade": false,
     "locked": true,
     "solution": false
    }
   },
   "outputs": [
    {
     "data": {
      "text/plain": [
       "<seaborn.axisgrid.PairGrid at 0x7f91994d4908>"
      ]
     },
     "execution_count": 71,
     "metadata": {},
     "output_type": "execute_result"
    },
    {
     "data": {
      "image/png": "[encoded data removed]",
      "text/plain": [
       "<Figure size 498.875x360 with 1 Axes>"
      ]
     },
     "metadata": {
      "needs_background": "light"
     },
     "output_type": "display_data"
    }
   ],
   "source": [
    "# VISUALIZATION AID 5: Homicides Rates by Racial Group/Year\n",
    "# If you did the previously problem correctly, you will see that\n",
    "# there are some clear variations between various racial groups.\n",
    "\n",
    "df = pd.DataFrame()\n",
    "\n",
    "for race, homicide_rates in average_homicide_rates_by_race_and_year.items():\n",
    "    df = pd.concat([df, pd.DataFrame({\n",
    "        'race': race,\n",
    "        'year': np.unique(year_array),\n",
    "        'homicide_rate': homicide_rates\n",
    "    })])\n",
    "df['year'] = pd.to_datetime(df['year'], format=\"%Y\")    \n",
    "\n",
    "import seaborn as sns\n",
    "sns.pairplot(x_vars=['year'], y_vars=['homicide_rate'], data=df, hue='race', height=5)"
   ]
  },
  {
   "cell_type": "code",
   "execution_count": null,
   "metadata": {},
   "outputs": [],
   "source": []
  }
 ],
 "metadata": {
  "colab": {
   "collapsed_sections": [],
   "name": "A2.7: Module 2 Assessment.ipynb",
   "provenance": [],
   "version": "0.3.2"
  },
  "kernelspec": {
   "display_name": "Python 3",
   "language": "python",
   "name": "python3"
  },
  "language_info": {
   "codemirror_mode": {
    "name": "ipython",
    "version": 3
   },
   "file_extension": ".py",
   "mimetype": "text/x-python",
   "name": "python",
   "nbconvert_exporter": "python",
   "pygments_lexer": "ipython3",
   "version": "3.7.3"
  }
 },
 "nbformat": 4,
 "nbformat_minor": 1
}
