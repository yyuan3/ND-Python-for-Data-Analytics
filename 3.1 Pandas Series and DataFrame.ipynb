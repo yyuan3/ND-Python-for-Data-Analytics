{
 "cells": [
  {
   "cell_type": "markdown",
   "metadata": {
    "colab_type": "text",
    "id": "LX-qBsupbBwW"
   },
   "source": [
    "# Tutorial 3.1: Panda's Fundamental Objects: `Series` and `DataFrame`\n",
    "Python for Data Analytics | Module 3    \n",
    "Professor James Ng"
   ]
  },
  {
   "cell_type": "markdown",
   "metadata": {
    "colab_type": "text",
    "id": "PBXFVviQbBw_"
   },
   "source": [
    "**Congratulations on making it to module 3!**  \n",
    "\n",
    "Today, we begin our exploration of the *pandas* library, which is built on top of NumPy and turns Python into a feasible tool for handilng tabular data. \n",
    "\n",
    "In this tutorial, we will be taking a look at the two fundamental objects of the `pandas` library: the `Series` and `DataFrame` objects."
   ]
  },
  {
   "cell_type": "markdown",
   "metadata": {
    "colab_type": "text",
    "id": "rgzeumtubBxE"
   },
   "source": [
    "## Importing *pandas*\n",
    "Just as we had to import the NumPy library before we could use it, we have to do the same with the `pandas` library.\n",
    "\n",
    "Also, just as we saw before, the community convention is to give the library a short alias (in this case `pd`).\n",
    "\n",
    "We will follow this convention since it is well established, but remember that arbitrary little strings like this are not a good coding practice, as their meaning is very ambigious to anyone not immediately familiar with the community convention."
   ]
  },
  {
   "cell_type": "code",
   "execution_count": null,
   "metadata": {
    "colab": {},
    "colab_type": "code",
    "id": "i8NQe2iYbBxK"
   },
   "outputs": [],
   "source": [
    "# Import NumPy and Pandas via community convention aliases\n",
    "import numpy as np\n",
    "import pandas as pd"
   ]
  },
  {
   "cell_type": "markdown",
   "metadata": {
    "colab_type": "text",
    "id": "D7ykTbYnbBx-"
   },
   "source": [
    "## `DataFrame` & `Series` Basics"
   ]
  },
  {
   "cell_type": "markdown",
   "metadata": {
    "colab_type": "text",
    "id": "1binTCg6bByK"
   },
   "source": [
    "Let's download and import one of our data sets so that we've got something practical to work with. The following function reads our Chiago crime CSV file and creates a `DataFrame` object from it."
   ]
  },
  {
   "cell_type": "code",
   "execution_count": null,
   "metadata": {
    "colab": {},
    "colab_type": "code",
    "id": "Nzcoz81tbByT"
   },
   "outputs": [],
   "source": [
    "# Download the Chicago recent crime dataset from OSF\n",
    "!curl -L https://osf.io/u6xqa/download --create-dirs -o data-sets/chicago-recent-crime.csv\n",
    "\n",
    "chicago_crime = pd.read_csv('data-sets/chicago-recent-crime.csv')\n",
    "type(chicago_crime)"
   ]
  },
  {
   "cell_type": "markdown",
   "metadata": {
    "colab_type": "text",
    "id": "S80S8VlNbByl"
   },
   "source": [
    "### `DataFrames` are made up of an `index` and one or more `Series`\n",
    "Every `DataFrame` object is comprised of an **`index`** and one or more **`Series`** objects.\n",
    "Let's demonstrate this by looking at the first few elements of our `chicago_crime` object."
   ]
  },
  {
   "cell_type": "code",
   "execution_count": null,
   "metadata": {
    "colab": {},
    "colab_type": "code",
    "id": "VotNCHbLbByz"
   },
   "outputs": [],
   "source": [
    "chicago_crime.head()"
   ]
  },
  {
   "cell_type": "markdown",
   "metadata": {
    "colab_type": "text",
    "id": "tJ-e4RQObBzE"
   },
   "source": [
    "The bold numbers running down the left hand side of the table show the **`index`** of the **`DataFrame`**.  The bold strings running across the top are the names of the nested **`Series`** objects."
   ]
  },
  {
   "cell_type": "code",
   "execution_count": null,
   "metadata": {
    "colab": {},
    "colab_type": "code",
    "id": "55GxSwXYbBzT"
   },
   "outputs": [],
   "source": [
    "# You can directly access the index of a DataFrame\n",
    "chicago_crime.index"
   ]
  },
  {
   "cell_type": "code",
   "execution_count": null,
   "metadata": {
    "colab": {},
    "colab_type": "code",
    "id": "vV7IJyJTbBzs"
   },
   "outputs": [],
   "source": [
    "# Or access the values of the rows as a 2D Numpy Array\n",
    "chicago_crime.values"
   ]
  },
  {
   "cell_type": "markdown",
   "metadata": {
    "colab_type": "text",
    "id": "PqgN_bObbB0F"
   },
   "source": [
    "### Every `Series` is made up of an index and a NumPy array"
   ]
  },
  {
   "cell_type": "markdown",
   "metadata": {
    "colab_type": "text",
    "id": "cAAPV09TbB0L"
   },
   "source": [
    "Let's retrieve one of the nested **`Series`** objects:"
   ]
  },
  {
   "cell_type": "code",
   "execution_count": null,
   "metadata": {
    "colab": {},
    "colab_type": "code",
    "id": "d_YrCiD4bB0W"
   },
   "outputs": [],
   "source": [
    "primary_description = chicago_crime['PRIMARY DESCRIPTION']\n",
    "type(primary_description)"
   ]
  },
  {
   "cell_type": "markdown",
   "metadata": {
    "colab_type": "text",
    "id": "Z_kKajcqbB0x"
   },
   "source": [
    "#### Pythonista Note\n",
    "Did you see how I passed the name of the **`Series`** object that I wanted to the `chicago_crime` DataFrame? I used the same sort of syntax you'd use to retrieve a data element from a **`dict`**.\n",
    "\n",
    "As we continue to move along, we'll discover that **`DataFrame`** and **`dict`** types share many traits."
   ]
  },
  {
   "cell_type": "code",
   "execution_count": null,
   "metadata": {
    "colab": {},
    "colab_type": "code",
    "id": "szl4oKWRbB03"
   },
   "outputs": [],
   "source": [
    "# Just like the DataFrame object, Series objects also have a \n",
    "# `head()` method, which retrieves a few records from the object.\n",
    "primary_description.head()"
   ]
  },
  {
   "cell_type": "markdown",
   "metadata": {
    "colab_type": "text",
    "id": "wYlOuU0gbB1Q"
   },
   "source": [
    "So, as you can see, we've got two columns here.  \n",
    "* The first column is another representation of the **`index`** we saw earlier on the `chicago_crime` DataFrame. Whether you access the index from either the enclosing `DataFrame` or any of it's nested `Series` objects, *pandas* will point you to the same index object.\n",
    "\n",
    "* The second column, which holds the values of the series is nothing more than our good friend, the 1-dimensional NumPy array.\n",
    "\n",
    "You can retrieve the index and NumPy array separately from a series as follows:"
   ]
  },
  {
   "cell_type": "code",
   "execution_count": null,
   "metadata": {
    "colab": {},
    "colab_type": "code",
    "id": "gRl29YJCbB1W"
   },
   "outputs": [],
   "source": [
    "# Get the Series index\n",
    "primary_description.index"
   ]
  },
  {
   "cell_type": "code",
   "execution_count": null,
   "metadata": {
    "colab": {},
    "colab_type": "code",
    "id": "YbgTHuNNbB1r"
   },
   "outputs": [],
   "source": [
    "# Get the NumPy array from the Series\n",
    "primary_description.values"
   ]
  },
  {
   "cell_type": "markdown",
   "metadata": {
    "colab_type": "text",
    "id": "TX1nj7GgbB2L"
   },
   "source": [
    "## Going a Bit Deeper\n",
    "So, thus far, the essential difference between an NumPy **`ndarray`** and a *pandas* **`DataFrame`** and **`Series`** objects is their indexes.\n",
    "\n",
    "*NumPy* arrays had indexes as well, but they are implicit (hidden) and always integers. We used them all the time to retrieve specific elements via index notation, or views with slice notation. \n",
    "\n",
    "In constrast, *pandas* makes indexes explicit and directly accessible to the user. You can't access a NumPy array's **`index`** property directly like you can on a Pandas series object as we did above.\n",
    "\n",
    "Furthermore, *pandas* objects are not limited to having integer based indexes. You could have indexes of strings, floats, booleans, dates, etc. Basically any scalar (single value) type."
   ]
  },
  {
   "cell_type": "markdown",
   "metadata": {
    "colab_type": "text",
    "id": "Tbez01X3dwxW"
   },
   "source": [
    "### Non-Integer Indexes"
   ]
  },
  {
   "cell_type": "code",
   "execution_count": null,
   "metadata": {
    "colab": {},
    "colab_type": "code",
    "id": "MIpb3dE7bB2U"
   },
   "outputs": [],
   "source": [
    "# Create a `DataSeries` object from a dictionary.\n",
    "# This results in a string based index.\n",
    "simple_series = pd.Series({\n",
    "    'Scala':'A new kid on the block',\n",
    "    'Python': 'Best Language Ever!'})\n",
    "simple_series.index"
   ]
  },
  {
   "cell_type": "markdown",
   "metadata": {
    "colab_type": "text",
    "id": "60lmnl8jbB2y"
   },
   "source": [
    "The same holds true for the index of a **`DataFrame`** object. When we created our `chicago_crime` DataFrame from the CSV file, it generated an integer based index, which is the default behavior.\n",
    "\n",
    "But we could change that.  For instance, we could tell `pandas` to make the case # column the index:"
   ]
  },
  {
   "cell_type": "code",
   "execution_count": null,
   "metadata": {
    "colab": {},
    "colab_type": "code",
    "id": "0fwB9LFcbB21"
   },
   "outputs": [],
   "source": [
    "# Switch the index to being the institution names.\n",
    "chicago_crime.index = chicago_crime['CASE#']\n",
    "chicago_crime.index"
   ]
  },
  {
   "cell_type": "code",
   "execution_count": null,
   "metadata": {
    "colab": {},
    "colab_type": "code",
    "id": "4cRd_NxRbB3O"
   },
   "outputs": [],
   "source": [
    "# Now take a look at what the `head()` method will return.\n",
    "chicago_crime.head()"
   ]
  },
  {
   "cell_type": "markdown",
   "metadata": {},
   "source": [
    "### DataFrame columns can be of different data types"
   ]
  },
  {
   "cell_type": "code",
   "execution_count": null,
   "metadata": {},
   "outputs": [],
   "source": [
    "# Compare the data types of the columns BLOCK and WARD. They are not the same, which is exactly what we want!\n",
    "\n",
    "# Steps: 1) retrieve the relevant Series from the DataFrame, 2) get the numpy array from it, \n",
    "# 3) retrieve its dtype attribute."
   ]
  },
  {
   "cell_type": "code",
   "execution_count": null,
   "metadata": {},
   "outputs": [],
   "source": [
    "chicago_crime['BLOCK'].values.dtype\n",
    "chicago_crime['WARD'].values.dtype"
   ]
  },
  {
   "cell_type": "code",
   "execution_count": null,
   "metadata": {},
   "outputs": [],
   "source": [
    "# Or a shortcut (no need to explicitly retrieve numpy array)\n",
    "chicago_crime['WARD'].dtype"
   ]
  },
  {
   "cell_type": "code",
   "execution_count": null,
   "metadata": {},
   "outputs": [],
   "source": [
    "# Now check out pandas's info() method.\n",
    "chicago_crime.info()"
   ]
  },
  {
   "cell_type": "code",
   "execution_count": null,
   "metadata": {},
   "outputs": [],
   "source": [
    "# What about the describe() method? Why does it give summary statistics for only three columns? \n",
    "# We will revisit this method in Tutorial 3.4.\n",
    "chicago_crime.describe()"
   ]
  },
  {
   "cell_type": "code",
   "execution_count": null,
   "metadata": {},
   "outputs": [],
   "source": []
  }
 ],
 "metadata": {
  "colab": {
   "collapsed_sections": [],
   "name": "3.1 - Pandas Series and DataFrame.ipynb",
   "provenance": [],
   "toc_visible": true,
   "version": "0.3.2"
  },
  "kernelspec": {
   "display_name": "Python 3",
   "language": "python",
   "name": "python3"
  },
  "language_info": {
   "codemirror_mode": {
    "name": "ipython",
    "version": 3
   },
   "file_extension": ".py",
   "mimetype": "text/x-python",
   "name": "python",
   "nbconvert_exporter": "python",
   "pygments_lexer": "ipython3",
   "version": "3.7.3"
  }
 },
 "nbformat": 4,
 "nbformat_minor": 1
}
