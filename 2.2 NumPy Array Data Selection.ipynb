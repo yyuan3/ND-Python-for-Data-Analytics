{
 "cells": [
  {
   "cell_type": "markdown",
   "metadata": {
    "colab_type": "text",
    "id": "PUo0_tKVfbEl"
   },
   "source": [
    "# Tutorial 2.2 - Selecting Data in NumPy Arrays: Part I\n",
    "Python for Data Analytics | Module 2  \n",
    "Professor James Ng"
   ]
  },
  {
   "cell_type": "code",
   "execution_count": null,
   "metadata": {
    "colab": {},
    "colab_type": "code",
    "id": "GmE2XHPpfbEl"
   },
   "outputs": [],
   "source": [
    "# SETUP CODE - DON'T MODIFY THIS\n",
    "# JUST EXECUTE IT\n",
    "import numpy as np\n",
    "import pandas as pd\n",
    "pd.set_option('display.max_colwidth', -1)"
   ]
  },
  {
   "cell_type": "markdown",
   "metadata": {
    "colab_type": "text",
    "id": "p6vEDDxcfbEo"
   },
   "source": [
    "In module one, you learned how to pull elements out of `list` objects using *index notation* and *slice notation*.\n",
    "\n",
    "In this tutorial, we will be covering how to use the same techniques to access data that is held inside of single or multidimensional `ndarray` objects."
   ]
  },
  {
   "cell_type": "markdown",
   "metadata": {
    "colab_type": "text",
    "id": "CxQ28xE-fbEp"
   },
   "source": [
    "## Accessing Single Array Elements w/ Index Notation"
   ]
  },
  {
   "cell_type": "code",
   "execution_count": null,
   "metadata": {
    "colab": {},
    "colab_type": "code",
    "id": "GHjhdqXcfbEr"
   },
   "outputs": [],
   "source": [
    "# As you know, you access a single element of a list\n",
    "# by using passing it's index value inside of square brackets [].\n",
    "example_list = ['lists', 'are', 'cool']\n",
    "example_list[2]"
   ]
  },
  {
   "cell_type": "code",
   "execution_count": null,
   "metadata": {
    "colab": {},
    "colab_type": "code",
    "id": "75sgQ8_BfbEt"
   },
   "outputs": [],
   "source": [
    "# The same thing applies to ndarray objects\n",
    "example_array = np.array(['arrays', 'are', 'super cool'])\n",
    "example_array[2]"
   ]
  },
  {
   "cell_type": "markdown",
   "metadata": {
    "colab_type": "text",
    "id": "nQfHwPhMfbEw"
   },
   "source": [
    "**Pythonista Note:** Just remember the first element of `list` and `ndarray` objects is `0`, not `1`. Forget this and you'll have all sorts of problems.\n"
   ]
  },
  {
   "cell_type": "markdown",
   "metadata": {
    "colab_type": "text",
    "id": "PLRPljrGfbEw"
   },
   "source": [
    "### Negative Indexing"
   ]
  },
  {
   "cell_type": "code",
   "execution_count": null,
   "metadata": {
    "colab": {},
    "colab_type": "code",
    "id": "zWk1tlUTfbEy"
   },
   "outputs": [],
   "source": [
    "numeric_array = np.array(range(1, 11))\n",
    "numeric_array"
   ]
  },
  {
   "cell_type": "markdown",
   "metadata": {
    "colab_type": "text",
    "id": "HEhoQmJFfbE0"
   },
   "source": [
    "This array has the numbers 1-10 in it. Just like with a `list`, you can use a negative number to specify element positions from the right-side (or end) of the array instead of the beginning; starting with -1 for the last element in the array."
   ]
  },
  {
   "cell_type": "code",
   "execution_count": null,
   "metadata": {
    "colab": {},
    "colab_type": "code",
    "id": "_eWqcNI0fbE1"
   },
   "outputs": [],
   "source": [
    "numeric_array[-1]"
   ]
  },
  {
   "cell_type": "markdown",
   "metadata": {
    "colab_type": "text",
    "id": "GKDfQQUWfbE7"
   },
   "source": [
    "You can retrieve any element from the array in the same fashion. For instance:"
   ]
  },
  {
   "cell_type": "code",
   "execution_count": null,
   "metadata": {
    "colab": {},
    "colab_type": "code",
    "id": "YsCc9M2YfbE8"
   },
   "outputs": [],
   "source": [
    "# Retrieve the 3rd from the last element\n",
    "numeric_array[-3]"
   ]
  },
  {
   "cell_type": "markdown",
   "metadata": {
    "colab_type": "text",
    "id": "ggM87bcHfbFA"
   },
   "source": [
    "<div class=\"alert alert-block alert-info\">\n",
    "Remember when using negative indexing that you cannot use `-0` as the index value because the value of `-0` is the same as `0`, and Python will give you the first element in the array. When you are using negative indexing, you start with `-1`.\n",
    "</div> "
   ]
  },
  {
   "cell_type": "markdown",
   "metadata": {
    "colab_type": "text",
    "id": "5Ay6D6UjfbFD"
   },
   "source": [
    "### What About Multidimensional Arrays? \n",
    "Conceptually, to access elements inside of a multi-dimensional array you would use the same syntax as getting elements out of a list that is nested inside of another list.\n",
    "\n",
    "To get down to a single element, you simply have provide an index value for each dimension. There are a couple of different allowable syntaxes for doing this.\n",
    "\n",
    "Let's illustrate with a two dimensional \"grid\" array."
   ]
  },
  {
   "cell_type": "code",
   "execution_count": null,
   "metadata": {
    "colab": {},
    "colab_type": "code",
    "id": "7F-u7CI3fbFD"
   },
   "outputs": [],
   "source": [
    "# two dimensional array\n",
    "two_dim_array = np.random.randint(10, size=(2, 3))  \n",
    "two_dim_array"
   ]
  },
  {
   "cell_type": "code",
   "execution_count": null,
   "metadata": {
    "colab": {},
    "colab_type": "code",
    "id": "4S4hdy6xfbFG"
   },
   "outputs": [],
   "source": [
    "# You can retrieve elements specifying a \n",
    "# comma separated list of index values\n",
    "\n",
    "# First you specify the row you want\n",
    "# then the column.\n",
    "two_dim_array[0, 1]"
   ]
  },
  {
   "cell_type": "code",
   "execution_count": null,
   "metadata": {
    "colab": {},
    "colab_type": "code",
    "id": "MUf7t8MtfbFJ"
   },
   "outputs": [],
   "source": [
    "# Or you can specify each of the values as a separate index.\n",
    "# This syntax also works with nested Python lists, whereas [0, 1] wouldn't.\n",
    "two_dim_array[0][1]"
   ]
  },
  {
   "cell_type": "code",
   "execution_count": null,
   "metadata": {
    "colab": {},
    "colab_type": "code",
    "id": "qqlUyLbPfbFL"
   },
   "outputs": [],
   "source": [
    "# Don't forget you can use negative dimensions in one, or both \n",
    "# of the values for a two dimensional array.\n",
    "two_dim_array[0, -2]\n",
    "two_dim_array[0][-2]"
   ]
  },
  {
   "cell_type": "markdown",
   "metadata": {
    "colab_type": "text",
    "id": "BTap1dxBfbFO"
   },
   "source": [
    "**Note:** As you increase the number of dimensions past two in an array, take care that you specify the dimensions in the correct order."
   ]
  },
  {
   "cell_type": "markdown",
   "metadata": {
    "colab_type": "text",
    "id": "QKwRSw75fbFO"
   },
   "source": [
    "When working with multi-dimensional arrays, you are not required to specify an index for each dimension."
   ]
  },
  {
   "cell_type": "code",
   "execution_count": null,
   "metadata": {
    "colab": {},
    "colab_type": "code",
    "id": "kL_A-dIifbFP"
   },
   "outputs": [],
   "source": [
    "# For example, if you only specify one level of indexing\n",
    "# for `two_dim_array` it will return the entire row specified\n",
    "# by the first index value\n",
    "two_dim_array[0]"
   ]
  },
  {
   "cell_type": "markdown",
   "metadata": {
    "colab_type": "text",
    "id": "TOi1zKDNfbFS"
   },
   "source": [
    "### Remember Mutability?\n",
    "In module 1, we demonstrated that `list` objects were **mutable**.  That is, you could add/change/delete elements inside of them.\n",
    "\n",
    "Well, `ndarray` objects also share this quality to some extent: you can change the value of existing elements. Let's demonstrate how this works for both our `numeric_array` and `two_dim_array` objects."
   ]
  },
  {
   "cell_type": "code",
   "execution_count": null,
   "metadata": {
    "colab": {},
    "colab_type": "code",
    "id": "v3vrDSnjfbFT"
   },
   "outputs": [],
   "source": [
    "# Refresh our memory of what our objects look like\n",
    "print(\"Numeric Array\", numeric_array, '\\n', sep='\\n')\n",
    "print(\"Two Dimensional Array\", two_dim_array, sep='\\n')"
   ]
  },
  {
   "cell_type": "code",
   "execution_count": null,
   "metadata": {
    "colab": {},
    "colab_type": "code",
    "id": "--Bzx8sifbFX"
   },
   "outputs": [],
   "source": [
    "# Change the 5th element of `numeric_array` to 15\n",
    "numeric_array[4] = 15\n",
    "numeric_array"
   ]
  },
  {
   "cell_type": "code",
   "execution_count": null,
   "metadata": {
    "colab": {},
    "colab_type": "code",
    "id": "vEJ6bQc-fbFZ"
   },
   "outputs": [],
   "source": [
    "# Change the top-right element of `two_dim_array` to 450\n",
    "two_dim_array[0][-1] = 450\n",
    "two_dim_array"
   ]
  },
  {
   "cell_type": "code",
   "execution_count": null,
   "metadata": {
    "colab": {},
    "colab_type": "code",
    "id": "Cldwsn85ZtJE"
   },
   "outputs": [],
   "source": [
    "# But notice that if you try to assign a\n",
    "# value to a new index, it will fail.\n",
    "numeric_array[10] = 10"
   ]
  },
  {
   "cell_type": "markdown",
   "metadata": {
    "colab_type": "text",
    "id": "7OeQXr8bfbFb"
   },
   "source": [
    "## Array Slicing: Accessing Array \"Views\""
   ]
  },
  {
   "cell_type": "markdown",
   "metadata": {
    "colab_type": "text",
    "id": "gFPWEiA8fbFc"
   },
   "source": [
    "Just as we can use square brackets to access individual array elements, we can also use them to access \"views\" with the *slice* notation. \n",
    "\n",
    "The NumPy slicing syntax follows that of the standard Python `list`; to access a slice of an array `x`, use the `start:stop:step` notation inside of brackets:\n",
    "``` python\n",
    "x[start:stop:step]\n",
    "```\n",
    "\n",
    "If any of these are unspecified, they default to the values: \n",
    "* `start=0`\n",
    "* `stop=last element of the array dimension`\n",
    "* `step=1`.\n",
    "\n",
    "#### Sample Slice Notations\n",
    "Here are some sample slice notations and their meanings:\n",
    "* `1:5:1`: Return elements 2 through 5 in normal order. (Remember that with 0-based indexing, 1 is the second element.\n",
    "* `:8:1`: Return elements 0 through 8 in normal order. Since the `start` parameter is left out, it assumes it's default value.\n",
    "* `::-1`: Return all elements (the first two parameters are default values) in reverse order.\n",
    "\n",
    "Let's try slice notations out with our `numeric_array` and `two_dim_array` objects."
   ]
  },
  {
   "cell_type": "markdown",
   "metadata": {
    "colab_type": "text",
    "id": "-5WEIdi4fbFc"
   },
   "source": [
    "### Single Dimensional Array: `numeric_array`"
   ]
  },
  {
   "cell_type": "code",
   "execution_count": null,
   "metadata": {
    "colab": {},
    "colab_type": "code",
    "id": "_1pnca0ufbFc"
   },
   "outputs": [],
   "source": [
    "# Print the whole array for reference.\n",
    "print(numeric_array)\n",
    "\n",
    "# Return the 4th through 9th (inclusive) elements.\n",
    "numeric_array[3:8]"
   ]
  },
  {
   "cell_type": "markdown",
   "metadata": {
    "colab_type": "text",
    "id": "HvnPC2YqfbFf"
   },
   "source": [
    "**Pythonista Note: ** The output here might seem confusing. Just remember that the `3` index refers to the fouth element in the array and that `8` index refers to the ninth element in the array.\n",
    "\n",
    "This can be quite confusing at first."
   ]
  },
  {
   "cell_type": "code",
   "execution_count": null,
   "metadata": {
    "colab": {},
    "colab_type": "code",
    "id": "6179fVb6fbFg"
   },
   "outputs": [],
   "source": [
    "# Return everything up to the 4th element\n",
    "numeric_array[:4]"
   ]
  },
  {
   "cell_type": "code",
   "execution_count": null,
   "metadata": {
    "colab": {},
    "colab_type": "code",
    "id": "MeO-_XDgfbFj"
   },
   "outputs": [],
   "source": [
    "# Return everything from the sixth element on\n",
    "numeric_array[5:]"
   ]
  },
  {
   "cell_type": "code",
   "execution_count": null,
   "metadata": {
    "colab": {},
    "colab_type": "code",
    "id": "keyn7HFMfbFk"
   },
   "outputs": [],
   "source": [
    "# Return every third element\n",
    "numeric_array[::3]"
   ]
  },
  {
   "cell_type": "code",
   "execution_count": null,
   "metadata": {
    "colab": {},
    "colab_type": "code",
    "id": "sMDRPjutfbFl"
   },
   "outputs": [],
   "source": [
    "# Return every other element, starting with the second element\n",
    "numeric_array[1::2]"
   ]
  },
  {
   "cell_type": "markdown",
   "metadata": {
    "colab_type": "text",
    "id": "ugN4iM4WfbFq"
   },
   "source": [
    "#### Special Case: Negative Step Values\n",
    "You can use a negative number for the `step` condition of a slice. \n",
    "If you do, the default values of `start` and `stop` are swapped around.\n",
    "\n",
    "This is often used in practice to reverse the order of a data set:"
   ]
  },
  {
   "cell_type": "code",
   "execution_count": null,
   "metadata": {
    "colab": {},
    "colab_type": "code",
    "id": "KikGhVuXfbFq"
   },
   "outputs": [],
   "source": [
    "numeric_array[::-1]"
   ]
  },
  {
   "cell_type": "markdown",
   "metadata": {
    "colab_type": "text",
    "id": "rjdP0sEpfbFt"
   },
   "source": [
    "Here's an example of how to use it to get every other element in reverse order starting with the 7th element."
   ]
  },
  {
   "cell_type": "code",
   "execution_count": null,
   "metadata": {
    "colab": {},
    "colab_type": "code",
    "id": "tVYz9V2vfbFt"
   },
   "outputs": [],
   "source": [
    "numeric_array[7::-2]"
   ]
  },
  {
   "cell_type": "markdown",
   "metadata": {
    "colab_type": "text",
    "id": "XjxHsDeLfbFv"
   },
   "source": [
    "## Multidimensional Array Views\n",
    "\n",
    "We previously demonstrated how you could retrieve a single element out of a multidimensional array by specifying an index value for each dimension. Similiarly, you can specify a slice notation for each dimension of an array."
   ]
  },
  {
   "cell_type": "code",
   "execution_count": null,
   "metadata": {
    "colab": {},
    "colab_type": "code",
    "id": "ZOdovDOdfbFv"
   },
   "outputs": [],
   "source": [
    "# Let's start by reseting our two dimensional array.\n",
    "two_dim_array = np.random.randint(10, size=(5, 3))  \n",
    "two_dim_array"
   ]
  },
  {
   "cell_type": "code",
   "execution_count": null,
   "metadata": {
    "colab": {},
    "colab_type": "code",
    "id": "_4wUrx7VfbFw"
   },
   "outputs": [],
   "source": [
    "# Slice the first 4 rows and 1st column of each row\n",
    "two_dim_array[:4, :1]"
   ]
  },
  {
   "cell_type": "markdown",
   "metadata": {
    "colab_type": "text",
    "id": "AbYB2VOSfbFy"
   },
   "source": [
    "### Syntax Restrictions on Array Slicing\n",
    "When we were selecting individual elements of arrays, we demonstrated that there were two ways of getting to a specific element of a multidimensional array.\n",
    "*   `two_dim_array[1, 1]`\n",
    "*   `two_dim_array[1][1]`\n",
    "\n",
    "You can **not** use the second form when slicing an array.\n",
    "`two_dim_array[:4, :1]` will give very different results than `two_dim_array[:4][:1]`"
   ]
  },
  {
   "cell_type": "code",
   "execution_count": null,
   "metadata": {
    "colab": {},
    "colab_type": "code",
    "id": "iC3oN6kMfbFy"
   },
   "outputs": [],
   "source": [
    "# Slice all rows and every other column\n",
    "two_dim_array[:, ::2]"
   ]
  },
  {
   "cell_type": "markdown",
   "metadata": {
    "colab_type": "text",
    "id": "94m36KHUfbF0"
   },
   "source": [
    "### Reversing multidimensional arrays\n",
    "As we saw with single dimensional arrays, you can use a negative `step` value in a slice notation to reverse elements. \n",
    "\n",
    "If you want to fully reverse a multi-dimension array, you must reverse each dimension."
   ]
  },
  {
   "cell_type": "code",
   "execution_count": null,
   "metadata": {
    "colab": {},
    "colab_type": "code",
    "id": "_zdUqxpxfbF1"
   },
   "outputs": [],
   "source": [
    "# Reserve `two_dim_array`\n",
    "two_dim_array[::-1, ::-1]"
   ]
  },
  {
   "cell_type": "code",
   "execution_count": null,
   "metadata": {
    "colab": {},
    "colab_type": "code",
    "id": "N6TlaU5ofbF3"
   },
   "outputs": [],
   "source": [
    "# You can also reverse just one of the dimensions\n",
    "\n",
    "# Array w/o Transformation for Comparison\n",
    "print(\"Regular Array\", two_dim_array, sep='\\n')"
   ]
  },
  {
   "cell_type": "code",
   "execution_count": null,
   "metadata": {
    "colab": {},
    "colab_type": "code",
    "id": "iCIZh21qfbF4"
   },
   "outputs": [],
   "source": [
    "# Only reverse rows\n",
    "# Remember that this just means the order of the rows are reversed\n",
    "# NOT the elements within the rows. Important distinction.\n",
    "print(\"Reversed Rows\", two_dim_array[::-1], sep='\\n') "
   ]
  },
  {
   "cell_type": "code",
   "execution_count": null,
   "metadata": {
    "colab": {},
    "colab_type": "code",
    "id": "6zrXrqQcfbGA"
   },
   "outputs": [],
   "source": [
    "# Only reverse columns\n",
    "# This is what will reverse the order of elements within a given row.\n",
    "print(\"Reversed Columns\", two_dim_array[:, ::-1], sep='\\n') "
   ]
  },
  {
   "cell_type": "markdown",
   "metadata": {
    "colab_type": "text",
    "id": "pw5dwW11fbGC"
   },
   "source": [
    "### What if I only want one column or one row?\n",
    "\n",
    "Well, turns out that is a pretty common use case. If you want to get a row, you just supply the row index as we've seen before:"
   ]
  },
  {
   "cell_type": "code",
   "execution_count": null,
   "metadata": {
    "colab": {},
    "colab_type": "code",
    "id": "JAkVESw3fbGE"
   },
   "outputs": [],
   "source": [
    "# Just the first row please\n",
    "two_dim_array[0]"
   ]
  },
  {
   "cell_type": "markdown",
   "metadata": {
    "colab_type": "text",
    "id": "mXhjdTxofbGG"
   },
   "source": [
    "It's a little bit more complicated if you want to retrieve the values of a particular column. First you have to specify an open (or completely default) slice notation to get all the rows, then specify the index of the column you want.\n",
    "\n",
    "It sounds more complicated that it actually is. Here's how to do it:"
   ]
  },
  {
   "cell_type": "code",
   "execution_count": null,
   "metadata": {
    "colab": {},
    "colab_type": "code",
    "id": "V5OLOPw2fbGG"
   },
   "outputs": [],
   "source": [
    "# This will return all the elements in the 3rd column of the array.\n",
    "two_dim_array[:, 2]"
   ]
  },
  {
   "cell_type": "markdown",
   "metadata": {
    "colab_type": "text",
    "id": "X0fEiBmnfbGJ"
   },
   "source": [
    "**Pythonista Note: **What does that output look like a row and not a column?\n",
    "\n",
    "Up to this point, when NumPy has displayed <code>two_dim_array</code> it has shown columns vertically. So, it may look weird to you that this time it looks like a row.\n",
    "\n",
    "This reason for this is that NumPy only represents things as a grid when there are two dimensions to display. In this case, since we are only selecting the elements of a single column, there is no second dimension to display."
   ]
  },
  {
   "cell_type": "markdown",
   "metadata": {
    "colab_type": "text",
    "id": "qTDRUcnAfbGK"
   },
   "source": [
    "## `ndarray` Slices are Views, not Copies\n",
    "When we use slice notation on an `ndarray`, it returns a view of the original, as opposed to a copy. This means that if you modify the elements of a slice, you will also change them in the original array.\n",
    "\n",
    "<div class=\"alert alert-block alert-danger\">\n",
    "It is very important for experienced Python programmers to note since this is the opposite of what happens when you slice a `list` object.\n",
    "</div> \n",
    "\n",
    "While this may seem like a bad thing at first, particular for those who are used to slicing `list` objects, this can actually help us when we want to process little chunks of data at a time.\n",
    "\n",
    "Let's demonstrate:"
   ]
  },
  {
   "cell_type": "code",
   "execution_count": null,
   "metadata": {
    "colab": {},
    "colab_type": "code",
    "id": "Z0hG6y--fbGK"
   },
   "outputs": [],
   "source": [
    "# Let's create a slice of the first row in `two_dim_array`\n",
    "row_one = two_dim_array[0]\n",
    "row_one"
   ]
  },
  {
   "cell_type": "code",
   "execution_count": null,
   "metadata": {
    "colab": {},
    "colab_type": "code",
    "id": "oXNsTKjofbGM"
   },
   "outputs": [],
   "source": [
    "# Ok, here is `two_dim_array` before we change the slice\n",
    "two_dim_array"
   ]
  },
  {
   "cell_type": "code",
   "execution_count": null,
   "metadata": {
    "colab": {},
    "colab_type": "code",
    "id": "g9Syd8t_fbGO"
   },
   "outputs": [],
   "source": [
    "# Now let's change the elements in our `row_one` slice to be 1, 2, 3\n",
    "row_one[:] = [1, 2, 3]\n",
    "\n",
    "# And re-output `two_dim_array`\n",
    "two_dim_array"
   ]
  },
  {
   "cell_type": "markdown",
   "metadata": {
    "colab_type": "text",
    "id": "Wu0Hbz06fbGP"
   },
   "source": [
    "See how the first row of `two_dim_array` was changed to 1, 2, 3?"
   ]
  },
  {
   "cell_type": "markdown",
   "metadata": {
    "colab_type": "text",
    "id": "Td6eflCIca8f"
   },
   "source": [
    "**Note: ** You might be wondering what the heck <code>row_one[:] = [1, 2, 3]</code> works. </p>\n",
    "\n",
    "<p>Think of it as saying, \"take all the elements of row_one and assign them these values over here on the right side of the equals sign [1, 2, 3]\".\n",
    "</p>\n",
    "\n",
    "<p>This won't work if you specify a number of values on the right side of the equation that doesn't match the number of elements in the array on the left side, unless you specify just one value on the right, in which case all elements will take on that value.</p>\n",
    "\n",
    "</div> "
   ]
  }
 ],
 "metadata": {
  "colab": {
   "collapsed_sections": [
    "gFPWEiA8fbFc"
   ],
   "name": "2.2 NumPy Array Data Selection.ipynb",
   "provenance": [],
   "version": "0.3.2"
  },
  "kernelspec": {
   "display_name": "Python 3",
   "language": "python",
   "name": "python3"
  },
  "language_info": {
   "codemirror_mode": {
    "name": "ipython",
    "version": 3
   },
   "file_extension": ".py",
   "mimetype": "text/x-python",
   "name": "python",
   "nbconvert_exporter": "python",
   "pygments_lexer": "ipython3",
   "version": "3.7.3"
  }
 },
 "nbformat": 4,
 "nbformat_minor": 1
}
