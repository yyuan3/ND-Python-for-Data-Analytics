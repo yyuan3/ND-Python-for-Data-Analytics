{
 "cells": [
  {
   "cell_type": "markdown",
   "metadata": {
    "colab_type": "text",
    "id": "huFyujBL8W-I"
   },
   "source": [
    "# Assignment 2.2: Selecting Data in NumPy Arrays\n",
    "Python for Data Analytics | Module 2   \n",
    "Professor James Ng"
   ]
  },
  {
   "cell_type": "code",
   "execution_count": 19,
   "metadata": {
    "colab": {},
    "colab_type": "code",
    "id": "ggQRtrBv8W-O",
    "nbgrader": {
     "grade": false,
     "locked": true,
     "solution": false
    }
   },
   "outputs": [],
   "source": [
    "# SETUP: EXECUTE THIS CELL\n",
    "import numpy as np\n",
    "import pandas as pd"
   ]
  },
  {
   "cell_type": "markdown",
   "metadata": {
    "colab_type": "text",
    "id": "dedHaQlN8W-X"
   },
   "source": [
    "Throughout this assignment, you will use the following `ndarray` objects that come from our 2017 Notre Dame football roster again. I'll go ahead and load them for you."
   ]
  },
  {
   "cell_type": "code",
   "execution_count": 20,
   "metadata": {
    "colab": {},
    "colab_type": "code",
    "id": "WgpqOvdG8W-Z"
   },
   "outputs": [
    {
     "name": "stdout",
     "output_type": "stream",
     "text": [
      "  % Total    % Received % Xferd  Average Speed   Time    Time     Time  Current\n",
      "                                 Dload  Upload   Total   Spent    Left  Speed\n",
      "100   459  100   459    0     0   1095      0 --:--:-- --:--:-- --:--:--  1095\n",
      "100  4184  100  4184    0     0   3936      0  0:00:01  0:00:01 --:--:-- 3213k\n"
     ]
    }
   ],
   "source": [
    "!curl -L https://osf.io/95kys/download --create-dirs -o data-sets/nd-football-2017-roster.csv\n",
    "nd_football_roster = pd.read_csv('data-sets/nd-football-2017-roster.csv')\n",
    "\n",
    "player_jersey_numbers = np.array(nd_football_roster['Number'])\n",
    "player_names_heights_and_weights = np.array(\n",
    "    (nd_football_roster.Name, nd_football_roster['Height'], nd_football_roster['Weight']))"
   ]
  },
  {
   "cell_type": "code",
   "execution_count": 21,
   "metadata": {
    "colab": {},
    "colab_type": "code",
    "id": "2_6CgxPq8W-h"
   },
   "outputs": [
    {
     "data": {
      "text/plain": [
       "array([ 2,  3,  4,  4,  5,  6,  7,  7,  9, 10, 12, 13, 14, 15, 17, 17, 18,\n",
       "       19, 20, 21, 22, 23, 24, 24, 25, 26, 26, 27, 28, 29, 29, 32, 33, 34,\n",
       "       35, 35, 37, 38, 38, 40, 40, 41, 41, 42, 42, 43, 44, 45, 46, 47, 48,\n",
       "       49, 51, 53, 53, 54, 54, 55, 56, 57, 58, 62, 63, 64, 67, 68, 69, 70,\n",
       "       71, 72, 74, 75, 77, 78, 80, 81, 82, 83, 85, 85, 86, 87, 88, 89, 91,\n",
       "       93, 96, 97, 98, 99])"
      ]
     },
     "execution_count": 21,
     "metadata": {},
     "output_type": "execute_result"
    }
   ],
   "source": [
    "# Here is the data in those `ndarray` objects for your reference\n",
    "player_jersey_numbers"
   ]
  },
  {
   "cell_type": "code",
   "execution_count": 22,
   "metadata": {
    "colab": {},
    "colab_type": "code",
    "id": "PkCx19t38W-n"
   },
   "outputs": [
    {
     "data": {
      "text/plain": [
       "array([['Dexter Williams', 'C.J. Sanders', \"Te'von Coney\",\n",
       "        'Montgomery VanGorder', 'Nyles Morgan', 'Equanimeous St. Brown',\n",
       "        'Nick Watkins', 'Brandon Wimbush', 'Daelin Hayes', 'Chris Finke',\n",
       "        'Ian Book', 'Tyler Luatua', 'Devin Studstill', 'C.J. Holmes',\n",
       "        'Nolan Henry', 'Isaiah Robertson', 'Troy Pride Jr.',\n",
       "        'Justin Yoon', 'Shaun Crawford', 'Jalen Elliott', 'Asmar Bilal',\n",
       "        'Drue Tranquill', 'Mick Assaf', 'Nick Coleman', 'Brandon Garcia',\n",
       "        'Austin Webster', 'Ashton White', 'Julian Love',\n",
       "        'Nicco Fertitta', 'Sam Kohler', 'Kevin Stepherson',\n",
       "        'D.J. Morgan', 'Josh Adams', 'Tony Jones Jr.', 'Grant Hammann',\n",
       "        'Donte Vaughn', 'Robert Regan', 'Deon McIntosh',\n",
       "        'Christopher Schilling', 'Kier Murphy', 'Brett Segobiano',\n",
       "        'Temitope Agoro', 'Jimmy Thompson', 'Julian Okwara',\n",
       "        'Jeff Riney', 'Brian Ball', 'Jamir Jones', 'Jonathan Jones',\n",
       "        'Matt Bushland', 'Chris Bury', 'Greer Martini', 'Brandon Hutson',\n",
       "        'Devyn Spruell', 'Khalid Kareem', 'Sam Mustipher',\n",
       "        'Lincoln Feist', 'John Shannon', 'Jonathan Bonner',\n",
       "        'Quenton Nelson', 'Trevor Ruhland', 'Elijah Taylor',\n",
       "        'Logan Plantz', 'Sam Bush', 'Ryan Kilander', 'Jimmy Byrne',\n",
       "        'Mike McGlinchey', 'Aaron Banks', 'Hunter Bivin', 'Alex Bars',\n",
       "        'Robert Hainsey', 'Liam Eichenberg', 'Daniel Cage',\n",
       "        'Brandon Tiassum', 'Tommy Kraemer', 'Durham Smythe',\n",
       "        'Miles Boykin', 'Nic Weishar', 'Chase Claypool', 'Tyler Newsome',\n",
       "        'Arion Shinaver', 'Alize Mack', 'Keenan Centlivre',\n",
       "        'Javon McKinley', 'Brock Wright', 'Adetokunbo Ogundeji',\n",
       "        'Jay Hayes', 'Pete Mokwuah', 'Micah Dew-Treadway',\n",
       "        'Andrew Trumbetti', 'Jerry Tillery'],\n",
       "       [71, 68, 73, 73, 73, 77, 73, 73, 75, 69, 72, 75, 72, 72, 72, 73,\n",
       "        71, 70, 69, 73, 74, 74, 71, 72, 69, 71, 70, 71, 69, 72, 72, 74,\n",
       "        74, 71, 72, 74, 74, 70, 71, 73, 72, 73, 72, 76, 70, 70, 75, 71,\n",
       "        74, 73, 75, 75, 74, 76, 74, 74, 74, 75, 77, 75, 75, 74, 76, 73,\n",
       "        76, 80, 77, 78, 78, 76, 78, 73, 76, 77, 77, 76, 76, 76, 74, 73,\n",
       "        76, 78, 74, 76, 76, 75, 75, 76, 76, 78],\n",
       "       [202, 185, 235, 217, 238, 204, 203, 226, 255, 177, 205, 260, 198,\n",
       "        206, 195, 208, 183, 195, 175, 208, 229, 230, 202, 187, 180, 191,\n",
       "        197, 190, 179, 189, 180, 208, 220, 224, 183, 209, 203, 190, 217,\n",
       "        225, 201, 190, 216, 235, 180, 193, 243, 227, 190, 242, 240, 237,\n",
       "        231, 267, 305, 329, 235, 284, 329, 303, 280, 289, 302, 304, 294,\n",
       "        312, 310, 318, 320, 292, 294, 329, 304, 313, 256, 225, 242, 224,\n",
       "        207, 181, 245, 227, 220, 252, 251, 281, 326, 299, 252, 308]],\n",
       "      dtype=object)"
      ]
     },
     "execution_count": 22,
     "metadata": {},
     "output_type": "execute_result"
    }
   ],
   "source": [
    "# This one is 2-Dimensional\n",
    "player_names_heights_and_weights"
   ]
  },
  {
   "cell_type": "markdown",
   "metadata": {
    "colab_type": "text",
    "id": "Tb3CXoxW8W-s"
   },
   "source": [
    "## Section 1: Using Index Notation"
   ]
  },
  {
   "cell_type": "code",
   "execution_count": 23,
   "metadata": {
    "colab": {},
    "colab_type": "code",
    "id": "zuE_S-Zm8W-z",
    "nbgrader": {
     "grade": true,
     "grade_id": "S1:P1",
     "locked": true,
     "points": "2",
     "solution": false
    }
   },
   "outputs": [
    {
     "data": {
      "text/plain": [
       "[2, 10, 83]"
      ]
     },
     "execution_count": 23,
     "metadata": {},
     "output_type": "execute_result"
    }
   ],
   "source": [
    "# PROBLEM 1\n",
    "# - Create a list and append the 1st, 10th, and 78th elements\n",
    "#   in player_jersey numbers to it and print your results\n",
    "# - Remember that the 1st element of an array has an index of 0\n",
    "\n",
    "### BEGIN SOLUTION\n",
    "\n",
    "# Zero points for wrong index numbers. Index numbers asked for are STRICTLY 0, 9 and 77.\n",
    "\n",
    "jerseys = []\n",
    "jerseys.append(player_jersey_numbers[0])\n",
    "jerseys.append(player_jersey_numbers[9])\n",
    "jerseys.append(player_jersey_numbers[77])\n",
    "jerseys\n",
    "### END SOLUTION"
   ]
  },
  {
   "cell_type": "code",
   "execution_count": 25,
   "metadata": {
    "colab": {},
    "colab_type": "code",
    "id": "npR3XYuP8W_A"
   },
   "outputs": [
    {
     "data": {
      "text/plain": [
       "{'Justin Yoon': 70, 'Drue Tranquill': 74, 'Sam Bush': 76}"
      ]
     },
     "execution_count": 25,
     "metadata": {},
     "output_type": "execute_result"
    }
   ],
   "source": [
    "# PROBLEM 2\n",
    "# - Create an empty dict and use index notation to add player names as keys\n",
    "#   and their heights as the values for the following players:\n",
    "#   Sam Bush, Justin Yoon, Drue Tranquill\n",
    "\n",
    "# Print your results\n",
    "\n",
    "### BEGIN SOLUTION\n",
    "player_data = {}\n",
    "\n",
    "# Any approach is fine as long as student adds to a dict. The dict contents should look like the one below.\n",
    "for index, item in enumerate(player_names_heights_and_weights[0]):\n",
    "    if item in [\"Sam Bush\", \"Justin Yoon\", \"Drue Tranquill\"]:\n",
    "        player_data[item] = player_names_heights_and_weights[1][index]    \n",
    "player_data\n",
    "### END SOLUTION"
   ]
  },
  {
   "cell_type": "code",
   "execution_count": 26,
   "metadata": {
    "colab": {},
    "colab_type": "code",
    "id": "83vRf_nL8W_M"
   },
   "outputs": [
    {
     "data": {
      "text/plain": [
       "{'jersey': 68, 'height': 80, 'weight': 312}"
      ]
     },
     "execution_count": 26,
     "metadata": {},
     "output_type": "execute_result"
    }
   ],
   "source": [
    "# PROBLEM 3\n",
    "# - What are the jersey number, height, and weight of Mike McGlinchey?\n",
    "# - You have to use index notation to derive this. No answering it directly. :)\n",
    "# - Assign the results to well named variables or a dict.\n",
    "\n",
    "# - HINT: The `enumerate` function can help you identify the index number\n",
    "#   of Mike's records in the array objects.\n",
    "\n",
    "### BEGIN SOLUTION\n",
    "all_about_mike = {}\n",
    "\n",
    "# here is the final structure to look for.\n",
    "for index, item in enumerate(player_names_heights_and_weights[0]):\n",
    "    if item == \"Mike McGlinchey\":\n",
    "        all_about_mike[\"jersey\"] = player_jersey_numbers[index]\n",
    "        all_about_mike[\"height\"] = player_names_heights_and_weights[1][index]    \n",
    "        all_about_mike[\"weight\"] = player_names_heights_and_weights[2][index]    \n",
    "all_about_mike\n",
    "### END SOLUTION"
   ]
  },
  {
   "cell_type": "code",
   "execution_count": 8,
   "metadata": {
    "colab": {},
    "colab_type": "code",
    "id": "kwtcH19s8W_X",
    "nbgrader": {
     "grade": true,
     "grade_id": "S2:P1",
     "locked": true,
     "points": "2",
     "solution": false
    }
   },
   "outputs": [
    {
     "data": {
      "text/plain": [
       "'Andrew Trumbetti'"
      ]
     },
     "execution_count": 8,
     "metadata": {},
     "output_type": "execute_result"
    }
   ],
   "source": [
    "# PROBLEM 4\n",
    "# - What's the name of the next to last player in the roster? Any approach with correct answer gets full points.\n",
    "\n",
    "### BEGIN SOLUTION\n",
    "player_names_heights_and_weights[0][-2]\n",
    "### END SOLUTION"
   ]
  },
  {
   "cell_type": "code",
   "execution_count": 9,
   "metadata": {
    "colab": {},
    "colab_type": "code",
    "id": "Bw353rMB8W_k"
   },
   "outputs": [
    {
     "name": "stdout",
     "output_type": "stream",
     "text": [
      "Andrew's Jersey #: 98\n",
      "Andrew's Height: 76\n"
     ]
    }
   ],
   "source": [
    "# PROBLEM 5\n",
    "# - And what's his jersey number and height?\n",
    "# - Print your results with string interpolation making it clear which is which.\n",
    "\n",
    "### BEGIN SOLUTION\n",
    "print(\"Andrew's Jersey #: {}\".format(player_jersey_numbers[-2]))\n",
    "print(\"Andrew's Height: {}\".format(player_names_heights_and_weights[1][-2]))\n",
    "### END SOLUTION"
   ]
  },
  {
   "cell_type": "code",
   "execution_count": 10,
   "metadata": {
    "colab": {},
    "colab_type": "code",
    "id": "16bcIywg8W_r",
    "nbgrader": {
     "grade": true,
     "grade_id": "S4:P1",
     "locked": true,
     "points": "2",
     "solution": false
    }
   },
   "outputs": [
    {
     "data": {
      "text/plain": [
       "array([202, 185, 235, 217, 238, 204, 203, 226, 255, 177, 205, 260, 198,\n",
       "       206, 195, 208, 183, 195, 175, 208, 229, 230, 202, 187, 180, 191,\n",
       "       197, 190, 179, 189, 180, 208, 220, 224, 183, 209, 203, 190, 217,\n",
       "       225, 201, 190, 216, 235, 180, 193, 243, 227, 190, 242, 240, 237,\n",
       "       231, 267, 999999, 999999, 235, 284, 999999, 999999, 280, 289,\n",
       "       999999, 999999, 294, 999999, 999999, 999999, 999999, 292, 294,\n",
       "       999999, 999999, 999999, 256, 225, 242, 224, 207, 181, 245, 227,\n",
       "       220, 252, 251, 281, 999999, 299, 252, 999999], dtype=object)"
      ]
     },
     "execution_count": 10,
     "metadata": {},
     "output_type": "execute_result"
    }
   ],
   "source": [
    "# PROBLEM 6 - CHALLENGE PROBLEM!!\n",
    "# - So you may have noticed that there are some players on the team who \n",
    "#   weigh more than 300 lbs!!\n",
    "\n",
    "# - Iterate through the weight values in the `player_names_heights_and_weights` ndarray \n",
    "#   object and mutate (modify) them so that whenever you encounter a player over\n",
    "#   300 lbs, you modify the entry to be 9999.\n",
    "\n",
    "# - HINT: Make sure to check what `player_names_heights_and_weights` looks\n",
    "#   like after your work.\n",
    "\n",
    "# - IMPORTANT: This operation will modify your original data structures. If\n",
    "#   you start to encounter unexplainable errors, you probably need to \n",
    "#   re-execute the cell that creates the array at the top of this notebook.\n",
    "\n",
    "### BEGIN SOLUTION\n",
    "\n",
    "# You may see a lot of this...\n",
    "# But it won't work, assigning a new value to\n",
    "# item just breaks the reference to the original element\n",
    "# it doesn't modify the original element\n",
    "#for item in player_names_heights_and_weights[2]:\n",
    "#    if item > 300:\n",
    "#        item = 999999\n",
    "        \n",
    "\n",
    "# Instead, the players need to obtain a reference to the \n",
    "# index of the item they wish to change, and use it \n",
    "# to update the value at that index. Enumerate is easiest,\n",
    "# but you might see this too\n",
    "\n",
    "index = 0\n",
    "for item in player_names_heights_and_weights[2]:\n",
    "    if item > 300:\n",
    "        player_names_heights_and_weights[2][index] = 999999\n",
    "    index += 1\n",
    "    \n",
    "player_names_heights_and_weights[2]\n",
    "    \n",
    "### END SOLUTION"
   ]
  },
  {
   "cell_type": "markdown",
   "metadata": {
    "colab_type": "text",
    "id": "QhcNzwiA8W_z"
   },
   "source": [
    "## Section 2: Using Slice Notation to Create Array Views"
   ]
  },
  {
   "cell_type": "code",
   "execution_count": 11,
   "metadata": {
    "colab": {},
    "colab_type": "code",
    "id": "V3Wo8_xICa8M"
   },
   "outputs": [],
   "source": [
    "# Let's reset the ndarray objects that you are working with\n",
    "player_jersey_numbers = np.array(nd_football_roster['Number'])\n",
    "player_names_heights_and_weights = np.array(\n",
    "    (nd_football_roster.Name, nd_football_roster['Height'], nd_football_roster['Weight']))\n"
   ]
  },
  {
   "cell_type": "code",
   "execution_count": 12,
   "metadata": {
    "colab": {},
    "colab_type": "code",
    "id": "BvdxsG1H8XAC",
    "nbgrader": {
     "grade": true,
     "grade_id": "S5:P1",
     "locked": true,
     "points": "2",
     "solution": false
    }
   },
   "outputs": [
    {
     "name": "stdout",
     "output_type": "stream",
     "text": [
      "[ 2  3  4  4  5  6  7  7  9 10 12 13 14 15 17 17 18 19 20 21 22 23 24 24\n",
      " 25 26 26 27 28 29 29 32 33 34 35 35 37 38 38 40 40 41 41 42 42]\n",
      "[43 44 45 46 47 48 49 51 53 53 54 54 55 56 57 58 62 63 64 67 68 69 70 71\n",
      " 72 74 75 77 78 80 81 82 83 85 85 86 87 88 89 91 93 96 97 98 99]\n"
     ]
    }
   ],
   "source": [
    "# PROBLEM 1\n",
    "# - Use Slice notation to get two views of `player_jersey_numbers`.\n",
    "# - The first view should have the first 45 players, and the second \n",
    "#   should have the last 45.\n",
    "# - Display your results\n",
    "\n",
    "### BEGIN SOLUTION\n",
    "\n",
    "# Students probably won't do this, just compare results\n",
    "print(player_jersey_numbers[0: player_jersey_numbers.size // 2])\n",
    "print(player_jersey_numbers[player_jersey_numbers.size // 2:])\n",
    "### END SOLUTION"
   ]
  },
  {
   "cell_type": "code",
   "execution_count": 13,
   "metadata": {
    "colab": {},
    "colab_type": "code",
    "id": "-fVjfuTk8XAX",
    "nbgrader": {
     "grade": true,
     "grade_id": "S5:P2",
     "locked": true,
     "points": "2",
     "solution": false
    }
   },
   "outputs": [
    {
     "name": "stdout",
     "output_type": "stream",
     "text": [
      "['Equanimeous St. Brown' 'Nick Watkins' 'Brandon Wimbush' 'Daelin Hayes'\n",
      " 'Chris Finke' 'Ian Book' 'Tyler Luatua' 'Devin Studstill' 'C.J. Holmes'\n",
      " 'Nolan Henry']\n",
      "[77 73 73 75 69 72 75 72 72 72]\n",
      "[204 203 226 255 177 205 260 198 206 195]\n"
     ]
    }
   ],
   "source": [
    "# PROBLEM 2\n",
    "# - What are the elements with indexes 5-14 of each \"row\" of the 2-dimensional \n",
    "# - `player_names_heights_and_weights` ndarray? Display your results\n",
    "\n",
    "# HINT: Remember, there is one row for names, one for heights, and \n",
    "# one for weights\n",
    "\n",
    "### BEGIN SOLUTION\n",
    "print(player_names_heights_and_weights[0][5:15])\n",
    "print(player_names_heights_and_weights[1][5:15])\n",
    "print(player_names_heights_and_weights[2][5:15])\n",
    "### END SOLUTION"
   ]
  }
 ],
 "metadata": {
  "colab": {
   "collapsed_sections": [],
   "name": "A2.2 - NumPy Data Selection.ipynb",
   "provenance": [],
   "version": "0.3.2"
  },
  "kernelspec": {
   "display_name": "Python 3",
   "language": "python",
   "name": "python3"
  },
  "language_info": {
   "codemirror_mode": {
    "name": "ipython",
    "version": 3
   },
   "file_extension": ".py",
   "mimetype": "text/x-python",
   "name": "python",
   "nbconvert_exporter": "python",
   "pygments_lexer": "ipython3",
   "version": "3.7.3"
  }
 },
 "nbformat": 4,
 "nbformat_minor": 1
}
