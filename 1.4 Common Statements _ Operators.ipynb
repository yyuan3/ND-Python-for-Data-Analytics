{
 "cells": [
  {
   "cell_type": "markdown",
   "metadata": {
    "colab_type": "text",
    "id": "29zAbVGDWraZ"
   },
   "source": [
    "# Tutorial 1.4: Common Statements & Operators\n",
    "Python for Data Analytics\n",
    "Module 1"
   ]
  },
  {
   "cell_type": "markdown",
   "metadata": {
    "colab_type": "text",
    "id": "l0hj4USMWraa"
   },
   "source": [
    "In this tutorial, we will be giving a brief overview of common Python *statements* and *operators*. For our purposes you can understand the difference between these two things as follows:\n",
    "* A **operator** is used with one or more objects to produce new values.\n",
    "* A **statement** performs a specific task and may or may not produce a value."
   ]
  },
  {
   "cell_type": "markdown",
   "metadata": {
    "colab_type": "text",
    "id": "P6O3hApeWrab"
   },
   "source": [
    "Presented in this way, these ideas are fairly esoteric. What follows will be a rapid succession of examples of how to use them both. **It is not critical that you understand the distinction between them.** In fact, trying to do so at the beginning stage of learning will probably only frustrate you.\n",
    "\n",
    "The important thing is to start to become familiar with how they are used. You will use them constantly and will become comfortable with practice."
   ]
  },
  {
   "cell_type": "markdown",
   "metadata": {
    "colab_type": "text",
    "id": "wV-AhISUWrab"
   },
   "source": [
    "## Common Statements"
   ]
  },
  {
   "cell_type": "markdown",
   "metadata": {
    "colab_type": "text",
    "id": "U8x1DdPVWrac"
   },
   "source": [
    "### Assignment Statement"
   ]
  },
  {
   "cell_type": "markdown",
   "metadata": {
    "colab_type": "text",
    "id": "_MeFaT-aWrad"
   },
   "source": [
    "The **assignment statement** consists of a name, equals sign, and a object. It is used to bind an object to a label/variable."
   ]
  },
  {
   "cell_type": "code",
   "execution_count": 0,
   "metadata": {
    "colab": {},
    "colab_type": "code",
    "id": "mVBPVYhkWrae"
   },
   "outputs": [],
   "source": [
    "# For instance, here is an assignment statement\n",
    "# that binds the name `example_integer` to the\n",
    "# an integer object with a value of 3495.\n",
    "example_integer = 3495"
   ]
  },
  {
   "cell_type": "markdown",
   "metadata": {
    "colab_type": "text",
    "id": "AftWbAGzWrai"
   },
   "source": [
    "### Augmented Assignment Statement"
   ]
  },
  {
   "cell_type": "markdown",
   "metadata": {
    "colab_type": "text",
    "id": "avjx6-ykWrai"
   },
   "source": [
    "You can modify the value of an existing variable with **augmented assignment statements**. The next few cells will demonstrate the most common ways these are used:"
   ]
  },
  {
   "cell_type": "code",
   "execution_count": 0,
   "metadata": {
    "colab": {},
    "colab_type": "code",
    "id": "yrsP4oyaWraj"
   },
   "outputs": [],
   "source": [
    "# Increase the value of the variable by 5\n",
    "example_integer += 5\n",
    "example_integer"
   ]
  },
  {
   "cell_type": "code",
   "execution_count": 0,
   "metadata": {
    "colab": {},
    "colab_type": "code",
    "id": "Ffr_EaLLWram"
   },
   "outputs": [],
   "source": [
    "# Decrease the value of the variable by 127\n",
    "example_integer -= 127\n",
    "example_integer"
   ]
  },
  {
   "cell_type": "code",
   "execution_count": 0,
   "metadata": {
    "colab": {},
    "colab_type": "code",
    "id": "ssVqA1_tWran"
   },
   "outputs": [],
   "source": [
    "# Multiple the variable by 5\n",
    "example_integer *= 5\n",
    "example_integer"
   ]
  },
  {
   "cell_type": "code",
   "execution_count": 0,
   "metadata": {
    "colab": {},
    "colab_type": "code",
    "id": "clgeb1xxWraq"
   },
   "outputs": [],
   "source": [
    "# Divide the variable by 100\n",
    "example_integer /= 100\n",
    "example_integer"
   ]
  },
  {
   "cell_type": "markdown",
   "metadata": {
    "colab_type": "text",
    "id": "QdsbD29SWrat"
   },
   "source": [
    "### Pass Statement"
   ]
  },
  {
   "cell_type": "markdown",
   "metadata": {
    "colab_type": "text",
    "id": "1fG6BYH8Wrat"
   },
   "source": [
    "You use the **pass** statement to perform a null operation. That is, it literally does nothing. In practice, you use it when you start to write a larger construct (ex. `function`) that requires at least one statement, but you don't know what you want it to be yet."
   ]
  },
  {
   "cell_type": "code",
   "execution_count": 0,
   "metadata": {
    "colab": {},
    "colab_type": "code",
    "id": "d5psey8EWrau"
   },
   "outputs": [],
   "source": [
    "# Here is an example of an if/else statement where I haven't\n",
    "# yet written what I want in the else clause.  Notice\n",
    "# how this cell will fail when you attempt to run it\n",
    "if example_integer > 5:\n",
    "    print(\"I'm still more than 5!\")\n",
    "else:"
   ]
  },
  {
   "cell_type": "code",
   "execution_count": 0,
   "metadata": {
    "colab": {},
    "colab_type": "code",
    "id": "Olv0MPcjWraw"
   },
   "outputs": [],
   "source": [
    "# I use the `pass` statement in the else clause until I know \n",
    "# what I want to write so that the rest of my program can \n",
    "# run.\n",
    "if example_integer > 5:\n",
    "    print(\"I'm still more than 5!\")\n",
    "else:\n",
    "    pass"
   ]
  },
  {
   "cell_type": "markdown",
   "metadata": {
    "colab_type": "text",
    "id": "Q9OcYofZWra0"
   },
   "source": [
    "### Del Statement\n",
    "Use the `del` statement to delete a variable. Or, to be more technically naunced, to unbind a name from a given object in memory."
   ]
  },
  {
   "cell_type": "code",
   "execution_count": 0,
   "metadata": {
    "colab": {},
    "colab_type": "code",
    "id": "ttWPP5A_Wra1"
   },
   "outputs": [],
   "source": [
    "del example_integer"
   ]
  },
  {
   "cell_type": "markdown",
   "metadata": {
    "colab_type": "text",
    "id": "dmGAqWtbWra4"
   },
   "source": [
    "### Return Statement\n",
    "We use the `return` statement inside of a function or method to return (or give back) an object to the part of the program that called it. \n",
    "\n",
    "That description might be a bit confusing at this stage. When you start defining your own functions, you'll get a better handle on this one."
   ]
  },
  {
   "cell_type": "code",
   "execution_count": 0,
   "metadata": {
    "colab": {},
    "colab_type": "code",
    "id": "HWWTyJIcWra4"
   },
   "outputs": [],
   "source": [
    "# Here I will define a simple function that \n",
    "# uses the return statement to send back a `str` object\n",
    "# whenever it is exectured.\n",
    "def simple_function():\n",
    "    return 'Thank you!'"
   ]
  },
  {
   "cell_type": "code",
   "execution_count": 0,
   "metadata": {
    "colab": {},
    "colab_type": "code",
    "id": "UFDcmeK2Wra7"
   },
   "outputs": [],
   "source": [
    "# Whenever the function is called, that value\n",
    "# will be returned\n",
    "simple_function()"
   ]
  },
  {
   "cell_type": "markdown",
   "metadata": {
    "colab_type": "text",
    "id": "9gyyRYLyWra9"
   },
   "source": [
    "### Assert Statement\n",
    "We use the `assert` statement to check something in our program in order to verify it is operating as we expect. "
   ]
  },
  {
   "cell_type": "code",
   "execution_count": 0,
   "metadata": {
    "colab": {},
    "colab_type": "code",
    "id": "e_B2IM9tWra-"
   },
   "outputs": [],
   "source": [
    "# Here I will create a `int` variable and then\n",
    "# write an assert statement that will fail\n",
    "test = 5\n",
    "\n",
    "# This checks if test is equal to 6. It will fail \n",
    "# because test obviously doesn't equal six\n",
    "assert test == 6"
   ]
  },
  {
   "cell_type": "markdown",
   "metadata": {
    "colab_type": "text",
    "id": "DDoQTq3tWrbC"
   },
   "source": [
    "Assert statements can be placed at key points in your program to ensure that things are operating as expected and alert you if they are not."
   ]
  },
  {
   "cell_type": "markdown",
   "metadata": {
    "colab_type": "text",
    "id": "ETSe4vcFWrbD"
   },
   "source": [
    "As we continue in our course, we will introduce a number of additional statements."
   ]
  },
  {
   "cell_type": "markdown",
   "metadata": {
    "colab_type": "text",
    "id": "pv6LMURpWrbE"
   },
   "source": [
    "## Common Python Operators"
   ]
  },
  {
   "cell_type": "markdown",
   "metadata": {
    "colab_type": "text",
    "id": "uN5QpQoeWrbF"
   },
   "source": [
    "### Basic Mathematical Operators"
   ]
  },
  {
   "cell_type": "code",
   "execution_count": 0,
   "metadata": {
    "colab": {},
    "colab_type": "code",
    "id": "LjF6-T38WrbH"
   },
   "outputs": [],
   "source": [
    "# Use `+` for addition\n",
    "5 + 6"
   ]
  },
  {
   "cell_type": "code",
   "execution_count": 0,
   "metadata": {
    "colab": {},
    "colab_type": "code",
    "id": "NRCzwM9yWrbK"
   },
   "outputs": [],
   "source": [
    "# Use `-` for substraction\n",
    "6 - 1"
   ]
  },
  {
   "cell_type": "code",
   "execution_count": 0,
   "metadata": {
    "colab": {},
    "colab_type": "code",
    "id": "zbKBI23lWrbM"
   },
   "outputs": [],
   "source": [
    "# Use `*` for multiplication\n",
    "6 * 7"
   ]
  },
  {
   "cell_type": "code",
   "execution_count": 0,
   "metadata": {
    "colab": {},
    "colab_type": "code",
    "id": "4HLmdPNPWrbP"
   },
   "outputs": [],
   "source": [
    "# Use `/` for division\n",
    "42 / 7"
   ]
  },
  {
   "cell_type": "code",
   "execution_count": 0,
   "metadata": {
    "colab": {},
    "colab_type": "code",
    "id": "ELVhmvjQWrbR"
   },
   "outputs": [],
   "source": [
    "# The modulo `%` operator returns the remainder of a \n",
    "# division operation\n",
    "42 % 5"
   ]
  },
  {
   "cell_type": "markdown",
   "metadata": {
    "colab_type": "text",
    "id": "mUb9OwRRWrbT"
   },
   "source": [
    "### Comparison Operators\n",
    "The following operators are used to compare objects."
   ]
  },
  {
   "cell_type": "code",
   "execution_count": 0,
   "metadata": {
    "colab": {},
    "colab_type": "code",
    "id": "Q0o-FofnWrbU"
   },
   "outputs": [],
   "source": [
    "# Greater than operator\n",
    "5 > 4"
   ]
  },
  {
   "cell_type": "code",
   "execution_count": 0,
   "metadata": {
    "colab": {},
    "colab_type": "code",
    "id": "RQAW23ELWrbW"
   },
   "outputs": [],
   "source": [
    "# Greater than or equal to operator\n",
    "6 >= 6"
   ]
  },
  {
   "cell_type": "code",
   "execution_count": 0,
   "metadata": {
    "colab": {},
    "colab_type": "code",
    "id": "nsRvYYFEWrbb"
   },
   "outputs": [],
   "source": [
    "# Less than operator\n",
    "5 < 4"
   ]
  },
  {
   "cell_type": "code",
   "execution_count": 0,
   "metadata": {
    "colab": {},
    "colab_type": "code",
    "id": "sy2yoLfnWrbd"
   },
   "outputs": [],
   "source": [
    "# Less than or equal to operator\n",
    "4 <= 4"
   ]
  },
  {
   "cell_type": "code",
   "execution_count": 0,
   "metadata": {
    "colab": {},
    "colab_type": "code",
    "id": "h0edRHQLWrbe"
   },
   "outputs": [],
   "source": [
    "# Test if two objects have the same value(s)\n",
    "'test' == 'test_a'"
   ]
  },
  {
   "cell_type": "code",
   "execution_count": 0,
   "metadata": {
    "colab": {},
    "colab_type": "code",
    "id": "ZOGn1LvEWrbg"
   },
   "outputs": [],
   "source": [
    "'test' == 'test'"
   ]
  },
  {
   "cell_type": "code",
   "execution_count": 0,
   "metadata": {
    "colab": {},
    "colab_type": "code",
    "id": "MB5P4IOIWrbi"
   },
   "outputs": [],
   "source": [
    "# This also works for some container objects\n",
    "# like the list. BUT, note the elements have \n",
    "# to be in the same order to get a `True` result\n",
    "['a', 'b'] == ['a', 'b']"
   ]
  },
  {
   "cell_type": "code",
   "execution_count": 0,
   "metadata": {
    "colab": {},
    "colab_type": "code",
    "id": "Sb99N2CiWrbl"
   },
   "outputs": [],
   "source": [
    "# Use the \"does not equal\" operator `!=`\n",
    "# to test whether or not two objects are not equal\n",
    "'test' != 'test_a'"
   ]
  },
  {
   "cell_type": "code",
   "execution_count": 0,
   "metadata": {
    "colab": {},
    "colab_type": "code",
    "id": "Jh4iPSmZWrbo"
   },
   "outputs": [],
   "source": [
    "# The not operator will return True when given\n",
    "# any of the following values: None, False, 0,\n",
    "# or empty sequences (strings, lists, dictionaries, etc)\n",
    "\n",
    "# You basically can use it as a test for whether you\n",
    "# have a False/empty object\n",
    "\n",
    "# All of these will result in True\n",
    "not 0\n",
    "not False\n",
    "not 0\n",
    "not ''\n",
    "not []\n",
    "not {}"
   ]
  }
 ],
 "metadata": {
  "colab": {
   "collapsed_sections": [],
   "name": "1.4 Common Statements & Operators.ipynb",
   "provenance": [],
   "toc_visible": true,
   "version": "0.3.2"
  },
  "kernelspec": {
   "display_name": "Python 3",
   "language": "python",
   "name": "python3"
  },
  "language_info": {
   "codemirror_mode": {
    "name": "ipython",
    "version": 3
   },
   "file_extension": ".py",
   "mimetype": "text/x-python",
   "name": "python",
   "nbconvert_exporter": "python",
   "pygments_lexer": "ipython3",
   "version": "3.7.3"
  }
 },
 "nbformat": 4,
 "nbformat_minor": 1
}
