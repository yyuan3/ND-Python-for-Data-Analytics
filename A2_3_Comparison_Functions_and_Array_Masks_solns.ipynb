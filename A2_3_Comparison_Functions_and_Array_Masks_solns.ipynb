{
 "cells": [
  {
   "cell_type": "markdown",
   "metadata": {
    "colab_type": "text",
    "id": "uitfrcUO8VY0"
   },
   "source": [
    "# Vocareum 2.3: Comparison Functions and Array Masks\n",
    "Python for Data Analytics | Module 2   \n",
    "Professor James Ng"
   ]
  },
  {
   "cell_type": "code",
   "execution_count": 1,
   "metadata": {
    "colab": {},
    "colab_type": "code",
    "id": "Fwe2JM_x8VY6",
    "nbgrader": {
     "grade": false,
     "locked": true,
     "solution": false
    }
   },
   "outputs": [],
   "source": [
    "# SETUP: Don't Change This\n",
    "import numpy as np\n",
    "import pandas as pd"
   ]
  },
  {
   "cell_type": "code",
   "execution_count": 2,
   "metadata": {
    "colab": {},
    "colab_type": "code",
    "id": "frVpanFC8VZP"
   },
   "outputs": [
    {
     "name": "stdout",
     "output_type": "stream",
     "text": [
      "  % Total    % Received % Xferd  Average Speed   Time    Time     Time  Current\n",
      "                                 Dload  Upload   Total   Spent    Left  Speed\n",
      "100   459  100   459    0     0   1201      0 --:--:-- --:--:-- --:--:--  1201\n",
      "100  4184  100  4184    0     0   2131      0  0:00:01  0:00:01 --:--:-- 11157\n"
     ]
    },
    {
     "data": {
      "text/html": [
       "<div>\n",
       "<style scoped>\n",
       "    .dataframe tbody tr th:only-of-type {\n",
       "        vertical-align: middle;\n",
       "    }\n",
       "\n",
       "    .dataframe tbody tr th {\n",
       "        vertical-align: top;\n",
       "    }\n",
       "\n",
       "    .dataframe thead th {\n",
       "        text-align: right;\n",
       "    }\n",
       "</style>\n",
       "<table border=\"1\" class=\"dataframe\">\n",
       "  <thead>\n",
       "    <tr style=\"text-align: right;\">\n",
       "      <th></th>\n",
       "      <th>Number</th>\n",
       "      <th>Name</th>\n",
       "      <th>Position</th>\n",
       "      <th>Height</th>\n",
       "      <th>Weight</th>\n",
       "      <th>Class</th>\n",
       "      <th>Hometown</th>\n",
       "    </tr>\n",
       "  </thead>\n",
       "  <tbody>\n",
       "    <tr>\n",
       "      <th>0</th>\n",
       "      <td>2</td>\n",
       "      <td>Dexter Williams</td>\n",
       "      <td>RB</td>\n",
       "      <td>71</td>\n",
       "      <td>202</td>\n",
       "      <td>JR</td>\n",
       "      <td>Winter Garden, FL</td>\n",
       "    </tr>\n",
       "    <tr>\n",
       "      <th>1</th>\n",
       "      <td>3</td>\n",
       "      <td>C.J. Sanders</td>\n",
       "      <td>WR</td>\n",
       "      <td>68</td>\n",
       "      <td>185</td>\n",
       "      <td>JR</td>\n",
       "      <td>Granada Hills, CA</td>\n",
       "    </tr>\n",
       "    <tr>\n",
       "      <th>2</th>\n",
       "      <td>4</td>\n",
       "      <td>Te'von Coney</td>\n",
       "      <td>LB</td>\n",
       "      <td>73</td>\n",
       "      <td>235</td>\n",
       "      <td>JR</td>\n",
       "      <td>Palm Beach Gardens, FL</td>\n",
       "    </tr>\n",
       "    <tr>\n",
       "      <th>3</th>\n",
       "      <td>4</td>\n",
       "      <td>Montgomery VanGorder</td>\n",
       "      <td>QB</td>\n",
       "      <td>73</td>\n",
       "      <td>217</td>\n",
       "      <td>SR</td>\n",
       "      <td>Buford, GA</td>\n",
       "    </tr>\n",
       "    <tr>\n",
       "      <th>4</th>\n",
       "      <td>5</td>\n",
       "      <td>Nyles Morgan</td>\n",
       "      <td>LB</td>\n",
       "      <td>73</td>\n",
       "      <td>238</td>\n",
       "      <td>SR</td>\n",
       "      <td>Crete, IL</td>\n",
       "    </tr>\n",
       "  </tbody>\n",
       "</table>\n",
       "</div>"
      ],
      "text/plain": [
       "   Number                  Name Position  Height  Weight Class  \\\n",
       "0       2       Dexter Williams       RB      71     202    JR   \n",
       "1       3          C.J. Sanders       WR      68     185    JR   \n",
       "2       4          Te'von Coney       LB      73     235    JR   \n",
       "3       4  Montgomery VanGorder       QB      73     217    SR   \n",
       "4       5          Nyles Morgan       LB      73     238    SR   \n",
       "\n",
       "                 Hometown  \n",
       "0       Winter Garden, FL  \n",
       "1       Granada Hills, CA  \n",
       "2  Palm Beach Gardens, FL  \n",
       "3              Buford, GA  \n",
       "4               Crete, IL  "
      ]
     },
     "execution_count": 2,
     "metadata": {},
     "output_type": "execute_result"
    }
   ],
   "source": [
    "# Once again, we will load the ND Football Roster Data Set\n",
    "!curl -L https://osf.io/95kys/download --create-dirs -o data-sets/nd-football-2017-roster.csv\n",
    "nd_football_roster = pd.read_csv('data-sets/nd-football-2017-roster.csv')\n",
    "nd_football_roster.head()"
   ]
  },
  {
   "cell_type": "code",
   "execution_count": 3,
   "metadata": {
    "colab": {},
    "colab_type": "code",
    "id": "oVLyYJoP8VZj"
   },
   "outputs": [],
   "source": [
    "# Create `ndarray` objects for the various columns of the data set\n",
    "player_names = np.array(nd_football_roster['Name'])\n",
    "player_heights = np.array(nd_football_roster['Height'])\n",
    "player_weights = np.array(nd_football_roster['Weight'])\n",
    "player_numbers = np.array(nd_football_roster['Number'])\n",
    "player_positions = np.array(nd_football_roster['Position'])\n",
    "player_class = np.array(nd_football_roster['Class'])\n",
    "player_home_state = np.array(nd_football_roster['Hometown'].str.partition(', ')[2])"
   ]
  },
  {
   "cell_type": "markdown",
   "metadata": {
    "colab_type": "text",
    "id": "yk-X4ImF8VZv"
   },
   "source": [
    "### Section 1: Generating Boolean Arrays with Comparison Functions & Operators\n",
    "In this section of the assignment, your task is to create boolean arrays. **Don't** try to apply the arrays as masks, just create the boolean arrays themselves."
   ]
  },
  {
   "cell_type": "code",
   "execution_count": 4,
   "metadata": {
    "colab": {},
    "colab_type": "code",
    "id": "2KvTXh218VZ8",
    "nbgrader": {
     "grade": true,
     "grade_id": "S1:P1",
     "locked": true,
     "points": "2",
     "solution": false
    }
   },
   "outputs": [
    {
     "name": "stdout",
     "output_type": "stream",
     "text": [
      "[ True  True  True  True  True  True  True  True False  True  True False\n",
      "  True  True  True  True  True  True  True  True  True  True  True  True\n",
      "  True  True  True  True  True  True  True  True  True  True  True  True\n",
      "  True  True  True  True  True  True  True  True  True  True False  True\n",
      "  True False  True  True  True False False False  True False False False\n",
      " False False False False False False False False False False False False\n",
      " False False False  True False  True  True  True False  True  True False\n",
      " False False False False False False]\n",
      "\n",
      "[False  True False  True  True  True  True  True  True  True  True  True\n",
      " False  True  True  True  True  True  True  True  True  True  True  True\n",
      "  True  True  True  True  True  True False  True  True  True  True  True\n",
      "  True False  True  True  True  True  True  True  True  True  True False\n",
      "  True  True  True  True  True  True  True  True  True  True  True  True\n",
      "  True  True  True  True  True  True  True  True  True  True  True  True\n",
      "  True  True  True  True  True  True  True  True  True  True  True  True\n",
      "  True  True  True  True  True  True]\n",
      "\n",
      "[ True False False False False False False False False False False False\n",
      " False  True False False False False False False False False False False\n",
      " False False False False False False False False  True  True False False\n",
      " False False False False  True False False False False False False False\n",
      " False False False False False False False False False False False False\n",
      " False False False False False False False False False False False False\n",
      " False False False False False False False False False False False False\n",
      " False False False False False False]\n"
     ]
    }
   ],
   "source": [
    "# PROBLEM 1\n",
    "# Generate booleans arrays for the following comparisons using **comparison operators**.\n",
    "# For example, the 'less than' comparison operator is <.\n",
    "# Assign your results to descriptive variables and print them.\n",
    "# - Which players weigh less than or equal to 240 lbs?\n",
    "# - Which players are NOT from Florida?\n",
    "# - Which players held Running Back (RB) positions?\n",
    "\n",
    "### BEGIN SOLUTION\n",
    "\n",
    "# For each part, 1 point if that part gives the correct answer, else 0 for that part. \n",
    "\n",
    "lbs_lte_240 = player_weights <= 240\n",
    "non_floridians = player_home_state != 'FL'\n",
    "running_backs = player_positions == 'RB'\n",
    "\n",
    "print(lbs_lte_240, non_floridians, running_backs, sep='\\n\\n')\n",
    "### END SOLUTION"
   ]
  },
  {
   "cell_type": "code",
   "execution_count": 5,
   "metadata": {
    "colab": {},
    "colab_type": "code",
    "id": "wjZLumWo8VaS",
    "nbgrader": {
     "grade": true,
     "grade_id": "S1:P2",
     "locked": true,
     "points": "2",
     "solution": false
    }
   },
   "outputs": [
    {
     "name": "stdout",
     "output_type": "stream",
     "text": [
      "[ True  True False False False False False False False  True False False\n",
      " False False False False  True  True  True False False False  True False\n",
      "  True  True  True  True  True False False False False  True False False\n",
      " False  True  True False False False False False  True  True False  True\n",
      " False False False False False False False False False False False False\n",
      " False False False False False False False False False False False False\n",
      " False False False False False False False False False False False False\n",
      " False False False False False False]\n",
      "\n",
      "[False False False False False False False False False False False False\n",
      " False False False False False False False False False False False False\n",
      " False False False False False False False False False False False False\n",
      " False False False False False False False False False False False False\n",
      " False False False False False False False False False False False False\n",
      " False False False False False False False False False False False False\n",
      " False False False False False False False False False False  True  True\n",
      "  True  True  True  True  True  True]\n",
      "\n",
      "[ True  True  True False False  True False  True False  True False False\n",
      " False False  True False False  True  True False  True False False  True\n",
      " False False  True False  True False False False  True False False False\n",
      "  True False False  True False False  True False  True  True False False\n",
      " False  True False  True  True False False  True False False False  True\n",
      "  True  True False False False False False False False False False False\n",
      "  True False False  True False False False False  True False False False\n",
      " False False False  True False  True]\n"
     ]
    }
   ],
   "source": [
    "# PROBLEM 2\n",
    "# Generate booleans arrays for the following comparisons using **comparison functions**.\n",
    "# For example, the comparison function for 'less than' is np.less().\n",
    "# Assign your results to descriptive variables and print them.\n",
    "# - Which players are less than 72 inches tall?\n",
    "# - Which players have jersey numbers >= 88\n",
    "# - Which players are juniors?\n",
    "\n",
    "### BEGIN SOLUTION\n",
    "\n",
    "# For each part, 1 point if that part gives the correct answer AND uses comparison function, else 0 for that part. \n",
    "\n",
    "# The key here is to use the actual function calls\n",
    "# rather than the operator shorthand.\n",
    "less_than_72_inches = np.less(player_heights, 72)\n",
    "high_jerseys = np.greater_equal(player_numbers, 88)\n",
    "juniors = np.equal(player_class, 'JR')\n",
    "\n",
    "print(less_than_72_inches, high_jerseys, juniors, sep='\\n\\n')\n",
    "    \n",
    "### END SOLUTION"
   ]
  },
  {
   "cell_type": "code",
   "execution_count": 6,
   "metadata": {
    "colab": {},
    "colab_type": "code",
    "id": "-33iZo0V8Va1",
    "nbgrader": {
     "grade": true,
     "grade_id": "S1:P3",
     "locked": true,
     "points": "2",
     "solution": false
    }
   },
   "outputs": [
    {
     "name": "stdout",
     "output_type": "stream",
     "text": [
      "[False False False False False False False False  True False False False\n",
      " False False False False False False False False False False False False\n",
      " False False False False False False False False False False False False\n",
      " False False False False False False False  True False False False False\n",
      " False False False False False  True  True  True False  True  True  True\n",
      "  True  True  True  True  True  True  True  True  True  True  True  True\n",
      "  True  True False False False False False False False False False False\n",
      "  True  True  True  True  True  True]\n",
      "[False False  True False  True False False  True False False False False\n",
      " False False False False False False False False  True  True False False\n",
      " False False False False False False False False  True  True False False\n",
      " False False False  True False False False  True False False  True  True\n",
      " False  True  True  True  True False False False  True False False False\n",
      " False False False False False False False False False False False False\n",
      " False False False  True  True  True False False  True  True  True False\n",
      " False False False False False False]\n",
      "[False  True False False  True  True  True False False False  True  True\n",
      " False False False  True False False False False False False False False\n",
      " False  True False  True False False False  True False False False False\n",
      "  True False False  True  True False  True False  True False False False\n",
      "  True False False False False False False False  True False False  True\n",
      " False  True  True  True False False  True False False False False False\n",
      " False False  True  True  True False False False False False  True  True\n",
      " False False False  True False False]\n"
     ]
    }
   ],
   "source": [
    "# PROBLEM 3\n",
    "# - Using either comparison operators or functions (your choice), generate boolean arrays\n",
    "#   by performing these multi-step comparisons.\n",
    "# - Assign your answers to descriptive variables.\n",
    "#   - Which players are either Offensive Linemen (OL) or Defensive Linemen (DL)\n",
    "#   - Which players weigh between 220 lbs and 250 lbs?\n",
    "#   - Which players are from Texas, Illinois, or California?\n",
    "\n",
    "# HINT: Remember that parentheses are important when doing multiple comparisons.\n",
    "\n",
    "### BEGIN SOLUTION\n",
    "\n",
    "# For each part, 1 point if that part gives the correct answer, else 0 for that part. \n",
    "\n",
    "linemen = (player_positions == 'OL') | (player_positions =='DL')\n",
    "\n",
    "# It is ok if they just have greater and less than here...\n",
    "between_220_and_250 = (player_weights >= 220) & (player_weights <= 250)\n",
    "\n",
    "tx_il_ca = (player_home_state == 'TX') | (player_home_state == 'IL') | (player_home_state == 'CA')\n",
    "\n",
    "print(linemen, between_220_and_250, tx_il_ca, sep='\\n')\n",
    "    \n",
    "### END SOLUTION"
   ]
  },
  {
   "cell_type": "markdown",
   "metadata": {
    "colab_type": "text",
    "id": "5JJP8bwl8Va8"
   },
   "source": [
    "### Section 2:  `np.sum`, `np.all`, or `np.any`\n",
    "Utilize the `np.sum()`, `np.all()` and `np.any()` functions combined with array comparisons to complete these problems."
   ]
  },
  {
   "cell_type": "code",
   "execution_count": 7,
   "metadata": {
    "colab": {},
    "colab_type": "code",
    "id": "_vKYONzj8VbE",
    "nbgrader": {
     "grade": true,
     "grade_id": "S2:P1",
     "locked": true,
     "points": "2",
     "solution": false
    }
   },
   "outputs": [
    {
     "name": "stdout",
     "output_type": "stream",
     "text": [
      "15 35 39\n"
     ]
    }
   ],
   "source": [
    "# PROBLEM 1\n",
    "# - Determine the following, assign to variables, and print your results\n",
    "#   - How many players weigh more than 300lbs?\n",
    "#   - How many players are at least 75 inches tall?\n",
    "#   - How many players weigh more than 300lbs OR are at least 75 inches tall?\n",
    "# - HINT: You can't just add the results of the first two problems to answer \n",
    "#   the third one - you'll end up double counting some players.\n",
    "\n",
    "### BEGIN SOLUTION\n",
    "\n",
    "# # For each part, 1 point if that part gives the correct answer, else 0 for that part. \n",
    "\n",
    "more_than_300 = np.sum(player_weights > 300)\n",
    "at_least_75_inches = np.sum(player_heights >= 75)\n",
    "both_conditions = np.sum((player_weights > 300) | (player_heights >= 75))\n",
    "\n",
    "print(more_than_300, at_least_75_inches, both_conditions)\n",
    "    \n",
    "### END SOLUTION"
   ]
  },
  {
   "cell_type": "code",
   "execution_count": 8,
   "metadata": {
    "colab": {},
    "colab_type": "code",
    "id": "_uGJ8gAn8VbQ",
    "nbgrader": {
     "grade": true,
     "grade_id": "S2:P2",
     "locked": true,
     "points": "2",
     "solution": false
    }
   },
   "outputs": [
    {
     "name": "stdout",
     "output_type": "stream",
     "text": [
      "False True True\n"
     ]
    }
   ],
   "source": [
    "# PROBLEM 2\n",
    "# - Determine the following, assign to variables, and print your results\n",
    "#   - Are any players from Idaho or Oregon?\n",
    "#   - Are any players less than 180lbs?\n",
    "#   - Are any players Sophomores (SO) and Running Backs (RB)?\n",
    "\n",
    "### BEGIN SOLUTION\n",
    "\n",
    "# For each part, 1 point if that part gives the correct answer, else 0 for that part. \n",
    "\n",
    "idaho_or_oregon = np.any((player_home_state == 'ID') | (player_home_state == 'OR'))\n",
    "less_than_180 = np.any(player_weights < 180)\n",
    "sophomore_running_backs = np.any((player_class == 'SO') & (player_positions == 'RB'))\n",
    "\n",
    "print(idaho_or_oregon, less_than_180, sophomore_running_backs)\n",
    "    \n",
    "### END SOLUTION"
   ]
  },
  {
   "cell_type": "code",
   "execution_count": 9,
   "metadata": {
    "colab": {},
    "colab_type": "code",
    "id": "0AgH9Us58Vbb",
    "nbgrader": {
     "grade": true,
     "grade_id": "S2:P3",
     "locked": true,
     "points": "2",
     "solution": false
    }
   },
   "outputs": [
    {
     "name": "stdout",
     "output_type": "stream",
     "text": [
      "False False True\n"
     ]
    }
   ],
   "source": [
    "# PROBLEM 3\n",
    "# - Determine the following, assign to variables, and print your results\n",
    "#   - Are all players NOT Freshman (FR)?\n",
    "#   - Are all players Juniors (JR) or Seniors (SR)?\n",
    "#   - Are all players less than 330 lbs or less than or equal to 80 inches tall?\n",
    "\n",
    "### BEGIN SOLUTION\n",
    "\n",
    "# For each part, 1 point if that part gives the correct answer, else 0 for that part. \n",
    "\n",
    "not_freshman = np.all(player_class != 'FR')\n",
    "all_juniors_or_seniors = np.all((player_class == 'JR') | (player_class != 'SR'))\n",
    "less_than_330_or_80_inches = np.all((player_weights < 330) | (player_heights <= 80))\n",
    "\n",
    "print(not_freshman, all_juniors_or_seniors, less_than_330_or_80_inches)\n",
    "    \n",
    "### END SOLUTION"
   ]
  },
  {
   "cell_type": "markdown",
   "metadata": {
    "colab_type": "text",
    "id": "z9vsuLnl8Vbm"
   },
   "source": [
    "### Section 3: Using Comparison Functions as Array Masks\n",
    "In this section we will combine comparison functions with array masks to retrieve original values from our data set that match one or more conditions. **The key here is to return the original items from the array, not boolean array masks.**"
   ]
  },
  {
   "cell_type": "code",
   "execution_count": 10,
   "metadata": {
    "colab": {},
    "colab_type": "code",
    "id": "B-cCBYvx8Vb3",
    "nbgrader": {
     "grade": true,
     "grade_id": "S4:P1",
     "locked": true,
     "points": "2",
     "solution": false
    }
   },
   "outputs": [
    {
     "name": "stdout",
     "output_type": "stream",
     "text": [
      "['Montgomery VanGorder' 'Nyles Morgan' 'Nick Watkins' 'Tyler Luatua'\n",
      " 'C.J. Holmes' 'Isaiah Robertson' 'Drue Tranquill' 'Brandon Garcia'\n",
      " 'Austin Webster' 'Sam Kohler' 'Grant Hammann' 'Greer Martini'\n",
      " 'Sam Mustipher' 'Jonathan Bonner' 'Quenton Nelson' 'Sam Bush'\n",
      " 'Ryan Kilander' 'Jimmy Byrne' 'Mike McGlinchey' 'Aaron Banks'\n",
      " 'Hunter Bivin' 'Alex Bars' 'Robert Hainsey' 'Daniel Cage' 'Durham Smythe'\n",
      " 'Nic Weishar' 'Tyler Newsome' 'Keenan Centlivre' 'Brock Wright'\n",
      " 'Jay Hayes' 'Pete Mokwuah' 'Andrew Trumbetti']\n",
      "\n",
      "['Asmar Bilal' 'Drue Tranquill' 'D.J. Morgan' 'Josh Adams' 'Donte Vaughn'\n",
      " 'Robert Regan' 'Matt Bushland' 'Devyn Spruell' 'Sam Mustipher'\n",
      " 'Lincoln Feist' 'John Shannon' 'Logan Plantz' 'Tyler Newsome'\n",
      " 'Javon McKinley']\n",
      "\n",
      "['Dexter Williams' \"Te'von Coney\" 'Montgomery VanGorder' 'Nyles Morgan'\n",
      " 'Brandon Wimbush' 'Ian Book' 'C.J. Holmes' 'Nolan Henry' 'Asmar Bilal'\n",
      " 'Josh Adams' 'Tony Jones Jr.' 'Robert Regan' 'Kier Murphy'\n",
      " 'Brett Segobiano' 'Jimmy Thompson' 'Jamir Jones' 'Jonathan Jones'\n",
      " 'Greer Martini' 'Brandon Hutson' 'Devyn Spruell']\n"
     ]
    }
   ],
   "source": [
    "# PROBLEM 1\n",
    "# - Determine the NAMES of the players for the following, \n",
    "#   assign to variables, and print your results\n",
    "#   - Which players are Freshman or Seniors?\n",
    "#   - Which players are 74 inches tall?\n",
    "#   - Which players were Quarterbacks (QB), Running Backs (RB), or Linebackers (LB)?\n",
    "\n",
    "# ALSO, when you print out the results, make sure there are linebreaks in between each array for readability.\n",
    "\n",
    "### BEGIN SOLUTION\n",
    "\n",
    "# For each part, 1 point if that part gives the correct answer, else 0 for that part. \n",
    "\n",
    "freshman_or_seniors = player_names[(player_class == 'FR') | (player_class == 'SR')]\n",
    "players_74_inches_tall = player_names[player_heights == 74]\n",
    "\n",
    "mask = (player_positions == 'QB') | (player_positions == 'RB') | (player_positions == 'LB')\n",
    "quarterbacks_runningbacks_linebackers = player_names[mask]\n",
    "\n",
    "print(freshman_or_seniors, players_74_inches_tall, \n",
    "      quarterbacks_runningbacks_linebackers, sep='\\n\\n')\n",
    "    \n",
    "### END SOLUTION"
   ]
  },
  {
   "cell_type": "code",
   "execution_count": null,
   "metadata": {},
   "outputs": [],
   "source": []
  }
 ],
 "metadata": {
  "colab": {
   "collapsed_sections": [],
   "name": "A2.3 - Comparison Functions and Array Masks.ipynb",
   "provenance": [],
   "version": "0.3.2"
  },
  "kernelspec": {
   "display_name": "Python 3",
   "language": "python",
   "name": "python3"
  },
  "language_info": {
   "codemirror_mode": {
    "name": "ipython",
    "version": 3
   },
   "file_extension": ".py",
   "mimetype": "text/x-python",
   "name": "python",
   "nbconvert_exporter": "python",
   "pygments_lexer": "ipython3",
   "version": "3.7.3"
  }
 },
 "nbformat": 4,
 "nbformat_minor": 1
}
