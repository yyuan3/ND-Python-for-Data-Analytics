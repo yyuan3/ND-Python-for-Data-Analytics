{
 "cells": [
  {
   "cell_type": "markdown",
   "metadata": {
    "colab_type": "text",
    "id": "e59Gu_XT8Q9L"
   },
   "source": [
    "# Assignment 2.1: NumPy Array Basics\n",
    "Python for Data Analytics | Module 2   \n",
    "Professor James Ng"
   ]
  },
  {
   "cell_type": "code",
   "execution_count": 14,
   "metadata": {
    "colab": {},
    "colab_type": "code",
    "id": "4H2exiJt8Q9P"
   },
   "outputs": [],
   "source": [
    "## SETUP: RUN, BUT DO NOT MODIFY \n",
    "import pandas as pd"
   ]
  },
  {
   "cell_type": "markdown",
   "metadata": {
    "colab_type": "text",
    "id": "D2cjGXpj8Q9d"
   },
   "source": [
    "## Section 1: Importing NumPy"
   ]
  },
  {
   "cell_type": "code",
   "execution_count": 15,
   "metadata": {
    "colab": {},
    "colab_type": "code",
    "id": "yaYf5f8a8Q9n",
    "nbgrader": {
     "grade": true,
     "grade_id": "S1:P1",
     "locked": true,
     "points": "2",
     "solution": false
    }
   },
   "outputs": [],
   "source": [
    "# PROBLEM 1\n",
    "# - Import the NumPy package according to the community convention\n",
    "\n",
    "### BEGIN SOLUTION\n",
    "import numpy as np\n",
    "### END SOLUTION"
   ]
  },
  {
   "cell_type": "markdown",
   "metadata": {
    "colab_type": "text",
    "id": "IAlnJtvW8Q9s"
   },
   "source": [
    "## Section 2: Creating `ndarray` Objects"
   ]
  },
  {
   "cell_type": "code",
   "execution_count": 16,
   "metadata": {
    "colab": {},
    "colab_type": "code",
    "id": "1nnEwUe_8Q9u"
   },
   "outputs": [],
   "source": [
    "# Here is a heterogenous list containing int, float and str objects\n",
    "section_2_list = [\n",
    "    'If you can dream it', 234, 'you can do it.', -28.4, \n",
    "    'storm trooper', '823489', 8398, -1238, 18.3123, 83.12, \n",
    "    \"Luke Skywalker's death was lame...\"]"
   ]
  },
  {
   "cell_type": "code",
   "execution_count": 17,
   "metadata": {
    "colab": {},
    "colab_type": "code",
    "id": "KNTsgmzU8Q93"
   },
   "outputs": [
    {
     "data": {
      "text/plain": [
       "array(['If you can dream it', '234', 'you can do it.', '-28.4',\n",
       "       'storm trooper', '823489', '8398', '-1238', '18.3123', '83.12',\n",
       "       \"Luke Skywalker's death was lame...\"], dtype='<U34')"
      ]
     },
     "execution_count": 17,
     "metadata": {},
     "output_type": "execute_result"
    }
   ],
   "source": [
    "# PROBLEM 1\n",
    "# - Convert this list to an `ndarray`\n",
    "# - Assign it to a variable\n",
    "# - Print it\n",
    "\n",
    "### BEGIN SOLUTION\n",
    "section_2_ndarray = np.array(section_2_list)\n",
    "section_2_ndarray\n",
    "    \n",
    "### END SOLUTION"
   ]
  },
  {
   "cell_type": "code",
   "execution_count": 18,
   "metadata": {
    "colab": {},
    "colab_type": "code",
    "id": "fg56bYJN8Q-F"
   },
   "outputs": [
    {
     "data": {
      "text/plain": [
       "(array(['If you can dream it', 'you can do it.', 'storm trooper', '823489',\n",
       "        \"Luke Skywalker's death was lame...\"], dtype='<U34'),\n",
       " array([  234,  8398, -1238]),\n",
       " array([-28.4   ,  18.3123,  83.12  ]))"
      ]
     },
     "execution_count": 18,
     "metadata": {},
     "output_type": "execute_result"
    }
   ],
   "source": [
    "# PROBLEM 2\n",
    "# So now you have an `ndarray` wherein everything has been\n",
    "# converted to a string, which is a major problem for later analysis.\n",
    "\n",
    "# Use your skills from module 1 to iterate over the `section_2_list` \n",
    "# object and separate the string, int, and float elements into\n",
    "# separate lists and then create 3 `ndarray` objects from those lists\n",
    "\n",
    "### BEGIN SOLUTION\n",
    "ints = []\n",
    "strings = []\n",
    "floats = []\n",
    "\n",
    "for element in section_2_list:\n",
    "    if isinstance(element, str):\n",
    "        strings.append(element)\n",
    "    elif isinstance(element, int):\n",
    "        ints.append(element)\n",
    "    elif isinstance(element, float):\n",
    "        floats.append(element)\n",
    "        \n",
    "\n",
    "string_array = np.array(strings)\n",
    "int_array = np.array(ints)\n",
    "float_array = np.array(floats)\n",
    "\n",
    "string_array, int_array, float_array\n",
    "    \n",
    "### END SOLUTION"
   ]
  },
  {
   "cell_type": "code",
   "execution_count": 19,
   "metadata": {
    "colab": {},
    "colab_type": "code",
    "id": "x-kRzTMA8Q-Q"
   },
   "outputs": [
    {
     "data": {
      "text/plain": [
       "(array(['If you can dream it', 'you can do it.', 'storm trooper',\n",
       "        \"Luke Skywalker's death was lame...\"], dtype='<U34'),\n",
       " array([   234, 823489,   8398,  -1238]),\n",
       " array([-28.4   ,  18.3123,  83.12  ]))"
      ]
     },
     "execution_count": 19,
     "metadata": {},
     "output_type": "execute_result"
    }
   ],
   "source": [
    "# PROBLEM 3\n",
    "# If you look carefully, you'll notice that there is one string\n",
    "# in `section_2_list` that could be convert to an int.\n",
    "\n",
    "# - Modify your answer to the previous problem so that when an element\n",
    "#   of `section_2_list` is a string you attempt to convert it to an int.\n",
    "# - If the conversion succeeds add it to your list of ints rather than the\n",
    "#   list of strings. If it fails, add it to the list of strings\n",
    "\n",
    "# And remember, catch the specific error class, it's good practice.\n",
    "\n",
    "### BEGIN SOLUTION\n",
    "ints = []\n",
    "strings = []\n",
    "floats = []\n",
    "\n",
    "for element in section_2_list:\n",
    "    if isinstance(element, str):\n",
    "        try: \n",
    "            ints.append(int(element))\n",
    "        except ValueError:\n",
    "            strings.append(element)\n",
    "    elif isinstance(element, int):\n",
    "        ints.append(element)\n",
    "    elif isinstance(element, float):\n",
    "        floats.append(element)\n",
    "        \n",
    "\n",
    "string_array = np.array(strings)\n",
    "int_array = np.array(ints)\n",
    "float_array = np.array(floats)\n",
    "\n",
    "string_array, int_array, float_array\n",
    "    \n",
    "### END SOLUTION"
   ]
  },
  {
   "cell_type": "markdown",
   "metadata": {
    "colab_type": "text",
    "id": "0MOlrpvK8Q-f"
   },
   "source": [
    "## Section 3: Numpy Array Attributes"
   ]
  },
  {
   "cell_type": "code",
   "execution_count": 20,
   "metadata": {
    "colab": {},
    "colab_type": "code",
    "id": "zvYSTzxu8Q-g"
   },
   "outputs": [
    {
     "name": "stdout",
     "output_type": "stream",
     "text": [
      "  % Total    % Received % Xferd  Average Speed   Time    Time     Time  Current\n",
      "                                 Dload  Upload   Total   Spent    Left  Speed\n",
      "100   459  100   459    0     0    743      0 --:--:-- --:--:-- --:--:--   742\n",
      "100  4184  100  4184    0     0   3193      0  0:00:01  0:00:01 --:--:--  3193\n"
     ]
    }
   ],
   "source": [
    "# I'm going to load some data for you into a couple of `ndarray` objects.\n",
    "# Don't worry about how I'm doing this right now.\n",
    "\n",
    "!curl -L https://osf.io/95kys/download --create-dirs -o data-sets/nd-football-2017-roster.csv\n",
    "nd_football_roster = pd.read_csv('data-sets/nd-football-2017-roster.csv')\n",
    "\n",
    "# Here are the NumPy arrays for the next few problems\n",
    "jersey_numbers = np.array(nd_football_roster['Number'])\n",
    "player_height_and_weight = np.array(\n",
    "    (nd_football_roster['Weight'], nd_football_roster['Height']))"
   ]
  },
  {
   "cell_type": "markdown",
   "metadata": {
    "colab_type": "text",
    "id": "nVHvGXrf8Q-k"
   },
   "source": [
    "This creates two NumPy arrays: \n",
    "1. `jersey_numbers` holds all the jersey numbers of our 2017 football players\n",
    "1. `player_height_and_weight` holds official player height and weight data in a 2-dimensional array."
   ]
  },
  {
   "cell_type": "code",
   "execution_count": 21,
   "metadata": {
    "colab": {},
    "colab_type": "code",
    "id": "PnxdHarT8Q-o",
    "nbgrader": {
     "grade": true,
     "grade_id": "S2:P1",
     "locked": true,
     "points": "2",
     "solution": false
    }
   },
   "outputs": [
    {
     "name": "stdout",
     "output_type": "stream",
     "text": [
      "jersey_numbers has 1 dimensions\n",
      "player_height_and_weight has 2 dimensions\n"
     ]
    }
   ],
   "source": [
    "# PROBLEM 1\n",
    "# - What are the number of dimensions for each of these arrays?\n",
    "# - Print your answers using string formatting to specify which\n",
    "#   answer belongs to which array\n",
    "\n",
    "### BEGIN SOLUTION\n",
    "print(\"jersey_numbers has {} dimensions\".format(jersey_numbers.ndim))\n",
    "print(\"player_height_and_weight has {} dimensions\".format(player_height_and_weight.ndim))\n",
    "\n",
    "### END SOLUTION"
   ]
  },
  {
   "cell_type": "code",
   "execution_count": 22,
   "metadata": {
    "colab": {},
    "colab_type": "code",
    "id": "88VuNbK98Q-2",
    "nbgrader": {
     "grade": true,
     "grade_id": "S2:P2",
     "locked": true,
     "points": "2",
     "solution": false
    }
   },
   "outputs": [
    {
     "name": "stdout",
     "output_type": "stream",
     "text": [
      "jersey_numbers:  (90,)\n",
      "player_height_and_weight:  (2, 90)\n"
     ]
    }
   ],
   "source": [
    "# PROBLEM 2\n",
    "# - What are the shapes for each of your arrays?\n",
    "# - Print your answers with appropriate string interpolation\n",
    "\n",
    "### BEGIN SOLUTION\n",
    "print(\"jersey_numbers: \", jersey_numbers.shape)\n",
    "print(\"player_height_and_weight: \", player_height_and_weight.shape)\n",
    "### END SOLUTION"
   ]
  },
  {
   "cell_type": "code",
   "execution_count": 23,
   "metadata": {
    "colab": {},
    "colab_type": "code",
    "id": "LPAUoq5f8Q_B",
    "nbgrader": {
     "grade": true,
     "grade_id": "S2:P3",
     "locked": true,
     "points": "2",
     "solution": false
    }
   },
   "outputs": [
    {
     "data": {
      "text/plain": [
       "180"
      ]
     },
     "execution_count": 23,
     "metadata": {},
     "output_type": "execute_result"
    }
   ],
   "source": [
    "# PROBLEM 3\n",
    "# - What are the total number of elements in `player_height_and_weight`?\n",
    "\n",
    "### BEGIN SOLUTION\n",
    "player_height_and_weight.size\n",
    "### END SOLUTION"
   ]
  },
  {
   "cell_type": "code",
   "execution_count": 24,
   "metadata": {
    "colab": {},
    "colab_type": "code",
    "id": "mktN4mlY8Q_g",
    "nbgrader": {
     "grade": true,
     "grade_id": "S2:P4",
     "locked": true,
     "points": "2",
     "solution": false
    }
   },
   "outputs": [
    {
     "name": "stdout",
     "output_type": "stream",
     "text": [
      "int64 int64\n"
     ]
    }
   ],
   "source": [
    "# PROBLEM 4\n",
    "# - What data type is held in each of your arrays?\n",
    "\n",
    "### BEGIN SOLUTION\n",
    "print(jersey_numbers.dtype, player_height_and_weight.dtype)\n",
    "### END SOLUTION"
   ]
  },
  {
   "cell_type": "code",
   "execution_count": null,
   "metadata": {},
   "outputs": [],
   "source": []
  }
 ],
 "metadata": {
  "colab": {
   "collapsed_sections": [],
   "name": "V2.1 - NumPy Array Basics.ipynb",
   "provenance": [],
   "version": "0.3.2"
  },
  "kernelspec": {
   "display_name": "Python 3",
   "language": "python",
   "name": "python3"
  },
  "language_info": {
   "codemirror_mode": {
    "name": "ipython",
    "version": 3
   },
   "file_extension": ".py",
   "mimetype": "text/x-python",
   "name": "python",
   "nbconvert_exporter": "python",
   "pygments_lexer": "ipython3",
   "version": "3.7.3"
  }
 },
 "nbformat": 4,
 "nbformat_minor": 1
}
