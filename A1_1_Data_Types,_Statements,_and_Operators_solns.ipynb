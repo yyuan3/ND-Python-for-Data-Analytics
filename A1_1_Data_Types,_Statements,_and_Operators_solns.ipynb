{
 "cells": [
  {
   "cell_type": "markdown",
   "metadata": {
    "colab_type": "text",
    "id": "NR8hJPZ6HTBW",
    "nbgrader": {
     "grade": false,
     "locked": true,
     "solution": false
    }
   },
   "source": [
    "# Assignment 1.1: Data Types, Statements, and Operators\n",
    "Python for Data Analytics | Module 1  \n",
    "Professor James Ng"
   ]
  },
  {
   "cell_type": "markdown",
   "metadata": {
    "colab_type": "text",
    "id": "nkLtxr4htnta",
    "nbgrader": {
     "grade": false,
     "locked": true,
     "solution": false
    }
   },
   "source": [
    "In this assignment you will practice working with basic data types, methods, and common functions. It corresponds with tutorials 1.3 and 1.4."
   ]
  },
  {
   "cell_type": "markdown",
   "metadata": {
    "colab_type": "text",
    "id": "a8lLRXXxHTBj",
    "nbgrader": {
     "grade": false,
     "locked": true,
     "solution": false
    }
   },
   "source": [
    "## Section 1"
   ]
  },
  {
   "cell_type": "code",
   "execution_count": 1,
   "metadata": {
    "colab": {},
    "colab_type": "code",
    "id": "jd6m9WstHTBn"
   },
   "outputs": [],
   "source": [
    "# PROBLEM 1\n",
    "# - Manipulate the following str object using str methods\n",
    "#   until it says the following: \n",
    "#   I do so like green eggs and ham! Thank you! Thank you, Sam-I-am!\n",
    "\n",
    "# NOTE: You can not simply replace the entire string with one call \n",
    "# to str.replace() or simple assignment. Clever if you thought of \n",
    "# that though. ;) Other than that, you are free to pursue\n",
    "# any combination of operations.\n",
    "\n",
    "# - Print out your result.\n",
    "\n",
    "starting_str = \"I DO not like GreEN eggs and HAM? CuRse you@ Curse you*, Sam-Thy-Am!\""
   ]
  },
  {
   "cell_type": "code",
   "execution_count": 2,
   "metadata": {
    "colab": {},
    "colab_type": "code",
    "id": "ZLvNDBCyHTBv",
    "nbgrader": {
     "grade": false,
     "locked": true,
     "solution": false
    }
   },
   "outputs": [
    {
     "data": {
      "text/plain": [
       "'I do so like green eggs and ham! Thank you! Thank you, Sam-I-Am!'"
      ]
     },
     "execution_count": 2,
     "metadata": {},
     "output_type": "execute_result"
    }
   ],
   "source": [
    "### BEGIN SOLUTION\n",
    "\n",
    "# One way to go about it...\n",
    "starting_str = starting_str.capitalize()\n",
    "starting_str = starting_str.replace('not', 'so')\n",
    "starting_str = starting_str.replace('?', '!')\n",
    "starting_str = starting_str.replace('curse', 'Thank')\n",
    "starting_str = starting_str.replace('@', '!')\n",
    "starting_str = starting_str.replace('*', '')\n",
    "starting_str = starting_str.replace('sam-thy-am', 'Sam-I-Am')\n",
    "starting_str\n",
    "\n",
    "### END SOLUTION"
   ]
  },
  {
   "cell_type": "code",
   "execution_count": 3,
   "metadata": {
    "colab": {},
    "colab_type": "code",
    "id": "BGnqyO7kHTB3"
   },
   "outputs": [],
   "source": [
    "# PROBLEM 2\n",
    "# - Using str and list methods/operations, generate a list that\n",
    "#   extracts the following elements from the provided string (below):\n",
    "#   ['Voldemort', 'Hogwarts', 'Harry Potter']\n",
    "\n",
    "# - Assign you results to `finished_list` and print it\n",
    "# - You cannot use simple assignment to accomplish this.\n",
    "starting_str = \"Voldemort, comes to Hogarts, to kill Harry Potter\""
   ]
  },
  {
   "cell_type": "code",
   "execution_count": 4,
   "metadata": {
    "colab": {},
    "colab_type": "code",
    "id": "vjnQwklpHTB9",
    "nbgrader": {
     "grade": false,
     "locked": true,
     "solution": false
    }
   },
   "outputs": [
    {
     "data": {
      "text/plain": [
       "['Voldemort', 'Hogarts', 'Harry Potter']"
      ]
     },
     "execution_count": 4,
     "metadata": {},
     "output_type": "execute_result"
    }
   ],
   "source": [
    "### BEGIN SOLUTION\n",
    "finished_list = starting_str.split(', ')\n",
    "finished_list[1] = finished_list[1].replace('comes to ', '')\n",
    "finished_list[2] = finished_list[2][-12:]\n",
    "finished_list\n",
    "### END SOLUTION"
   ]
  },
  {
   "cell_type": "code",
   "execution_count": 5,
   "metadata": {
    "colab": {},
    "colab_type": "code",
    "id": "RaxylPqQHTCD"
   },
   "outputs": [],
   "source": [
    "# PROBLEM 3\n",
    "# - Determine how many elements there are in your list programmatically."
   ]
  },
  {
   "cell_type": "code",
   "execution_count": 6,
   "metadata": {
    "colab": {},
    "colab_type": "code",
    "id": "j-U6oFC2HTCK",
    "nbgrader": {
     "grade": false,
     "locked": true,
     "solution": false
    }
   },
   "outputs": [
    {
     "data": {
      "text/plain": [
       "3"
      ]
     },
     "execution_count": 6,
     "metadata": {},
     "output_type": "execute_result"
    }
   ],
   "source": [
    "### BEGIN SOLUTION\n",
    "len(finished_list)\n",
    "### END SOLUTION"
   ]
  },
  {
   "cell_type": "code",
   "execution_count": 7,
   "metadata": {
    "colab": {},
    "colab_type": "code",
    "id": "74_GhaHEHTCP"
   },
   "outputs": [],
   "source": [
    "# PROBLEM 4\n",
    "# - Ask Python to tell you if the last element of your\n",
    "#   list is a `float` object."
   ]
  },
  {
   "cell_type": "code",
   "execution_count": 8,
   "metadata": {
    "colab": {},
    "colab_type": "code",
    "id": "1LnlqlTLHTCZ",
    "nbgrader": {
     "grade": false,
     "locked": true,
     "solution": false
    }
   },
   "outputs": [
    {
     "data": {
      "text/plain": [
       "False"
      ]
     },
     "execution_count": 8,
     "metadata": {},
     "output_type": "execute_result"
    }
   ],
   "source": [
    "### BEGIN SOLUTION\n",
    "isinstance(finished_list[-1], float)\n",
    "### END SOLUTION"
   ]
  },
  {
   "cell_type": "code",
   "execution_count": 9,
   "metadata": {
    "colab": {},
    "colab_type": "code",
    "id": "n9H6UsKcHTCg"
   },
   "outputs": [],
   "source": [
    "# PROBLEM 5\n",
    "# - Print out the 2nd element of your list"
   ]
  },
  {
   "cell_type": "code",
   "execution_count": 12,
   "metadata": {
    "colab": {},
    "colab_type": "code",
    "id": "SuZYgujHHTCp",
    "nbgrader": {
     "grade": false,
     "locked": true,
     "solution": false
    }
   },
   "outputs": [
    {
     "name": "stdout",
     "output_type": "stream",
     "text": [
      "Hogarts\n"
     ]
    }
   ],
   "source": [
    "### BEGIN SOLUTION\n",
    "print(finished_list[1])\n",
    "### END SOLUTION"
   ]
  },
  {
   "cell_type": "code",
   "execution_count": 11,
   "metadata": {
    "colab": {},
    "colab_type": "code",
    "id": "TzEb3fzZHTCt"
   },
   "outputs": [],
   "source": [
    "# PROBLEM 6\n",
    "# - How could you find all the available methods of your list object?"
   ]
  },
  {
   "cell_type": "code",
   "execution_count": null,
   "metadata": {
    "colab": {},
    "colab_type": "code",
    "id": "kYHahRxsHTC1",
    "nbgrader": {
     "grade": false,
     "locked": true,
     "solution": false
    },
    "scrolled": true
   },
   "outputs": [],
   "source": [
    "### BEGIN SOLUTION\n",
    "dir(finished_list)\n",
    "### END SOLUTION"
   ]
  },
  {
   "cell_type": "code",
   "execution_count": 13,
   "metadata": {
    "colab": {},
    "colab_type": "code",
    "id": "qbaASM2BHTC8"
   },
   "outputs": [],
   "source": [
    "# PROBLEM 7\n",
    "# - How could you ask for information about your object?\n",
    "# - There are multiple correct answers to this."
   ]
  },
  {
   "cell_type": "code",
   "execution_count": 14,
   "metadata": {
    "colab": {},
    "colab_type": "code",
    "id": "wt7uX1l7HTDB",
    "nbgrader": {
     "grade": false,
     "locked": true,
     "solution": false
    }
   },
   "outputs": [],
   "source": [
    "### BEGIN SOLUTION\n",
    "# Could be either help(finished_list) or finished_list?\n",
    "### END SOLUTION"
   ]
  },
  {
   "cell_type": "code",
   "execution_count": 13,
   "metadata": {
    "colab": {},
    "colab_type": "code",
    "id": "JJzR3K6SHTDF"
   },
   "outputs": [],
   "source": [
    "# PROBLEM 8\n",
    "# - Starting with this list, remove all the int/float values\n",
    "# - Print out your final results\n",
    "p8_list = ['Hello', 4.5, 'future', 587234, 'Python', -237.3, 'master']\n"
   ]
  },
  {
   "cell_type": "code",
   "execution_count": 14,
   "metadata": {
    "colab": {},
    "colab_type": "code",
    "id": "XaI5znp4HTDJ",
    "nbgrader": {
     "grade": false,
     "locked": true,
     "solution": false
    }
   },
   "outputs": [
    {
     "data": {
      "text/plain": [
       "['Hello', 'future', 'Python', 'master']"
      ]
     },
     "execution_count": 14,
     "metadata": {},
     "output_type": "execute_result"
    }
   ],
   "source": [
    "### BEGIN SOLUTION\n",
    "# They could go about this in a number of ways.\n",
    "# Using list.pop or list.remove is most likely, \n",
    "# but slicing with an interval may also come up.\n",
    "# The resulting list should contain these four strings.\n",
    "\n",
    "p8_list[::2]\n",
    "### END SOLUTION"
   ]
  },
  {
   "cell_type": "code",
   "execution_count": 15,
   "metadata": {
    "colab": {},
    "colab_type": "code",
    "id": "pHL8EYaNHTDR"
   },
   "outputs": [],
   "source": [
    "# PROBLEM 9\n",
    "# - Create a new list that only has the negative numbers from \n",
    "#   this list. \n",
    "# - HINT: There is long way and a short way to \n",
    "#   do this. Review your reading and try to find the short way.\n",
    "\n",
    "# Print out your final result\n",
    "p9_list = [1, -1, 2, -2, 3, -3, 4, -4, 5, -5]"
   ]
  },
  {
   "cell_type": "code",
   "execution_count": 16,
   "metadata": {
    "colab": {},
    "colab_type": "code",
    "id": "3GoPcisPHTDY",
    "nbgrader": {
     "grade": false,
     "locked": true,
     "solution": false
    }
   },
   "outputs": [
    {
     "data": {
      "text/plain": [
       "[-1, -2, -3, -4, -5]"
      ]
     },
     "execution_count": 16,
     "metadata": {},
     "output_type": "execute_result"
    }
   ],
   "source": [
    "### BEGIN SOLUTION\n",
    "# Accept anything with the correct result\n",
    "p9_list[1::2]\n",
    "### END SOLUTION"
   ]
  },
  {
   "cell_type": "code",
   "execution_count": 17,
   "metadata": {
    "colab": {},
    "colab_type": "code",
    "id": "Zwl20EZMHTDi",
    "nbgrader": {
     "grade": false,
     "locked": false,
     "solution": false
    }
   },
   "outputs": [],
   "source": [
    "# PROBLEM 10\n",
    "# - Create a dictionary with key/value pairs about \n",
    "#   yourself. You must have at least 3 key/value pairs.\n",
    "#   Save your results to `p10_results` and print them."
   ]
  },
  {
   "cell_type": "code",
   "execution_count": 18,
   "metadata": {
    "colab": {},
    "colab_type": "code",
    "id": "v0-GgUjwHTDm",
    "nbgrader": {
     "grade": false,
     "locked": true,
     "solution": false
    }
   },
   "outputs": [
    {
     "data": {
      "text/plain": [
       "{'title': 'Lord of Burritos',\n",
       " 'favorite_place': 'Disney World',\n",
       " 'nickname': 'Professor Panda'}"
      ]
     },
     "execution_count": 18,
     "metadata": {},
     "output_type": "execute_result"
    }
   ],
   "source": [
    "### BEGIN SOLUTION\n",
    "# The can use either the dict() constructor\n",
    "# or the {} statement.\n",
    "\n",
    "# example\n",
    "p10_results =  {\n",
    "    \"title\": \"Lord of Burritos\",\n",
    "    \"favorite_place\": \"Disney World\",\n",
    "    \"nickname\": \"Professor Panda\"\n",
    "}\n",
    "p10_results\n",
    "### END SOLUTION"
   ]
  },
  {
   "cell_type": "code",
   "execution_count": 19,
   "metadata": {
    "colab": {},
    "colab_type": "code",
    "id": "Dp6iPa9sHTDw",
    "nbgrader": {
     "grade": false,
     "locked": false,
     "solution": false
    }
   },
   "outputs": [],
   "source": [
    "# PROBLEM 11\n",
    "# - Add at least two new key/value pairs to your `p10_results`\n",
    "#   dict object. Also, modify the value of another key.\n",
    "# - After you perform the tasks, reprint your object."
   ]
  },
  {
   "cell_type": "code",
   "execution_count": 20,
   "metadata": {
    "colab": {},
    "colab_type": "code",
    "id": "VqaVLKuXJ1Kq",
    "nbgrader": {
     "grade": false,
     "locked": true,
     "solution": false
    }
   },
   "outputs": [
    {
     "data": {
      "text/plain": [
       "{'title': 'Master of Munchies',\n",
       " 'favorite_place': 'Disney World',\n",
       " 'nickname': 'Professor Panda',\n",
       " 'skills': 'Talking smack about R',\n",
       " 'job': 'Teaching Python!!!'}"
      ]
     },
     "execution_count": 20,
     "metadata": {},
     "output_type": "execute_result"
    }
   ],
   "source": [
    "### BEGIN SOLUTION\n",
    "# The can use either the dict() constructor\n",
    "# or the {} statement.\n",
    "\n",
    "# example\n",
    "p10_results['title'] = 'Master of Munchies'\n",
    "p10_results['skills'] = 'Talking smack about R'\n",
    "p10_results['job'] = 'Teaching Python!!!'\n",
    "p10_results\n",
    "### END SOLUTION"
   ]
  },
  {
   "cell_type": "code",
   "execution_count": 21,
   "metadata": {
    "colab": {},
    "colab_type": "code",
    "id": "GzkiZRFUHTD5",
    "nbgrader": {
     "grade": false,
     "locked": false,
     "solution": false
    }
   },
   "outputs": [],
   "source": [
    "# PROBLEM 12\n",
    "# - Take the following dict and update your current\n",
    "#   p10_results object with it.\n",
    "\n",
    "# Print out your updated dict object\n",
    "merge_dict = {'future': 'CEO', 'skills': ['Python Wizard', 'Analysis Guru']}"
   ]
  },
  {
   "cell_type": "code",
   "execution_count": 22,
   "metadata": {
    "colab": {},
    "colab_type": "code",
    "id": "l6P6LfAfHTD9",
    "nbgrader": {
     "grade": false,
     "grade_id": "S1:P6",
     "locked": true,
     "points": "2",
     "solution": false
    }
   },
   "outputs": [
    {
     "data": {
      "text/plain": [
       "{'title': 'Master of Munchies',\n",
       " 'favorite_place': 'Disney World',\n",
       " 'nickname': 'Professor Panda',\n",
       " 'skills': ['Python Wizard', 'Analysis Guru'],\n",
       " 'job': 'Teaching Python!!!',\n",
       " 'future': 'CEO'}"
      ]
     },
     "execution_count": 22,
     "metadata": {},
     "output_type": "execute_result"
    }
   ],
   "source": [
    "### BEGIN SOLUTION\n",
    "p10_results.update(merge_dict)\n",
    "p10_results\n",
    "\n",
    "### END SOLUTION"
   ]
  },
  {
   "cell_type": "code",
   "execution_count": 23,
   "metadata": {
    "colab": {},
    "colab_type": "code",
    "id": "0JLWHm-3HTEE"
   },
   "outputs": [],
   "source": [
    "# PROBLEM 13\n",
    "# - Remove at least 2 keys from your p10_results dict object\n",
    "# - Print your updated p10_results objects"
   ]
  },
  {
   "cell_type": "code",
   "execution_count": 24,
   "metadata": {
    "colab": {},
    "colab_type": "code",
    "id": "qBjyL4YlHTEI",
    "nbgrader": {
     "grade": false,
     "locked": true,
     "solution": false
    }
   },
   "outputs": [
    {
     "data": {
      "text/plain": [
       "{'favorite_place': 'Disney World',\n",
       " 'nickname': 'Professor Panda',\n",
       " 'skills': ['Python Wizard', 'Analysis Guru'],\n",
       " 'job': 'Teaching Python!!!'}"
      ]
     },
     "execution_count": 24,
     "metadata": {},
     "output_type": "execute_result"
    }
   ],
   "source": [
    "### BEGIN SOLUTION\n",
    "# Could use del dict['key'] or dict.pop\n",
    "\n",
    "del p10_results['future']\n",
    "p10_results.pop('title')\n",
    "p10_results\n",
    "\n",
    "### END SOLUTION"
   ]
  },
  {
   "cell_type": "code",
   "execution_count": 25,
   "metadata": {
    "colab": {},
    "colab_type": "code",
    "id": "NGTi02kxM37c"
   },
   "outputs": [],
   "source": [
    "# PROBLEM 14\n",
    "# - Take the following 2 tuples of numbers and convert them to sets.\n",
    "# - Assign them the names set_1 and set_2\n",
    "tuple_1 = (1, 2, 3, 4, 5, 6, 7, 8, 9)\n",
    "tuple_2 = (2, 4, 6, 8, 10, 12, 14, 16)"
   ]
  },
  {
   "cell_type": "code",
   "execution_count": 26,
   "metadata": {
    "colab": {},
    "colab_type": "code",
    "id": "eMckV3EXr-As",
    "nbgrader": {
     "grade": false,
     "locked": true,
     "solution": false
    }
   },
   "outputs": [],
   "source": [
    "### BEGIN SOLUTION\n",
    "\n",
    "set_1 = set(tuple_1)\n",
    "set_2 = set(tuple_2)\n",
    "\n",
    "### END SOLUTION"
   ]
  },
  {
   "cell_type": "code",
   "execution_count": null,
   "metadata": {},
   "outputs": [],
   "source": []
  }
 ],
 "metadata": {
  "colab": {
   "collapsed_sections": [],
   "name": "A1.1 - Data Types, Statements, and Operators.ipynb",
   "provenance": [],
   "version": "0.3.2"
  },
  "kernelspec": {
   "display_name": "Python 3",
   "language": "python",
   "name": "python3"
  },
  "language_info": {
   "codemirror_mode": {
    "name": "ipython",
    "version": 3
   },
   "file_extension": ".py",
   "mimetype": "text/x-python",
   "name": "python",
   "nbconvert_exporter": "python",
   "pygments_lexer": "ipython3",
   "version": "3.7.3"
  }
 },
 "nbformat": 4,
 "nbformat_minor": 1
}
