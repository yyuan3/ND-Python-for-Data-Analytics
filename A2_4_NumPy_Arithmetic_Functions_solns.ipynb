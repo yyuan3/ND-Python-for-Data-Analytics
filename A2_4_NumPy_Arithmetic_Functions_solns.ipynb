{
 "cells": [
  {
   "cell_type": "markdown",
   "metadata": {
    "colab_type": "text",
    "id": "PdT-oU4uGEg8"
   },
   "source": [
    "# Assignment 2.5: NumPy Arithmetic Functions\n",
    "Python for Data Analytics | Module 2  \n",
    "Professor James Ng"
   ]
  },
  {
   "cell_type": "code",
   "execution_count": 11,
   "metadata": {
    "colab": {},
    "colab_type": "code",
    "id": "Ej4kxH8OGEhD",
    "nbgrader": {
     "grade": false,
     "locked": true,
     "solution": false
    }
   },
   "outputs": [],
   "source": [
    "# SETUP: EXECUTE BUT DO NOT CHANGE\n",
    "import numpy as np\n",
    "import pandas as pd"
   ]
  },
  {
   "cell_type": "code",
   "execution_count": 12,
   "metadata": {
    "colab": {},
    "colab_type": "code",
    "id": "10XZmCWdGEhR"
   },
   "outputs": [
    {
     "name": "stdout",
     "output_type": "stream",
     "text": [
      "  % Total    % Received % Xferd  Average Speed   Time    Time     Time  Current\n",
      "                                 Dload  Upload   Total   Spent    Left  Speed\n",
      "100   459  100   459    0     0   1052      0 --:--:-- --:--:-- --:--:--  1050\n",
      "100  4184  100  4184    0     0   3463      0  0:00:01  0:00:01 --:--:-- 3213k\n"
     ]
    },
    {
     "data": {
      "text/html": [
       "<div>\n",
       "<style scoped>\n",
       "    .dataframe tbody tr th:only-of-type {\n",
       "        vertical-align: middle;\n",
       "    }\n",
       "\n",
       "    .dataframe tbody tr th {\n",
       "        vertical-align: top;\n",
       "    }\n",
       "\n",
       "    .dataframe thead th {\n",
       "        text-align: right;\n",
       "    }\n",
       "</style>\n",
       "<table border=\"1\" class=\"dataframe\">\n",
       "  <thead>\n",
       "    <tr style=\"text-align: right;\">\n",
       "      <th></th>\n",
       "      <th>Number</th>\n",
       "      <th>Name</th>\n",
       "      <th>Position</th>\n",
       "      <th>Height</th>\n",
       "      <th>Weight</th>\n",
       "      <th>Class</th>\n",
       "      <th>Hometown</th>\n",
       "    </tr>\n",
       "  </thead>\n",
       "  <tbody>\n",
       "    <tr>\n",
       "      <th>0</th>\n",
       "      <td>2</td>\n",
       "      <td>Dexter Williams</td>\n",
       "      <td>RB</td>\n",
       "      <td>71</td>\n",
       "      <td>202</td>\n",
       "      <td>JR</td>\n",
       "      <td>Winter Garden, FL</td>\n",
       "    </tr>\n",
       "    <tr>\n",
       "      <th>1</th>\n",
       "      <td>3</td>\n",
       "      <td>C.J. Sanders</td>\n",
       "      <td>WR</td>\n",
       "      <td>68</td>\n",
       "      <td>185</td>\n",
       "      <td>JR</td>\n",
       "      <td>Granada Hills, CA</td>\n",
       "    </tr>\n",
       "    <tr>\n",
       "      <th>2</th>\n",
       "      <td>4</td>\n",
       "      <td>Te'von Coney</td>\n",
       "      <td>LB</td>\n",
       "      <td>73</td>\n",
       "      <td>235</td>\n",
       "      <td>JR</td>\n",
       "      <td>Palm Beach Gardens, FL</td>\n",
       "    </tr>\n",
       "    <tr>\n",
       "      <th>3</th>\n",
       "      <td>4</td>\n",
       "      <td>Montgomery VanGorder</td>\n",
       "      <td>QB</td>\n",
       "      <td>73</td>\n",
       "      <td>217</td>\n",
       "      <td>SR</td>\n",
       "      <td>Buford, GA</td>\n",
       "    </tr>\n",
       "    <tr>\n",
       "      <th>4</th>\n",
       "      <td>5</td>\n",
       "      <td>Nyles Morgan</td>\n",
       "      <td>LB</td>\n",
       "      <td>73</td>\n",
       "      <td>238</td>\n",
       "      <td>SR</td>\n",
       "      <td>Crete, IL</td>\n",
       "    </tr>\n",
       "  </tbody>\n",
       "</table>\n",
       "</div>"
      ],
      "text/plain": [
       "   Number                  Name Position  Height  Weight Class  \\\n",
       "0       2       Dexter Williams       RB      71     202    JR   \n",
       "1       3          C.J. Sanders       WR      68     185    JR   \n",
       "2       4          Te'von Coney       LB      73     235    JR   \n",
       "3       4  Montgomery VanGorder       QB      73     217    SR   \n",
       "4       5          Nyles Morgan       LB      73     238    SR   \n",
       "\n",
       "                 Hometown  \n",
       "0       Winter Garden, FL  \n",
       "1       Granada Hills, CA  \n",
       "2  Palm Beach Gardens, FL  \n",
       "3              Buford, GA  \n",
       "4               Crete, IL  "
      ]
     },
     "execution_count": 12,
     "metadata": {},
     "output_type": "execute_result"
    }
   ],
   "source": [
    "# Load the ND Football Roster Data Set\n",
    "!curl -L https://osf.io/95kys/download --create-dirs -o data-sets/nd-football-2017-roster.csv\n",
    "nd_football_roster = pd.read_csv('data-sets/nd-football-2017-roster.csv')\n",
    "nd_football_roster.head()"
   ]
  },
  {
   "cell_type": "code",
   "execution_count": 13,
   "metadata": {
    "colab": {},
    "colab_type": "code",
    "id": "UcxizLL4GEhh"
   },
   "outputs": [],
   "source": [
    "# Create `ndarray` objects for the various columns of the data set\n",
    "player_names = np.array(nd_football_roster['Name'])\n",
    "player_heights = np.array(nd_football_roster['Height'])\n",
    "player_weights = np.array(nd_football_roster['Weight'])\n",
    "player_numbers = np.array(nd_football_roster['Number'])\n",
    "player_positions = np.array(nd_football_roster['Position'])\n",
    "player_class = np.array(nd_football_roster['Class'])\n",
    "player_home_state = np.array(nd_football_roster['Hometown'].str.partition(', ')[2])"
   ]
  },
  {
   "cell_type": "markdown",
   "metadata": {
    "colab_type": "text",
    "id": "bC_zzzjMGEhv"
   },
   "source": [
    "## Section 1: Arithmetic Functions\n",
    "In this section, you will practice using NumPy's arithmetic functions. "
   ]
  },
  {
   "cell_type": "code",
   "execution_count": 14,
   "metadata": {
    "colab": {},
    "colab_type": "code",
    "id": "L6iJkER9GEh7",
    "nbgrader": {
     "grade": true,
     "grade_id": "S1:P1",
     "locked": true,
     "points": "2",
     "solution": false
    }
   },
   "outputs": [
    {
     "name": "stdout",
     "output_type": "stream",
     "text": [
      "[78 75 75 74 76 74 74 75 77 74 77 73 74 75 76 79 78 74 77 79 77 81 80 79\n",
      " 76 77 79]\n"
     ]
    }
   ],
   "source": [
    "# PROBLEM 1\n",
    "# Complete the following, assign results to variables, and print your results\n",
    "# - All Sophomores on the team have had an unexpected growth spurt \n",
    "#   and grown 3 inches. what are their new heights?\n",
    "\n",
    "### BEGIN SOLUTION\n",
    "\n",
    "new_soph_heights = player_heights[player_class == 'SO'] + 3\n",
    "print(new_soph_heights)\n",
    "### END SOLUTION"
   ]
  },
  {
   "cell_type": "code",
   "execution_count": 15,
   "metadata": {
    "colab": {},
    "colab_type": "code",
    "id": "ob6Zpyi5GEiR",
    "nbgrader": {
     "grade": true,
     "grade_id": "S1:P2",
     "locked": true,
     "points": "2",
     "solution": false
    }
   },
   "outputs": [
    {
     "data": {
      "text/plain": [
       "{'Freshman': array([2.86111111, 2.84931507, 2.60869565, 4.02597403, 3.84210526,\n",
       "        3.31578947]),\n",
       " 'Sophomore': array([3.4       , 2.84722222, 2.75      , 2.57746479, 2.84931507,\n",
       "        2.84507042, 2.67605634, 2.5       , 2.81081081, 3.15492958,\n",
       "        2.82432432, 2.71428571, 3.05633803, 2.79166667, 2.60273973,\n",
       "        3.09210526, 3.24      , 3.1971831 , 2.56756757, 3.51315789,\n",
       "        3.17567568, 3.76923077, 4.06493506, 2.94736842, 2.47945205,\n",
       "        2.97297297, 3.30263158]),\n",
       " 'Junior': array([2.84507042, 2.72058824, 3.21917808, 2.64935065, 3.09589041,\n",
       "        2.56521739, 2.70833333, 2.78571429, 2.53623188, 3.09459459,\n",
       "        2.59722222, 2.81428571, 2.5942029 , 2.97297297, 2.74324324,\n",
       "        3.08219178, 3.        , 2.57142857, 2.75714286, 3.31506849,\n",
       "        3.16      , 3.12162162, 4.44594595, 4.04      , 3.73333333,\n",
       "        3.90540541, 4.        , 2.96052632, 3.22368421, 3.93421053,\n",
       "        3.94871795]),\n",
       " 'Senior': array([2.97260274, 3.26027397, 2.78082192, 3.46666667, 3.10810811,\n",
       "        2.69014085, 2.625     , 2.54166667, 3.2       , 4.12162162,\n",
       "        3.78666667, 4.27272727, 3.97368421, 4.16438356, 3.86842105,\n",
       "        3.9       , 4.07692308, 4.1025641 , 4.50684932, 3.32467532,\n",
       "        3.18421053, 2.7972973 , 2.91025641, 3.74666667, 4.34666667,\n",
       "        3.31578947])}"
      ]
     },
     "execution_count": 15,
     "metadata": {},
     "output_type": "execute_result"
    }
   ],
   "source": [
    "# PROBLEM 2\n",
    "# Complete the following, assign results to variables, and print your results\n",
    "# - Create boolean masks identifying players of each class (Freshmen, Sophomores, etc)\n",
    "# - Use those masks to determine the pounds/height ratio for each player of each class.\n",
    "# - Create a dictionary to hold you results, where the key names are the class ranks.\n",
    "\n",
    "# HINT: You don't have to follow the order specified above. Just get to the correct answer.\n",
    "\n",
    "### BEGIN SOLUTION\n",
    "\n",
    "# There are a variety of ways in which the students\n",
    "# might derive the answer.  Just check the final output.\n",
    "weight_height_ratio = player_weights/player_heights\n",
    "\n",
    "stats = {\n",
    "    'Freshman': (weight_height_ratio)[player_class == 'FR'],\n",
    "    'Sophomore': (weight_height_ratio)[player_class == 'SO'],\n",
    "    'Junior': (weight_height_ratio)[player_class == 'JR'],\n",
    "    'Senior': (weight_height_ratio)[player_class == 'SR']\n",
    "}\n",
    "\n",
    "stats\n",
    "\n",
    "### END SOLUTION"
   ]
  },
  {
   "cell_type": "code",
   "execution_count": 16,
   "metadata": {},
   "outputs": [
    {
     "data": {
      "text/plain": [
       "array(['Dexter Williams', 'C.J. Sanders', \"Te'von Coney\",\n",
       "       'Montgomery VanGorder', 'Nyles Morgan', 'Equanimeous St. Brown',\n",
       "       'Nick Watkins', 'Brandon Wimbush', 'Daelin Hayes', 'Chris Finke',\n",
       "       'Ian Book', 'Tyler Luatua', 'Devin Studstill', 'C.J. Holmes',\n",
       "       'Nolan Henry', 'Isaiah Robertson', 'Troy Pride Jr.', 'Justin Yoon',\n",
       "       'Shaun Crawford', 'Jalen Elliott', 'Asmar Bilal', 'Drue Tranquill',\n",
       "       'Mick Assaf', 'Nick Coleman', 'Brandon Garcia', 'Austin Webster',\n",
       "       'Ashton White', 'Julian Love', 'Nicco Fertitta', 'Sam Kohler',\n",
       "       'Kevin Stepherson', 'D.J. Morgan', 'Josh Adams', 'Tony Jones Jr.',\n",
       "       'Grant Hammann', 'Donte Vaughn', 'Robert Regan', 'Deon McIntosh',\n",
       "       'Christopher Schilling', 'Kier Murphy', 'Brett Segobiano',\n",
       "       'Temitope Agoro', 'Jimmy Thompson', 'Julian Okwara', 'Jeff Riney',\n",
       "       'Brian Ball', 'Jamir Jones', 'Jonathan Jones', 'Matt Bushland',\n",
       "       'Chris Bury', 'Greer Martini', 'Brandon Hutson', 'Devyn Spruell',\n",
       "       'Khalid Kareem', 'Sam Mustipher', 'Lincoln Feist', 'John Shannon',\n",
       "       'Jonathan Bonner', 'Quenton Nelson', 'Trevor Ruhland',\n",
       "       'Elijah Taylor', 'Logan Plantz', 'Sam Bush', 'Ryan Kilander',\n",
       "       'Jimmy Byrne', 'Mike McGlinchey', 'Aaron Banks', 'Hunter Bivin',\n",
       "       'Alex Bars', 'Robert Hainsey', 'Liam Eichenberg', 'Daniel Cage',\n",
       "       'Brandon Tiassum', 'Tommy Kraemer', 'Durham Smythe',\n",
       "       'Miles Boykin', 'Nic Weishar', 'Chase Claypool', 'Tyler Newsome',\n",
       "       'Arion Shinaver', 'Alize Mack', 'Keenan Centlivre',\n",
       "       'Javon McKinley', 'Brock Wright', 'Adetokunbo Ogundeji',\n",
       "       'Jay Hayes', 'Pete Mokwuah', 'Micah Dew-Treadway',\n",
       "       'Andrew Trumbetti', 'Jerry Tillery'], dtype=object)"
      ]
     },
     "execution_count": 16,
     "metadata": {},
     "output_type": "execute_result"
    }
   ],
   "source": [
    "player_names"
   ]
  },
  {
   "cell_type": "code",
   "execution_count": 17,
   "metadata": {
    "colab": {},
    "colab_type": "code",
    "id": "TMiUhuBSGEiv",
    "nbgrader": {
     "grade": true,
     "grade_id": "S1:P3",
     "locked": true,
     "points": "2",
     "solution": false
    }
   },
   "outputs": [
    {
     "name": "stdout",
     "output_type": "stream",
     "text": [
      "[191 193 165 295 277 237]\n"
     ]
    }
   ],
   "source": [
    "# PROBLEM 3\n",
    "# Complete the following, assign results to variables, and print your results\n",
    "# - Ah, the dreaded freshmen 15! The freshman players have been eating a bit \n",
    "#   too much at the dining halls. The coaches have put them on a diet. \n",
    "#   What are their new weights after losing that 15 pounds?\n",
    "\n",
    "### BEGIN SOLUTION\n",
    "freshmen_diet = player_weights[player_class == 'FR'] - 15\n",
    "print(freshmen_diet)\n",
    "### END SOLUTION"
   ]
  },
  {
   "cell_type": "code",
   "execution_count": 18,
   "metadata": {
    "colab": {},
    "colab_type": "code",
    "id": "KwyXP31FGEjB"
   },
   "outputs": [
    {
     "name": "stdout",
     "output_type": "stream",
     "text": [
      "47 43\n"
     ]
    }
   ],
   "source": [
    "# PROBLEM 4 - CHALLENGE\n",
    "# Complete the following, assign results to variables, and print your results\n",
    "# - Determine how many odd/even jersey numbers are used on the team. \n",
    "\n",
    "### BEGIN SOLUTION\n",
    "odd_jerseys = np.sum(player_numbers % 2 == 1)\n",
    "even_jerseys = np.sum(player_numbers % 2 == 0)\n",
    "\n",
    "print(odd_jerseys, even_jerseys)\n",
    "### END SOLUTION"
   ]
  }
 ],
 "metadata": {
  "colab": {
   "collapsed_sections": [],
   "name": "A2.5 - NumPy Arithmetic Functions.ipynb",
   "provenance": [],
   "version": "0.3.2"
  },
  "kernelspec": {
   "display_name": "Python 3",
   "language": "python",
   "name": "python3"
  },
  "language_info": {
   "codemirror_mode": {
    "name": "ipython",
    "version": 3
   },
   "file_extension": ".py",
   "mimetype": "text/x-python",
   "name": "python",
   "nbconvert_exporter": "python",
   "pygments_lexer": "ipython3",
   "version": "3.7.3"
  }
 },
 "nbformat": 4,
 "nbformat_minor": 1
}
