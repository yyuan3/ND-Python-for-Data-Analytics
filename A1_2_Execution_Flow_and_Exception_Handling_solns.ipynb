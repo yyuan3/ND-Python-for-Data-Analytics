{
 "cells": [
  {
   "cell_type": "markdown",
   "metadata": {
    "colab_type": "text",
    "id": "dlyqBtfBMlGe",
    "nbgrader": {
     "grade": false,
     "locked": true,
     "solution": false
    }
   },
   "source": [
    "# Assignment 1.2: Modifying Execution Flow & Handling Exceptions\n",
    "Python for Data Analytics | Module 1  \n",
    "Professor James Ng"
   ]
  },
  {
   "cell_type": "markdown",
   "metadata": {
    "colab_type": "text",
    "id": "kdAvDae4MlGo"
   },
   "source": [
    "In this assignment you will practice controlling the execution flow of your programs and handling exceptions. It corresponds with tutorials 1.5 and 1.6."
   ]
  },
  {
   "cell_type": "markdown",
   "metadata": {
    "colab_type": "text",
    "id": "8_ALBbICMlGk"
   },
   "source": [
    "### Patience Required  \n",
    "Depending on the speed of your internet connection, some cells may take a while to execute. Don't restart the notebook unless a single cell has taken more than 10 seconds to finsh.\n",
    "<p>Also, you may inadvertently write a loop that never ends during this exercise. Remember that you can always use the `Kernel -> Interrupt Kernal` option via the menu at the top of the screen to kill your cell if this happens.\n",
    "</p>\n",
    "</div> \n"
   ]
  },
  {
   "cell_type": "markdown",
   "metadata": {
    "colab_type": "text",
    "id": "x4_M70h9MlGs",
    "nbgrader": {
     "grade": false,
     "locked": true,
     "solution": false
    }
   },
   "source": [
    "## Section 1: Modifying Execution Flow"
   ]
  },
  {
   "cell_type": "code",
   "execution_count": 1,
   "metadata": {
    "colab": {},
    "colab_type": "code",
    "id": "pNsjR0tTMlGu"
   },
   "outputs": [
    {
     "name": "stdout",
     "output_type": "stream",
     "text": [
      "Give me a value: test\n",
      "Value not found\n"
     ]
    }
   ],
   "source": [
    "# PROBLEM 1\n",
    "# - Write a simple program that\n",
    "#   - 1. Takes a single input() from the user\n",
    "#   - 2. Determines the lowercase form of the input\n",
    "#   - 3. If the value from the user is in `values_list`, \n",
    "#        output \"I found you!\"\n",
    "#   - 4. Otherwise, print \"Value not found\"\n",
    "\n",
    "values_list = ['dream', 'storm trooper', 'oliver']\n",
    "\n",
    "### BEGIN SOLUTION\n",
    "\n",
    "value = input(\"Give me a value: \")\n",
    "if value.lower() in values_list:\n",
    "    print(\"I found you!\")\n",
    "else:\n",
    "    print(\"Value not found\")\n",
    "\n",
    "### END SOLUTION"
   ]
  },
  {
   "cell_type": "code",
   "execution_count": 2,
   "metadata": {
    "colab": {},
    "colab_type": "code",
    "id": "_4JiUzqhMlG9"
   },
   "outputs": [
    {
     "name": "stdout",
     "output_type": "stream",
     "text": [
      "What is your name? james\n",
      "Hello Something Else\n"
     ]
    }
   ],
   "source": [
    "# PROBLEM 2\n",
    "# You now have two value lists: men and women\n",
    "men = ['Chris', 'Carlos', 'Cam']\n",
    "women = ['Elizabeth', 'Erin']\n",
    "\n",
    "# Tasks:\n",
    "# 1. Ask for the user's name and store it in a variable.\n",
    "# 2. Modify the variable to match the case convention of the lists.\n",
    "# 3. If the value is in the `men` list, output \"Hello Dude!\"\n",
    "# 4. If the value is in the `women` list, output \"Hello Fair Lady!\"\n",
    "# 5. If it is not in either list, output \"Hello Something Else!\"\n",
    "\n",
    "### BEGIN SOLUTION\n",
    "value = input('What is your name? ')\n",
    "if value.capitalize() in men:\n",
    "    print(\"Hello Dude!\")\n",
    "elif value.capitalize() in women:\n",
    "    print(\"Hello Fair Lady!\")\n",
    "else:\n",
    "    print(\"Hello Something Else\")\n",
    "### END SOLUTION"
   ]
  },
  {
   "cell_type": "code",
   "execution_count": 3,
   "metadata": {
    "colab": {},
    "colab_type": "code",
    "id": "NGK-2kzTMlHJ"
   },
   "outputs": [
    {
     "name": "stdout",
     "output_type": "stream",
     "text": [
      "What is your name? james\n",
      "Hello Something Else\n",
      "What is your name? stop\n",
      "Hello Something Else\n",
      "What is your name? STOP\n"
     ]
    }
   ],
   "source": [
    "# PROBLEM 3 \n",
    "# Wrap your previous code inside of a `while` loop that will only \n",
    "# stop running if the value given by the user is \"STOP\"\n",
    "\n",
    "### BEGIN SOLUTION\n",
    "while True:\n",
    "    value = input('What is your name? ')\n",
    "    if value.capitalize() in men:\n",
    "        print(\"Hello Dude!\")\n",
    "    elif value.capitalize() in women:\n",
    "        print(\"Hello fair Lady!\")\n",
    "    elif value == 'STOP':\n",
    "        break\n",
    "    else:\n",
    "        print(\"Hello Something Else\")\n",
    "### END SOLUTION"
   ]
  },
  {
   "cell_type": "code",
   "execution_count": 3,
   "metadata": {
    "colab": {},
    "colab_type": "code",
    "id": "0TdHo-iXMlHX"
   },
   "outputs": [
    {
     "name": "stdout",
     "output_type": "stream",
     "text": [
      "Unsupported Data Type\n",
      "Updated Counters\n",
      "Updated Counters\n",
      "Updated Counters\n",
      "Updated Counters\n",
      "Updated Counters\n",
      "Updated Counters\n",
      "Updated Counters\n",
      "Updated Counters\n",
      "Unsupported Data Type\n",
      "Unsupported Data Type\n",
      "3 5\n"
     ]
    }
   ],
   "source": [
    "# PROBLEM 4\n",
    "# - Here is a list containing a variety of objects:\n",
    "mixed_list = [None, 'Stay Warm!', 'Alabama', 'window', 'snow', \n",
    "              'Wintertime', 46, 81.57, -27.5, list(), dict()]\n",
    "\n",
    "# - And here are some variables that you will use as counters\n",
    "numbers = 0\n",
    "strings = 0\n",
    "\n",
    "# Tasks\n",
    "# 1. Create a program the iterates through each value in the provided list\n",
    "# 2. If the value is an `int` or `float`, increment the numbers counter.\n",
    "# 3. If the value is a `str`, increment the strings counter\n",
    "# 4. If it is none of these, print \"Unsupported Data Type\" \n",
    "#    and skip to the next iteration\n",
    "# 5. Otherwise, print(\"Updated Counters\")\n",
    "# 6. Outside of the loop, print both counters, which should \n",
    "#    contain the correct values.\n",
    "\n",
    "# HINT: You can test if something IS NOT true by putting `not` \n",
    "#       before the thing you are testing. For example `5 > 4` would \n",
    "#       be True, `not 5 > 4` would be False. You may need to use that \n",
    "#       technique depending on how you go about doing this problem.\n",
    "\n",
    "\n",
    "### BEGIN SOLUTION\n",
    "\n",
    "# Multiple ways to do this... just check for the correct effects\n",
    "for item in mixed_list:\n",
    "    if isinstance(item, (int, float)):\n",
    "        numbers += 1\n",
    "    elif isinstance(item, str):\n",
    "        strings += 1\n",
    "    else:\n",
    "        print(\"Unsupported Data Type\")\n",
    "        continue\n",
    "        \n",
    "    print(\"Updated Counters\")\n",
    "        \n",
    "print(numbers, strings)\n",
    "### END SOLUTION"
   ]
  },
  {
   "cell_type": "markdown",
   "metadata": {
    "colab_type": "text",
    "id": "wwTvrnUPMlHo",
    "nbgrader": {
     "grade": false,
     "locked": true,
     "solution": false
    }
   },
   "source": [
    "## Section 2: Handling Exceptions"
   ]
  },
  {
   "cell_type": "code",
   "execution_count": 5,
   "metadata": {
    "colab": {},
    "colab_type": "code",
    "id": "iDu_aBGGMlHp"
   },
   "outputs": [
    {
     "name": "stdout",
     "output_type": "stream",
     "text": [
      "You passed something illegal to the `sort` method.\n"
     ]
    }
   ],
   "source": [
    "# PROBLEM 1\n",
    "# - The following code will generate/raise an exception.\n",
    "#   - 1. Find out what the specific exception type is.\n",
    "#   - 2. Handle the specific exception type and provide an error message to the user.\n",
    "# women.sort('illegal value')\n",
    "\n",
    "### BEGIN SOLUTION\n",
    "try:\n",
    "    women.sort('illegal value')\n",
    "except TypeError:\n",
    "    print(\"You passed something illegal to the `sort` method.\")\n",
    "### END SOLUTION"
   ]
  },
  {
   "cell_type": "code",
   "execution_count": 6,
   "metadata": {
    "colab": {},
    "colab_type": "code",
    "id": "bOI0k-DUMlH0"
   },
   "outputs": [
    {
     "name": "stdout",
     "output_type": "stream",
     "text": [
      "Unconvertable Value\n",
      "Unconvertable Value\n",
      "Unconvertable Value\n",
      "-11.169999999999998\n"
     ]
    }
   ],
   "source": [
    "# PROBLEM 2\n",
    "# - Here is a list of strings and object to hold a running total.\n",
    "strings = ['1', '1f', '2.0', '72d', '59.1', '-1,', '-89', '15.73']\n",
    "running_total = 0\n",
    "\n",
    "# - Tasks\n",
    "#   - Iterate over the list\n",
    "#   - Attempt to convert the current value to a `float`\n",
    "#     using the constructor function for that type.\n",
    "#   - If the attempt fails, handle it in a specific `except` clause\n",
    "#     and print out \"Unconvertable Value\"\n",
    "#   - Otherwise, add the value to the `running_total` variable\n",
    "#   - Outside of the for loop, print the final value of `running_total`\n",
    "\n",
    "### BEGIN SOLUTION\n",
    "for potential_number in strings:\n",
    "    try:\n",
    "        value = float(potential_number)\n",
    "    except ValueError:\n",
    "        print(\"Unconvertable Value\")\n",
    "    else:\n",
    "        running_total += value\n",
    "        \n",
    "print(running_total)\n",
    "### END SOLUTION"
   ]
  },
  {
   "cell_type": "code",
   "execution_count": null,
   "metadata": {},
   "outputs": [],
   "source": []
  }
 ],
 "metadata": {
  "colab": {
   "collapsed_sections": [],
   "name": "A1.2 - Execution Flow and Exception Handling.ipynb",
   "provenance": [],
   "version": "0.3.2"
  },
  "kernelspec": {
   "display_name": "Python 3",
   "language": "python",
   "name": "python3"
  },
  "language_info": {
   "codemirror_mode": {
    "name": "ipython",
    "version": 3
   },
   "file_extension": ".py",
   "mimetype": "text/x-python",
   "name": "python",
   "nbconvert_exporter": "python",
   "pygments_lexer": "ipython3",
   "version": "3.7.3"
  }
 },
 "nbformat": 4,
 "nbformat_minor": 1
}
