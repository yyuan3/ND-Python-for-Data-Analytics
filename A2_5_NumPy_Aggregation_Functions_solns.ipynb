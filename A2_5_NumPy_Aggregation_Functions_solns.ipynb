{
 "cells": [
  {
   "cell_type": "markdown",
   "metadata": {
    "colab_type": "text",
    "id": "ahGiPbJwGFwj"
   },
   "source": [
    "# Assignment 2.6: NumPy Array Aggregations\n",
    "Python for Data Analytics | Module 2  \n",
    "Professor James Ng"
   ]
  },
  {
   "cell_type": "code",
   "execution_count": 1,
   "metadata": {
    "colab": {},
    "colab_type": "code",
    "id": "-WwACWIxGFwp",
    "nbgrader": {
     "grade": false,
     "locked": true,
     "solution": false
    }
   },
   "outputs": [
    {
     "data": {
      "text/plain": [
       "RendererRegistry.enable('notebook')"
      ]
     },
     "execution_count": 1,
     "metadata": {},
     "output_type": "execute_result"
    }
   ],
   "source": [
    "# SETUP: EXECUTE BUT DO NOT CHANGE\n",
    "import altair as alt\n",
    "import numpy as np\n",
    "import pandas as pd\n",
    "\n",
    "alt.renderers.enable('notebook')"
   ]
  },
  {
   "cell_type": "code",
   "execution_count": 2,
   "metadata": {
    "colab": {},
    "colab_type": "code",
    "id": "6d6o-_tFGFw3"
   },
   "outputs": [
    {
     "name": "stdout",
     "output_type": "stream",
     "text": [
      "  % Total    % Received % Xferd  Average Speed   Time    Time     Time  Current\n",
      "                                 Dload  Upload   Total   Spent    Left  Speed\n",
      "100   459  100   459    0     0   1264      0 --:--:-- --:--:-- --:--:--  1260\n",
      "100  4184  100  4184    0     0   3917      0  0:00:01  0:00:01 --:--:-- 3213k\n"
     ]
    },
    {
     "data": {
      "text/html": [
       "<div>\n",
       "<style scoped>\n",
       "    .dataframe tbody tr th:only-of-type {\n",
       "        vertical-align: middle;\n",
       "    }\n",
       "\n",
       "    .dataframe tbody tr th {\n",
       "        vertical-align: top;\n",
       "    }\n",
       "\n",
       "    .dataframe thead th {\n",
       "        text-align: right;\n",
       "    }\n",
       "</style>\n",
       "<table border=\"1\" class=\"dataframe\">\n",
       "  <thead>\n",
       "    <tr style=\"text-align: right;\">\n",
       "      <th></th>\n",
       "      <th>Number</th>\n",
       "      <th>Name</th>\n",
       "      <th>Position</th>\n",
       "      <th>Height</th>\n",
       "      <th>Weight</th>\n",
       "      <th>Class</th>\n",
       "      <th>Hometown</th>\n",
       "    </tr>\n",
       "  </thead>\n",
       "  <tbody>\n",
       "    <tr>\n",
       "      <th>0</th>\n",
       "      <td>2</td>\n",
       "      <td>Dexter Williams</td>\n",
       "      <td>RB</td>\n",
       "      <td>71</td>\n",
       "      <td>202</td>\n",
       "      <td>JR</td>\n",
       "      <td>Winter Garden, FL</td>\n",
       "    </tr>\n",
       "    <tr>\n",
       "      <th>1</th>\n",
       "      <td>3</td>\n",
       "      <td>C.J. Sanders</td>\n",
       "      <td>WR</td>\n",
       "      <td>68</td>\n",
       "      <td>185</td>\n",
       "      <td>JR</td>\n",
       "      <td>Granada Hills, CA</td>\n",
       "    </tr>\n",
       "    <tr>\n",
       "      <th>2</th>\n",
       "      <td>4</td>\n",
       "      <td>Te'von Coney</td>\n",
       "      <td>LB</td>\n",
       "      <td>73</td>\n",
       "      <td>235</td>\n",
       "      <td>JR</td>\n",
       "      <td>Palm Beach Gardens, FL</td>\n",
       "    </tr>\n",
       "    <tr>\n",
       "      <th>3</th>\n",
       "      <td>4</td>\n",
       "      <td>Montgomery VanGorder</td>\n",
       "      <td>QB</td>\n",
       "      <td>73</td>\n",
       "      <td>217</td>\n",
       "      <td>SR</td>\n",
       "      <td>Buford, GA</td>\n",
       "    </tr>\n",
       "    <tr>\n",
       "      <th>4</th>\n",
       "      <td>5</td>\n",
       "      <td>Nyles Morgan</td>\n",
       "      <td>LB</td>\n",
       "      <td>73</td>\n",
       "      <td>238</td>\n",
       "      <td>SR</td>\n",
       "      <td>Crete, IL</td>\n",
       "    </tr>\n",
       "  </tbody>\n",
       "</table>\n",
       "</div>"
      ],
      "text/plain": [
       "   Number                  Name Position  Height  Weight Class  \\\n",
       "0       2       Dexter Williams       RB      71     202    JR   \n",
       "1       3          C.J. Sanders       WR      68     185    JR   \n",
       "2       4          Te'von Coney       LB      73     235    JR   \n",
       "3       4  Montgomery VanGorder       QB      73     217    SR   \n",
       "4       5          Nyles Morgan       LB      73     238    SR   \n",
       "\n",
       "                 Hometown  \n",
       "0       Winter Garden, FL  \n",
       "1       Granada Hills, CA  \n",
       "2  Palm Beach Gardens, FL  \n",
       "3              Buford, GA  \n",
       "4               Crete, IL  "
      ]
     },
     "execution_count": 2,
     "metadata": {},
     "output_type": "execute_result"
    }
   ],
   "source": [
    "# One last time, load the ND football roster data set\n",
    "!curl -L https://osf.io/95kys/download --create-dirs -o data-sets/nd-football-2017-roster.csv\n",
    "nd_football_roster = pd.read_csv('data-sets/nd-football-2017-roster.csv')\n",
    "nd_football_roster.head()"
   ]
  },
  {
   "cell_type": "code",
   "execution_count": 3,
   "metadata": {
    "colab": {},
    "colab_type": "code",
    "id": "AFZ4p4VwGFxE"
   },
   "outputs": [],
   "source": [
    "# Create `ndarray` objects for the various columns of the data set\n",
    "player_names = np.array(nd_football_roster['Name'])\n",
    "player_heights = np.array(nd_football_roster['Height'])\n",
    "player_weights = np.array(nd_football_roster['Weight'])\n",
    "player_numbers = np.array(nd_football_roster['Number'])\n",
    "player_positions = np.array(nd_football_roster['Position'])\n",
    "player_class = np.array(nd_football_roster['Class'])\n",
    "player_home_state = np.array(nd_football_roster['Hometown'].str.partition(', ')[2])"
   ]
  },
  {
   "cell_type": "markdown",
   "metadata": {
    "colab_type": "text",
    "id": "S5bp2APEGFxN"
   },
   "source": [
    "## Section 1"
   ]
  },
  {
   "cell_type": "code",
   "execution_count": 4,
   "metadata": {
    "colab": {},
    "colab_type": "code",
    "id": "RNA2tMcQGFxU",
    "nbgrader": {
     "grade": true,
     "grade_id": "S1:P1",
     "locked": true,
     "points": "2",
     "solution": false
    }
   },
   "outputs": [
    {
     "name": "stdout",
     "output_type": "stream",
     "text": [
      "Inches: 80 68 74.0\n",
      "Feet: 6.666666666666667 5.666666666666667 6.166666666666667\n"
     ]
    }
   ],
   "source": [
    "# PROBLEM 1\n",
    "# Complete the following, assign results to variables, and print your results\n",
    "# - Find the tallest, shortest, and median heights on the team.\n",
    "# - Display answers in both feet and inches\n",
    "\n",
    "### BEGIN SOLUTION\n",
    "\n",
    "# If student interpreted instructions as computing the heights in feet-inches (e.g. 5'9), \n",
    "# that is fine. Award full points.\n",
    "\n",
    "tallest_player = np.max(player_heights) \n",
    "shortest_player = np.min(player_heights)\n",
    "median_player = np.median(player_heights)\n",
    "\n",
    "print(\"Inches:\", tallest_player, shortest_player, median_player)\n",
    "\n",
    "tallest_player = np.max(player_heights / 12) \n",
    "shortest_player = np.min(player_heights / 12)\n",
    "median_player = np.median(player_heights / 12)\n",
    "\n",
    "print(\"Feet:\", tallest_player, shortest_player, median_player)\n",
    "\n",
    "### END SOLUTION"
   ]
  },
  {
   "cell_type": "code",
   "execution_count": 5,
   "metadata": {
    "colab": {},
    "colab_type": "code",
    "id": "iDCk1zNPGFxe"
   },
   "outputs": [],
   "source": [
    "# PROBLEM 2\n",
    "# Complete the following, assign results to variables, and print your results\n",
    "# - Use a for loop to obtain the average weight of each class \n",
    "#   (Freshman, Sophomore, etc) of football players"
   ]
  },
  {
   "cell_type": "code",
   "execution_count": 6,
   "metadata": {
    "colab": {},
    "colab_type": "code",
    "id": "T3MAJrYgGFxl",
    "nbgrader": {
     "grade": true,
     "grade_id": "S1:P2",
     "locked": true,
     "points": "2",
     "solution": false
    }
   },
   "outputs": [
    {
     "name": "stdout",
     "output_type": "stream",
     "text": [
      "FR class average weight: 241.33333333333334\n",
      "JR class average weight: 229.51612903225808\n",
      "SO class average weight: 220.0\n",
      "SR class average weight: 263.03846153846155\n"
     ]
    }
   ],
   "source": [
    "### BEGIN SOLUTION\n",
    "\n",
    "# Students will likely use a list instead of `np.unique()`. Accept any approach that gives the correct result.\n",
    "# 0.5 point off if not done in loop.\n",
    "\n",
    "for current_class in np.unique(player_class):\n",
    "    print(\"{} class average weight: {}\".format(\n",
    "        current_class, np.mean(player_weights[player_class == current_class])))\n",
    "### END SOLUTION"
   ]
  },
  {
   "cell_type": "code",
   "execution_count": 7,
   "metadata": {
    "colab": {},
    "colab_type": "code",
    "id": "dZBHC7-zGFxv"
   },
   "outputs": [],
   "source": [
    "# PROBLEM 3\n",
    "# Complete the following, assign results to variables, and print your results\n",
    "# - Determine the standard deviation for player heights for each position on the team\n",
    "#   BUT only include sophomore, junior, and senior students in the calculations"
   ]
  },
  {
   "cell_type": "code",
   "execution_count": 8,
   "metadata": {
    "colab": {},
    "colab_type": "code",
    "id": "Op4KIZnnGFx5",
    "nbgrader": {
     "grade": true,
     "grade_id": "S1:P3",
     "locked": true,
     "points": "2",
     "solution": false
    }
   },
   "outputs": [
    {
     "name": "stdout",
     "output_type": "stream",
     "text": [
      "CB standard height deviation w/o Freshmen: 1.6781914463529615\n",
      "DL standard height deviation w/o Freshmen: 1.2364824660660938\n",
      "LB standard height deviation w/o Freshmen: 1.233150906022776\n",
      "LS standard height deviation w/o Freshmen: 0.0\n",
      "OL standard height deviation w/o Freshmen: 1.7721444263289023\n",
      "P standard height deviation w/o Freshmen: 2.0\n",
      "PK standard height deviation w/o Freshmen: 1.0\n",
      "QB standard height deviation w/o Freshmen: 0.5\n",
      "RB standard height deviation w/o Freshmen: 1.224744871391589\n",
      "S standard height deviation w/o Freshmen: 1.6909686573085854\n",
      "TE standard height deviation w/o Freshmen: 1.3564659966250536\n",
      "WR standard height deviation w/o Freshmen: 3.034320449740926\n"
     ]
    }
   ],
   "source": [
    "### BEGIN SOLUTION\n",
    "# Accept any approach that gives the correct result. Don't penalize if no loop.\n",
    "\n",
    "for position in np.unique(player_positions):\n",
    "    mask = (player_positions == position) & (player_class != 'FR')\n",
    "    print(\"{} standard height deviation w/o Freshmen: {}\".format(\n",
    "        position, np.std(player_heights[mask])))\n",
    "\n",
    "### END SOLUTION"
   ]
  },
  {
   "cell_type": "code",
   "execution_count": 9,
   "metadata": {
    "colab": {},
    "colab_type": "code",
    "id": "duwWoHS0GFyC"
   },
   "outputs": [],
   "source": [
    "# PROBLEM 4\n",
    "# Complete the following, assign results to variables, and print your results\n",
    "# - What are the 25th, 75th, and 90th percentiles for player weight?\n",
    "# - Do the calcuations again, but separate the percentiles so that FR/SO are\n",
    "#   grouped together and JR/SR are grouped together.\n",
    "# - In the end you should print info for \"ALL PLAYERS\", \"FR/SO Players\" and \"JR/SR Players\""
   ]
  },
  {
   "cell_type": "code",
   "execution_count": 10,
   "metadata": {
    "colab": {},
    "colab_type": "code",
    "id": "JdsSwAHAGFyJ",
    "nbgrader": {
     "grade": true,
     "grade_id": "S1:P4",
     "locked": true,
     "points": "2",
     "solution": false
    }
   },
   "outputs": [
    {
     "name": "stdout",
     "output_type": "stream",
     "text": [
      "ALL PLAYERS: [201.25 276.75 308.2 ]\n",
      "FR/SO: [198. 243. 287.]\n",
      "JR/SR: [203.  294.  314.4]\n"
     ]
    }
   ],
   "source": [
    "### BEGIN SOLUTION\n",
    "# Part 1\n",
    "print(\"ALL PLAYERS:\", np.percentile(player_weights, [25, 75, 90]))\n",
    "\n",
    "# Part 2\n",
    "mask = (player_class == 'FR') | (player_class == 'SO')\n",
    "print(\"FR/SO:\", np.percentile(player_weights[mask], [25, 75, 90]))\n",
    "\n",
    "\n",
    "mask = ~mask # Unlikely students will use this technique\n",
    "print(\"JR/SR:\", np.percentile(player_weights[mask], [25, 75, 90]))\n",
    "\n",
    "### END SOLUTION"
   ]
  },
  {
   "cell_type": "code",
   "execution_count": 11,
   "metadata": {
    "colab": {},
    "colab_type": "code",
    "id": "PhZWjWweGFyV"
   },
   "outputs": [],
   "source": [
    "# PROBLEM 5 - OH BOY! Nothing like writing FUNCTIONS!!\n",
    "# - Define a function called `choose_your_percentiles()` that \n",
    "#   accepts a list of arrays and a list of percentiles.\n",
    "# - The function must return a nested list (so one list that has other lists/arrays inside)\n",
    "#   representing the requested percentiles for each array.\n",
    "# - If the np.percentile function generates an exception for a given array, print\n",
    "#   an error message to the user and skip to processing the next array.\n",
    "# - Call your function with various arguments to demonstrate all logical\n",
    "#   pathways through your code."
   ]
  },
  {
   "cell_type": "code",
   "execution_count": 12,
   "metadata": {
    "colab": {},
    "colab_type": "code",
    "id": "REfWvntoGFyd"
   },
   "outputs": [
    {
     "name": "stdout",
     "output_type": "stream",
     "text": [
      "The following array couldn't be processed because it contained non-numeric data:\n",
      " ['JR' 'JR' 'JR' 'SR' 'SR' 'JR' 'SR' 'JR' 'SO' 'JR' 'SO' 'SR' 'SO' 'FR'\n",
      " 'JR' 'FR' 'SO' 'JR' 'JR' 'SO' 'JR' 'SR' 'SO' 'JR' 'FR' 'SR' 'JR' 'SO'\n",
      " 'JR' 'SR' 'SO' 'SO' 'JR' 'SO' 'SR' 'SO' 'JR' 'SO' 'SO' 'JR' 'SO' 'SO'\n",
      " 'JR' 'SO' 'JR' 'JR' 'SO' 'SO' 'SO' 'JR' 'SR' 'JR' 'JR' 'SO' 'SR' 'JR'\n",
      " 'SO' 'SR' 'SR' 'JR' 'JR' 'JR' 'SR' 'SR' 'SR' 'SR' 'FR' 'SR' 'SR' 'FR'\n",
      " 'SO' 'SR' 'JR' 'SO' 'SR' 'JR' 'SR' 'SO' 'SR' 'SO' 'JR' 'SR' 'SO' 'FR'\n",
      " 'SO' 'SR' 'SR' 'JR' 'SR' 'JR']\n"
     ]
    },
    {
     "data": {
      "text/plain": [
       "[array([69.45, 71.  , 77.  ]), array([ 5.45, 15.7 , 86.1 ])]"
      ]
     },
     "execution_count": 12,
     "metadata": {},
     "output_type": "execute_result"
    }
   ],
   "source": [
    "### BEGIN SOLUTION\n",
    "\n",
    "# Question wording wasn't the best. Award full points for ANY approach that spits out a collection of \n",
    "# correct percentiles. \n",
    "# Whether student printed or returned the results doesn't matter.\n",
    "\n",
    "def choose_your_percentiles(list_of_arrays, list_of_percentiles):\n",
    "    data = list()\n",
    "    for array in list_of_arrays:\n",
    "        try:\n",
    "            data.append(np.percentile(array, list_of_percentiles))\n",
    "        except TypeError:\n",
    "            print(\"The following array couldn't be processed because it \"\n",
    "                  \"contained non-numeric data:\\n\", array)\n",
    "        \n",
    "    return data\n",
    "\n",
    "\n",
    "choose_your_percentiles([player_heights, player_class, player_numbers], (5, 15, 90))\n",
    "### END SOLUTION"
   ]
  },
  {
   "cell_type": "markdown",
   "metadata": {
    "colab_type": "text",
    "id": "TDr7jclNGFyw"
   },
   "source": [
    "## Just for Fun\n",
    "Here are a couple of graphs showing the height/weight distributions among the football players. It's a bit of a taste of the cool stuff you'll be doing in the near future!"
   ]
  },
  {
   "cell_type": "code",
   "execution_count": 13,
   "metadata": {
    "colab": {},
    "colab_type": "code",
    "id": "2QSaYAzGWlF4"
   },
   "outputs": [
    {
     "data": {
      "application/javascript": [
       "const spec = {\"config\": {\"view\": {\"width\": 400, \"height\": 300}, \"mark\": {\"tooltip\": null}}, \"data\": {\"name\": \"data-5f3c3438f3864f5558a9ab94328fe760\"}, \"mark\": \"bar\", \"encoding\": {\"color\": {\"type\": \"nominal\", \"field\": \"Class\"}, \"x\": {\"type\": \"quantitative\", \"bin\": true, \"field\": \"Height\"}, \"y\": {\"type\": \"quantitative\", \"aggregate\": \"count\"}}, \"$schema\": \"https://vega.github.io/schema/vega-lite/v3.4.0.json\", \"datasets\": {\"data-5f3c3438f3864f5558a9ab94328fe760\": [{\"Number\": 2, \"Name\": \"Dexter Williams\", \"Position\": \"RB\", \"Height\": 71, \"Weight\": 202, \"Class\": \"JR\", \"Hometown\": \"Winter Garden, FL\"}, {\"Number\": 3, \"Name\": \"C.J. Sanders\", \"Position\": \"WR\", \"Height\": 68, \"Weight\": 185, \"Class\": \"JR\", \"Hometown\": \"Granada Hills, CA\"}, {\"Number\": 4, \"Name\": \"Te'von Coney\", \"Position\": \"LB\", \"Height\": 73, \"Weight\": 235, \"Class\": \"JR\", \"Hometown\": \"Palm Beach Gardens, FL\"}, {\"Number\": 4, \"Name\": \"Montgomery VanGorder\", \"Position\": \"QB\", \"Height\": 73, \"Weight\": 217, \"Class\": \"SR\", \"Hometown\": \"Buford, GA\"}, {\"Number\": 5, \"Name\": \"Nyles Morgan\", \"Position\": \"LB\", \"Height\": 73, \"Weight\": 238, \"Class\": \"SR\", \"Hometown\": \"Crete, IL\"}, {\"Number\": 6, \"Name\": \"Equanimeous St. Brown\", \"Position\": \"WR\", \"Height\": 77, \"Weight\": 204, \"Class\": \"JR\", \"Hometown\": \"Anaheim, CA\"}, {\"Number\": 7, \"Name\": \"Nick Watkins\", \"Position\": \"CB\", \"Height\": 73, \"Weight\": 203, \"Class\": \"SR\", \"Hometown\": \"Desoto, TX\"}, {\"Number\": 7, \"Name\": \"Brandon Wimbush\", \"Position\": \"QB\", \"Height\": 73, \"Weight\": 226, \"Class\": \"JR\", \"Hometown\": \"Teaneck, NJ\"}, {\"Number\": 9, \"Name\": \"Daelin Hayes\", \"Position\": \"DL\", \"Height\": 75, \"Weight\": 255, \"Class\": \"SO\", \"Hometown\": \"Belleville, MI\"}, {\"Number\": 10, \"Name\": \"Chris Finke\", \"Position\": \"WR\", \"Height\": 69, \"Weight\": 177, \"Class\": \"JR\", \"Hometown\": \"Kettering, OH\"}, {\"Number\": 12, \"Name\": \"Ian Book\", \"Position\": \"QB\", \"Height\": 72, \"Weight\": 205, \"Class\": \"SO\", \"Hometown\": \"El Dorado Hills, CA\"}, {\"Number\": 13, \"Name\": \"Tyler Luatua\", \"Position\": \"TE\", \"Height\": 75, \"Weight\": 260, \"Class\": \"SR\", \"Hometown\": \"Paramount, CA\"}, {\"Number\": 14, \"Name\": \"Devin Studstill\", \"Position\": \"S\", \"Height\": 72, \"Weight\": 198, \"Class\": \"SO\", \"Hometown\": \"Riviera Beach, FL\"}, {\"Number\": 15, \"Name\": \"C.J. Holmes\", \"Position\": \"RB\", \"Height\": 72, \"Weight\": 206, \"Class\": \"FR\", \"Hometown\": \"Hamden, CT\"}, {\"Number\": 17, \"Name\": \"Nolan Henry\", \"Position\": \"QB\", \"Height\": 72, \"Weight\": 195, \"Class\": \"JR\", \"Hometown\": \"Vancouver, WA\"}, {\"Number\": 17, \"Name\": \"Isaiah Robertson\", \"Position\": \"S\", \"Height\": 73, \"Weight\": 208, \"Class\": \"FR\", \"Hometown\": \"Bolingbrook, IL\"}, {\"Number\": 18, \"Name\": \"Troy Pride Jr.\", \"Position\": \"CB\", \"Height\": 71, \"Weight\": 183, \"Class\": \"SO\", \"Hometown\": \"Greer, SC\"}, {\"Number\": 19, \"Name\": \"Justin Yoon\", \"Position\": \"PK\", \"Height\": 70, \"Weight\": 195, \"Class\": \"JR\", \"Hometown\": \"Nashville, TN\"}, {\"Number\": 20, \"Name\": \"Shaun Crawford\", \"Position\": \"CB\", \"Height\": 69, \"Weight\": 175, \"Class\": \"JR\", \"Hometown\": \"Lakewood, OH\"}, {\"Number\": 21, \"Name\": \"Jalen Elliott\", \"Position\": \"S\", \"Height\": 73, \"Weight\": 208, \"Class\": \"SO\", \"Hometown\": \"Richmond, VA\"}, {\"Number\": 22, \"Name\": \"Asmar Bilal\", \"Position\": \"LB\", \"Height\": 74, \"Weight\": 229, \"Class\": \"JR\", \"Hometown\": \"Indianapolis, IN\"}, {\"Number\": 23, \"Name\": \"Drue Tranquill\", \"Position\": \"S\", \"Height\": 74, \"Weight\": 230, \"Class\": \"SR\", \"Hometown\": \"Fort Wayne, IN\"}, {\"Number\": 24, \"Name\": \"Mick Assaf\", \"Position\": \"WR\", \"Height\": 71, \"Weight\": 202, \"Class\": \"SO\", \"Hometown\": \"Atlanta, GA\"}, {\"Number\": 24, \"Name\": \"Nick Coleman\", \"Position\": \"S\", \"Height\": 72, \"Weight\": 187, \"Class\": \"JR\", \"Hometown\": \"Dayton, OH\"}, {\"Number\": 25, \"Name\": \"Brandon Garcia\", \"Position\": \"CB\", \"Height\": 69, \"Weight\": 180, \"Class\": \"FR\", \"Hometown\": \"Casa Grande, AZ\"}, {\"Number\": 26, \"Name\": \"Austin Webster\", \"Position\": \"WR\", \"Height\": 71, \"Weight\": 191, \"Class\": \"SR\", \"Hometown\": \"Westchester, CA\"}, {\"Number\": 26, \"Name\": \"Ashton White\", \"Position\": \"S\", \"Height\": 70, \"Weight\": 197, \"Class\": \"JR\", \"Hometown\": \"Washington, DC\"}, {\"Number\": 27, \"Name\": \"Julian Love\", \"Position\": \"CB\", \"Height\": 71, \"Weight\": 190, \"Class\": \"SO\", \"Hometown\": \"Westchester, IL\"}, {\"Number\": 28, \"Name\": \"Nicco Fertitta\", \"Position\": \"S\", \"Height\": 69, \"Weight\": 179, \"Class\": \"JR\", \"Hometown\": \"Las Vegas, NV\"}, {\"Number\": 29, \"Name\": \"Sam Kohler\", \"Position\": \"PK\", \"Height\": 72, \"Weight\": 189, \"Class\": \"SR\", \"Hometown\": \"Lincoln, NE\"}, {\"Number\": 29, \"Name\": \"Kevin Stepherson\", \"Position\": \"WR\", \"Height\": 72, \"Weight\": 180, \"Class\": \"SO\", \"Hometown\": \"Jacksonville, FL\"}, {\"Number\": 32, \"Name\": \"D.J. Morgan\", \"Position\": \"S\", \"Height\": 74, \"Weight\": 208, \"Class\": \"SO\", \"Hometown\": \"Norwalk, CA\"}, {\"Number\": 33, \"Name\": \"Josh Adams\", \"Position\": \"RB\", \"Height\": 74, \"Weight\": 220, \"Class\": \"JR\", \"Hometown\": \"Warrington, PA\"}, {\"Number\": 34, \"Name\": \"Tony Jones Jr.\", \"Position\": \"RB\", \"Height\": 71, \"Weight\": 224, \"Class\": \"SO\", \"Hometown\": \"--\"}, {\"Number\": 35, \"Name\": \"Grant Hammann\", \"Position\": \"WR\", \"Height\": 72, \"Weight\": 183, \"Class\": \"SR\", \"Hometown\": \"Dyersville, IA\"}, {\"Number\": 35, \"Name\": \"Donte Vaughn\", \"Position\": \"CB\", \"Height\": 74, \"Weight\": 209, \"Class\": \"SO\", \"Hometown\": \"Memphis, TN\"}, {\"Number\": 37, \"Name\": \"Robert Regan\", \"Position\": \"LB\", \"Height\": 74, \"Weight\": 203, \"Class\": \"JR\", \"Hometown\": \"Darien, IL\"}, {\"Number\": 38, \"Name\": \"Deon McIntosh\", \"Position\": \"WR\", \"Height\": 70, \"Weight\": 190, \"Class\": \"SO\", \"Hometown\": \"Pompano Beach, FL\"}, {\"Number\": 38, \"Name\": \"Christopher Schilling\", \"Position\": \"S\", \"Height\": 71, \"Weight\": 217, \"Class\": \"SO\", \"Hometown\": \"Overland Park, KS\"}, {\"Number\": 40, \"Name\": \"Kier Murphy\", \"Position\": \"LB\", \"Height\": 73, \"Weight\": 225, \"Class\": \"JR\", \"Hometown\": \"Rock Island, IL\"}, {\"Number\": 40, \"Name\": \"Brett Segobiano\", \"Position\": \"RB\", \"Height\": 72, \"Weight\": 201, \"Class\": \"SO\", \"Hometown\": \"Bloomington, IL\"}, {\"Number\": 41, \"Name\": \"Temitope Agoro\", \"Position\": \"CB\", \"Height\": 73, \"Weight\": 190, \"Class\": \"SO\", \"Hometown\": \"Riverdale, MD\"}, {\"Number\": 41, \"Name\": \"Jimmy Thompson\", \"Position\": \"LB\", \"Height\": 72, \"Weight\": 216, \"Class\": \"JR\", \"Hometown\": \"Hinsdale, IL\"}, {\"Number\": 42, \"Name\": \"Julian Okwara\", \"Position\": \"DL\", \"Height\": 76, \"Weight\": 235, \"Class\": \"SO\", \"Hometown\": \"Charlotte, NC\"}, {\"Number\": 42, \"Name\": \"Jeff Riney\", \"Position\": \"P\", \"Height\": 70, \"Weight\": 180, \"Class\": \"JR\", \"Hometown\": \"Katy, TX\"}, {\"Number\": 43, \"Name\": \"Brian Ball\", \"Position\": \"CB\", \"Height\": 70, \"Weight\": 193, \"Class\": \"JR\", \"Hometown\": \"Indianapolis, IN\"}, {\"Number\": 44, \"Name\": \"Jamir Jones\", \"Position\": \"LB\", \"Height\": 75, \"Weight\": 243, \"Class\": \"SO\", \"Hometown\": \"Rochester, NY\"}, {\"Number\": 45, \"Name\": \"Jonathan Jones\", \"Position\": \"LB\", \"Height\": 71, \"Weight\": 227, \"Class\": \"SO\", \"Hometown\": \"Ocoee, FL\"}, {\"Number\": 46, \"Name\": \"Matt Bushland\", \"Position\": \"LS\", \"Height\": 74, \"Weight\": 190, \"Class\": \"SO\", \"Hometown\": \"Dallas, TX\"}, {\"Number\": 47, \"Name\": \"Chris Bury\", \"Position\": \"TE\", \"Height\": 73, \"Weight\": 242, \"Class\": \"JR\", \"Hometown\": \"Brookline, NH\"}, {\"Number\": 48, \"Name\": \"Greer Martini\", \"Position\": \"LB\", \"Height\": 75, \"Weight\": 240, \"Class\": \"SR\", \"Hometown\": \"Cary, NC\"}, {\"Number\": 49, \"Name\": \"Brandon Hutson\", \"Position\": \"LB\", \"Height\": 75, \"Weight\": 237, \"Class\": \"JR\", \"Hometown\": \"Battle Creek, MI\"}, {\"Number\": 51, \"Name\": \"Devyn Spruell\", \"Position\": \"LB\", \"Height\": 74, \"Weight\": 231, \"Class\": \"JR\", \"Hometown\": \"Warren, NJ\"}, {\"Number\": 53, \"Name\": \"Khalid Kareem\", \"Position\": \"DL\", \"Height\": 76, \"Weight\": 267, \"Class\": \"SO\", \"Hometown\": \"Pontiac, MI\"}, {\"Number\": 53, \"Name\": \"Sam Mustipher\", \"Position\": \"OL\", \"Height\": 74, \"Weight\": 305, \"Class\": \"SR\", \"Hometown\": \"Olney, MD\"}, {\"Number\": 54, \"Name\": \"Lincoln Feist\", \"Position\": \"DL\", \"Height\": 74, \"Weight\": 329, \"Class\": \"JR\", \"Hometown\": \"Rapid City, SD\"}, {\"Number\": 54, \"Name\": \"John Shannon\", \"Position\": \"LS\", \"Height\": 74, \"Weight\": 235, \"Class\": \"SO\", \"Hometown\": \"Lake Forest, IL\"}, {\"Number\": 55, \"Name\": \"Jonathan Bonner\", \"Position\": \"DL\", \"Height\": 75, \"Weight\": 284, \"Class\": \"SR\", \"Hometown\": \"Chesterfield, MO\"}, {\"Number\": 56, \"Name\": \"Quenton Nelson\", \"Position\": \"OL\", \"Height\": 77, \"Weight\": 329, \"Class\": \"SR\", \"Hometown\": \"Holmdel, NJ\"}, {\"Number\": 57, \"Name\": \"Trevor Ruhland\", \"Position\": \"OL\", \"Height\": 75, \"Weight\": 303, \"Class\": \"JR\", \"Hometown\": \"Cary, IL\"}, {\"Number\": 58, \"Name\": \"Elijah Taylor\", \"Position\": \"DL\", \"Height\": 75, \"Weight\": 280, \"Class\": \"JR\", \"Hometown\": \"Cincinnati, OH\"}, {\"Number\": 62, \"Name\": \"Logan Plantz\", \"Position\": \"OL\", \"Height\": 74, \"Weight\": 289, \"Class\": \"JR\", \"Hometown\": \"Frankfort, IL\"}, {\"Number\": 63, \"Name\": \"Sam Bush\", \"Position\": \"OL\", \"Height\": 76, \"Weight\": 302, \"Class\": \"SR\", \"Hometown\": \"Newport Beach, CA\"}, {\"Number\": 64, \"Name\": \"Ryan Kilander\", \"Position\": \"DL\", \"Height\": 73, \"Weight\": 304, \"Class\": \"SR\", \"Hometown\": \"Rancho Santa Margarita, CA\"}, {\"Number\": 67, \"Name\": \"Jimmy Byrne\", \"Position\": \"OL\", \"Height\": 76, \"Weight\": 294, \"Class\": \"SR\", \"Hometown\": \"Cleveland, OH\"}, {\"Number\": 68, \"Name\": \"Mike McGlinchey\", \"Position\": \"OL\", \"Height\": 80, \"Weight\": 312, \"Class\": \"SR\", \"Hometown\": \"Philadelphia, PA\"}, {\"Number\": 69, \"Name\": \"Aaron Banks\", \"Position\": \"OL\", \"Height\": 77, \"Weight\": 310, \"Class\": \"FR\", \"Hometown\": \"Alameda, CA\"}, {\"Number\": 70, \"Name\": \"Hunter Bivin\", \"Position\": \"OL\", \"Height\": 78, \"Weight\": 318, \"Class\": \"SR\", \"Hometown\": \"Owensboro, KY\"}, {\"Number\": 71, \"Name\": \"Alex Bars\", \"Position\": \"OL\", \"Height\": 78, \"Weight\": 320, \"Class\": \"SR\", \"Hometown\": \"Nashville, TN\"}, {\"Number\": 72, \"Name\": \"Robert Hainsey\", \"Position\": \"OL\", \"Height\": 76, \"Weight\": 292, \"Class\": \"FR\", \"Hometown\": \"Pittsburgh, PA\"}, {\"Number\": 74, \"Name\": \"Liam Eichenberg\", \"Position\": \"OL\", \"Height\": 78, \"Weight\": 294, \"Class\": \"SO\", \"Hometown\": \"Cleveland, OH\"}, {\"Number\": 75, \"Name\": \"Daniel Cage\", \"Position\": \"DL\", \"Height\": 73, \"Weight\": 329, \"Class\": \"SR\", \"Hometown\": \"Cincinnati, OH\"}, {\"Number\": 77, \"Name\": \"Brandon Tiassum\", \"Position\": \"DL\", \"Height\": 76, \"Weight\": 304, \"Class\": \"JR\", \"Hometown\": \"Indianapolis, IN\"}, {\"Number\": 78, \"Name\": \"Tommy Kraemer\", \"Position\": \"OL\", \"Height\": 77, \"Weight\": 313, \"Class\": \"SO\", \"Hometown\": \"Cincinnati, OH\"}, {\"Number\": 80, \"Name\": \"Durham Smythe\", \"Position\": \"TE\", \"Height\": 77, \"Weight\": 256, \"Class\": \"SR\", \"Hometown\": \"Belton, TX\"}, {\"Number\": 81, \"Name\": \"Miles Boykin\", \"Position\": \"WR\", \"Height\": 76, \"Weight\": 225, \"Class\": \"JR\", \"Hometown\": \"Tinley Park, IL\"}, {\"Number\": 82, \"Name\": \"Nic Weishar\", \"Position\": \"TE\", \"Height\": 76, \"Weight\": 242, \"Class\": \"SR\", \"Hometown\": \"Midlothian, IL\"}, {\"Number\": 83, \"Name\": \"Chase Claypool\", \"Position\": \"WR\", \"Height\": 76, \"Weight\": 224, \"Class\": \"SO\", \"Hometown\": \"Abbotsford, BC\"}, {\"Number\": 85, \"Name\": \"Tyler Newsome\", \"Position\": \"P\", \"Height\": 74, \"Weight\": 207, \"Class\": \"SR\", \"Hometown\": \"Carrollton, GA\"}, {\"Number\": 85, \"Name\": \"Arion Shinaver\", \"Position\": \"WR\", \"Height\": 73, \"Weight\": 181, \"Class\": \"SO\", \"Hometown\": \"Carmel, IN\"}, {\"Number\": 86, \"Name\": \"Alize Mack\", \"Position\": \"TE\", \"Height\": 76, \"Weight\": 245, \"Class\": \"JR\", \"Hometown\": \"Las Vegas, NV\"}, {\"Number\": 87, \"Name\": \"Keenan Centlivre\", \"Position\": \"WR\", \"Height\": 78, \"Weight\": 227, \"Class\": \"SR\", \"Hometown\": \"Fort Wayne, IN\"}, {\"Number\": 88, \"Name\": \"Javon McKinley\", \"Position\": \"WR\", \"Height\": 74, \"Weight\": 220, \"Class\": \"SO\", \"Hometown\": \"Corona, CA\"}, {\"Number\": 89, \"Name\": \"Brock Wright\", \"Position\": \"TE\", \"Height\": 76, \"Weight\": 252, \"Class\": \"FR\", \"Hometown\": \"Cypress, TX\"}, {\"Number\": 91, \"Name\": \"Adetokunbo Ogundeji\", \"Position\": \"DL\", \"Height\": 76, \"Weight\": 251, \"Class\": \"SO\", \"Hometown\": \"West Bloomfield, MI\"}, {\"Number\": 93, \"Name\": \"Jay Hayes\", \"Position\": \"DL\", \"Height\": 75, \"Weight\": 281, \"Class\": \"SR\", \"Hometown\": \"Brooklyn, NY\"}, {\"Number\": 96, \"Name\": \"Pete Mokwuah\", \"Position\": \"DL\", \"Height\": 75, \"Weight\": 326, \"Class\": \"SR\", \"Hometown\": \"Staten Island, NY\"}, {\"Number\": 97, \"Name\": \"Micah Dew-Treadway\", \"Position\": \"DL\", \"Height\": 76, \"Weight\": 299, \"Class\": \"JR\", \"Hometown\": \"Bolingbrook, IL\"}, {\"Number\": 98, \"Name\": \"Andrew Trumbetti\", \"Position\": \"DL\", \"Height\": 76, \"Weight\": 252, \"Class\": \"SR\", \"Hometown\": \"Demarest, NJ\"}, {\"Number\": 99, \"Name\": \"Jerry Tillery\", \"Position\": \"DL\", \"Height\": 78, \"Weight\": 308, \"Class\": \"JR\", \"Hometown\": \"Shreveport, LA\"}]}};\n",
       "const opt = {};\n",
       "const type = \"vega-lite\";\n",
       "const id = \"d6cf9f81-eed2-49d7-902f-b7db32476d15\";\n",
       "\n",
       "const output_area = this;\n",
       "\n",
       "require([\"nbextensions/jupyter-vega/index\"], function(vega) {\n",
       "  const target = document.createElement(\"div\");\n",
       "  target.id = id;\n",
       "  target.className = \"vega-embed\";\n",
       "\n",
       "  const style = document.createElement(\"style\");\n",
       "  style.textContent = [\n",
       "    \".vega-embed .error p {\",\n",
       "    \"  color: firebrick;\",\n",
       "    \"  font-size: 14px;\",\n",
       "    \"}\",\n",
       "  ].join(\"\\\\n\");\n",
       "\n",
       "  // element is a jQuery wrapped DOM element inside the output area\n",
       "  // see http://ipython.readthedocs.io/en/stable/api/generated/\\\n",
       "  // IPython.display.html#IPython.display.Javascript.__init__\n",
       "  element[0].appendChild(target);\n",
       "  element[0].appendChild(style);\n",
       "\n",
       "  vega.render(\"#\" + id, spec, type, opt, output_area);\n",
       "}, function (err) {\n",
       "  if (err.requireType !== \"scripterror\") {\n",
       "    throw(err);\n",
       "  }\n",
       "});\n"
      ],
      "text/plain": [
       "<vega.vegalite.VegaLite at 0x7fe0e0a1aba8>"
      ]
     },
     "metadata": {
      "jupyter-vega": "#d6cf9f81-eed2-49d7-902f-b7db32476d15"
     },
     "output_type": "display_data"
    },
    {
     "data": {
      "text/plain": []
     },
     "execution_count": 13,
     "metadata": {},
     "output_type": "execute_result"
    },
    {
     "data": {
      "image/png": "[encoded data removed]"
     },
     "metadata": {
      "jupyter-vega": "#d6cf9f81-eed2-49d7-902f-b7db32476d15"
     },
     "output_type": "display_data"
    }
   ],
   "source": [
    "alt.Chart(nd_football_roster).mark_bar().encode(\n",
    "    color=alt.Color('Class'),\n",
    "    x=alt.X('Height', bin=True),\n",
    "    y='count()')"
   ]
  },
  {
   "cell_type": "code",
   "execution_count": 14,
   "metadata": {
    "colab": {},
    "colab_type": "code",
    "id": "UDy0Ku57XvoR"
   },
   "outputs": [
    {
     "data": {
      "application/javascript": [
       "const spec = {\"config\": {\"view\": {\"width\": 400, \"height\": 300}, \"mark\": {\"tooltip\": null}}, \"data\": {\"name\": \"data-5f3c3438f3864f5558a9ab94328fe760\"}, \"mark\": \"bar\", \"encoding\": {\"color\": {\"type\": \"nominal\", \"field\": \"Class\"}, \"x\": {\"type\": \"quantitative\", \"bin\": true, \"field\": \"Weight\"}, \"y\": {\"type\": \"quantitative\", \"aggregate\": \"count\"}}, \"$schema\": \"https://vega.github.io/schema/vega-lite/v3.4.0.json\", \"datasets\": {\"data-5f3c3438f3864f5558a9ab94328fe760\": [{\"Number\": 2, \"Name\": \"Dexter Williams\", \"Position\": \"RB\", \"Height\": 71, \"Weight\": 202, \"Class\": \"JR\", \"Hometown\": \"Winter Garden, FL\"}, {\"Number\": 3, \"Name\": \"C.J. Sanders\", \"Position\": \"WR\", \"Height\": 68, \"Weight\": 185, \"Class\": \"JR\", \"Hometown\": \"Granada Hills, CA\"}, {\"Number\": 4, \"Name\": \"Te'von Coney\", \"Position\": \"LB\", \"Height\": 73, \"Weight\": 235, \"Class\": \"JR\", \"Hometown\": \"Palm Beach Gardens, FL\"}, {\"Number\": 4, \"Name\": \"Montgomery VanGorder\", \"Position\": \"QB\", \"Height\": 73, \"Weight\": 217, \"Class\": \"SR\", \"Hometown\": \"Buford, GA\"}, {\"Number\": 5, \"Name\": \"Nyles Morgan\", \"Position\": \"LB\", \"Height\": 73, \"Weight\": 238, \"Class\": \"SR\", \"Hometown\": \"Crete, IL\"}, {\"Number\": 6, \"Name\": \"Equanimeous St. Brown\", \"Position\": \"WR\", \"Height\": 77, \"Weight\": 204, \"Class\": \"JR\", \"Hometown\": \"Anaheim, CA\"}, {\"Number\": 7, \"Name\": \"Nick Watkins\", \"Position\": \"CB\", \"Height\": 73, \"Weight\": 203, \"Class\": \"SR\", \"Hometown\": \"Desoto, TX\"}, {\"Number\": 7, \"Name\": \"Brandon Wimbush\", \"Position\": \"QB\", \"Height\": 73, \"Weight\": 226, \"Class\": \"JR\", \"Hometown\": \"Teaneck, NJ\"}, {\"Number\": 9, \"Name\": \"Daelin Hayes\", \"Position\": \"DL\", \"Height\": 75, \"Weight\": 255, \"Class\": \"SO\", \"Hometown\": \"Belleville, MI\"}, {\"Number\": 10, \"Name\": \"Chris Finke\", \"Position\": \"WR\", \"Height\": 69, \"Weight\": 177, \"Class\": \"JR\", \"Hometown\": \"Kettering, OH\"}, {\"Number\": 12, \"Name\": \"Ian Book\", \"Position\": \"QB\", \"Height\": 72, \"Weight\": 205, \"Class\": \"SO\", \"Hometown\": \"El Dorado Hills, CA\"}, {\"Number\": 13, \"Name\": \"Tyler Luatua\", \"Position\": \"TE\", \"Height\": 75, \"Weight\": 260, \"Class\": \"SR\", \"Hometown\": \"Paramount, CA\"}, {\"Number\": 14, \"Name\": \"Devin Studstill\", \"Position\": \"S\", \"Height\": 72, \"Weight\": 198, \"Class\": \"SO\", \"Hometown\": \"Riviera Beach, FL\"}, {\"Number\": 15, \"Name\": \"C.J. Holmes\", \"Position\": \"RB\", \"Height\": 72, \"Weight\": 206, \"Class\": \"FR\", \"Hometown\": \"Hamden, CT\"}, {\"Number\": 17, \"Name\": \"Nolan Henry\", \"Position\": \"QB\", \"Height\": 72, \"Weight\": 195, \"Class\": \"JR\", \"Hometown\": \"Vancouver, WA\"}, {\"Number\": 17, \"Name\": \"Isaiah Robertson\", \"Position\": \"S\", \"Height\": 73, \"Weight\": 208, \"Class\": \"FR\", \"Hometown\": \"Bolingbrook, IL\"}, {\"Number\": 18, \"Name\": \"Troy Pride Jr.\", \"Position\": \"CB\", \"Height\": 71, \"Weight\": 183, \"Class\": \"SO\", \"Hometown\": \"Greer, SC\"}, {\"Number\": 19, \"Name\": \"Justin Yoon\", \"Position\": \"PK\", \"Height\": 70, \"Weight\": 195, \"Class\": \"JR\", \"Hometown\": \"Nashville, TN\"}, {\"Number\": 20, \"Name\": \"Shaun Crawford\", \"Position\": \"CB\", \"Height\": 69, \"Weight\": 175, \"Class\": \"JR\", \"Hometown\": \"Lakewood, OH\"}, {\"Number\": 21, \"Name\": \"Jalen Elliott\", \"Position\": \"S\", \"Height\": 73, \"Weight\": 208, \"Class\": \"SO\", \"Hometown\": \"Richmond, VA\"}, {\"Number\": 22, \"Name\": \"Asmar Bilal\", \"Position\": \"LB\", \"Height\": 74, \"Weight\": 229, \"Class\": \"JR\", \"Hometown\": \"Indianapolis, IN\"}, {\"Number\": 23, \"Name\": \"Drue Tranquill\", \"Position\": \"S\", \"Height\": 74, \"Weight\": 230, \"Class\": \"SR\", \"Hometown\": \"Fort Wayne, IN\"}, {\"Number\": 24, \"Name\": \"Mick Assaf\", \"Position\": \"WR\", \"Height\": 71, \"Weight\": 202, \"Class\": \"SO\", \"Hometown\": \"Atlanta, GA\"}, {\"Number\": 24, \"Name\": \"Nick Coleman\", \"Position\": \"S\", \"Height\": 72, \"Weight\": 187, \"Class\": \"JR\", \"Hometown\": \"Dayton, OH\"}, {\"Number\": 25, \"Name\": \"Brandon Garcia\", \"Position\": \"CB\", \"Height\": 69, \"Weight\": 180, \"Class\": \"FR\", \"Hometown\": \"Casa Grande, AZ\"}, {\"Number\": 26, \"Name\": \"Austin Webster\", \"Position\": \"WR\", \"Height\": 71, \"Weight\": 191, \"Class\": \"SR\", \"Hometown\": \"Westchester, CA\"}, {\"Number\": 26, \"Name\": \"Ashton White\", \"Position\": \"S\", \"Height\": 70, \"Weight\": 197, \"Class\": \"JR\", \"Hometown\": \"Washington, DC\"}, {\"Number\": 27, \"Name\": \"Julian Love\", \"Position\": \"CB\", \"Height\": 71, \"Weight\": 190, \"Class\": \"SO\", \"Hometown\": \"Westchester, IL\"}, {\"Number\": 28, \"Name\": \"Nicco Fertitta\", \"Position\": \"S\", \"Height\": 69, \"Weight\": 179, \"Class\": \"JR\", \"Hometown\": \"Las Vegas, NV\"}, {\"Number\": 29, \"Name\": \"Sam Kohler\", \"Position\": \"PK\", \"Height\": 72, \"Weight\": 189, \"Class\": \"SR\", \"Hometown\": \"Lincoln, NE\"}, {\"Number\": 29, \"Name\": \"Kevin Stepherson\", \"Position\": \"WR\", \"Height\": 72, \"Weight\": 180, \"Class\": \"SO\", \"Hometown\": \"Jacksonville, FL\"}, {\"Number\": 32, \"Name\": \"D.J. Morgan\", \"Position\": \"S\", \"Height\": 74, \"Weight\": 208, \"Class\": \"SO\", \"Hometown\": \"Norwalk, CA\"}, {\"Number\": 33, \"Name\": \"Josh Adams\", \"Position\": \"RB\", \"Height\": 74, \"Weight\": 220, \"Class\": \"JR\", \"Hometown\": \"Warrington, PA\"}, {\"Number\": 34, \"Name\": \"Tony Jones Jr.\", \"Position\": \"RB\", \"Height\": 71, \"Weight\": 224, \"Class\": \"SO\", \"Hometown\": \"--\"}, {\"Number\": 35, \"Name\": \"Grant Hammann\", \"Position\": \"WR\", \"Height\": 72, \"Weight\": 183, \"Class\": \"SR\", \"Hometown\": \"Dyersville, IA\"}, {\"Number\": 35, \"Name\": \"Donte Vaughn\", \"Position\": \"CB\", \"Height\": 74, \"Weight\": 209, \"Class\": \"SO\", \"Hometown\": \"Memphis, TN\"}, {\"Number\": 37, \"Name\": \"Robert Regan\", \"Position\": \"LB\", \"Height\": 74, \"Weight\": 203, \"Class\": \"JR\", \"Hometown\": \"Darien, IL\"}, {\"Number\": 38, \"Name\": \"Deon McIntosh\", \"Position\": \"WR\", \"Height\": 70, \"Weight\": 190, \"Class\": \"SO\", \"Hometown\": \"Pompano Beach, FL\"}, {\"Number\": 38, \"Name\": \"Christopher Schilling\", \"Position\": \"S\", \"Height\": 71, \"Weight\": 217, \"Class\": \"SO\", \"Hometown\": \"Overland Park, KS\"}, {\"Number\": 40, \"Name\": \"Kier Murphy\", \"Position\": \"LB\", \"Height\": 73, \"Weight\": 225, \"Class\": \"JR\", \"Hometown\": \"Rock Island, IL\"}, {\"Number\": 40, \"Name\": \"Brett Segobiano\", \"Position\": \"RB\", \"Height\": 72, \"Weight\": 201, \"Class\": \"SO\", \"Hometown\": \"Bloomington, IL\"}, {\"Number\": 41, \"Name\": \"Temitope Agoro\", \"Position\": \"CB\", \"Height\": 73, \"Weight\": 190, \"Class\": \"SO\", \"Hometown\": \"Riverdale, MD\"}, {\"Number\": 41, \"Name\": \"Jimmy Thompson\", \"Position\": \"LB\", \"Height\": 72, \"Weight\": 216, \"Class\": \"JR\", \"Hometown\": \"Hinsdale, IL\"}, {\"Number\": 42, \"Name\": \"Julian Okwara\", \"Position\": \"DL\", \"Height\": 76, \"Weight\": 235, \"Class\": \"SO\", \"Hometown\": \"Charlotte, NC\"}, {\"Number\": 42, \"Name\": \"Jeff Riney\", \"Position\": \"P\", \"Height\": 70, \"Weight\": 180, \"Class\": \"JR\", \"Hometown\": \"Katy, TX\"}, {\"Number\": 43, \"Name\": \"Brian Ball\", \"Position\": \"CB\", \"Height\": 70, \"Weight\": 193, \"Class\": \"JR\", \"Hometown\": \"Indianapolis, IN\"}, {\"Number\": 44, \"Name\": \"Jamir Jones\", \"Position\": \"LB\", \"Height\": 75, \"Weight\": 243, \"Class\": \"SO\", \"Hometown\": \"Rochester, NY\"}, {\"Number\": 45, \"Name\": \"Jonathan Jones\", \"Position\": \"LB\", \"Height\": 71, \"Weight\": 227, \"Class\": \"SO\", \"Hometown\": \"Ocoee, FL\"}, {\"Number\": 46, \"Name\": \"Matt Bushland\", \"Position\": \"LS\", \"Height\": 74, \"Weight\": 190, \"Class\": \"SO\", \"Hometown\": \"Dallas, TX\"}, {\"Number\": 47, \"Name\": \"Chris Bury\", \"Position\": \"TE\", \"Height\": 73, \"Weight\": 242, \"Class\": \"JR\", \"Hometown\": \"Brookline, NH\"}, {\"Number\": 48, \"Name\": \"Greer Martini\", \"Position\": \"LB\", \"Height\": 75, \"Weight\": 240, \"Class\": \"SR\", \"Hometown\": \"Cary, NC\"}, {\"Number\": 49, \"Name\": \"Brandon Hutson\", \"Position\": \"LB\", \"Height\": 75, \"Weight\": 237, \"Class\": \"JR\", \"Hometown\": \"Battle Creek, MI\"}, {\"Number\": 51, \"Name\": \"Devyn Spruell\", \"Position\": \"LB\", \"Height\": 74, \"Weight\": 231, \"Class\": \"JR\", \"Hometown\": \"Warren, NJ\"}, {\"Number\": 53, \"Name\": \"Khalid Kareem\", \"Position\": \"DL\", \"Height\": 76, \"Weight\": 267, \"Class\": \"SO\", \"Hometown\": \"Pontiac, MI\"}, {\"Number\": 53, \"Name\": \"Sam Mustipher\", \"Position\": \"OL\", \"Height\": 74, \"Weight\": 305, \"Class\": \"SR\", \"Hometown\": \"Olney, MD\"}, {\"Number\": 54, \"Name\": \"Lincoln Feist\", \"Position\": \"DL\", \"Height\": 74, \"Weight\": 329, \"Class\": \"JR\", \"Hometown\": \"Rapid City, SD\"}, {\"Number\": 54, \"Name\": \"John Shannon\", \"Position\": \"LS\", \"Height\": 74, \"Weight\": 235, \"Class\": \"SO\", \"Hometown\": \"Lake Forest, IL\"}, {\"Number\": 55, \"Name\": \"Jonathan Bonner\", \"Position\": \"DL\", \"Height\": 75, \"Weight\": 284, \"Class\": \"SR\", \"Hometown\": \"Chesterfield, MO\"}, {\"Number\": 56, \"Name\": \"Quenton Nelson\", \"Position\": \"OL\", \"Height\": 77, \"Weight\": 329, \"Class\": \"SR\", \"Hometown\": \"Holmdel, NJ\"}, {\"Number\": 57, \"Name\": \"Trevor Ruhland\", \"Position\": \"OL\", \"Height\": 75, \"Weight\": 303, \"Class\": \"JR\", \"Hometown\": \"Cary, IL\"}, {\"Number\": 58, \"Name\": \"Elijah Taylor\", \"Position\": \"DL\", \"Height\": 75, \"Weight\": 280, \"Class\": \"JR\", \"Hometown\": \"Cincinnati, OH\"}, {\"Number\": 62, \"Name\": \"Logan Plantz\", \"Position\": \"OL\", \"Height\": 74, \"Weight\": 289, \"Class\": \"JR\", \"Hometown\": \"Frankfort, IL\"}, {\"Number\": 63, \"Name\": \"Sam Bush\", \"Position\": \"OL\", \"Height\": 76, \"Weight\": 302, \"Class\": \"SR\", \"Hometown\": \"Newport Beach, CA\"}, {\"Number\": 64, \"Name\": \"Ryan Kilander\", \"Position\": \"DL\", \"Height\": 73, \"Weight\": 304, \"Class\": \"SR\", \"Hometown\": \"Rancho Santa Margarita, CA\"}, {\"Number\": 67, \"Name\": \"Jimmy Byrne\", \"Position\": \"OL\", \"Height\": 76, \"Weight\": 294, \"Class\": \"SR\", \"Hometown\": \"Cleveland, OH\"}, {\"Number\": 68, \"Name\": \"Mike McGlinchey\", \"Position\": \"OL\", \"Height\": 80, \"Weight\": 312, \"Class\": \"SR\", \"Hometown\": \"Philadelphia, PA\"}, {\"Number\": 69, \"Name\": \"Aaron Banks\", \"Position\": \"OL\", \"Height\": 77, \"Weight\": 310, \"Class\": \"FR\", \"Hometown\": \"Alameda, CA\"}, {\"Number\": 70, \"Name\": \"Hunter Bivin\", \"Position\": \"OL\", \"Height\": 78, \"Weight\": 318, \"Class\": \"SR\", \"Hometown\": \"Owensboro, KY\"}, {\"Number\": 71, \"Name\": \"Alex Bars\", \"Position\": \"OL\", \"Height\": 78, \"Weight\": 320, \"Class\": \"SR\", \"Hometown\": \"Nashville, TN\"}, {\"Number\": 72, \"Name\": \"Robert Hainsey\", \"Position\": \"OL\", \"Height\": 76, \"Weight\": 292, \"Class\": \"FR\", \"Hometown\": \"Pittsburgh, PA\"}, {\"Number\": 74, \"Name\": \"Liam Eichenberg\", \"Position\": \"OL\", \"Height\": 78, \"Weight\": 294, \"Class\": \"SO\", \"Hometown\": \"Cleveland, OH\"}, {\"Number\": 75, \"Name\": \"Daniel Cage\", \"Position\": \"DL\", \"Height\": 73, \"Weight\": 329, \"Class\": \"SR\", \"Hometown\": \"Cincinnati, OH\"}, {\"Number\": 77, \"Name\": \"Brandon Tiassum\", \"Position\": \"DL\", \"Height\": 76, \"Weight\": 304, \"Class\": \"JR\", \"Hometown\": \"Indianapolis, IN\"}, {\"Number\": 78, \"Name\": \"Tommy Kraemer\", \"Position\": \"OL\", \"Height\": 77, \"Weight\": 313, \"Class\": \"SO\", \"Hometown\": \"Cincinnati, OH\"}, {\"Number\": 80, \"Name\": \"Durham Smythe\", \"Position\": \"TE\", \"Height\": 77, \"Weight\": 256, \"Class\": \"SR\", \"Hometown\": \"Belton, TX\"}, {\"Number\": 81, \"Name\": \"Miles Boykin\", \"Position\": \"WR\", \"Height\": 76, \"Weight\": 225, \"Class\": \"JR\", \"Hometown\": \"Tinley Park, IL\"}, {\"Number\": 82, \"Name\": \"Nic Weishar\", \"Position\": \"TE\", \"Height\": 76, \"Weight\": 242, \"Class\": \"SR\", \"Hometown\": \"Midlothian, IL\"}, {\"Number\": 83, \"Name\": \"Chase Claypool\", \"Position\": \"WR\", \"Height\": 76, \"Weight\": 224, \"Class\": \"SO\", \"Hometown\": \"Abbotsford, BC\"}, {\"Number\": 85, \"Name\": \"Tyler Newsome\", \"Position\": \"P\", \"Height\": 74, \"Weight\": 207, \"Class\": \"SR\", \"Hometown\": \"Carrollton, GA\"}, {\"Number\": 85, \"Name\": \"Arion Shinaver\", \"Position\": \"WR\", \"Height\": 73, \"Weight\": 181, \"Class\": \"SO\", \"Hometown\": \"Carmel, IN\"}, {\"Number\": 86, \"Name\": \"Alize Mack\", \"Position\": \"TE\", \"Height\": 76, \"Weight\": 245, \"Class\": \"JR\", \"Hometown\": \"Las Vegas, NV\"}, {\"Number\": 87, \"Name\": \"Keenan Centlivre\", \"Position\": \"WR\", \"Height\": 78, \"Weight\": 227, \"Class\": \"SR\", \"Hometown\": \"Fort Wayne, IN\"}, {\"Number\": 88, \"Name\": \"Javon McKinley\", \"Position\": \"WR\", \"Height\": 74, \"Weight\": 220, \"Class\": \"SO\", \"Hometown\": \"Corona, CA\"}, {\"Number\": 89, \"Name\": \"Brock Wright\", \"Position\": \"TE\", \"Height\": 76, \"Weight\": 252, \"Class\": \"FR\", \"Hometown\": \"Cypress, TX\"}, {\"Number\": 91, \"Name\": \"Adetokunbo Ogundeji\", \"Position\": \"DL\", \"Height\": 76, \"Weight\": 251, \"Class\": \"SO\", \"Hometown\": \"West Bloomfield, MI\"}, {\"Number\": 93, \"Name\": \"Jay Hayes\", \"Position\": \"DL\", \"Height\": 75, \"Weight\": 281, \"Class\": \"SR\", \"Hometown\": \"Brooklyn, NY\"}, {\"Number\": 96, \"Name\": \"Pete Mokwuah\", \"Position\": \"DL\", \"Height\": 75, \"Weight\": 326, \"Class\": \"SR\", \"Hometown\": \"Staten Island, NY\"}, {\"Number\": 97, \"Name\": \"Micah Dew-Treadway\", \"Position\": \"DL\", \"Height\": 76, \"Weight\": 299, \"Class\": \"JR\", \"Hometown\": \"Bolingbrook, IL\"}, {\"Number\": 98, \"Name\": \"Andrew Trumbetti\", \"Position\": \"DL\", \"Height\": 76, \"Weight\": 252, \"Class\": \"SR\", \"Hometown\": \"Demarest, NJ\"}, {\"Number\": 99, \"Name\": \"Jerry Tillery\", \"Position\": \"DL\", \"Height\": 78, \"Weight\": 308, \"Class\": \"JR\", \"Hometown\": \"Shreveport, LA\"}]}};\n",
       "const opt = {};\n",
       "const type = \"vega-lite\";\n",
       "const id = \"c01ef306-f957-4037-9b89-822d51192ea4\";\n",
       "\n",
       "const output_area = this;\n",
       "\n",
       "require([\"nbextensions/jupyter-vega/index\"], function(vega) {\n",
       "  const target = document.createElement(\"div\");\n",
       "  target.id = id;\n",
       "  target.className = \"vega-embed\";\n",
       "\n",
       "  const style = document.createElement(\"style\");\n",
       "  style.textContent = [\n",
       "    \".vega-embed .error p {\",\n",
       "    \"  color: firebrick;\",\n",
       "    \"  font-size: 14px;\",\n",
       "    \"}\",\n",
       "  ].join(\"\\\\n\");\n",
       "\n",
       "  // element is a jQuery wrapped DOM element inside the output area\n",
       "  // see http://ipython.readthedocs.io/en/stable/api/generated/\\\n",
       "  // IPython.display.html#IPython.display.Javascript.__init__\n",
       "  element[0].appendChild(target);\n",
       "  element[0].appendChild(style);\n",
       "\n",
       "  vega.render(\"#\" + id, spec, type, opt, output_area);\n",
       "}, function (err) {\n",
       "  if (err.requireType !== \"scripterror\") {\n",
       "    throw(err);\n",
       "  }\n",
       "});\n"
      ],
      "text/plain": [
       "<vega.vegalite.VegaLite at 0x7fe100f537b8>"
      ]
     },
     "metadata": {
      "jupyter-vega": "#c01ef306-f957-4037-9b89-822d51192ea4"
     },
     "output_type": "display_data"
    },
    {
     "data": {
      "text/plain": []
     },
     "execution_count": 14,
     "metadata": {},
     "output_type": "execute_result"
    },
    {
     "data": {
      "image/png": "[encoded data removed]"
     },
     "metadata": {
      "jupyter-vega": "#c01ef306-f957-4037-9b89-822d51192ea4"
     },
     "output_type": "display_data"
    }
   ],
   "source": [
    "alt.Chart(nd_football_roster).mark_bar().encode(\n",
    "    color=alt.Color('Class'),\n",
    "    x=alt.X('Weight', bin=True),\n",
    "    y='count()')"
   ]
  },
  {
   "cell_type": "code",
   "execution_count": null,
   "metadata": {},
   "outputs": [],
   "source": []
  }
 ],
 "metadata": {
  "colab": {
   "collapsed_sections": [],
   "name": "A2.6 - NumPy Aggregation Functions.ipynb",
   "provenance": [],
   "version": "0.3.2"
  },
  "kernelspec": {
   "display_name": "Python 3",
   "language": "python",
   "name": "python3"
  },
  "language_info": {
   "codemirror_mode": {
    "name": "ipython",
    "version": 3
   },
   "file_extension": ".py",
   "mimetype": "text/x-python",
   "name": "python",
   "nbconvert_exporter": "python",
   "pygments_lexer": "ipython3",
   "version": "3.7.3"
  }
 },
 "nbformat": 4,
 "nbformat_minor": 1
}
