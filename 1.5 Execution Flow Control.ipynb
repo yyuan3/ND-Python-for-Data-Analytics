{
 "cells": [
  {
   "cell_type": "markdown",
   "metadata": {
    "colab_type": "text",
    "id": "EJ8nx9yF5mc7"
   },
   "source": [
    "# Tutorial 1.5: Execution Flow Control\n",
    "Python for Data Analytics\n",
    "Module 1"
   ]
  },
  {
   "cell_type": "markdown",
   "metadata": {
    "colab_type": "text",
    "id": "DXfc6YUw5mc7"
   },
   "source": [
    "In a program the order in which operations take place is called *execution flow* or *control flow*. In this tutorial we are going to take a look at a handful of statements that can manipulate this flow - giving you the ability to define multiple execution pathways through your program."
   ]
  },
  {
   "cell_type": "markdown",
   "metadata": {
    "colab_type": "text",
    "id": "RNp9GmYY5mc9"
   },
   "source": [
    "## `if` Statement\n",
    "The *`if`* statement creates an digital \"fork in the road\" of your program. Use it when you want to control whether or not a certain piece of code will run depending on an testable condition."
   ]
  },
  {
   "cell_type": "code",
   "execution_count": 0,
   "metadata": {
    "colab": {},
    "colab_type": "code",
    "id": "H96LH-X_5mc9"
   },
   "outputs": [],
   "source": [
    "# Here are two `if` statements.\n",
    "# The top `if` will evaluate to True and \n",
    "# its nested code block will be executed.\n",
    "if 5 > 4:\n",
    "    print(\"Yes, five is greater than four.\")\n",
    "    \n",
    "\n",
    "# This `if` statement will evaluate to False, so the nested\n",
    "# code block will not execute\n",
    "if 4 > 5:\n",
    "    print(\"I won't get printed.\")"
   ]
  },
  {
   "cell_type": "markdown",
   "metadata": {
    "colab_type": "text",
    "id": "r1Zy64lr5mdB"
   },
   "source": [
    "**There are a couple of important things to note here:**\n",
    "* The end of the if statement must have a colon. This designates the start of the nested code block that belongs to the if clause.\n",
    "* Everything that you want in the nested code block must be indented 4 spaces or a single tab (often times IDEs will convert a single tab to four spaces for you).  This is how Python knows that it belongs to the nested block."
   ]
  },
  {
   "cell_type": "markdown",
   "metadata": {
    "colab_type": "text",
    "id": "w6p-UMbZ5mdC"
   },
   "source": [
    "There are two other clauses that can be added to an `if` statement: `elif` and `else`."
   ]
  },
  {
   "cell_type": "code",
   "execution_count": 0,
   "metadata": {
    "colab": {},
    "colab_type": "code",
    "id": "YAnw4FyH5mdD"
   },
   "outputs": [],
   "source": [
    "# Use `elif` clause(s) after an initial `if` clause to \n",
    "# test for multiple conditions.\n",
    "favorite_color = 'purple'\n",
    "\n",
    "if favorite_color == 'blue':\n",
    "    print('Blueberries are blue')\n",
    "elif favorite_color == 'purple':\n",
    "    print('Eggplant is purple... I think.')"
   ]
  },
  {
   "cell_type": "code",
   "execution_count": 0,
   "metadata": {
    "colab": {},
    "colab_type": "code",
    "id": "IyOyCdZo5mdF"
   },
   "outputs": [],
   "source": [
    "# You can have as many `elif` clauses as you want\n",
    "favorite_color = 'red'\n",
    "\n",
    "if favorite_color == 'blue':\n",
    "    print('Blueberries are blue.')\n",
    "elif favorite_color == 'purple':\n",
    "    print('Eggplant is purple... I think.')\n",
    "elif favorite_color == 'red':\n",
    "    print('Strawberries are red.')"
   ]
  },
  {
   "cell_type": "code",
   "execution_count": 0,
   "metadata": {
    "colab": {},
    "colab_type": "code",
    "id": "9IOdPglh5mdI"
   },
   "outputs": [],
   "source": [
    "# After if/elif clauses you can add an `else` clause\n",
    "# will be executed if none of the other clauses evaluate\n",
    "# to true.\n",
    "favorite_color = 'aqua'\n",
    "\n",
    "if favorite_color == 'blue':\n",
    "    print('Blueberries are blue.')\n",
    "elif favorite_color == 'purple':\n",
    "    print('Eggplant is purple... I think.')\n",
    "elif favorite_color == 'red':\n",
    "    print('Strawberries are red.')\n",
    "else:\n",
    "    print(\"I don't know any fruits that color...\")"
   ]
  },
  {
   "cell_type": "markdown",
   "metadata": {
    "colab_type": "text",
    "id": "Aq5f4uD15mdK"
   },
   "source": [
    "A couple of highlists to remember:\n",
    "* You may only have one `if` clause and it must come first.\n",
    "* You may only have one `else` clause and it must come last.\n",
    "* You can have as many `elif` clauses as you want after your `if` clause but before your optional `else` clause\n",
    "* The first `if`/`elif` to evaluate as `True` will be executed. **All the others will be skipped *even if they would also evaluate to true*.**"
   ]
  },
  {
   "cell_type": "markdown",
   "metadata": {
    "colab_type": "text",
    "id": "IwADiieS5mdL"
   },
   "source": [
    "## `for` Statement\n",
    "We use the *`for`* statement to perform a given set of operations for each element in a sequence/container (or container-like) object. This is often called **iteration**."
   ]
  },
  {
   "cell_type": "code",
   "execution_count": 0,
   "metadata": {
    "colab": {},
    "colab_type": "code",
    "id": "tls6iBM55mdM"
   },
   "outputs": [],
   "source": [
    "# We'll start by defining a simple `list` of letters and numbers.\n",
    "example_list = ['Hello', 245, 'Goodbye', 67]"
   ]
  },
  {
   "cell_type": "code",
   "execution_count": 0,
   "metadata": {
    "colab": {},
    "colab_type": "code",
    "id": "KmvmzoQ25mdO"
   },
   "outputs": [],
   "source": [
    "# Here we will iterate through the elements in our `my_list` variable \n",
    "# and print them out one at a time.\n",
    "for element in example_list:\n",
    "    print(element)"
   ]
  },
  {
   "cell_type": "code",
   "execution_count": 0,
   "metadata": {
    "colab": {},
    "colab_type": "code",
    "id": "IAuAOu8o5mdQ"
   },
   "outputs": [],
   "source": [
    "# We can do something similar for dictionaries.\n",
    "example_dict = {\n",
    "    'today': 'Saturday',\n",
    "    'tomorrow': 'Sunday'\n",
    "}\n",
    "\n",
    "# Here we will iterate over the keys of `university_info`\n",
    "for key in example_dict.keys():\n",
    "    print(key)\n",
    "    \n",
    "# And now we will do the same with the values in the dictionary\n",
    "for value in example_dict.values():\n",
    "    print(value)"
   ]
  },
  {
   "cell_type": "markdown",
   "metadata": {
    "colab_type": "text",
    "id": "dk5npemA5mdT"
   },
   "source": [
    "Now, there are a couple of special statements that you can use within a `for` loop that you need to be aware of: `continue` and `break`."
   ]
  },
  {
   "cell_type": "code",
   "execution_count": 0,
   "metadata": {
    "colab": {},
    "colab_type": "code",
    "id": "Iipsvamv5mdT"
   },
   "outputs": [],
   "source": [
    "# `continue` stops processing the current item in a for loop\n",
    "# and moves to the next item\n",
    "\n",
    "# Here we will combine a `for` and `if` statement\n",
    "# to only print out non-string objects from `example_list`\n",
    "for element in example_list:\n",
    "    if isinstance(element, str):\n",
    "        continue  # No strings will be printed\n",
    "    \n",
    "    # This function will never be reached for `str` objects\n",
    "    # inside of example list\n",
    "    print(element)"
   ]
  },
  {
   "cell_type": "code",
   "execution_count": 0,
   "metadata": {
    "colab": {},
    "colab_type": "code",
    "id": "eksXWqg75mdW"
   },
   "outputs": [],
   "source": [
    "# `break` stops processing of the loop as a whole.\n",
    "# Whenever it is encountered, no futher elements will\n",
    "# be processed\n",
    "\n",
    "# Remember, here are the elements in our list\n",
    "example_list = ['Hello', 245, 'Goodbye', 67]\n",
    "\n",
    "for element in example_list:    \n",
    "    print(element)\n",
    "    \n",
    "    if element == 'Goodbye':\n",
    "        # The last element will never be processed\n",
    "        # because we \"break\" the loop/iteration \n",
    "        # when we hit the 'Goodbye' string.\n",
    "        break"
   ]
  },
  {
   "cell_type": "markdown",
   "metadata": {
    "colab_type": "text",
    "id": "xgCTebK45mdZ"
   },
   "source": [
    "##`while` Statement\n",
    "The `while` statement is used to repeat execution of a code block until a condition is met. Here is a simple example:"
   ]
  },
  {
   "cell_type": "code",
   "execution_count": 0,
   "metadata": {
    "colab": {},
    "colab_type": "code",
    "id": "1Rem69wx5mda"
   },
   "outputs": [],
   "source": [
    "growing_number = 0\n",
    "while growing_number < 10:\n",
    "    print(growing_number)\n",
    "    growing_number += 1"
   ]
  },
  {
   "cell_type": "markdown",
   "metadata": {
    "colab_type": "text",
    "id": "9bQsXynk5mdc"
   },
   "source": [
    "As you can see, after the `while` keyword, you provide a *conditional expression* to be evaluated (just like in an `if` statement). \n",
    "\n",
    "If the condition evaluates to `True`, the nested code block will be exeucted. Then the condition is evaluated again. If it still evaluates to `True`, then the code block will executed again. This will continue until one of three things happens:\n",
    "* The conditional expression evaluates to False.\n",
    "* A `break` statement is encountered\n",
    "* The user interrupts execution."
   ]
  },
  {
   "cell_type": "code",
   "execution_count": 0,
   "metadata": {
    "colab": {},
    "colab_type": "code",
    "id": "UrLY6D-L5mdd"
   },
   "outputs": [],
   "source": [
    "# Here is an example of how to use `break` to stop a `while` loop\n",
    "\n",
    "while True:\n",
    "    name = input(\"What is your name? \")\n",
    "    \n",
    "    if name.lower() == 'walt disney':\n",
    "        print('Mickey Mouse')\n",
    "        break\n",
    "    else:\n",
    "        print(\"Hello {}\".format(name))\n",
    "        break"
   ]
  },
  {
   "cell_type": "markdown",
   "metadata": {
    "colab_type": "text",
    "id": "9SUqnlIv5mdg"
   },
   "source": [
    "### Stoping a Runaway `while` loop\n",
    "One must be careful when writing `while` statements. As it is easy to end up with a code block that never stops executing. Imagine if I had forgotten to put in the `break` statement in the example above. That code would have kept running forever.\n",
    "\n",
    "If you accidently create a never-ending loop, you can shut it down in selecting `interrupt` in the \"Kernal\" menu item at the top of your notebook."
   ]
  }
 ],
 "metadata": {
  "colab": {
   "collapsed_sections": [],
   "name": "1.5 Execution Flow Control.ipynb",
   "provenance": [],
   "version": "0.3.2"
  },
  "kernelspec": {
   "display_name": "Python 3",
   "language": "python",
   "name": "python3"
  },
  "language_info": {
   "codemirror_mode": {
    "name": "ipython",
    "version": 3
   },
   "file_extension": ".py",
   "mimetype": "text/x-python",
   "name": "python",
   "nbconvert_exporter": "python",
   "pygments_lexer": "ipython3",
   "version": "3.7.3"
  }
 },
 "nbformat": 4,
 "nbformat_minor": 1
}
