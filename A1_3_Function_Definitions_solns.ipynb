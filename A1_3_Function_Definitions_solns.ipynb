{
 "cells": [
  {
   "cell_type": "markdown",
   "metadata": {
    "colab_type": "text",
    "id": "ITUzN2381DQ1"
   },
   "source": [
    "# Assignment 1.3: Function Definitions\n",
    "Python for Data Analytics | Module 1  \n",
    "Professor James Ng"
   ]
  },
  {
   "cell_type": "markdown",
   "metadata": {
    "colab_type": "text",
    "id": "3RbFYkeV1Hq5"
   },
   "source": [
    "In this assignment, you will briefly practice defining functions with various characteristics. What we create here will be quite simplistic compared to other functions that you will create over time, but should give you a familiarity with how to define them."
   ]
  },
  {
   "cell_type": "code",
   "execution_count": 1,
   "metadata": {
    "colab": {},
    "colab_type": "code",
    "id": "gpEKT_A21mG8"
   },
   "outputs": [
    {
     "data": {
      "text/plain": [
       "111"
      ]
     },
     "execution_count": 1,
     "metadata": {},
     "output_type": "execute_result"
    }
   ],
   "source": [
    "# PROBLEM 1\n",
    "# - Define a function that returns the sum 61 + 50\n",
    "# - Execute it\n",
    "# - Don't accidently overwrite the built-in sum() function\n",
    "#   by using that name for your function\n",
    "\n",
    "### BEGIN SOLUTION\n",
    "def add_numbers():\n",
    "    return 61 + 50\n",
    "\n",
    "add_numbers()\n",
    "### END SOLUTION\n",
    "\n",
    "# If student didn't *return* the sum but merely prints to screen, subtract 1 point ONCE \n",
    "# (and do not penalize subsequent occurrences)"
   ]
  },
  {
   "cell_type": "code",
   "execution_count": 2,
   "metadata": {
    "colab": {},
    "colab_type": "code",
    "id": "aIiCjuaO2HSa"
   },
   "outputs": [
    {
     "data": {
      "text/plain": [
       "5746"
      ]
     },
     "execution_count": 2,
     "metadata": {},
     "output_type": "execute_result"
    }
   ],
   "source": [
    "# PROBLEM 2\n",
    "# - Update your function so that it takes two parameters. One\n",
    "#   for each of the numbers that you will add together.\n",
    "# - Execute your function\n",
    "\n",
    "### BEGIN SOLUTION\n",
    "def add_numbers(number_one, number_two):\n",
    "    return number_one + number_two\n",
    "\n",
    "add_numbers(123, 5623)\n",
    "### END SOLUTION"
   ]
  },
  {
   "cell_type": "code",
   "execution_count": 3,
   "metadata": {
    "colab": {},
    "colab_type": "code",
    "id": "9sGYkSEe27oN"
   },
   "outputs": [
    {
     "data": {
      "text/plain": [
       "[5746, 691629]"
      ]
     },
     "execution_count": 3,
     "metadata": {},
     "output_type": "execute_result"
    }
   ],
   "source": [
    "# PROBLEM 3\n",
    "# - Update your function so that it returns multiple values in a list:\n",
    "#   - The sum of the numbers\n",
    "#   - The product of the numbers\n",
    "\n",
    "### BEGIN SOLUTION\n",
    "def additional_and_multiplication(number_one, number_two):\n",
    "    return [number_one + number_two, number_one * number_two]\n",
    "\n",
    "additional_and_multiplication(123, 5623)\n",
    "### END SOLUTION"
   ]
  },
  {
   "cell_type": "code",
   "execution_count": 4,
   "metadata": {
    "colab": {},
    "colab_type": "code",
    "id": "veI52y-Z4RNi"
   },
   "outputs": [
    {
     "data": {
      "text/plain": [
       "[125, 246]"
      ]
     },
     "execution_count": 4,
     "metadata": {},
     "output_type": "execute_result"
    }
   ],
   "source": [
    "# PROBLEM 4\n",
    "# - Update your function so that it has a default value\n",
    "#   for it's second parameter.\n",
    "\n",
    "### BEGIN SOLUTION\n",
    "def additional_and_multiplication(number_one, number_two=2):\n",
    "    return [number_one + number_two, number_one * number_two]\n",
    "\n",
    "additional_and_multiplication(123)\n",
    "### END SOLUTION"
   ]
  },
  {
   "cell_type": "code",
   "execution_count": null,
   "metadata": {},
   "outputs": [],
   "source": []
  }
 ],
 "metadata": {
  "colab": {
   "collapsed_sections": [],
   "name": "A1.3 Function Definitions.ipynb",
   "provenance": [],
   "version": "0.3.2"
  },
  "kernelspec": {
   "display_name": "Python 3",
   "language": "python",
   "name": "python3"
  },
  "language_info": {
   "codemirror_mode": {
    "name": "ipython",
    "version": 3
   },
   "file_extension": ".py",
   "mimetype": "text/x-python",
   "name": "python",
   "nbconvert_exporter": "python",
   "pygments_lexer": "ipython3",
   "version": "3.7.3"
  }
 },
 "nbformat": 4,
 "nbformat_minor": 1
}
