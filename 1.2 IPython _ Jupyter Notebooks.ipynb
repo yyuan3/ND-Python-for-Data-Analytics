{
 "cells": [
  {
   "cell_type": "markdown",
   "metadata": {
    "colab_type": "text",
    "id": "Qbxcu4ioVPjO"
   },
   "source": [
    "# Tutorial 1.2: IPython & Jupyter Notebooks\n",
    "Python for Data Analytics\n",
    "Module 1"
   ]
  },
  {
   "cell_type": "markdown",
   "metadata": {
    "colab_type": "text",
    "id": "sUNhICuNVPjQ"
   },
   "source": [
    "In order to write code you are going to need what's called a \"development environment\". Practically speaking, a development environment is just where a human being (that's you!) writes and executes his/her code.\n",
    "\n",
    "What differentiates various development environments is the number of features that they have. Some people prefer to use nothing more than a text editor, while others prefer to use fairly complex programs that offer all sorts of tools to speed up certain aspects of the program development workflow.\n",
    "\n",
    "In this course we are going to use probably the most popular development environment for data science, [**Jupyter Notebooks**](http://jupyter.org).  The Jupyter project is an amazing piece of software that allows you to write and execute code inside of a web browser. \n",
    "\n",
    "You can combine your code with HTML, Javascript, YouTube videos, and pretty much anything else that works in a web browser. Once you are finished, sharing your work is as simple as sharing a link to your notebook."
   ]
  },
  {
   "cell_type": "markdown",
   "metadata": {
    "colab_type": "text",
    "id": "KIpsNEDKVPjR"
   },
   "source": [
    "The Jupyter Notebook project grew out of another project called [IPython](http://ipython.org/). IPython, short for *Interactive Python*, is an \"enhanced\" interpreter that provides a number of useful additions to the language to speed up development work.\n",
    "\n",
    "<div class=\"alert alert-block alert-info\">\n",
    "An interpreter is a program that runs Python commands. Python's standard interpreter can be invoked from the command line with `python`. Experiment with both the `ipython` interpreter and the standard interpreter to see the differences.\n",
    "</div>\n",
    "\n",
    "IPython is embedded inside of Jupyter notebooks and is responsible for actually running your code. For most practical purposes, you can think of IPython and Jupyter notebooks as synonymous terms at this stage of your learning."
   ]
  },
  {
   "cell_type": "markdown",
   "metadata": {
    "colab_type": "text",
    "id": "khJifsMvVPjS"
   },
   "source": [
    "## Jupyter Notebook Server(s)\n",
    "In order to create Jupyter notebooks, you must have a program that will make them accessible to your web browser. Such a program is often called a server/daemon.\n",
    "\n",
    "This program could run on your local machine, on a machine at your company, or by a 3rd party provider like Amazon or Google.\n",
    "\n",
    "There are *many* options on this front, with new ones appearing almost monthly.\n",
    "\n",
    "In our particular case, we will be using Vocareum's machines to create & execute our notebooks."
   ]
  },
  {
   "cell_type": "markdown",
   "metadata": {
    "colab_type": "text",
    "id": "Th-OJnSyVPjT"
   },
   "source": [
    "## Handy Features of IPython inside Jupyter\n",
    "In this section, we will quickly cover a few of the many features of IPython that are available to you inside of your Jupyter notebooks."
   ]
  },
  {
   "cell_type": "markdown",
   "metadata": {
    "colab_type": "text",
    "id": "XRLh_JzeVPjU"
   },
   "source": [
    "### Notebooks are Comprised of \"Cells\"\n",
    "Jupyer notebooks are built by combining \"cells\" together. *A cell is nothing more than a container for different types of content. *\n",
    "\n",
    "For our purposes there are two types of cells: \n",
    "* Text/HTML\n",
    "* Code\n",
    "\n",
    "Currently, you are reading a Text/HTML cell. \n",
    "\n",
    "You can always tell what cell is currently selected because it will be given a slight box shadow effect in the browser."
   ]
  },
  {
   "cell_type": "code",
   "execution_count": 0,
   "metadata": {
    "colab": {},
    "colab_type": "code",
    "id": "xpOT3O0eVPjU"
   },
   "outputs": [],
   "source": [
    "# The second type of cell contains code that you can execute.\n",
    "# This is an example of that type of cell. "
   ]
  },
  {
   "cell_type": "markdown",
   "metadata": {
    "colab_type": "text",
    "id": "Jr-SBb4mVPjY"
   },
   "source": [
    "You can always tell the difference between a code cell and a text/HTML cell quickly because code cells will have a `In [some number]` prefix on their left hand side which shows the order in which the code cells have been executed. \n",
    "\n",
    "Just take a look at the cell above this one to see an example of this."
   ]
  },
  {
   "cell_type": "markdown",
   "metadata": {
    "colab_type": "text",
    "id": "7DgHu9eRVPjZ"
   },
   "source": [
    "### You can Execute Cells in any Order\n",
    "To execute a given code cell, you press `shift+enter` while on it is the selected. Once you do a number will be inserted inside of the `In [ ]:` cell prefix showing the order in which that cell was executed.\n",
    "\n",
    "**There is no requirement that you execute cells in the order they appear.** If you wanted to, you could execute the cells at the bottom of the page and then come back and execute the cells at the top of the page. The only thing to keep in mind is that if the later cells require the output of the earlier cells, you'll generate errors.\n",
    "\n",
    "**Likewise, you can execute a given cell multiple times.** Almost always, you will find programming in a Jupyter notebook to be an iterative process, where you will make multiple small changes to your cells. When you do, you'll find yourself running the same cell over and over again. "
   ]
  },
  {
   "cell_type": "markdown",
   "metadata": {
    "colab_type": "text",
    "id": "CXMHMKTJVPja"
   },
   "source": [
    "### The `?` operator\n",
    "Whenever you want to access some basic information for a given Python object in `IPython/Jupyter`, you can simply add a `?` before or after its name. In the following two cells, I will create a simple variable and then use the `?` operator to demonstrate it's basic usage."
   ]
  },
  {
   "cell_type": "code",
   "execution_count": 1,
   "metadata": {
    "colab": {},
    "colab_type": "code",
    "id": "XgpXTgfpVPjb"
   },
   "outputs": [],
   "source": [
    "# This creates what is called a list. It holds three strings.\n",
    "a_simple_list = ['Hi', 'Budding', 'Pythonista!']"
   ]
  },
  {
   "cell_type": "code",
   "execution_count": 2,
   "metadata": {
    "colab": {},
    "colab_type": "code",
    "id": "jfXKPVY8VPjd"
   },
   "outputs": [],
   "source": [
    "# Now run this cell to see what the `?` does.\n",
    "# It will pop up a little dialogue box at the bottom of the \n",
    "# screen with some information about the object.\n",
    "a_simple_list?"
   ]
  },
  {
   "cell_type": "markdown",
   "metadata": {
    "colab_type": "text",
    "id": "SwOuHEwPVPjf"
   },
   "source": [
    "While we just used the `?` operator on a variable, we can also use it on functions/methods. Let's say that we wanted to see what the `str.partition` method does. We'd just type `str.partition?` into IPython and would get the following output.\n",
    "\n",
    "```\n",
    "In [1]: str.partition?\n",
    "Docstring:\n",
    "S.partition(sep) -> (head, sep, tail)\n",
    "\n",
    "Search for the separator sep in S, and return the part before it,\n",
    "the separator itself, and the part after it. If the separator is not\n",
    "found, return S and two empty strings.\n",
    "Type:      method_descriptor\n",
    "```\n",
    "\n",
    "You can see here that you get a description both of the *method signature* (don't worry about not knowing what this is right now) and a description of what the method does.\n",
    "\n",
    "You might be asking yourself: where does this helpful information come from?\n",
    "The answer is that Python has something called *docstrings* that programmers \n",
    "assign to the objects that they write. It is these docstrings that are returned\n",
    "when you use the `?` operator.\n",
    "\n",
    "One note of importance here is that if a programmer does not write docstrings\n",
    "for their objects, IPython will have little information to provide to a user.\n",
    "So, remember to always write docstrings in your objects!"
   ]
  },
  {
   "cell_type": "markdown",
   "metadata": {
    "colab_type": "text",
    "id": "9YdTxqqvVPjg"
   },
   "source": [
    "### The `??` operator\n",
    "After you start to gain some experience with Python, you might want to get more details about how something works.  The `??` operater works in a similar fashion to the `?` operator, but actually displays the source code of the object you are interested in so you can see exactly how it works.\n",
    "\n",
    "<div class=\"alert alert-block alert-info\">\n",
    "\"Source code\" just means the code that makes up the object you are inspecting.\n",
    "</div>\n",
    "\n",
    "This is *very* helpful when trying to learn the details of something you are not familiar with or you are interacting with code that the original author didn't add docstrings to (and this, unfortunately, is pretty common).\n",
    "\n",
    "As an example, let's say that a certain lazy Python instructor created a function call `big_or_small` with no docstring.  When you use the `?` operator you only get the following: \n",
    "\n",
    "```\n",
    "In [28]: big_or_small?\n",
    "Signature: big_or_small(number)\n",
    "Docstring: <no docstring>\n",
    "File:      ~/workspace/class-materials/<ipython-input-27-f74533bc17d5>\n",
    "Type:      function\n",
    "```\n",
    "\n",
    "**The big `<no_docstring>` isn't very helpful is it?** Well, you've got `??` as your backup plan. Let's try it now.\n",
    "\n",
    "```python\n",
    "In [29]: big_or_small??\n",
    "Signature: big_or_small(number)\n",
    "Source:   \n",
    "def big_or_small(number):\n",
    "    if number > 7:\n",
    "        print(\"big\")\n",
    "    else:\n",
    "        print(\"small\")\n",
    "File:      ~/workspace/class-materials/<ipython-input-27-f74533bc17d5>\n",
    "Type:      function\n",
    "```\n",
    "\n",
    "**Bingo.** Now you can see exactly how this function works. This example is, of course, a little contrived, but this technique quite valuable in the real world."
   ]
  },
  {
   "cell_type": "markdown",
   "metadata": {
    "colab_type": "text",
    "id": "02UG_JC3VPjg"
   },
   "source": [
    "### Tab Completion\n",
    "On of the most valuable features available to you inside of Jupyter notebooks is *tab completion*. Essentially, when you don't remember something fully, you can use the `tab` key on your keyboard, and IPython will try to provide you with some helpful options.\n",
    "\n",
    "This works in a variety of contexts. The next couple cells will demonstrate some examples."
   ]
  },
  {
   "cell_type": "code",
   "execution_count": 5,
   "metadata": {
    "colab": {
     "base_uri": "https://localhost:8080/",
     "height": 131
    },
    "colab_type": "code",
    "id": "h7zWaVuDVPjh",
    "outputId": "c6386eb2-bd77-4308-e687-4cc8dfccfba8"
   },
   "outputs": [
    {
     "ename": "SyntaxError",
     "evalue": "ignored",
     "output_type": "error",
     "traceback": [
      "\u001b[0;36m  File \u001b[0;32m\"<ipython-input-5-8c081d95124d>\"\u001b[0;36m, line \u001b[0;32m1\u001b[0m\n\u001b[0;31m    str.\u001b[0m\n\u001b[0m        ^\u001b[0m\n\u001b[0;31mSyntaxError\u001b[0m\u001b[0;31m:\u001b[0m invalid syntax\n"
     ]
    }
   ],
   "source": [
    "# Scenario 1: You have an object and you want to see what \n",
    "# attributes/methods are available.\n",
    "\n",
    "# For instance, what methods are available on a `str` object?\n",
    "# Just hit tab after moving your cursor just after the period below\n",
    "str."
   ]
  },
  {
   "cell_type": "code",
   "execution_count": 0,
   "metadata": {
    "colab": {},
    "colab_type": "code",
    "id": "nn9XOwczVPjj"
   },
   "outputs": [],
   "source": [
    "# Scenario 2: You know the first part of the name of the attribute/method\n",
    "# you are looking for, but still need some help.\n",
    "\n",
    "# Hit tab after the end of the code below and it will show \n",
    "# all attributes/methods on the `str` object that begin with \"is\"\n",
    "str.is"
   ]
  },
  {
   "cell_type": "code",
   "execution_count": 0,
   "metadata": {
    "colab": {},
    "colab_type": "code",
    "id": "LnUwrVJ7VPjm"
   },
   "outputs": [],
   "source": [
    "# Scenario 3: You would like to know what keyword arguments are\n",
    "# available for a given method.\n",
    "\n",
    "# Hit tab inside the parenthesis '()' of a function/method \n",
    "# invocation to see what keyword arguments\n",
    "# if any, are available for that function/method.\n",
    "print()"
   ]
  },
  {
   "cell_type": "markdown",
   "metadata": {
    "colab_type": "text",
    "id": "D1KjkC4bVPjo"
   },
   "source": [
    "As we continue in our course, I will demonstrate additional contexts in which you can use tab completion."
   ]
  },
  {
   "cell_type": "markdown",
   "metadata": {
    "colab_type": "text",
    "id": "ECoWEOkdVPjp"
   },
   "source": [
    "## IPython Magic Commands\n",
    "Let's discuss some of the additional enhancements that IPython adds on top of the normal Python syntax known as *magic commands*.\n",
    "\n",
    "Magic commands come in two flavors: \n",
    "* *Line magics*, which are denoted by a single `%` prefix and operate on a single line of input\n",
    "* *Cell magics*, which are denoted by a double `%%` prefix and operate on multiple lines of input. When using this type of command, the \"magic statement\" will usually appear as the first thing in the cell.\n",
    "\n",
    "Let's demonstrate and discuss a few brief examples here."
   ]
  },
  {
   "cell_type": "markdown",
   "metadata": {
    "colab_type": "text",
    "id": "rTkMAQnSVPjp"
   },
   "source": [
    "### Running External Code: ``%run``\n",
    "It won't take long for you want to save the scripts that you are writing so that you don't have to type things over and over again. Once you do this, you'll need a way to run them inside your Jupyer notebook. This is where the ``%run`` magic command comes in.\n",
    "\n",
    "Let's imagine you've created a ``myscript.py`` Python file with the following contents:\n",
    "\n",
    "```python\n",
    "#-------------------------------------\n",
    "# file: myscript.py\n",
    "\n",
    "def square(num):\n",
    "    \"\"\"square a number\"\"\"\n",
    "    return num ** 2\n",
    "\n",
    "for number in range(1, 4):\n",
    "    print(number, \"squared is\", square(number))\n",
    "```\n",
    "\n",
    "<div class=\"alert alert-block alert-info\">\n",
    "<h5>For Python Newbies: What does myscript.py do?</h5>\n",
    "This example script creates a function and executes a `for` loop.\n",
    "\n",
    "<p>In Python, functions (and something similiar called methods) are declared with the `def` keyword.\n",
    "In this case the `square` function is being defined and you can see it takes a single parameter\n",
    "called `num`.</p>\n",
    "\n",
    "<p>The line that says `for number in range(1, 4)` means for each number in the range from 1 to 4\n",
    "and then the next line says what to do with that number. In this case, the 'what to do' is to print the original value and its value after it has been squared.</p>\n",
    "\n",
    "<p>A couple of important notes:</p>\n",
    "<ul>\n",
    "<li>The name given to the `square` function parameter, `num`, is just a placeholder. You don't have to pass a variable called `num` into the function when you call it. Whatever you pass in will become `num` as far as the function is concerned. That is why were are able to pass in our variable `number` to the `square` function on the last line of the script and it still works.</li>\n",
    "<li>Close observers may have noticed that there are only three lines of output for our script, where you might have expected four because of the `range(1, 4)` statement. The `range` function is a little bit surprising in its behavior to new programmers in that the first parameter given (1 in our case) is included in our results, but the last parameter is not (4 in our case). It only delivers integer numbers up to - but not including - the second parameter.</li>\n",
    "</ul>\n",
    "</div>\n",
    "\n",
    "You can execute this from your IPython session as follows:\n",
    "\n",
    "```ipython\n",
    "In [6]: %run myscript.py\n",
    "1 squared is 1\n",
    "2 squared is 4\n",
    "3 squared is 9\n",
    "```\n",
    "\n",
    "Note also that after you've run this script, any functions defined within it are available for use in your IPython session:\n",
    "\n",
    "```ipython\n",
    "In [7]: square(5)\n",
    "Out[7]: 25\n",
    "```\n",
    "\n",
    "There are several options to fine-tune how your code is run; you can see the documentation in the normal way, by typing **``%run?``** in the IPython interpreter."
   ]
  },
  {
   "cell_type": "markdown",
   "metadata": {
    "colab_type": "text",
    "id": "XXpJHFPlVPjq"
   },
   "source": [
    "### Timing Code Execution: `%timeit` & `%%timeit`\n",
    "In my opinion, this is the most valuable magic command. \n",
    "\n",
    "When dealing with large amounts of data, you are going to want to learn how to make your code run fast. To be able to make it faster, you have to be able to see how long the various parts of your code take to execute.\n",
    "\n",
    "IPython makes this extremely easy to do with the `%timeit` magic command.\n",
    "Check out how easy it is to time the execution of a one line Python statement (called a *list comprehension* if you are curious):"
   ]
  },
  {
   "cell_type": "code",
   "execution_count": 4,
   "metadata": {
    "colab": {
     "base_uri": "https://localhost:8080/",
     "height": 35
    },
    "colab_type": "code",
    "id": "Z-46nEzZiMA5",
    "outputId": "09b06f3d-ccf4-4c1a-a836-a85c34efa4e8"
   },
   "outputs": [
    {
     "name": "stdout",
     "output_type": "stream",
     "text": [
      "1000 loops, best of 3: 310 µs per loop\n"
     ]
    }
   ],
   "source": [
    "%timeit example_list = [n ** 2 for n in range(1000)]"
   ]
  },
  {
   "cell_type": "markdown",
   "metadata": {
    "colab_type": "text",
    "id": "8cqJKsJhiguK"
   },
   "source": [
    "You'll notice that one of the benefits of ``%timeit`` is that for short commands it will automatically perform multiple runs in order to attain more robust results.\n",
    "\n",
    "For multi line statements, adding a second ``%`` sign before `timeit` will turn this into a cell magic that can handle multiple lines of input.\n",
    "For example, in the following code cell, we will create a identical list of numbers using a different approach and then compare our timing results to see which approach is faster."
   ]
  },
  {
   "cell_type": "code",
   "execution_count": 3,
   "metadata": {
    "colab": {
     "base_uri": "https://localhost:8080/",
     "height": 35
    },
    "colab_type": "code",
    "id": "Y18YqkwIjCkH",
    "outputId": "4c00cc12-63af-452a-e2e2-521cda3804b9"
   },
   "outputs": [
    {
     "name": "stdout",
     "output_type": "stream",
     "text": [
      "1000 loops, best of 3: 374 µs per loop\n"
     ]
    }
   ],
   "source": [
    "# After you execute this, you'll be able to see that \n",
    "# this approach is slower than the first approach.\n",
    "%%timeit\n",
    "example_list_2 = []\n",
    "for n in range(1000):\n",
    "  example_list_2.append(n ** 2)"
   ]
  },
  {
   "cell_type": "markdown",
   "metadata": {
    "colab_type": "text",
    "id": "e36yReenVPjr"
   },
   "source": [
    "### <a name=\"magicHelp\"></a> Help on Magic Functions: ``?``, ``%magic``, and ``%lsmagic``\n",
    "\n",
    "IPython magic functions have docstrings, just like any well written object in Python.\n",
    "You can, therefore, access this documentation in the standard manner:"
   ]
  },
  {
   "cell_type": "code",
   "execution_count": 0,
   "metadata": {
    "colab": {},
    "colab_type": "code",
    "id": "o_WSVliekCUc"
   },
   "outputs": [],
   "source": [
    "# Obtain help documentation on the %timeit magic command\n",
    "%timeit?"
   ]
  },
  {
   "cell_type": "markdown",
   "metadata": {
    "colab_type": "text",
    "id": "Oj6VLDt5kbOd"
   },
   "source": [
    "To access a general description of available magic functions, including some examples, you can type this:"
   ]
  },
  {
   "cell_type": "code",
   "execution_count": 0,
   "metadata": {
    "colab": {},
    "colab_type": "code",
    "id": "r5-ZNDgQkUtK"
   },
   "outputs": [],
   "source": [
    "%magic"
   ]
  },
  {
   "cell_type": "markdown",
   "metadata": {
    "colab_type": "text",
    "id": "VP5-jrPukUWn"
   },
   "source": [
    "For a quick and simple list of all available magic functions, type this:"
   ]
  },
  {
   "cell_type": "code",
   "execution_count": 9,
   "metadata": {
    "colab": {
     "base_uri": "https://localhost:8080/",
     "height": 158
    },
    "colab_type": "code",
    "id": "KqvBYiFWkJQs",
    "outputId": "92c5c283-51d6-407f-f279-bd8a61db441c"
   },
   "outputs": [
    {
     "data": {
      "application/json": {
       "cell": {
        "!": "OSMagics",
        "HTML": "Other",
        "SVG": "Other",
        "bash": "Other",
        "bigquery": "Other",
        "capture": "ExecutionMagics",
        "debug": "ExecutionMagics",
        "file": "Other",
        "html": "DisplayMagics",
        "javascript": "DisplayMagics",
        "js": "DisplayMagics",
        "latex": "DisplayMagics",
        "perl": "Other",
        "prun": "ExecutionMagics",
        "pypy": "Other",
        "python": "Other",
        "python2": "Other",
        "python3": "Other",
        "ruby": "Other",
        "script": "ScriptMagics",
        "sh": "Other",
        "shell": "Other",
        "svg": "DisplayMagics",
        "sx": "OSMagics",
        "system": "OSMagics",
        "time": "ExecutionMagics",
        "timeit": "ExecutionMagics",
        "writefile": "OSMagics"
       },
       "line": {
        "alias": "OSMagics",
        "alias_magic": "BasicMagics",
        "autocall": "AutoMagics",
        "automagic": "AutoMagics",
        "autosave": "KernelMagics",
        "bookmark": "OSMagics",
        "cat": "Other",
        "cd": "OSMagics",
        "clear": "KernelMagics",
        "colors": "BasicMagics",
        "config": "ConfigMagics",
        "connect_info": "KernelMagics",
        "cp": "Other",
        "debug": "ExecutionMagics",
        "dhist": "OSMagics",
        "dirs": "OSMagics",
        "doctest_mode": "BasicMagics",
        "ed": "Other",
        "edit": "KernelMagics",
        "env": "OSMagics",
        "gui": "BasicMagics",
        "hist": "Other",
        "history": "HistoryMagics",
        "killbgscripts": "ScriptMagics",
        "ldir": "Other",
        "less": "KernelMagics",
        "lf": "Other",
        "lk": "Other",
        "ll": "Other",
        "load": "CodeMagics",
        "load_ext": "ExtensionMagics",
        "loadpy": "CodeMagics",
        "logoff": "LoggingMagics",
        "logon": "LoggingMagics",
        "logstart": "LoggingMagics",
        "logstate": "LoggingMagics",
        "logstop": "LoggingMagics",
        "ls": "Other",
        "lsmagic": "BasicMagics",
        "lx": "Other",
        "macro": "ExecutionMagics",
        "magic": "BasicMagics",
        "man": "KernelMagics",
        "matplotlib": "PylabMagics",
        "mkdir": "Other",
        "more": "KernelMagics",
        "mv": "Other",
        "notebook": "BasicMagics",
        "page": "BasicMagics",
        "pastebin": "CodeMagics",
        "pdb": "ExecutionMagics",
        "pdef": "NamespaceMagics",
        "pdoc": "NamespaceMagics",
        "pfile": "NamespaceMagics",
        "pinfo": "NamespaceMagics",
        "pinfo2": "NamespaceMagics",
        "popd": "OSMagics",
        "pprint": "BasicMagics",
        "precision": "BasicMagics",
        "profile": "BasicMagics",
        "prun": "ExecutionMagics",
        "psearch": "NamespaceMagics",
        "psource": "NamespaceMagics",
        "pushd": "OSMagics",
        "pwd": "OSMagics",
        "pycat": "OSMagics",
        "pylab": "PylabMagics",
        "qtconsole": "KernelMagics",
        "quickref": "BasicMagics",
        "recall": "HistoryMagics",
        "rehashx": "OSMagics",
        "reload_ext": "ExtensionMagics",
        "rep": "Other",
        "rerun": "HistoryMagics",
        "reset": "NamespaceMagics",
        "reset_selective": "NamespaceMagics",
        "rm": "Other",
        "rmdir": "Other",
        "run": "ExecutionMagics",
        "save": "CodeMagics",
        "sc": "OSMagics",
        "set_env": "OSMagics",
        "shell": "Other",
        "store": "StoreMagics",
        "sx": "OSMagics",
        "system": "OSMagics",
        "tb": "ExecutionMagics",
        "time": "ExecutionMagics",
        "timeit": "ExecutionMagics",
        "unalias": "OSMagics",
        "unload_ext": "ExtensionMagics",
        "who": "NamespaceMagics",
        "who_ls": "NamespaceMagics",
        "whos": "NamespaceMagics",
        "xdel": "NamespaceMagics",
        "xmode": "BasicMagics"
       }
      },
      "text/plain": [
       "Available line magics:\n",
       "%alias  %alias_magic  %autocall  %automagic  %autosave  %bookmark  %cat  %cd  %clear  %colors  %config  %connect_info  %cp  %debug  %dhist  %dirs  %doctest_mode  %ed  %edit  %env  %gui  %hist  %history  %killbgscripts  %ldir  %less  %lf  %lk  %ll  %load  %load_ext  %loadpy  %logoff  %logon  %logstart  %logstate  %logstop  %ls  %lsmagic  %lx  %macro  %magic  %man  %matplotlib  %mkdir  %more  %mv  %notebook  %page  %pastebin  %pdb  %pdef  %pdoc  %pfile  %pinfo  %pinfo2  %popd  %pprint  %precision  %profile  %prun  %psearch  %psource  %pushd  %pwd  %pycat  %pylab  %qtconsole  %quickref  %recall  %rehashx  %reload_ext  %rep  %rerun  %reset  %reset_selective  %rm  %rmdir  %run  %save  %sc  %set_env  %shell  %store  %sx  %system  %tb  %time  %timeit  %unalias  %unload_ext  %who  %who_ls  %whos  %xdel  %xmode\n",
       "\n",
       "Available cell magics:\n",
       "%%!  %%HTML  %%SVG  %%bash  %%bigquery  %%capture  %%debug  %%file  %%html  %%javascript  %%js  %%latex  %%perl  %%prun  %%pypy  %%python  %%python2  %%python3  %%ruby  %%script  %%sh  %%shell  %%svg  %%sx  %%system  %%time  %%timeit  %%writefile\n",
       "\n",
       "Automagic is ON, % prefix IS NOT needed for line magics."
      ]
     },
     "execution_count": 9,
     "metadata": {
      "tags": []
     },
     "output_type": "execute_result"
    }
   ],
   "source": [
    "# `ls` is a linux command which used to \"list directory contents\". \n",
    "# It is used all the time when working from a command line and the \n",
    "# IPython developers therefore adopt it here knowing that most users\n",
    "# will immediately understand its meaning.\n",
    "%lsmagic"
   ]
  }
 ],
 "metadata": {
  "colab": {
   "collapsed_sections": [],
   "name": "1.2 IPython & Jupyter Notebooks.ipynb",
   "provenance": [],
   "toc_visible": true,
   "version": "0.3.2"
  },
  "kernelspec": {
   "display_name": "Python 3",
   "language": "python",
   "name": "python3"
  },
  "language_info": {
   "codemirror_mode": {
    "name": "ipython",
    "version": 3
   },
   "file_extension": ".py",
   "mimetype": "text/x-python",
   "name": "python",
   "nbconvert_exporter": "python",
   "pygments_lexer": "ipython3",
   "version": "3.7.3"
  }
 },
 "nbformat": 4,
 "nbformat_minor": 1
}
