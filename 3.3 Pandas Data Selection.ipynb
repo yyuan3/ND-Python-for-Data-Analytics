{
 "cells": [
  {
   "cell_type": "markdown",
   "metadata": {
    "colab_type": "text",
    "id": "7qc97Rt23frw"
   },
   "source": [
    "# Tutorial 3.3: Pandas Data Selection\n",
    "Python for Data Analytics | Module 3  \n",
    "Professor James Ng"
   ]
  },
  {
   "cell_type": "code",
   "execution_count": null,
   "metadata": {
    "colab": {},
    "colab_type": "code",
    "id": "ZBtXnome3fr0"
   },
   "outputs": [],
   "source": [
    "# SETUP: DO NOT CHANGE\n",
    "import numpy as np\n",
    "import pandas as pd"
   ]
  },
  {
   "cell_type": "markdown",
   "metadata": {
    "colab_type": "text",
    "id": "H4h5CV-p3fsD"
   },
   "source": [
    "## Introduction"
   ]
  },
  {
   "cell_type": "markdown",
   "metadata": {
    "colab_type": "text",
    "id": "e0CiRKnd3fsG"
   },
   "source": [
    "In this tutorial, we will be exploring how to extract data from **`Series`** and **`DataFrame`** objects.\n",
    "\n",
    "You'll find that many of the same techniques that we used with NumPy arrays will also be available for these objects. In addition, they introduce some additional functionality that will feel very familiar to working with dictionaries.\n",
    "\n",
    "To get started, let's load our college scorecard data set."
   ]
  },
  {
   "cell_type": "code",
   "execution_count": null,
   "metadata": {
    "colab": {},
    "colab_type": "code",
    "id": "z8Y42-ZL3fsI"
   },
   "outputs": [],
   "source": [
    "# Download the College Scorecard dataset from OSF\n",
    "!curl -L https://osf.io/cz253/download --create-dirs -o data-sets/college-scorecard-data-scrubbed.csv\n",
    "\n",
    "college_scorecard = pd.read_csv(\n",
    "    'data-sets/college-scorecard-data-scrubbed.csv', \n",
    "    encoding='latin-1')\n",
    "college_scorecard.head()"
   ]
  },
  {
   "cell_type": "markdown",
   "metadata": {
    "colab_type": "text",
    "id": "uk72Cix43fsR"
   },
   "source": [
    "## Selecting Data from `DataFrame` Objects"
   ]
  },
  {
   "cell_type": "markdown",
   "metadata": {
    "colab_type": "text",
    "id": "tvbomZuu3fsT"
   },
   "source": [
    "You can retrieve an individual `Series` from a `DataFrame` by passing the `Series` name/key to the `DataFrame`:"
   ]
  },
  {
   "cell_type": "code",
   "execution_count": null,
   "metadata": {
    "colab": {},
    "colab_type": "code",
    "id": "DDmXKVHw3fsW"
   },
   "outputs": [],
   "source": [
    "college_scorecard['religious_affiliation_desc']"
   ]
  },
  {
   "cell_type": "markdown",
   "metadata": {
    "colab_type": "text",
    "id": "ojQEyH9h3fse"
   },
   "source": [
    "You can retrieve multiple columns at once by passing a list of column names. When you do this, you actually get a new DataFrame, rather than a list/ndarray of individual `Series` objects:"
   ]
  },
  {
   "cell_type": "code",
   "execution_count": null,
   "metadata": {
    "colab": {},
    "colab_type": "code",
    "id": "OgbOPT0b3fsg"
   },
   "outputs": [],
   "source": [
    "college_scorecard[['institution_name', 'city']][0:10]"
   ]
  },
  {
   "cell_type": "markdown",
   "metadata": {
    "colab_type": "text",
    "id": "bk0GhqN-3fso"
   },
   "source": [
    "You can test for the existence of a given `Series` in a `DataFrame` with the `in` operator:"
   ]
  },
  {
   "cell_type": "code",
   "execution_count": null,
   "metadata": {
    "colab": {},
    "colab_type": "code",
    "id": "XpDfjUqN3fsr"
   },
   "outputs": [],
   "source": [
    "'city' in college_scorecard"
   ]
  },
  {
   "cell_type": "markdown",
   "metadata": {},
   "source": [
    "### Dropping Columns"
   ]
  },
  {
   "cell_type": "markdown",
   "metadata": {},
   "source": [
    "To drop a column, use pandas.DataFrame.drop()"
   ]
  },
  {
   "cell_type": "code",
   "execution_count": null,
   "metadata": {},
   "outputs": [],
   "source": [
    "# Drop the url column\n",
    "college_scorecard.drop(columns = ['url'])"
   ]
  },
  {
   "cell_type": "markdown",
   "metadata": {
    "colab_type": "text",
    "id": "2xDFCCdj3fsx"
   },
   "source": [
    "### Slicing `DataFrame` Objects by Rows"
   ]
  },
  {
   "cell_type": "markdown",
   "metadata": {
    "colab_type": "text",
    "id": "aznU8CVk3fs0"
   },
   "source": [
    "Slicing with standard syntax affects affects rows, not columns in a `DataFrame`. In other words, you can slice based on the index values, but not the column names. \n",
    "\n",
    "To demonstrate, let's get a slice of the *first 5 rows* of our `DataFrame`:"
   ]
  },
  {
   "cell_type": "code",
   "execution_count": null,
   "metadata": {
    "colab": {},
    "colab_type": "code",
    "id": "y4-GRyGR3fs3"
   },
   "outputs": [],
   "source": [
    "college_scorecard[0: 5]"
   ]
  },
  {
   "cell_type": "markdown",
   "metadata": {
    "colab_type": "text",
    "id": "O7XkqeQY3fs_"
   },
   "source": [
    "#### Slicing with String-Based Indexes\n",
    "Now, you might be wondering how this would work if we were using a string based index instead of a integer based index. We'll let's find out."
   ]
  },
  {
   "cell_type": "code",
   "execution_count": null,
   "metadata": {
    "colab": {},
    "colab_type": "code",
    "id": "qBHuHN_k3ftD"
   },
   "outputs": [],
   "source": [
    "# First, we will update the index of our DataFrame \n",
    "# to use the \"institution_name\" column.\n",
    "college_scorecard.index = college_scorecard['institution_name']\n",
    "\n",
    "# Now display a few rows so that you can see how the index has been changed\n",
    "college_scorecard.head()"
   ]
  },
  {
   "cell_type": "markdown",
   "metadata": {
    "colab_type": "text",
    "id": "0IUxQrI73ftJ"
   },
   "source": [
    "With *pandas*, you can pass in two string values as the `start` and `stop` elements of a slice notation. SUPER AWESOME!"
   ]
  },
  {
   "cell_type": "code",
   "execution_count": null,
   "metadata": {
    "colab": {},
    "colab_type": "code",
    "id": "Juhn4Unq3ftK"
   },
   "outputs": [],
   "source": [
    "# Retrieve all rows from \"Southwest University of Visual Arts-Tucson\" to \"Thunderbird School of Global Management\"\n",
    "# (inclusive! See note in next cell.)\n",
    "college_scorecard[\"Southwest University of Visual Arts-Tucson\":\"Thunderbird School of Global Management\"]"
   ]
  },
  {
   "cell_type": "markdown",
   "metadata": {
    "colab_type": "text",
    "id": "_V0G7iNs3ftQ"
   },
   "source": [
    "**WARNING**  \n",
    "When you \"slice\" a `DataFrame` using strings like this, the row that matches the `stop` string <strong>is</strong> included in your results as you can see here. This is different from normal slice notation, which does not include the stop element in the results. "
   ]
  },
  {
   "cell_type": "markdown",
   "metadata": {
    "colab_type": "text",
    "id": "GHa-8TaE3ftS"
   },
   "source": [
    "#### Slicing (Implicit Index)"
   ]
  },
  {
   "cell_type": "markdown",
   "metadata": {
    "colab_type": "text",
    "id": "bxEig6MJ3ftU"
   },
   "source": [
    "When we changed the index of our `college_scorecard` DataFrame object, *pandas* did a little sleight of hand. It didn't really get rid of the original integer index. It just tells it to go and hide backstage so to speak. It is still there in the shadows and you can still use it:"
   ]
  },
  {
   "cell_type": "code",
   "execution_count": null,
   "metadata": {
    "colab": {},
    "colab_type": "code",
    "id": "iQaGH7Mm3ftV"
   },
   "outputs": [],
   "source": [
    "# Even though we changed the index to be the 'institution_name' column, \n",
    "# the original integer index is still hiding in the background.\n",
    "college_scorecard[0:5]"
   ]
  },
  {
   "cell_type": "markdown",
   "metadata": {
    "colab_type": "text",
    "id": "q5Cwm5GT3ftb"
   },
   "source": [
    "### Slicing `DataFrame` Objects by Columns"
   ]
  },
  {
   "cell_type": "markdown",
   "metadata": {
    "colab_type": "text",
    "id": "XhyhX1L33ftc"
   },
   "source": [
    "`DataFrame` objects have two properties, `loc` and `iloc` that allow you to slice both rows and columns of a `DataFrame` in a similar manner to slicing a 2-dimensional `ndarray`:\n",
    "* `loc`: Use this when you want to slice rows/columns based on their labels (ex. string based or non-zero based numeric indexes)\n",
    "* `iloc`: Use this to slice rows/columns based on their implicit integer indices."
   ]
  },
  {
   "cell_type": "markdown",
   "metadata": {
    "colab_type": "text",
    "id": "3K_CuuY_3ftd"
   },
   "source": [
    "First let's demonstrate using `iloc` as it is practically identical to slicing a 2-dimensional NumPy array:"
   ]
  },
  {
   "cell_type": "code",
   "execution_count": null,
   "metadata": {
    "colab": {},
    "colab_type": "code",
    "id": "Hcnc_jtz3ftf"
   },
   "outputs": [],
   "source": [
    "# This will retrieve rows 5-9 and columns 0-4\n",
    "college_scorecard.iloc[5:10, 0:5]"
   ]
  },
  {
   "cell_type": "markdown",
   "metadata": {
    "colab_type": "text",
    "id": "Saag1Vlr3ftm"
   },
   "source": [
    "We've already talked about how we currently have a hidden integer index for the rows of our *college_scorecard* `DataFrame`.  \n",
    "\n",
    "There is also a hidden integer index for the columns of a `DataFrame` (first column gets the 0 index, second column gets 1, etc). This is why we were able to pass `0:5` to retrieve the first 5 columns of the DataFrame when using the `iloc` attribute."
   ]
  },
  {
   "cell_type": "markdown",
   "metadata": {
    "colab_type": "text",
    "id": "7BMTU8bH3ftp"
   },
   "source": [
    "And now for a quick example of using the `loc` property to slice rows/columns by their labels:"
   ]
  },
  {
   "cell_type": "code",
   "execution_count": null,
   "metadata": {
    "colab": {},
    "colab_type": "code",
    "id": "fdKuRfUe3fts"
   },
   "outputs": [],
   "source": [
    "college_scorecard.loc[\n",
    "    \"Southwest University of Visual Arts-Tucson\":\"Thunderbird School of Global Management\", # Slice the rows\n",
    "    \"institution_name\": \"url\" # Slice the columns\n",
    "] "
   ]
  },
  {
   "cell_type": "markdown",
   "metadata": {
    "colab_type": "text",
    "id": "Hsg7BzMd3ft2"
   },
   "source": [
    "#### .loc Slices Include the 'End' Element\n",
    "Again, it's very important to remember one interesting aspect of `.loc` behavior. \n",
    "\n",
    "Unlike normal slice notation, those done with this attribute will **include** the element at the `end` of your slice. You can see this in the example above.\n",
    "\n",
    "This is the opposite of normal slicing and when using `.iloc`. *Make sure to remember this or you will get quite confused at times.*"
   ]
  },
  {
   "cell_type": "markdown",
   "metadata": {
    "colab_type": "text",
    "id": "60tyDbT93ft7"
   },
   "source": [
    "### Masking\n",
    "You are already quite familiar with masking based on your work in NumPy. Masking is also used in *pandas*, but here a mask can be used to filter the entire `DataFrame` - not just one `Series`. \n",
    "\n",
    "Let's demonstrate with a simple example:"
   ]
  },
  {
   "cell_type": "code",
   "execution_count": null,
   "metadata": {
    "colab": {},
    "colab_type": "code",
    "id": "OjLuwM5M3ft9"
   },
   "outputs": [],
   "source": [
    "# First, let's create a mask using a comparison function\n",
    "# based on which rows have a \"state\" value of `IN`\n",
    "mask = college_scorecard['state'] == 'IN'\n",
    "\n",
    "# Now display the first 10 rows of our object\n",
    "# so that you can see what it looks like\n",
    "mask[:10]"
   ]
  },
  {
   "cell_type": "markdown",
   "metadata": {
    "colab_type": "text",
    "id": "XOGHR6BW3fuE"
   },
   "source": [
    "Ok, now notice what is returned here. It is boolean `Series` object. Very similar to the Boolean `ndarray` that would be returned in a similar operation from NumPy.\n",
    "\n",
    "The key difference here is the presence of the index \"column\". The boolean values of the Series are tied to specific index values. What this means is that we can take this mask and apply it to any other *pandas* object where these index values are present, including entire `DataFrame` objects.\n",
    "\n",
    "Let's take our mask and apply it to our `college_scorecard` DataFrame and inspect the results:"
   ]
  },
  {
   "cell_type": "code",
   "execution_count": null,
   "metadata": {
    "colab": {},
    "colab_type": "code",
    "id": "Sd-8CRdU3fuI"
   },
   "outputs": [],
   "source": [
    "college_scorecard[mask]"
   ]
  },
  {
   "cell_type": "markdown",
   "metadata": {
    "colab_type": "text",
    "id": "UR-ED1pO3fuW"
   },
   "source": [
    "Can you see how all the rows of our resulting `DataFrame` are for institutions in Indiana (IN)? That is so awesome! This ability in Pandas allows you to focus on the data you want to analyze from a larger data set in almost no time at all."
   ]
  },
  {
   "cell_type": "code",
   "execution_count": null,
   "metadata": {
    "colab": {},
    "colab_type": "code",
    "id": "siXZ_mKx3fuZ"
   },
   "outputs": [],
   "source": [
    "# Just like in NumPy, you can use BITWISE operators to \n",
    "# combine multiple comparisons into a single mask.\n",
    "\n",
    "# For example, which colleges in NY primarily offer Bachelors degrees?\n",
    "# Remember that parentheses are important when joining comparisons.\n",
    "mask = (college_scorecard['state'] == 'NY') & (college_scorecard['predominant_degree_desc'] == 'Bachelors')\n",
    "college_scorecard[mask]"
   ]
  },
  {
   "cell_type": "markdown",
   "metadata": {
    "colab_type": "text",
    "id": "tenol_A03fuf"
   },
   "source": [
    "<div class=\"alert alert-block alert-info\">\n",
    "<p>\n",
    "All the standard comparison operators that you used on NumPy arrays are also available on <em>pandas</em> objects.\n",
    "</p>\n",
    "</div> "
   ]
  },
  {
   "cell_type": "markdown",
   "metadata": {
    "colab_type": "text",
    "id": "ZEeoaRNC3fun"
   },
   "source": [
    "## Selecting Data from `Series` Objects"
   ]
  },
  {
   "cell_type": "markdown",
   "metadata": {
    "colab_type": "text",
    "id": "Bw4HJN3R3fuq"
   },
   "source": [
    "Let's start by grabbing the `url` series object out of our *DataFrame*:"
   ]
  },
  {
   "cell_type": "code",
   "execution_count": null,
   "metadata": {
    "colab": {},
    "colab_type": "code",
    "id": "g8TsuGv33fuz"
   },
   "outputs": [],
   "source": [
    "url_series = college_scorecard['url']\n",
    "url_series.head()"
   ]
  },
  {
   "cell_type": "markdown",
   "metadata": {
    "colab_type": "text",
    "id": "vGXhUQaH3fu8"
   },
   "source": [
    "As a reminder, a `Series` object is comprised of an explicit index and the values. **Notice here that our `Series` object inherits the 'institution_name' column values as the index from the `DataFrame`.**"
   ]
  },
  {
   "cell_type": "markdown",
   "metadata": {
    "colab_type": "text",
    "id": "d3aRZc_n3fu9"
   },
   "source": [
    "Several of the methods available on Python **`dict`** objects are also available on `Series` objects. The reason that this is possible is because Pandas maintains a mapping relationship between the explicit index elements and the Series values - just like standard Python does between the keys & values of a dictionary.  "
   ]
  },
  {
   "cell_type": "markdown",
   "metadata": {
    "colab_type": "text",
    "id": "ptA3SbMP3fvJ"
   },
   "source": [
    "#### Value Retrieval via Index \"Key\"\n",
    "You can retrieve a value from the `Series` by passing it the index \"key\" you are interested in."
   ]
  },
  {
   "cell_type": "code",
   "execution_count": null,
   "metadata": {
    "colab": {},
    "colab_type": "code",
    "id": "cuKYrhLG3fvK"
   },
   "outputs": [],
   "source": [
    "url_series['University of Notre Dame']"
   ]
  },
  {
   "cell_type": "markdown",
   "metadata": {
    "colab_type": "text",
    "id": "RAFqXvT03fvQ"
   },
   "source": [
    "#### `keys()` and  `items()` methods\n",
    "These methods, which exist on all Python dictionaries, are also available on `Series` objects."
   ]
  },
  {
   "cell_type": "code",
   "execution_count": null,
   "metadata": {
    "colab": {},
    "colab_type": "code",
    "id": "B4Lo-Llq3fvS"
   },
   "outputs": [],
   "source": [
    "# Series.keys() returns all the elements of the Series index\n",
    "# and is equivalent to calling Series.index\n",
    "url_series.keys()"
   ]
  },
  {
   "cell_type": "code",
   "execution_count": null,
   "metadata": {
    "colab": {},
    "colab_type": "code",
    "id": "v_Hk1sZP3fvZ"
   },
   "outputs": [],
   "source": [
    "# Series.iteritems() returns something called an iterator, which \n",
    "# is a special type of object that will generate a new value \n",
    "# from an existing data structure each time you ask for it.\n",
    "\n",
    "smaller_sized_series = url_series[0:10]\n",
    "    \n",
    "for record in smaller_sized_series.iteritems():\n",
    "    print(record)"
   ]
  },
  {
   "cell_type": "code",
   "execution_count": null,
   "metadata": {
    "colab": {},
    "colab_type": "code",
    "id": "Aapx1mHSA_oL"
   },
   "outputs": [],
   "source": [
    "# If you remember how method chaining works, you can simplify \n",
    "# what we just did into the following. \n",
    "for record in url_series[0:10].iteritems():\n",
    "    print(record)"
   ]
  },
  {
   "cell_type": "code",
   "execution_count": null,
   "metadata": {},
   "outputs": [],
   "source": [
    "# DataFrame.iterrows() also returns an iterator but on a DataFrame. \n",
    "# It enables you to loop through each row in a DataFrame, returning an iterator\n",
    "# containing the index of each row and the data for that row as a Series."
   ]
  },
  {
   "cell_type": "code",
   "execution_count": null,
   "metadata": {},
   "outputs": [],
   "source": [
    "for idx, row in college_scorecard.iterrows():\n",
    "    print(idx)  "
   ]
  },
  {
   "cell_type": "code",
   "execution_count": null,
   "metadata": {},
   "outputs": [],
   "source": [
    "for idx, row in college_scorecard.iterrows():\n",
    "    print(row['url'])  "
   ]
  },
  {
   "cell_type": "code",
   "execution_count": null,
   "metadata": {},
   "outputs": [],
   "source": [
    "for idx, row in college_scorecard.iterrows():\n",
    "    print(\"The URL for \" + idx + \" is \" + row['url'])  "
   ]
  },
  {
   "cell_type": "markdown",
   "metadata": {
    "colab_type": "text",
    "id": "3_AAlZNV3fve"
   },
   "source": [
    "### Slicing with Explicit Indexes & Implicit Indexes"
   ]
  },
  {
   "cell_type": "markdown",
   "metadata": {
    "colab_type": "text",
    "id": "LJ1Xyr7k3fvg"
   },
   "source": [
    "Just as we saw with `DataFrame` objects, you can use both the explicit index (i.e. labels) and the implicit index (always integers) to retrieve data via slice notation on a `Series` object."
   ]
  },
  {
   "cell_type": "code",
   "execution_count": null,
   "metadata": {
    "colab": {},
    "colab_type": "code",
    "id": "rjHHgYsN3fvh"
   },
   "outputs": [],
   "source": [
    "# Slicing by the explicit index\n",
    "# Remember that the 'end' element will be included in the results\n",
    "url_series['Stanford University':'University of Notre Dame']"
   ]
  },
  {
   "cell_type": "markdown",
   "metadata": {
    "colab_type": "text",
    "id": "KKAGg89b3fvs"
   },
   "source": [
    "<div class=\"alert alert-block alert-info\">\n",
    "<p>\n",
    "It is important to note that the reverse request, `url_series['University of Notre Dame': 'Stanford University']` would have yielded no results.\n",
    "</p>\n",
    "<p>\n",
    "This is because Notre Dame appears after Stanford in the CSV file. Remember that, technically, the first item in a slice notation is the 'start' and the second is the 'end'. It is important that you have them in the right order.\n",
    "</p>\n",
    "</div> "
   ]
  },
  {
   "cell_type": "code",
   "execution_count": null,
   "metadata": {
    "colab": {},
    "colab_type": "code",
    "id": "4RgzDPnB3fvt"
   },
   "outputs": [],
   "source": [
    "# Using the implicit hidden integer index \n",
    "# to slice off the last 10 elements in the Series\n",
    "url_series[-10:]"
   ]
  },
  {
   "cell_type": "markdown",
   "metadata": {
    "colab_type": "text",
    "id": "t8h6Dtc03fv3"
   },
   "source": [
    "### Series Masking\n",
    "You can do masking on `Series` objects in the same way you did with NumPy Arrays. The only difference is that your results will always include the index values along with the data values."
   ]
  },
  {
   "cell_type": "code",
   "execution_count": null,
   "metadata": {
    "colab": {},
    "colab_type": "code",
    "id": "fqVSzLq33fv3"
   },
   "outputs": [],
   "source": [
    "# Let's get a new Series object with numeric data on SAT average scores.\n",
    "sat_average_series = college_scorecard['sat_average']"
   ]
  },
  {
   "cell_type": "code",
   "execution_count": null,
   "metadata": {
    "colab": {},
    "colab_type": "code",
    "id": "euuQNLcs3fv6"
   },
   "outputs": [],
   "source": [
    "# Return schools with SAT averages over 1400\n",
    "sat_average_series[sat_average_series > 1400]"
   ]
  },
  {
   "cell_type": "code",
   "execution_count": null,
   "metadata": {
    "colab": {},
    "colab_type": "code",
    "id": "s81w6z-W3fv-"
   },
   "outputs": [],
   "source": [
    "# You can build up multiple comparisons in your masks as normal.\n",
    "\n",
    "# What schools have averages between 1400 & 1500?\n",
    "# Remember the parentheses for these are important!\n",
    "sat_average_series[(sat_average_series >= 1400) & (sat_average_series <=1500)]"
   ]
  },
  {
   "cell_type": "markdown",
   "metadata": {
    "colab_type": "text",
    "id": "A2tOPujW3fwB"
   },
   "source": [
    "We demonstrated above how you can apply a mask to an entire `DataFrame` object. You can also apply them directly to another `Series`. This is the same thing we did in NumPy when we would apply a mask from one array to another array with the same index values."
   ]
  },
  {
   "cell_type": "code",
   "execution_count": null,
   "metadata": {
    "colab": {},
    "colab_type": "code",
    "id": "MkhddaTb3fwC"
   },
   "outputs": [],
   "source": [
    "# Generate a mask from one series with a compound comparison.\n",
    "mask = (sat_average_series >= 1400) & (sat_average_series <=1500)\n",
    "\n",
    "# Then apply it to another series.\n",
    "# This gives us all the states with colleges where the\n",
    "# average SAT score are between 1400 and 1500.\n",
    "college_scorecard['state'][mask]"
   ]
  },
  {
   "cell_type": "markdown",
   "metadata": {
    "colab_type": "text",
    "id": "ajbIQ8t73fwE"
   },
   "source": [
    "### Unique Values\n",
    "In NumPy we had the convenient `np.unique()` function that would return all the unique value in an *ndarray*. Not surprisingly, *pandas* has a method that provides that same functionality for *Series* objects."
   ]
  },
  {
   "cell_type": "code",
   "execution_count": null,
   "metadata": {
    "colab": {},
    "colab_type": "code",
    "id": "mGHsEpsX3fwG"
   },
   "outputs": [],
   "source": [
    "# Obtain the unique retention rates from our DataFrame\n",
    "college_scorecard['predominant_degree_desc'].unique()"
   ]
  },
  {
   "cell_type": "markdown",
   "metadata": {
    "colab_type": "text",
    "id": "jGWx5qj77NuA"
   },
   "source": [
    "Notice a couple of things here:\n",
    "1. The object returned from this method is a NumPy array, **not** a Series. This is somewhat surprising.\n",
    "2. Unlike the np.unique() function, the results of this method are **not** sorted by default. You would have to do that yourself."
   ]
  },
  {
   "cell_type": "code",
   "execution_count": null,
   "metadata": {
    "colab": {},
    "colab_type": "code",
    "id": "Agnjg1oS3fwK"
   },
   "outputs": [],
   "source": [
    "# Sorting the results of unique()\n",
    "# Remember that we are dealing with a NumPy array here\n",
    "# so we are sorting using NumPy.\n",
    "unique_retention_rates = college_scorecard['predominant_degree_desc'].unique()\n",
    "np.sort(unique_retention_rates)"
   ]
  },
  {
   "cell_type": "markdown",
   "metadata": {
    "colab_type": "text",
    "id": "rjptsb4p3fwF"
   },
   "source": [
    "**Note**  \n",
    "The preceding method is not supported on `DataFrame` objects. To find unique rows of a DataFrame, use pandas's drop_duplicates() function."
   ]
  },
  {
   "cell_type": "markdown",
   "metadata": {},
   "source": [
    "### Sorting a DataFrame"
   ]
  },
  {
   "cell_type": "code",
   "execution_count": null,
   "metadata": {},
   "outputs": [],
   "source": [
    "# Sort the college_scorecard DataFrame by predominant_degree_code\n",
    "college_scorecard.sort_values(by=['predominant_degree_code'])"
   ]
  },
  {
   "cell_type": "code",
   "execution_count": null,
   "metadata": {},
   "outputs": [],
   "source": [
    "# Sort by predominant_degree_code and median_student_earnings\n",
    "college_scorecard.sort_values(by=['predominant_degree_code', 'median_student_earnings'])"
   ]
  },
  {
   "cell_type": "markdown",
   "metadata": {},
   "source": [
    "## Exercise\n",
    "Find the college in each city with the highest median student earnings.\n",
    "Steps: 1) Sort the college_scorecard DataFrame by city, state and descending order of median student earnings (highest earnings appears first). 2) Use drop_duplicates to check for duplicated city and state values and keep the first of the duplicates. Feel free to google it!"
   ]
  },
  {
   "cell_type": "code",
   "execution_count": null,
   "metadata": {},
   "outputs": [],
   "source": []
  }
 ],
 "metadata": {
  "colab": {
   "collapsed_sections": [],
   "name": "3.3 - Pandas Data Selection.ipynb",
   "provenance": [],
   "toc_visible": true,
   "version": "0.3.2"
  },
  "kernelspec": {
   "display_name": "Python 3",
   "language": "python",
   "name": "python3"
  },
  "language_info": {
   "codemirror_mode": {
    "name": "ipython",
    "version": 3
   },
   "file_extension": ".py",
   "mimetype": "text/x-python",
   "name": "python",
   "nbconvert_exporter": "python",
   "pygments_lexer": "ipython3",
   "version": "3.7.3"
  }
 },
 "nbformat": 4,
 "nbformat_minor": 1
}
