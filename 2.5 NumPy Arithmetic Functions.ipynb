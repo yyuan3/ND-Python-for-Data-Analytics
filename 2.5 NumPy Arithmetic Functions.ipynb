{
 "cells": [
  {
   "cell_type": "markdown",
   "metadata": {
    "colab_type": "text",
    "id": "muyI3U5PRmPJ"
   },
   "source": [
    "# Tutorial 2.5: NumPy Arithmetic Functions\n",
    "Python for Data Analytics | Module 2  \n",
    "Professor James Ng"
   ]
  },
  {
   "cell_type": "markdown",
   "metadata": {
    "colab_type": "text",
    "id": "Qns8zv92RmPK"
   },
   "source": [
    "In this tutorial, we will explore a number of ways to perform mathematical calculations on Numpy arrays. But, before we get started with that, let's take a bit of an educational diversion."
   ]
  },
  {
   "cell_type": "markdown",
   "metadata": {
    "colab_type": "text",
    "id": "JaLGD_cYRmPL"
   },
   "source": [
    "## A Speed Demonstration\n",
    "There have been a number of times that I've mentioned that NumPy `ndarray` objects provide massive speed improvements in comparison with standard `list` objects when performing equivalent tasks.\n",
    "\n",
    "Let's take a moment to demonstrate how much of a difference there can be. I'll use an example here that is very similar to one that you will find in in the *Python Data Science Handbook* by Jake Vanderplas.\n",
    "\n",
    "First we will demonstrate the amount of time it takes to calculate the reciprocal value for every item in a list. Then we will demonstrate the same operation using NumPy and compare the difference."
   ]
  },
  {
   "cell_type": "code",
   "execution_count": null,
   "metadata": {
    "colab": {},
    "colab_type": "code",
    "id": "QEDHUZ3_RmPN"
   },
   "outputs": [],
   "source": [
    "# Standard Imports\n",
    "import numpy as np\n",
    "import pandas as pd\n",
    "np.random.seed(0)"
   ]
  },
  {
   "cell_type": "code",
   "execution_count": null,
   "metadata": {
    "colab": {},
    "colab_type": "code",
    "id": "nDwkmVx2SGQr"
   },
   "outputs": [],
   "source": [
    "# Define a function with a single parameter \n",
    "# which will be a list. It will return another list\n",
    "# with the reciprocal values of the original list.\n",
    "def compute_reciprocals(a_list): \n",
    "    \n",
    "    # Create an empty list called `output` to hold our results\n",
    "    output = list()\n",
    "    \n",
    "    # Operator on each item in the `a_list` parameter,\n",
    "    for value in a_list:\n",
    "\n",
    "        # Add a new element to the `output` list that is \n",
    "        # the reciprocal value of the original element.\n",
    "        output.append(1.0 / value)\n",
    "        \n",
    "    # Return the new array.   \n",
    "    return output\n",
    "        \n",
    "# Call our function with an array with the numbers 1, 2, 3, 4, 5\n",
    "small_example = [1, 2, 3, 4, 5]\n",
    "compute_reciprocals(small_example)"
   ]
  },
  {
   "cell_type": "markdown",
   "metadata": {
    "colab_type": "text",
    "id": "n46UkGzMRmPV"
   },
   "source": [
    "Alright, now let's time how long that operation takes with `%time` magic command:"
   ]
  },
  {
   "cell_type": "code",
   "execution_count": null,
   "metadata": {
    "colab": {},
    "colab_type": "code",
    "id": "g1u3sp-sRmPV"
   },
   "outputs": [],
   "source": [
    "%time compute_reciprocals(small_example)"
   ]
  },
  {
   "cell_type": "markdown",
   "metadata": {
    "colab_type": "text",
    "id": "5_vK1iMRRmPZ"
   },
   "source": [
    "Ok, that was fast. Actually, that was *really* fast. So far, Python is looking pretty good.\n",
    "\n",
    "But...we were only dealing with an array of 5 elements. No self-respecting data scientist does that! Let's try again with an array of 5 million elements!"
   ]
  },
  {
   "cell_type": "code",
   "execution_count": null,
   "metadata": {
    "colab": {},
    "colab_type": "code",
    "id": "5kKQWTGBRmPb"
   },
   "outputs": [],
   "source": [
    "# After you submit this, you're gonna have to wait a few seconds for the result\n",
    "\n",
    "# First, create a `ndarray` of 5 million random numbers between 1 & 100\n",
    "# Then convert it to a list and send it to our `compute_reciprocals()` function.\n",
    "big_list = list(np.random.randint(1, 100, size=5000000))\n",
    "test = %time compute_reciprocals(big_list)"
   ]
  },
  {
   "cell_type": "markdown",
   "metadata": {
    "colab_type": "text",
    "id": "WC24BB3SRmPe"
   },
   "source": [
    "**That took a while.**\n",
    "\n",
    "It might not seem like much, but there is no way that's gonna work for us when we've got big data sets to evaluate.\n",
    "\n",
    "The crux of the problem here is that, for each item in the list, Python is evaluating the data type. It has to do this in order to know how to apply the mathematical operation to it."
   ]
  },
  {
   "cell_type": "markdown",
   "metadata": {
    "colab_type": "text",
    "id": "ZOsB2iRZRmPg"
   },
   "source": [
    "## UFuncs to the Rescue\n",
    "\n",
    "The NumPy package has **UFuncs**, or **Universal Functions** which can dramatically speed up operations on `ndarray` elements. They are also referred to as **vectorized** operations. You've actually already used some of these when you did array comparisons.\n",
    "\n",
    "Basically, these functions push loop processing into the C code that lies underneath Python/NumPy so that operations are performed much faster than normal. We don't need to understand the specifics of how this is accomplished - just the knowledge that it *does* happen.\n",
    "\n",
    "This only works because all the data elements of an array are of the same type."
   ]
  },
  {
   "cell_type": "markdown",
   "metadata": {
    "colab_type": "text",
    "id": "j8XY5O0FRmPh"
   },
   "source": [
    "### A speed comparison, if you please...\n",
    "So, as a reminder, our `compute_reciprocals` function simply takes a `list` and then returns another `list` whose values are the reciprocals of the original array values."
   ]
  },
  {
   "cell_type": "markdown",
   "metadata": {
    "colab_type": "text",
    "id": "J-t2SXqqRmPi"
   },
   "source": [
    "Now I will demonstrate the same operation using a Numpy UFuncs, which we will just refer to as **Vectorized Numpy Functions**. I'll explain a bit more about what is going on behind the scenes of this syntax below. For now, just focus on the speed difference."
   ]
  },
  {
   "cell_type": "code",
   "execution_count": null,
   "metadata": {
    "colab": {},
    "colab_type": "code",
    "id": "eKeUhkPFRmPi"
   },
   "outputs": [],
   "source": [
    "# Get an equivalent array of 1 million elements\n",
    "# the list we created previously\n",
    "big_array = np.random.randint(1, 100, size=5000000)\n",
    "\n",
    "# Now time the UFunc approach.\n",
    "# Remember, the other way took a looooong time.\n",
    "%time np.divide(1.0, big_array)"
   ]
  },
  {
   "cell_type": "markdown",
   "metadata": {
    "colab_type": "text",
    "id": "EkPz_l7YRmPn"
   },
   "source": [
    "*We just went from seconds to milliseconds.* \n",
    "\n",
    "**That's an incredible increase in speed.**"
   ]
  },
  {
   "cell_type": "markdown",
   "metadata": {
    "colab_type": "text",
    "id": "cNgKp6ApRmPo"
   },
   "source": [
    "## Arithmetic Vertorized Functions\n",
    "As we just demonstrated, there is a vectorized Numpy function for division. It probably will not surprise you then to discover that all the normal Python arithmetic operations are replicated with NumPy equivalents.\n",
    "\n",
    "Here are some examples:"
   ]
  },
  {
   "cell_type": "code",
   "execution_count": null,
   "metadata": {
    "colab": {},
    "colab_type": "code",
    "id": "Tz_uHjZeRmPo"
   },
   "outputs": [],
   "source": [
    "# Given a `simple_int_array`\n",
    "simple_int_array = np.array([1, 2, 3, 4, 5])\n",
    "simple_int_array"
   ]
  },
  {
   "cell_type": "code",
   "execution_count": null,
   "metadata": {
    "colab": {},
    "colab_type": "code",
    "id": "qRkY7I4hRmPt"
   },
   "outputs": [],
   "source": [
    "# Add 5 to each array element\n",
    "simple_int_array + 5"
   ]
  },
  {
   "cell_type": "code",
   "execution_count": null,
   "metadata": {
    "colab": {},
    "colab_type": "code",
    "id": "-fe4aJkoRmPw"
   },
   "outputs": [],
   "source": [
    "# Subtract 10 from each element\n",
    "simple_int_array - 10"
   ]
  },
  {
   "cell_type": "code",
   "execution_count": null,
   "metadata": {
    "colab": {},
    "colab_type": "code",
    "id": "737ovpl5RmP1"
   },
   "outputs": [],
   "source": [
    "# Subtract each element from 10\n",
    "10 - simple_int_array"
   ]
  },
  {
   "cell_type": "code",
   "execution_count": null,
   "metadata": {
    "colab": {},
    "colab_type": "code",
    "id": "pp-hffg0RmP5"
   },
   "outputs": [],
   "source": [
    "# You can also perform multiple operations.\n",
    "# Standard order of operations is followed.\n",
    "\n",
    "# Raise each element to the 3rd power and subtract 10\n",
    "simple_int_array ** 3 - 10"
   ]
  },
  {
   "cell_type": "markdown",
   "metadata": {
    "colab_type": "text",
    "id": "NsouNI9VRmP8"
   },
   "source": [
    "<div class=\"alert alert-block alert-info\">\n",
    "<h4>Feeling curious?</h4>\n",
    "Go ahead and try to do any of these operations with a `list` object. You won't like the results.\n",
    "</div> "
   ]
  },
  {
   "cell_type": "markdown",
   "metadata": {},
   "source": [
    "## Quick Exercise: \n"
   ]
  },
  {
   "cell_type": "code",
   "execution_count": null,
   "metadata": {},
   "outputs": [],
   "source": [
    "# From `mylist` below, create a new list that contains each element subtracted by 10.\n",
    "mylist = [11, 12, 13, 14, 15]\n",
    "    "
   ]
  },
  {
   "cell_type": "markdown",
   "metadata": {
    "colab_type": "text",
    "id": "wu1cUjotRmP-"
   },
   "source": [
    "### So, what is NumPy actually doing here?\n",
    "Behind the scenes of vectorized functions, NumPy is executing a loop. This is true for all the examples we just demonstrated. \n",
    "\n",
    "When NumPy sees `simple_int_array + 5`, it interprets that as, \"add 5 to each element of this array and return the results as a new array\". NumPy always carries out the indicated operation on ***each element*** of the array object or objects that it is given.\n",
    "\n",
    "This was true when we used array comparison functions, and it is true here as well."
   ]
  },
  {
   "cell_type": "markdown",
   "metadata": {
    "colab_type": "text",
    "id": "0-TnojRRRmP_"
   },
   "source": [
    "### An Alternative Syntax\n",
    "In additional to using standard mathematical operators (i.e., + - * /, etc.) you can also accomplish the same thing by invoking the arithmetic functions by their names.\n",
    "\n",
    "For example:"
   ]
  },
  {
   "cell_type": "code",
   "execution_count": null,
   "metadata": {
    "colab": {},
    "colab_type": "code",
    "id": "weJ_6ZFrRmQA"
   },
   "outputs": [],
   "source": [
    "# Add 3.5 to each element of our `simple_int_array`\n",
    "# Notice how the ints are \"upcasted\" to floats?\n",
    "np.add(3.5, simple_int_array)\n"
   ]
  },
  {
   "cell_type": "code",
   "execution_count": null,
   "metadata": {
    "colab": {},
    "colab_type": "code",
    "id": "Juk5ti5-RmQG"
   },
   "outputs": [],
   "source": [
    "# Divide each array element by 3\n",
    "np.divide(simple_int_array, 4)"
   ]
  },
  {
   "cell_type": "code",
   "execution_count": null,
   "metadata": {
    "colab": {},
    "colab_type": "code",
    "id": "FqOwGT4gRmQJ"
   },
   "outputs": [],
   "source": [
    "# And notice that the order of parameters is important\n",
    "# when dividing and substracting...\n",
    "\n",
    "# This...\n",
    "print(np.divide(4, simple_int_array))\n",
    "\n",
    "# Is very different than this...\n",
    "print(np.divide(simple_int_array, 4))"
   ]
  },
  {
   "cell_type": "markdown",
   "metadata": {
    "colab_type": "text",
    "id": "ERV8MUD4RmQM"
   },
   "source": [
    "Here is the summary table of common arithmetic functions available to you:"
   ]
  },
  {
   "cell_type": "markdown",
   "metadata": {
    "colab_type": "text",
    "id": "eJ2Z36VVRmQN"
   },
   "source": [
    "| Operator      | Equivalent ufunc    | Description |                         \n",
    "|---------------|---------------------|---------------------------------------|\n",
    "|``+``          |``np.add``           |Addition (e.g., ``1 + 1 = 2``)         |\n",
    "|``-``          |``np.subtract``      |Subtraction (e.g., ``3 - 2 = 1``)      |\n",
    "|``-``          |``np.negative``      |Unary negation (e.g., ``-2``)          |\n",
    "|``*``          |``np.multiply``      |Multiplication (e.g., ``2 * 3 = 6``)   |\n",
    "|``/``          |``np.divide``        |Division (e.g., ``3 / 2 = 1.5``)       |\n",
    "|``//``         |``np.floor_divide``  |Floor division (e.g., ``3 // 2 = 1``)  |\n",
    "|``**``         |``np.power``         |Exponentiation (e.g., ``2 ** 3 = 8``)  |\n",
    "|``%``          |``np.mod``           |Modulus/remainder (e.g., ``9 % 4 = 1``)|"
   ]
  },
  {
   "cell_type": "markdown",
   "metadata": {
    "colab_type": "text",
    "id": "ncWubOjwRmQO"
   },
   "source": [
    "## Operations between two NumPy arrays\n",
    "So far, we've only used one `ndarray` object when using the arithmetic functions. The other value in our operations has always been a \"scalar\" value. \n",
    "\n",
    "For those who are not programming experts, a **scalar** value simply means that is in an object with a single value -- like a number. This is opposed to a **container**-type object like a `list` or `ndarray` that holds multiple values.\n",
    "\n",
    "Now let's go through a few examples of using these functions with two arrays."
   ]
  },
  {
   "cell_type": "code",
   "execution_count": null,
   "metadata": {
    "colab": {},
    "colab_type": "code",
    "id": "c4_3Mt-YRmQP"
   },
   "outputs": [],
   "source": [
    "# Let's create two new arrays.\n",
    "# One will have the numbers 1-5 and the other 6-10.\n",
    "one_to_five = np.arange(1, 6)\n",
    "six_to_ten = np.arange(6, 11)\n",
    "\n",
    "print(one_to_five, six_to_ten)"
   ]
  },
  {
   "cell_type": "code",
   "execution_count": null,
   "metadata": {
    "colab": {},
    "colab_type": "code",
    "id": "Gq9vvX20RmQY"
   },
   "outputs": [],
   "source": [
    "# Now let's add them together.\n",
    "# Notice how it takes the 1st element of both arrays and adds them together,\n",
    "# then the second, and so on...\n",
    "np.add(one_to_five, six_to_ten)"
   ]
  },
  {
   "cell_type": "code",
   "execution_count": null,
   "metadata": {
    "colab": {},
    "colab_type": "code",
    "id": "1IeF4QGPRmQd"
   },
   "outputs": [],
   "source": [
    "# The same thing will happen with other operations.\n",
    "# Here will we divide each element of `one_to_five` by `six_to_ten`.\n",
    "one_to_five / six_to_ten"
   ]
  },
  {
   "cell_type": "markdown",
   "metadata": {
    "colab_type": "text",
    "id": "wdvvZ8FdRmQg"
   },
   "source": [
    "### Limits\n",
    "\n",
    "<p>Being able to perform mathematical operations between two arrays is a really powerful tool. But, take note that *this only works when you have two arrays of the same size and shape*.</p>\n",
    "</div>"
   ]
  }
 ],
 "metadata": {
  "colab": {
   "collapsed_sections": [],
   "name": "2.5 NumPy Arithmetic Functions.ipynb",
   "provenance": [],
   "version": "0.3.2"
  },
  "kernelspec": {
   "display_name": "Python 3",
   "language": "python",
   "name": "python3"
  },
  "language_info": {
   "codemirror_mode": {
    "name": "ipython",
    "version": 3
   },
   "file_extension": ".py",
   "mimetype": "text/x-python",
   "name": "python",
   "nbconvert_exporter": "python",
   "pygments_lexer": "ipython3",
   "version": "3.7.3"
  }
 },
 "nbformat": 4,
 "nbformat_minor": 1
}
