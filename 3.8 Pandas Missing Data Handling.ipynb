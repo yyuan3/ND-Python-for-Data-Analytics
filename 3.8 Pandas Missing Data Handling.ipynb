{
 "cells": [
  {
   "cell_type": "markdown",
   "metadata": {
    "colab_type": "text",
    "id": "oyqvgvKTG2zx"
   },
   "source": [
    "# Tutorial 3.8: Pandas - Handling Missing Data\n",
    "Python for Data Analytics | Module 3  \n",
    "Professor James Ng"
   ]
  },
  {
   "cell_type": "code",
   "execution_count": null,
   "metadata": {
    "colab": {},
    "colab_type": "code",
    "id": "fE4FxXOZG2z1"
   },
   "outputs": [],
   "source": [
    "# SETUP: DO NOT CHANGE\n",
    "import numpy as np\n",
    "import pandas as pd"
   ]
  },
  {
   "cell_type": "markdown",
   "metadata": {
    "colab_type": "text",
    "id": "PbjykPTJG2z4"
   },
   "source": [
    "In this tutorial, we will discuss how *`pandas`* represents missing data and experiment with the methods that are available to deal with missing data inside of `DataFrame` and `Series` objects."
   ]
  },
  {
   "cell_type": "code",
   "execution_count": null,
   "metadata": {
    "colab": {},
    "colab_type": "code",
    "id": "rjvLQzK0G2z5"
   },
   "outputs": [],
   "source": [
    "# Load the college scorecard admissions data set\n",
    "# which contains a bunch of info on SAT/ACT scores of \n",
    "# students at thousands of different universities\n",
    "!curl -L https://osf.io/ekwz5/download --create-dirs -o data-sets/college-scorecard-admissions.csv\n",
    "\n",
    "college_scorecard = pd.read_csv('https://www3.nd.edu/~jng2/college-scorecard-admissions.csv')\n",
    "college_scorecard.head()"
   ]
  },
  {
   "cell_type": "markdown",
   "metadata": {
    "colab_type": "text",
    "id": "VyHuAvkTG2z7"
   },
   "source": [
    "## How Missing Data is Represented in pandas"
   ]
  },
  {
   "cell_type": "markdown",
   "metadata": {
    "colab_type": "text",
    "id": "gNyORG1ZG2z7"
   },
   "source": [
    "In *`Series`* objects, missing data can be represented by two possible values: **`None`** and **`np.nan`**. The value that will be present in a given Series will be determined by the data type held in the series.\n",
    "\n",
    "If a given object has only numeric (and missing) values, then missing values will always be represented by `np.nan` objects, which simply appear as `NaN`.\n",
    "\n",
    "A good example of this is the SAT Average series in our `college_scorecard` object:"
   ]
  },
  {
   "cell_type": "code",
   "execution_count": null,
   "metadata": {
    "colab": {},
    "colab_type": "code",
    "id": "R4UmomdAG2z9"
   },
   "outputs": [],
   "source": [
    "# Grab the SAT Average series\n",
    "sat_average = college_scorecard['SAT_AVG']\n",
    "sat_average[:10]"
   ]
  },
  {
   "cell_type": "markdown",
   "metadata": {
    "colab_type": "text",
    "id": "2olk02d4G2z_"
   },
   "source": [
    "If a given series has as `dtype` of *object*, which generally results from having strings inside of it, then it is possible for missing values to be represented by either `None` or `np.nan`. Here is an example of a series where this occurs:"
   ]
  },
  {
   "cell_type": "code",
   "execution_count": null,
   "metadata": {
    "colab": {},
    "colab_type": "code",
    "id": "d-SRUVAgG20A"
   },
   "outputs": [],
   "source": [
    "missing_data_series = pd.Series(\n",
    "    ['We', 'have', '2', np.nan, None, 'pieces of missing data'])\n",
    "missing_data_series"
   ]
  },
  {
   "cell_type": "markdown",
   "metadata": {
    "colab_type": "text",
    "id": "14utY2pWG20D"
   },
   "source": [
    "In practical terms, at least for beginners, we can think of these two values as interchangable because the methods that we will introduce next will handle both of them seemlessly (because *pandas* is your friend)."
   ]
  },
  {
   "cell_type": "markdown",
   "metadata": {},
   "source": [
    "## Missing values in pandas vs numpy"
   ]
  },
  {
   "cell_type": "markdown",
   "metadata": {},
   "source": [
    "numpy includes NaN values in calculations, but pandas ignores them. That is, consider the mean of these numbers: [1, 2, NaN, 3].\n",
    "<br>Passing it to numpy.mean() will return NaN, but pandas's mean() will return 2."
   ]
  },
  {
   "cell_type": "code",
   "execution_count": null,
   "metadata": {},
   "outputs": [],
   "source": [
    "np.mean([1, 2, np.NaN, 3])"
   ]
  },
  {
   "cell_type": "code",
   "execution_count": null,
   "metadata": {},
   "outputs": [],
   "source": [
    "pd.DataFrame([1, 2, np.NaN, 3]).mean()"
   ]
  },
  {
   "cell_type": "markdown",
   "metadata": {},
   "source": [
    "This is an important difference. Which behavior is more correct depends on the situation. To force pandas to adopt numpy's behavior, specify skipna=False."
   ]
  },
  {
   "cell_type": "code",
   "execution_count": null,
   "metadata": {},
   "outputs": [],
   "source": [
    "pd.DataFrame([1, 2, np.NaN, 3]).mean(skipna=False)"
   ]
  },
  {
   "cell_type": "markdown",
   "metadata": {
    "colab_type": "text",
    "id": "8lJ1Z6TgG20E"
   },
   "source": [
    "## `Series` Methods for Handling Missing Data\n",
    "There are three common methods for dealing with missing data available to us: `isnull()`, `notnull()`, `dropna()`.\n",
    "\n",
    "We will first go over how to use them with *`Series`* objects and then we will discuss how they work with *`DataFrame`* objects."
   ]
  },
  {
   "cell_type": "markdown",
   "metadata": {
    "colab_type": "text",
    "id": "0SpL90QJG20E"
   },
   "source": [
    "### `isnull()`\n",
    "The `isnull()` method returns a boolean mask indicating which elements of a `Series` object are `np.nan` or `None`."
   ]
  },
  {
   "cell_type": "code",
   "execution_count": null,
   "metadata": {
    "colab": {},
    "colab_type": "code",
    "id": "tJvoeetBG20G"
   },
   "outputs": [],
   "source": [
    "# Use isnull() to generate a mask of which values in sat_average are missing.\n",
    "na_mask = sat_average.isnull()\n",
    "na_mask[:15]"
   ]
  },
  {
   "cell_type": "code",
   "execution_count": null,
   "metadata": {
    "colab": {},
    "colab_type": "code",
    "id": "zNCx693YG20I"
   },
   "outputs": [],
   "source": [
    "# As is true for any boolean mask, we can use this one to \n",
    "# pull out which indices have missing data.\n",
    "sat_average[na_mask][:15]"
   ]
  },
  {
   "cell_type": "code",
   "execution_count": null,
   "metadata": {
    "colab": {},
    "colab_type": "code",
    "id": "nzUw6raRG20L"
   },
   "outputs": [],
   "source": [
    "# You can also invert the mask to pull out non-missing records\n",
    "# You'll see there is another method that effectively does this in a moment.\n",
    "sat_average[~na_mask][:15]"
   ]
  },
  {
   "cell_type": "markdown",
   "metadata": {
    "colab_type": "text",
    "id": "RB5NCvXgG20O"
   },
   "source": [
    "**Pythonista Note**  \n",
    "Want to count the number of NaN records?\n",
    "\n",
    "Well, go ahead and try using the `count()` method. It won't work, \n",
    "because, if you remember, `count()` only counts non-null values.\n",
    "\n",
    "You can use the `len()` function instead like so: `len(sat_average[na_mask])`"
   ]
  },
  {
   "cell_type": "markdown",
   "metadata": {
    "colab_type": "text",
    "id": "V9wechtQG20O"
   },
   "source": [
    "### `notnull()`\n",
    "This method is the logical inverse of `isnull()`. Use it to return a boolean mask indicating which elements are not null. The results of this method can be used to pull back all non-null elements of a Series when used as a mask/filter."
   ]
  },
  {
   "cell_type": "code",
   "execution_count": null,
   "metadata": {
    "colab": {},
    "colab_type": "code",
    "id": "L2qv5b2mG20Q"
   },
   "outputs": [],
   "source": [
    "mask = sat_average.notnull()\n",
    "sat_average[mask].head()"
   ]
  },
  {
   "cell_type": "markdown",
   "metadata": {
    "colab_type": "text",
    "id": "IRKkJeisG20R"
   },
   "source": [
    "### `dropna()`\n",
    "Using `notnull()` to generate a mask and then applying it back to the original *Series* object is so common that the *`pandas`* developers created the convenience method *`dropna()`* which does both steps for you."
   ]
  },
  {
   "cell_type": "code",
   "execution_count": null,
   "metadata": {
    "colab": {},
    "colab_type": "code",
    "id": "qHjsXjTuG20S"
   },
   "outputs": [],
   "source": [
    "# This takes the place of the two statements in the previous example.\n",
    "sat_average.dropna()[:25]"
   ]
  },
  {
   "cell_type": "markdown",
   "metadata": {
    "colab_type": "text",
    "id": "Tm6eus-XG20q"
   },
   "source": [
    "## `DataFrame` Methods for Handling Missing Data\n",
    "Now let's cover how our missing data methods work with *`DataFrame`* objects."
   ]
  },
  {
   "cell_type": "markdown",
   "metadata": {
    "colab_type": "text",
    "id": "8BWK5oejG20r"
   },
   "source": [
    "We'll start by extracting a couple of SAT & ACT related Series from our original *DataFrame* so that we have something more managable to work with."
   ]
  },
  {
   "cell_type": "code",
   "execution_count": null,
   "metadata": {
    "colab": {},
    "colab_type": "code",
    "id": "Pq-OjxYcG20s"
   },
   "outputs": [],
   "source": [
    "subset_scorecard = college_scorecard[['SATVRMID', 'SATWRMID', 'ACTMTMID', 'ACTCMMID']]\n",
    "subset_scorecard.head()"
   ]
  },
  {
   "cell_type": "markdown",
   "metadata": {
    "colab_type": "text",
    "id": "r3dLTdohG20u"
   },
   "source": [
    "### `isnull()` & `notnull()`\n",
    "These methods work exactly as you'd expect them too, returning a `DataFrame` of boolean values indicating where missing values are or are not :`isnull()` or `notnull()` respectively."
   ]
  },
  {
   "cell_type": "markdown",
   "metadata": {
    "colab_type": "text",
    "id": "nNzRYCqgG20v"
   },
   "source": [
    "**Important: This is a Boolean Mask that is also a DataFrame!**\n",
    "\n",
    "Up until this point in our class, I believe we've only used single Series masks. When you have a DataFrame boolean mask, *pandas* will apply the mask based on the combintation of index and column name.\n",
    "\n",
    "Essentially you can think of it as a two-dimensional filter."
   ]
  },
  {
   "cell_type": "code",
   "execution_count": null,
   "metadata": {
    "colab": {},
    "colab_type": "code",
    "id": "JZOTX3AqG20w"
   },
   "outputs": [],
   "source": [
    "# Using isnull() to identify missing data in a DataFrame\n",
    "subset_scorecard.isnull().head()"
   ]
  },
  {
   "cell_type": "code",
   "execution_count": null,
   "metadata": {
    "colab": {},
    "colab_type": "code",
    "id": "llbrnm2PG20z"
   },
   "outputs": [],
   "source": [
    "# And notnull() does the opposite\n",
    "subset_scorecard.notnull().head()"
   ]
  },
  {
   "cell_type": "markdown",
   "metadata": {
    "colab_type": "text",
    "id": "BRgfKor1G201"
   },
   "source": [
    "**Do not use the results of `isnull()` or `notnull()` as a mask with DataFrame objects!**\n",
    "\n",
    "You may be tempted to use the results of `isnull()` or `notnull()` as a mask on a DataFrame to pull out the non-null values.\n",
    "\n",
    "This won't work as you expect. Use the next method instead."
   ]
  },
  {
   "cell_type": "markdown",
   "metadata": {
    "colab_type": "text",
    "id": "xzWk6_MdG202"
   },
   "source": [
    "### `dropna()`\n",
    "The `dropna()` method works in a similar fashion on `DataFrame` objects to what we've seen with `Series` objects. It does, however, have some additional parameters that can be used."
   ]
  },
  {
   "cell_type": "code",
   "execution_count": null,
   "metadata": {
    "colab": {},
    "colab_type": "code",
    "id": "WFwv-ubVG202"
   },
   "outputs": [],
   "source": [
    "# Simplest Usage\n",
    "subset_scorecard.dropna()[:10]"
   ]
  },
  {
   "cell_type": "markdown",
   "metadata": {
    "colab_type": "text",
    "id": "qc1Jf-G9G204"
   },
   "source": [
    "The default behavior of `dropna()` when used on a `DataFrame` is to drop all rows where *any* column has a missing value. You can adjust this so that rows will be included if there is at least one non-missing value with the **`how`** parameter."
   ]
  },
  {
   "cell_type": "code",
   "execution_count": null,
   "metadata": {
    "colab": {},
    "colab_type": "code",
    "id": "wUnxUEf3G20-"
   },
   "outputs": [],
   "source": [
    "# Specify 'all' as the value of `how`\n",
    "# To return all rows with at least one\n",
    "# non-missing value.\n",
    "subset_scorecard.dropna(how='all')[:10]"
   ]
  },
  {
   "cell_type": "markdown",
   "metadata": {
    "colab_type": "text",
    "id": "bBcgih6rG20_"
   },
   "source": [
    "Alternatively, you can use the `thresh` parameter to indicate the minimum number of non-missing values must be present in a given record (row) for it to be included in the results."
   ]
  },
  {
   "cell_type": "code",
   "execution_count": null,
   "metadata": {
    "colab": {},
    "colab_type": "code",
    "id": "dXAhtdDeG21A"
   },
   "outputs": [],
   "source": [
    "# Indicate that at least 3 non-NaN record must be present\n",
    "# in each record for it to be included.\n",
    "subset_scorecard.dropna(thresh=3).head()"
   ]
  },
  {
   "cell_type": "markdown",
   "metadata": {
    "colab_type": "text",
    "id": "rfLIWDM3G21C"
   },
   "source": [
    "You can also drop columns instead of rows by specifying a value of *columns* or 1 in the `axis` parameter:"
   ]
  },
  {
   "cell_type": "code",
   "execution_count": null,
   "metadata": {
    "colab": {},
    "colab_type": "code",
    "id": "V_gab2X6G21D"
   },
   "outputs": [],
   "source": [
    "# Note that this will actually drop all\n",
    "# of our columns, since they all have\n",
    "# NaN values in them.\n",
    "subset_scorecard.dropna(axis='columns')[:10]"
   ]
  },
  {
   "cell_type": "markdown",
   "metadata": {
    "colab_type": "text",
    "id": "8uGhi8QkG21G"
   },
   "source": [
    "And of course you could combine these parameters:"
   ]
  },
  {
   "cell_type": "code",
   "execution_count": null,
   "metadata": {
    "colab": {},
    "colab_type": "code",
    "id": "ES6nbXmgG21H"
   },
   "outputs": [],
   "source": [
    "# Drop all columns where there are not at least 1000 non-NaN values.\n",
    "subset_scorecard.dropna(axis='columns', thresh=1000)[:10]"
   ]
  },
  {
   "cell_type": "code",
   "execution_count": null,
   "metadata": {},
   "outputs": [],
   "source": []
  }
 ],
 "metadata": {
  "colab": {
   "collapsed_sections": [],
   "name": "4.1 - Pandas Missing Data Handling.ipynb",
   "provenance": [],
   "toc_visible": true,
   "version": "0.3.2"
  },
  "kernelspec": {
   "display_name": "Python 3",
   "language": "python",
   "name": "python3"
  },
  "language_info": {
   "codemirror_mode": {
    "name": "ipython",
    "version": 3
   },
   "file_extension": ".py",
   "mimetype": "text/x-python",
   "name": "python",
   "nbconvert_exporter": "python",
   "pygments_lexer": "ipython3",
   "version": "3.7.3"
  }
 },
 "nbformat": 4,
 "nbformat_minor": 1
}
