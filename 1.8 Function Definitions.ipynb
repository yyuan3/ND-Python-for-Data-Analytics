{
 "cells": [
  {
   "cell_type": "markdown",
   "metadata": {
    "colab_type": "text",
    "id": "aMmutpbH5t5Y"
   },
   "source": [
    "# Tutorial 1.8: Defining Functions\n",
    "Python for Data Analytics  \n",
    "Module 1"
   ]
  },
  {
   "cell_type": "markdown",
   "metadata": {
    "colab_type": "text",
    "id": "wUeqhTnL5t5Z"
   },
   "source": [
    "## What is a function?\n",
    "Essentially, a **function** is a name that you attach to a block of code that you want to be able to execute multiple times. You can pass values into the code block and you can get values back from it.\n",
    "\n",
    "A related concept is a **method**, which is a function that is attached to a specific object and has access to all of the data inside the object. In comparison, functions do not belong to objects and therefore to not have direct access to the data in them. You have to provide functions with all of the data/objects that they are supposed to operate on or with.\n",
    "\n",
    "You have used functions and methods throughout many times in our class already. For example, `print()` is a function and `list.append()` is a method.\n",
    "\n",
    "Now it is time for you to learn how to create your own functions."
   ]
  },
  {
   "cell_type": "markdown",
   "metadata": {
    "colab_type": "text",
    "id": "GLqADmoG5t5a"
   },
   "source": [
    "## Creating Functions\n",
    "You create a function with a **function definition** statement. Here is the simplest form I can imagine:"
   ]
  },
  {
   "cell_type": "code",
   "execution_count": null,
   "metadata": {
    "colab": {},
    "colab_type": "code",
    "id": "YtVY6_mq5t5b"
   },
   "outputs": [],
   "source": [
    "def function_name():\n",
    "    pass"
   ]
  },
  {
   "cell_type": "markdown",
   "metadata": {
    "colab_type": "text",
    "id": "q_rf2e6J5t5d"
   },
   "source": [
    "The keyword `def` indicates that this is a function definition. What follows is the name you want to give the function along with a pair of parentheses `()` and a colon `:`.\n",
    "\n",
    "As with many other statements, the colon indicates the start of a nested code block which will belong to the function. Everything in this code block will execute when the function is called later on in your program.\n",
    "\n",
    "In this case, you can see that there is only a single `pass` statement inside the nested code block. So, this function literally does nothing."
   ]
  },
  {
   "cell_type": "markdown",
   "metadata": {
    "colab_type": "text",
    "id": "C5U3QY0j5t5e"
   },
   "source": [
    "### Functions that Return Value(s)\n",
    "So far, our function definition is pretty underwhelming. If you called (executed) it, nothing would happen.  Let's change that and return a value from it."
   ]
  },
  {
   "cell_type": "code",
   "execution_count": null,
   "metadata": {
    "colab": {},
    "colab_type": "code",
    "id": "yiCPoGKl5t5f"
   },
   "outputs": [],
   "source": [
    "def function_that_returns():\n",
    "    return 5\n",
    "    print('Hello')"
   ]
  },
  {
   "cell_type": "markdown",
   "metadata": {
    "colab_type": "text",
    "id": "C-7bUp6g5t5i"
   },
   "source": [
    "Inside of a function, the `return` statement will immediately stop all further processing and return whatever object(s) are specified after it. \n",
    "\n",
    "What that means in our function defined here is that the number `5` will be returned and the `print()` function will never be executed.  Let's demonstrate:"
   ]
  },
  {
   "cell_type": "code",
   "execution_count": null,
   "metadata": {
    "colab": {},
    "colab_type": "code",
    "id": "0PW_GNzg5t5i"
   },
   "outputs": [],
   "source": [
    "# Execute our function\n",
    "# Notice that we put parenthesis at the end...\n",
    "# This tells Python to execute it.\n",
    "function_that_returns()"
   ]
  },
  {
   "cell_type": "markdown",
   "metadata": {
    "colab_type": "text",
    "id": "Cm1jNdxV5t5l"
   },
   "source": [
    "**Pythonista Tip: **\n",
    "What does it mean to \"return\" something? \n",
    "\n",
    "It means to pass back a value to the part of the program that called/executed the function.\n",
    "\n"
   ]
  },
  {
   "cell_type": "markdown",
   "metadata": {
    "colab_type": "text",
    "id": "KizZasXG5t5l"
   },
   "source": [
    "The astute reader will notice that I said that we can return value(s) - plural - from a function. Here is how you do that:"
   ]
  },
  {
   "cell_type": "code",
   "execution_count": null,
   "metadata": {
    "colab": {},
    "colab_type": "code",
    "id": "KCqe-WXd5t5n"
   },
   "outputs": [],
   "source": [
    "# Function Definition\n",
    "def function_with_multiple_return_values():\n",
    "    return 5, 8\n",
    "\n",
    "# Function Execution\n",
    "function_with_multiple_return_values()"
   ]
  },
  {
   "cell_type": "markdown",
   "metadata": {
    "colab_type": "text",
    "id": "3SJLshPP5t5q"
   },
   "source": [
    "When you specify multiple return values, Python wraps them in an object called a `tuple`. This data type is very similar to a `list`, but you can't add/remove elements from it."
   ]
  },
  {
   "cell_type": "code",
   "execution_count": null,
   "metadata": {
    "colab": {},
    "colab_type": "code",
    "id": "ybindD-V5t5q"
   },
   "outputs": [],
   "source": [
    "# If you capture the output of a function that returns\n",
    "# multiple objects, you can access them in the tuple\n",
    "# using index notation just like with lists\n",
    "results = function_with_multiple_return_values()\n",
    "results[0]"
   ]
  },
  {
   "cell_type": "code",
   "execution_count": null,
   "metadata": {
    "colab": {},
    "colab_type": "code",
    "id": "h6vP4lIm5t5t"
   },
   "outputs": [],
   "source": [
    "# Alternatively, you can provide a variable name\n",
    "# for each object inside of the tuple being returned\n",
    "# from the function\n",
    "first_object, second_object = function_with_multiple_return_values()\n",
    "print(first_object)\n",
    "print(second_object)"
   ]
  },
  {
   "cell_type": "markdown",
   "metadata": {
    "colab_type": "text",
    "id": "jBTc521M5t5x"
   },
   "source": [
    "### Functions with Parameters/Arguments\n",
    "In the previous section, we demonstrated how you can return an object (or objects) from a function. Now let's explore how to pass objects into them."
   ]
  },
  {
   "cell_type": "code",
   "execution_count": null,
   "metadata": {
    "colab": {},
    "colab_type": "code",
    "id": "bkT9LzF05t5y"
   },
   "outputs": [],
   "source": [
    "# Parameters are defined by names that you\n",
    "# put inside the parenthesis after the function\n",
    "# name in function definition statements\n",
    "\n",
    "# Here we will define two parameters.\n",
    "def function_with_parameters(value_1, value_2):\n",
    "    return value_1 * value_2"
   ]
  },
  {
   "cell_type": "code",
   "execution_count": null,
   "metadata": {
    "colab": {},
    "colab_type": "code",
    "id": "TfVb7dTB5t51"
   },
   "outputs": [],
   "source": [
    "# Once parameters have been defined for a function\n",
    "# Python will require you to provide values for them to execute\n",
    "# the function. Take a look at what happens when you don't do so.\n",
    "function_with_parameters()"
   ]
  },
  {
   "cell_type": "code",
   "execution_count": null,
   "metadata": {
    "colab": {},
    "colab_type": "code",
    "id": "K-sSYkqJ5t6A"
   },
   "outputs": [],
   "source": [
    "# When you call a function with parameters, the objects\n",
    "# you pass in for each parameter is called an \"argument\".\n",
    "\n",
    "# The distinction between parameter/argument is academic\n",
    "# and people will generally drop the term \"parameter\" \n",
    "# and use argument for both cases.\n",
    "\n",
    "# Here I will pass in two object arguments \n",
    "# for the defined function parameters.\n",
    "function_with_parameters(5, 4)"
   ]
  },
  {
   "cell_type": "markdown",
   "metadata": {
    "colab_type": "text",
    "id": "YCTaHisH5t6D"
   },
   "source": [
    "### Functions with Default Parameters Values\n",
    "In our `function_with_parameters()` function, we demonstrated that Python requires the user to provide arguments for each defined parameter.\n",
    "\n",
    "If we desire, it is possible to specify default values for parameters which makes a corresponding argument optional."
   ]
  },
  {
   "cell_type": "code",
   "execution_count": null,
   "metadata": {
    "colab": {},
    "colab_type": "code",
    "id": "oNOlINCt5t6F"
   },
   "outputs": [],
   "source": [
    "# In this case, we will define a default value for the `value_2`\n",
    "# parameter. Callers will not be required to supply an object for this parameter.\n",
    "def function_with_default_parameter_values(value_1, value_2='Goodbye'):\n",
    "    print(\"{0}, {1}!\".format(value_1, value_2))\n",
    "    \n",
    "# This won't result in a type error, even though we only provide one argument.\n",
    "# The default parameter value will be used.\n",
    "function_with_default_parameter_values('Hello')"
   ]
  },
  {
   "cell_type": "code",
   "execution_count": null,
   "metadata": {
    "colab": {},
    "colab_type": "code",
    "id": "iLqsk-M95t6I"
   },
   "outputs": [],
   "source": [
    "# You can however, still provide an argument for parameters with default\n",
    "# values. If you do, it will override the default.\n",
    "function_with_default_parameter_values('Hello', 'Superman')"
   ]
  },
  {
   "cell_type": "code",
   "execution_count": null,
   "metadata": {},
   "outputs": [],
   "source": [
    "### Global vs. Local Scope"
   ]
  },
  {
   "cell_type": "code",
   "execution_count": null,
   "metadata": {},
   "outputs": [],
   "source": [
    "import math\n",
    "number = 5\n",
    "sin = math.sin(number)\n",
    "cos = math.cos(number)\n",
    "print(\"Sin of {0} is {1} and cos is {2}\".format(number, sin, cos))"
   ]
  },
  {
   "cell_type": "code",
   "execution_count": null,
   "metadata": {},
   "outputs": [],
   "source": [
    "### Local variables in a function are not visible outside the function"
   ]
  },
  {
   "cell_type": "code",
   "execution_count": null,
   "metadata": {},
   "outputs": [],
   "source": [
    "import math\n",
    "def math_operations(num):\n",
    "    sin_f = math.sin(num) # sin_f is a local variable\n",
    "    cos_f = math.cos(num) # cos_f is a local variable\n",
    "\n",
    "number = 10\n",
    "math_operations(number)\n",
    "print(\"Sin of {0} is {1} and cos is {2}\".format(number, sin_f, cos_f))"
   ]
  },
  {
   "cell_type": "code",
   "execution_count": null,
   "metadata": {},
   "outputs": [],
   "source": [
    "### Local variables with same name as global variables do not get modified"
   ]
  },
  {
   "cell_type": "code",
   "execution_count": null,
   "metadata": {},
   "outputs": [],
   "source": [
    "import math\n",
    "def math_operations(num):\n",
    "    sin = math.sin(num)\n",
    "    cos = math.cos(num)\n",
    "\n",
    "number = 5\n",
    "sin = 5\n",
    "cos = 20\n",
    "math_operations(number)\n",
    "print(\"sin: {}, cos: {}\".format(sin, cos))"
   ]
  },
  {
   "cell_type": "code",
   "execution_count": null,
   "metadata": {},
   "outputs": [],
   "source": [
    "### Each function has it's own local variables and they are not accessible outside the function"
   ]
  },
  {
   "cell_type": "code",
   "execution_count": null,
   "metadata": {},
   "outputs": [],
   "source": [
    "global_var = 20\n",
    "\n",
    "def func1(num):\n",
    "    local1 = 10\n",
    "    local2 = 20\n",
    "    print(\"I'm trying to print local variables {}, {} and a global variable {}\".format(local1, local2, global_var))\n",
    "    \n",
    "\n",
    "def func2(num):\n",
    "    local1 = 10\n",
    "    print(\"I'm trying to print local variables {}, {} and a global variable{}\".format(local1, local2, global_var))\n",
    "\n",
    "func1(10)\n",
    "func2(10)"
   ]
  },
  {
   "cell_type": "markdown",
   "metadata": {},
   "source": [
    "### Practice Exercise \n",
    "\n",
    "During an aerobic workout, you should maintain your training heart rate. Your training heart rate is computed as: .7 × (220 −𝑎)+.3 × 𝑟\n",
    "\n",
    "Write a program to ask the person’s name, age (𝑎) and the resting heart rate (𝑟) and outputs the training heart rate.\n"
   ]
  },
  {
   "cell_type": "code",
   "execution_count": 17,
   "metadata": {},
   "outputs": [],
   "source": [
    "def computeHR():\n",
    "    name = input(\"Enter your name: \")\n",
    "    age = input(\"Enter your age: \")\n",
    "    rest_rate = input(\"Enter your resting heart rate: \")\n",
    "    train_rate = 0.7 * (220-int(age)) + 0.3*int(rest_rate)\n",
    "    output = \"Hello \" + name + \". Your training heart rate is \" + str(train_rate)\n",
    "    return output\n",
    "    "
   ]
  },
  {
   "cell_type": "code",
   "execution_count": 18,
   "metadata": {},
   "outputs": [
    {
     "name": "stdout",
     "output_type": "stream",
     "text": [
      "Enter your name: J\n",
      "Enter your age: 37\n",
      "Enter your resting heart rate: 99\n"
     ]
    },
    {
     "data": {
      "text/plain": [
       "'Hello J. Your training heart rate is 157.79999999999998'"
      ]
     },
     "execution_count": 18,
     "metadata": {},
     "output_type": "execute_result"
    }
   ],
   "source": [
    "computeHR()"
   ]
  },
  {
   "cell_type": "code",
   "execution_count": null,
   "metadata": {},
   "outputs": [],
   "source": []
  }
 ],
 "metadata": {
  "colab": {
   "collapsed_sections": [],
   "name": "1.8 Function Definitions.ipynb",
   "provenance": [],
   "version": "0.3.2"
  },
  "kernelspec": {
   "display_name": "Python 3",
   "language": "python",
   "name": "python3"
  },
  "language_info": {
   "codemirror_mode": {
    "name": "ipython",
    "version": 3
   },
   "file_extension": ".py",
   "mimetype": "text/x-python",
   "name": "python",
   "nbconvert_exporter": "python",
   "pygments_lexer": "ipython3",
   "version": "3.7.3"
  }
 },
 "nbformat": 4,
 "nbformat_minor": 1
}
