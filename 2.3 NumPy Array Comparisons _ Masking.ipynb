{
 "cells": [
  {
   "cell_type": "markdown",
   "metadata": {
    "colab_type": "text",
    "id": "N62INTQofXos"
   },
   "source": [
    "# Tutorial 2.3: NumPy Array Comparisons & Masking\n",
    "Python for Data Analytics | Module 2  \n",
    "Professor James Ng"
   ]
  },
  {
   "cell_type": "markdown",
   "metadata": {
    "colab_type": "text",
    "id": "2FO19ZVCfXou"
   },
   "source": [
    "In a previous tutorial, we covered how to retrieve elements out of `ndarray` objects. In this tutorial we will expand upon that by learning about array comparisons and how you can use them to selectively pull data out of an array."
   ]
  },
  {
   "cell_type": "markdown",
   "metadata": {
    "colab_type": "text",
    "id": "xNdlzLayfXov"
   },
   "source": [
    "To get started, I'm going to create a couple of Numpy arrays from our `chicago_employees.csv` data set. This data set hold a number of data points on all public employees in the city of Chicago. \n",
    "\n",
    "As before, don't worry about how I'm creating these as that will be covered in later modules."
   ]
  },
  {
   "cell_type": "code",
   "execution_count": null,
   "metadata": {
    "colab": {},
    "colab_type": "code",
    "id": "XuhZUMdZfXow"
   },
   "outputs": [],
   "source": [
    "# import numpy and pandas (for the data load)\n",
    "import numpy as np\n",
    "import pandas as pd"
   ]
  },
  {
   "cell_type": "code",
   "execution_count": null,
   "metadata": {
    "colab": {},
    "colab_type": "code",
    "id": "djl2K37DdbcO"
   },
   "outputs": [],
   "source": [
    "# Create a directory to hold our data sets and download them\n",
    "!mkdir -p data-sets\n",
    "!wget --show-progress -O data-sets/chicago-employees.csv https://osf.io/8svw4/download"
   ]
  },
  {
   "cell_type": "code",
   "execution_count": null,
   "metadata": {
    "colab": {},
    "colab_type": "code",
    "id": "yXHzbuL-fXo0"
   },
   "outputs": [],
   "source": [
    "# Load the Chicago government employees data set.\n",
    "chicago_employees = pd.read_csv('data-sets/chicago-employees.csv')"
   ]
  },
  {
   "cell_type": "code",
   "execution_count": null,
   "metadata": {
    "colab": {},
    "colab_type": "code",
    "id": "7lc42DPBfXo3"
   },
   "outputs": [],
   "source": [
    "# A quick preview of the sort of data in the set.\n",
    "chicago_employees.head()"
   ]
  },
  {
   "cell_type": "code",
   "execution_count": null,
   "metadata": {
    "colab": {},
    "colab_type": "code",
    "id": "XaWpRDzcfXo7"
   },
   "outputs": [],
   "source": [
    "# Some data cleaning stuff happening here.\n",
    "# We'll learning about it in Module 3\n",
    "_ = chicago_employees['Annual Salary'][chicago_employees['Annual Salary'].notnull()]\n",
    "employee_salaries = np.array(pd.to_numeric(_.str.replace('\\$|\\,', '')))"
   ]
  },
  {
   "cell_type": "code",
   "execution_count": null,
   "metadata": {
    "colab": {},
    "colab_type": "code",
    "id": "ZFRlt0HofXo-"
   },
   "outputs": [],
   "source": [
    "employee_departments = np.array(chicago_employees['Department'])"
   ]
  },
  {
   "cell_type": "code",
   "execution_count": null,
   "metadata": {
    "colab": {},
    "colab_type": "code",
    "id": "eHWINzIFfXpB"
   },
   "outputs": [],
   "source": [
    "employee_titles = np.array(chicago_employees['Job Titles'])"
   ]
  },
  {
   "cell_type": "code",
   "execution_count": null,
   "metadata": {
    "colab": {},
    "colab_type": "code",
    "id": "rY5uPkTOfXpD"
   },
   "outputs": [],
   "source": [
    "employee_names = np.array(chicago_employees['Name'])"
   ]
  },
  {
   "cell_type": "markdown",
   "metadata": {
    "colab_type": "text",
    "id": "OY9mgBiKfXpF"
   },
   "source": [
    "So, now you have four arrays:\n",
    "* `employee_salaries`: Holds annual salary information for each employee. The datatype of this array is `float`.\n",
    "* `employee_departments`: Holds information on what department each employee works for.\n",
    "* `employee_titles`: Holds information on each employee's title.\n",
    "* `employee_names`: Holds each employee's name."
   ]
  },
  {
   "cell_type": "markdown",
   "metadata": {
    "colab_type": "text",
    "id": "cHPyvbsFfXpH"
   },
   "source": [
    "## Available NumPy Comparison Functions\n",
    "You can invoke NumPy's comparison functions either through an operator or by an explicit function call. You need to be familiar with both styles as you will see both in other people's code. \n",
    "\n",
    "Here are the available functions:\n",
    "\n",
    "| Operator    | Equivalent ufunc    |\n",
    "|---------------|---------------------|\n",
    "|``==``         |``np.equal``         |\n",
    "|``!=``         |``np.not_equal``     |\n",
    "|``<``          |``np.less``          |\n",
    "|``<=``         |``np.less_equal``    |\n",
    "|``>``          |``np.greater``       |\n",
    "|``>=``         |``np.greater_equal`` |"
   ]
  },
  {
   "cell_type": "markdown",
   "metadata": {
    "colab_type": "text",
    "id": "-cJ6Bf2XfXpH"
   },
   "source": [
    "## Getting Started with Comparisons\n",
    "Alright, let's try using some of the comparison functions. Let's just jump right in and explain things as we go."
   ]
  },
  {
   "cell_type": "code",
   "execution_count": null,
   "metadata": {
    "colab": {},
    "colab_type": "code",
    "id": "VTxoZtuZfXpI"
   },
   "outputs": [],
   "source": [
    "# Which employees have salaries of over $100,000.00\n",
    "employee_salaries > 100000"
   ]
  },
  {
   "cell_type": "markdown",
   "metadata": {
    "colab_type": "text",
    "id": "Y-1k53-nfXpM"
   },
   "source": [
    "**Pythonista Note: ** What's up with the `...` in the display of the result?\n",
    "\n",
    "Whenever NumPy is asked to display an array with a large number of elements, it will use `...` to indicate \"there are many more elements here, but I'm not going to display them all\".\n",
    "\n",
    "Just imagine how difficult your Notebook would be to work with if it had printed all 33,000 records of this data set."
   ]
  },
  {
   "cell_type": "markdown",
   "metadata": {
    "colab_type": "text",
    "id": "0MPw2LvEfXpN"
   },
   "source": [
    "Anyway, you can see that our comparison function returns a new array that is full of `boolean` values. If the value is `True` at a given index, it means that employee's salary is over $100,000."
   ]
  },
  {
   "cell_type": "code",
   "execution_count": null,
   "metadata": {
    "colab": {},
    "colab_type": "code",
    "id": "GHb0Dd9GfXpO"
   },
   "outputs": [],
   "source": [
    "# Which employees do NOT work in the police department?\n",
    "# This time I'll explicitly call the comparison function.\n",
    "np.not_equal(employee_departments, \"POLICE\")"
   ]
  },
  {
   "cell_type": "markdown",
   "metadata": {
    "colab_type": "text",
    "id": "PnTcWBK_fXpR"
   },
   "source": [
    "## Ok, Now What?\n",
    "While it is somewhat interesting to get these arrays full of boolean values, you might be wondering *what exactly am I supposed to do with these?*"
   ]
  },
  {
   "cell_type": "markdown",
   "metadata": {
    "colab_type": "text",
    "id": "FFtBHszSfXpS"
   },
   "source": [
    "### Comparison Functions and `np.sum`, `np.all`, or `np.any`\n",
    "Above, we answered the question *which employees make more than $100,000?* Now we will combine that information with additional functions to answer the following:"
   ]
  },
  {
   "cell_type": "code",
   "execution_count": null,
   "metadata": {
    "colab": {},
    "colab_type": "code",
    "id": "gVWW7NGCfXpS"
   },
   "outputs": [],
   "source": [
    "# The `np.any()` function will return True if \n",
    "# any array values are `True`.\n",
    "\n",
    "# So, we can ask \"Do ANY of the employees make more than $100,000?\"\n",
    "np.any(employee_salaries > 100000)"
   ]
  },
  {
   "cell_type": "code",
   "execution_count": null,
   "metadata": {
    "colab": {},
    "colab_type": "code",
    "id": "V3H5-0PYfXpY"
   },
   "outputs": [],
   "source": [
    "# The `np.all()` function returns true if ALL the array values are true.\n",
    "\n",
    "# Do ALL Chicago employees make over $100000?\n",
    "np.all(employee_salaries > 100000)"
   ]
  },
  {
   "cell_type": "code",
   "execution_count": null,
   "metadata": {
    "colab": {},
    "colab_type": "code",
    "id": "IQ-cWAG6fXpa"
   },
   "outputs": [],
   "source": [
    "# The `np.sum()` function will return the total \n",
    "# number of `True` values in a boolean array.\n",
    "\n",
    "# So, we can ask \"How many of the employees make more than $100,000?\"\n",
    "# P.S. It is a LOT of employees. Maybe think about working for \n",
    "# the city of Chicago.\n",
    "np.sum(employee_salaries > 100000)"
   ]
  },
  {
   "cell_type": "markdown",
   "metadata": {
    "colab_type": "text",
    "id": "X53lHXVrfXpg"
   },
   "source": [
    "**Pythonista Note: ** Where is `np.sum` getting a number from?\n",
    "\n",
    "Turns out that in Python the boolean `True` value has a corresponding numeric value of `1`. So, each time `np.sum` encounters `True` in the boolean array, it adds a `1` to its running total. Clever."
   ]
  },
  {
   "cell_type": "markdown",
   "metadata": {
    "colab_type": "text",
    "id": "WxJemJq3fXpi"
   },
   "source": [
    "### Comparison Functions and Bitwise Boolean Operators\n",
    "Often times, we will want to perform multiple comparisons at the same time. \n",
    "\n",
    "For instance, let's say that we wanted to know which employees make between `$100000` and `$125000` annually. \n",
    "\n",
    "**Bitwise boolean operators** allow us to combine and join comparisons together and get the net result.\n",
    "\n",
    "We will begin by demonstrating the use of the `&` (bitwise and) operator:"
   ]
  },
  {
   "cell_type": "code",
   "execution_count": null,
   "metadata": {
    "colab": {},
    "colab_type": "code",
    "id": "M2xiqrQ0fXpj"
   },
   "outputs": [],
   "source": [
    "# How many employees make between $100000 and $125000 annually?\n",
    "(employee_salaries >= 100000) & (employee_salaries <= 125000)"
   ]
  },
  {
   "cell_type": "markdown",
   "metadata": {
    "colab_type": "text",
    "id": "hMHXvvB5fXpl"
   },
   "source": [
    "#### Parentheses are Important Here\n",
    "<p>\n",
    "The parentheses here are important because of \n",
    "<a href=\"https://docs.python.org/3/reference/expressions.html#operator-precedence\" target=\"_blank\">\n",
    "Python's operator precedence rules</a> which would lead to the following evaluation if I hadn't included the parentheses: \n",
    "`employee_salaries >= (100000 & employee_salaries) <= 125000`\n",
    "</p>\n",
    "<p>\n",
    "This would obviously have a different result. So, be mindful to use paratheses to force the correct order of operations when combining NumPy functions with bitwise boolean operators.\n",
    "</p>\n",
    "</div> "
   ]
  },
  {
   "cell_type": "code",
   "execution_count": null,
   "metadata": {
    "colab": {},
    "colab_type": "code",
    "id": "W48ezlb-fXpl"
   },
   "outputs": [],
   "source": [
    "# Ok, now let's bring back in `np.sum()` to get a \n",
    "# count of how many employee match these two criteria\n",
    "np.sum((employee_salaries >= 100000) & (employee_salaries <= 125000))"
   ]
  },
  {
   "cell_type": "markdown",
   "metadata": {
    "colab_type": "text",
    "id": "NEcSacRkfXpp"
   },
   "source": [
    "Now let's try using the `|` (bitwise or) operator. Instead of combining two conditions like the `&` operator does, this one allows you do ask if at least one of multiple conditions is True."
   ]
  },
  {
   "cell_type": "code",
   "execution_count": null,
   "metadata": {
    "colab": {},
    "colab_type": "code",
    "id": "6mgqc_ysfXpp"
   },
   "outputs": [],
   "source": [
    "# How many employees make less than $50000 or more than $125000\n",
    "np.sum((employee_salaries < 50000) | (employee_salaries > 125000))"
   ]
  },
  {
   "cell_type": "markdown",
   "metadata": {
    "colab_type": "text",
    "id": "anCHUca4fXps"
   },
   "source": [
    "In all the above examples we've utilized two different  **bitwise boolean operators**:\n",
    "* \"and\" (`&`) \n",
    "* \"or\" (`|`)\n",
    "\n",
    "While these are the most common ones that you will use, there are a couple of others which we will demonstrate in the next section.  For your reference, here is a list of them:\n",
    "\n",
    "| Operator   | Equivalent ufunc  |\n",
    "|------------|-------------------|\n",
    "|`&`         |np.bitwise_and     | \n",
    "|&#124;      |`np.bitwise_or`    |\n",
    "|`^`         |`np.bitwise_xor`   |\n",
    "|`~`         |`np.bitwise_not`   |\n"
   ]
  },
  {
   "cell_type": "markdown",
   "metadata": {
    "colab_type": "text",
    "id": "l-FKxcV8fXps"
   },
   "source": [
    "#### How Bitwise Boolean Operators Work\n",
    "Under the covers, when a bitwise boolean operator is used, NumPy evaluates both elements of the arrays being compared for each index value. \n",
    "\n",
    "For each element, NumPy evaluates whether the two elements match the operator condition, and then returns `True` or `False` for that element pair accordingly.\n",
    "\n",
    "Here are some additional examples of using the various comparison operators/functions on two arrays. These are different from the previous example in that we are comparing the data in separate arrays."
   ]
  },
  {
   "cell_type": "markdown",
   "metadata": {
    "colab_type": "text",
    "id": "l-FKxcV8fXps"
   },
   "source": [
    "#### Aside: Using the keywords and/or versus the operators &/|\n",
    "If you tried `(employee_salaries >= 100000) and (employee_salaries <= 125000)`, you get a ValueError. The `and` keyword treats `(employee_salaries >= 100000)` as a single Boolean entity, which is impossible because an array cannot be true or false. For a detailed explanation, see: https://jakevdp.github.io/PythonDataScienceHandbook/02.06-boolean-arrays-and-masks.html#Aside:-Using-the-Keywords-and/or-Versus-the-Operators-&/|"
   ]
  },
  {
   "cell_type": "code",
   "execution_count": null,
   "metadata": {
    "colab": {},
    "colab_type": "code",
    "id": "vLZnwJu8fXps"
   },
   "outputs": [],
   "source": [
    "# Which employees work in the \"FIRE\" department \n",
    "# and have the title of \"LIEUTENANT-EMT\"?\n",
    "\n",
    "# First, determine how many employees are in the fire department\n",
    "fire_department_employees = (employee_departments == \"FIRE\")\n",
    "\n",
    "# Then, which employees have the title \"LIEUTENANT-EMT\"? \n",
    "lieutenant_emts = (employee_titles == \"LIEUTENANT-EMT\")"
   ]
  },
  {
   "cell_type": "code",
   "execution_count": null,
   "metadata": {
    "colab": {},
    "colab_type": "code",
    "id": "3duMQEv3fXpw"
   },
   "outputs": [],
   "source": [
    "# np.bitwise_and (&)\n",
    "# We can now use the & operator to determine which employees\n",
    "# meet both of these conditions\n",
    "print(fire_department_employees & lieutenant_emts)\n",
    "\n",
    "# Which over course isn't all that useful by itself.\n",
    "# But, what happens if we us `np.sum()` with that?\n",
    "np.sum(fire_department_employees & lieutenant_emts)"
   ]
  },
  {
   "cell_type": "code",
   "execution_count": null,
   "metadata": {
    "colab": {},
    "colab_type": "code",
    "id": "GKCFHERAfXpy"
   },
   "outputs": [],
   "source": [
    "# This could be also be stated like this and avoid\n",
    "# the extra variable definition.\n",
    "np.sum((employee_departments == 'FIRE') & \n",
    "       (employee_titles == \"LIEUTENANT-EMT\"))"
   ]
  },
  {
   "cell_type": "markdown",
   "metadata": {
    "colab_type": "text",
    "id": "iXY8P2ePfXp1"
   },
   "source": [
    "**You are now one of the select few people on earth who know exactly how many Lieutenant EMTs work for the Fire Department in Chicago!** I'm sure that will prove useful in Jeopardy one day."
   ]
  },
  {
   "cell_type": "code",
   "execution_count": null,
   "metadata": {
    "colab": {},
    "colab_type": "code",
    "id": "GXK4H1ohfXp2"
   },
   "outputs": [],
   "source": [
    "# np.bitwise_or (|)\n",
    "# With this operator, True is returned for a given index if\n",
    "# at least one of the two boolean arrays being compared has \n",
    "# a value of True at a given index\n",
    "\n",
    "# Question: How many employees work in the \"GENERAL SERVICES\" \n",
    "# department OR have a Job Title of \"SERGEANT\"?\n",
    "sergeants = (employee_titles == 'SERGEANT')\n",
    "general_services_employees = (employee_departments == \"GENERAL SERVICES\")\n",
    "\n",
    "np.sum(sergeants | general_services_employees)"
   ]
  },
  {
   "cell_type": "code",
   "execution_count": null,
   "metadata": {
    "colab": {},
    "colab_type": "code",
    "id": "ehnGLTDHfXp6"
   },
   "outputs": [],
   "source": [
    "# np.bitwise_xor (^)\n",
    "# True is returned for a given index if one, but not both, \n",
    "# of the elements being compared is `True`.\n",
    "\n",
    "# How many employees are EITHER working for the fire department\n",
    "# OR hold the title of \"SERGEANT\"\n",
    "np.sum(sergeants ^ fire_department_employees)"
   ]
  },
  {
   "cell_type": "markdown",
   "metadata": {
    "colab_type": "text",
    "id": "iEfKzv94fXp-"
   },
   "source": [
    "#### Special Note for `bitwise.not (~)`\n",
    "The `bitwise.not` operator is the odd man out in this collection.\n",
    "\n",
    "Unlike the other bitwise operators, this one simply reverses the values in a boolean array."
   ]
  },
  {
   "cell_type": "code",
   "execution_count": null,
   "metadata": {
    "colab": {},
    "colab_type": "code",
    "id": "ccn8eKEOfXp_"
   },
   "outputs": [],
   "source": [
    "# np.bitwise_not (~)\n",
    "# Here we will demonstate that this operation simply switches\n",
    "# the True/False values of the `sergeants` boolean array.\n",
    "\n",
    "# Total Records in `sergeants` array\n",
    "print(len(sergeants))\n",
    "\n",
    "# Number of \"Sergeants\"\n",
    "print(np.sum(sergeants))\n",
    "\n",
    "# Invert the values of the the array with `~`\n",
    "# to get the number of employees that are NOT sergeants.\n",
    "print(np.sum(~sergeants))"
   ]
  },
  {
   "cell_type": "markdown",
   "metadata": {
    "colab_type": "text",
    "id": "vkD29TvufXqF"
   },
   "source": [
    "### A Short Review\n",
    "Alright, you have covered **a lot** of ground so far in this tutorial. Good job. \n",
    "\n",
    "Here is a brief review of what we've covered:\n",
    "1. We've seen how the comparison functions (`np.equal`, `np.less`, `np.greater`, etc.) generate boolean arrays that indicate whether a given element of an array meets (or doesn't meet) the condition of the function.\n",
    "\n",
    "1. We then showed how you could pass these boolean arrays to `np.sum`, `np.all`, and `np.any` to derive additional information on your data set.\n",
    "\n",
    "1. Finally, we demonstrated how you could logically compare two boolean arrays with the **bitwise** operators to perform multistep data comparisons.\n",
    "\n",
    "For the last segment of this tutorial, we are going to demonstrate using comparison functions to return original items of the array that meet the condition of the comparison."
   ]
  },
  {
   "cell_type": "markdown",
   "metadata": {
    "colab_type": "text",
    "id": "D3FX1zTvfXqF"
   },
   "source": [
    "## Comparison Operations as Array Masks\n",
    "Previously, we showed how you could select data from an array using index or slice notation. Here we will introduce another data selection technique called **masking**.\n",
    "\n",
    "Basically, it looks a similar to slice notation. In case you've forgotten what that looks like, here is a reminder."
   ]
  },
  {
   "cell_type": "code",
   "execution_count": null,
   "metadata": {
    "colab": {},
    "colab_type": "code",
    "id": "DOTLd-6XfXqH"
   },
   "outputs": [],
   "source": [
    "# Let's say we have the following simple array\n",
    "simple_int_array = np.array([0, 1, 2, 3, 4, 5, 6, 7, 8, 9])\n",
    "\n",
    "# Slice elements with indexes 6, 7, 8 from our simple_int_array\n",
    "simple_int_array[5:8]"
   ]
  },
  {
   "cell_type": "markdown",
   "metadata": {
    "colab_type": "text",
    "id": "0a-qyxEIfXqK"
   },
   "source": [
    "The difference with a mask is that instead of putting `[start:stop:step]` inside the brackets, you actually invoke a comparison function."
   ]
  },
  {
   "cell_type": "code",
   "execution_count": null,
   "metadata": {
    "colab": {},
    "colab_type": "code",
    "id": "jYgDYRtkfXqL"
   },
   "outputs": [],
   "source": [
    "# Simple comparison operation\n",
    "simple_int_array < 7"
   ]
  },
  {
   "cell_type": "code",
   "execution_count": null,
   "metadata": {
    "colab": {},
    "colab_type": "code",
    "id": "_yHgeIYYfXqO"
   },
   "outputs": [],
   "source": [
    "# Now we pass that comparison invocation as a \"mask\"\n",
    "# It will return all the values of simple_int_array that are less than 7\n",
    "masked_array = simple_int_array[simple_int_array < 7]\n",
    "masked_array"
   ]
  },
  {
   "cell_type": "markdown",
   "metadata": {
    "colab_type": "text",
    "id": "r0ySgISyfXqW"
   },
   "source": [
    "**Pretty cool huh?** This is how it works:\n",
    "1. The comparison function inside the brackets is evaluated first. \n",
    "2. It returns a boolean array where the first 7 elements have a `True` value, and the rest have `False`.\n",
    "3. It then applies this boolean array as a 'mask' on the original array. The end result is that only values from the original array who have a matching `True` value in the mask are returned."
   ]
  },
  {
   "cell_type": "markdown",
   "metadata": {
    "colab_type": "text",
    "id": "BqGdfDjQfXqW"
   },
   "source": [
    "Let's apply this to a couple of our other NumPy arrays:"
   ]
  },
  {
   "cell_type": "code",
   "execution_count": null,
   "metadata": {},
   "outputs": [],
   "source": [
    "### Practice Exercises"
   ]
  },
  {
   "cell_type": "code",
   "execution_count": null,
   "metadata": {
    "colab": {},
    "colab_type": "code",
    "id": "zvvMm3ZwfXqW"
   },
   "outputs": [],
   "source": [
    "# What salaries are over $180000\n",
    "employee_salaries[employee_salaries >180000]"
   ]
  },
  {
   "cell_type": "code",
   "execution_count": null,
   "metadata": {
    "colab": {},
    "colab_type": "code",
    "id": "PKOtfNnOieaq"
   },
   "outputs": [],
   "source": [
    "# Which employees work for the FIRE or GENERAL SERVICES departments? Instead of a truncated display, \n",
    "# print the names of all these employees.\n",
    "\n"
   ]
  },
  {
   "cell_type": "code",
   "execution_count": null,
   "metadata": {},
   "outputs": [],
   "source": [
    "# Referring to the previous question, how many such employees are there?"
   ]
  },
  {
   "cell_type": "code",
   "execution_count": null,
   "metadata": {},
   "outputs": [],
   "source": []
  }
 ],
 "metadata": {
  "colab": {
   "collapsed_sections": [],
   "name": "2.3 NumPy Array Comparisons & Masking.ipynb",
   "provenance": [],
   "version": "0.3.2"
  },
  "kernelspec": {
   "display_name": "Python 3",
   "language": "python",
   "name": "python3"
  },
  "language_info": {
   "codemirror_mode": {
    "name": "ipython",
    "version": 3
   },
   "file_extension": ".py",
   "mimetype": "text/x-python",
   "name": "python",
   "nbconvert_exporter": "python",
   "pygments_lexer": "ipython3",
   "version": "3.7.3"
  }
 },
 "nbformat": 4,
 "nbformat_minor": 1
}
