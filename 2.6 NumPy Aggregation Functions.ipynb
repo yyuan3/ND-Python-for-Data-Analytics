{
 "cells": [
  {
   "cell_type": "markdown",
   "metadata": {
    "colab_type": "text",
    "id": "h5NHxHtaRrNu"
   },
   "source": [
    "# Tutorial 2.6: NumPy Aggregation Functions\n",
    "Python for Data Analaytics | Module 2  \n",
    "Professor James Ng"
   ]
  },
  {
   "cell_type": "markdown",
   "metadata": {
    "colab_type": "text",
    "id": "R8vh9YxbRrNv"
   },
   "source": [
    "In this tutorial, we are going to cover *`NumPy`* functions that reduce (or aggregate) all the values in an array and spit out one result. These functions allow us to come up with summary statistics for a given data set.\n",
    "\n",
    "Plus, in my opinion, it is where things start to get fun in our data analysis. So, I hope you enjoy!"
   ]
  },
  {
   "cell_type": "code",
   "execution_count": null,
   "metadata": {
    "colab": {},
    "colab_type": "code",
    "id": "Q5tUWQM2RrNw"
   },
   "outputs": [],
   "source": [
    "# Import NumPy as always...\n",
    "# Along with Pandas for loading our data\n",
    "import numpy as np\n",
    "import pandas as pd"
   ]
  },
  {
   "cell_type": "code",
   "execution_count": null,
   "metadata": {
    "colab": {},
    "colab_type": "code",
    "id": "HMAqPOsZRrNz"
   },
   "outputs": [],
   "source": [
    "# Create a directory to hold our data sets and download them\n",
    "!mkdir -p data-sets\n",
    "!wget --show-progress -O data-sets/chicago-employees.csv https://osf.io/8svw4/download\n",
    "\n",
    "# Load the Chicago government employees data set.\n",
    "chicago_employees = pd.read_csv('data-sets/chicago-employees.csv')\n",
    "chicago_employees.head()"
   ]
  },
  {
   "cell_type": "code",
   "execution_count": null,
   "metadata": {
    "colab": {},
    "colab_type": "code",
    "id": "9v2WRKziRrN3"
   },
   "outputs": [],
   "source": [
    "# I'll go ahead and create a Numpy `ndarray` for each column \n",
    "# of our data set, even though we might not use them all.\n",
    "employee_names = np.array(chicago_employees['Name'])\n",
    "employee_titles = np.array(chicago_employees['Job Titles'])\n",
    "employee_departments = np.array(chicago_employees['Department'])\n",
    "employee_full_or_part_time = np.array(chicago_employees['Full or Part-Time'])\n",
    "employee_salary_or_hourly = np.array(chicago_employees['Salary or Hourly'])\n",
    "\n",
    "# These arrays have different index values because the NaN values have\n",
    "# been filtered out.  Because of that, you can't use them in coordination\n",
    "# with other arrays. We will revisit this in Pandas.\n",
    "employee_typical_hours = np.array(\n",
    "    chicago_employees['Typical Hours'][chicago_employees['Typical Hours'].notnull()])\n",
    "\n",
    "_ = chicago_employees['Annual Salary'][chicago_employees['Annual Salary'].notnull()]\n",
    "employee_salaries = np.array(pd.to_numeric(_.str.replace('\\$|\\,', '')))\n",
    "\n",
    "_ = chicago_employees['Hourly Rate'][chicago_employees['Hourly Rate'].notnull()]\n",
    "employee_hourly_rate = np.array(pd.to_numeric(_.str.replace('$', '')))"
   ]
  },
  {
   "cell_type": "markdown",
   "metadata": {
    "colab_type": "text",
    "id": "4YvJ34YaRrN7"
   },
   "source": [
    "## `np.sum()`\n",
    "We've actually seen `np.sum()` once before. It came up during our coverage of comparison functions where we used it to count how many `True` values exist in Numpy arrays.\n",
    "\n",
    "The reason it worked there is because `True` objects have a numeric equivalent value of 1.\n",
    "\n",
    "Now we come back to `np.sum()` to see it's true power. Adding up all the numeric objects in an array."
   ]
  },
  {
   "cell_type": "code",
   "execution_count": null,
   "metadata": {
    "colab": {},
    "colab_type": "code",
    "id": "hMyvVqXSRrN7"
   },
   "outputs": [],
   "source": [
    "# What is the total salary of the first 10 salary records?\n",
    "np.sum(employee_salaries[:10])"
   ]
  },
  {
   "cell_type": "markdown",
   "metadata": {
    "colab_type": "text",
    "id": "3DEDZZTORrOA"
   },
   "source": [
    "The function also works with multidimensional arrays."
   ]
  },
  {
   "cell_type": "code",
   "execution_count": null,
   "metadata": {
    "colab": {},
    "colab_type": "code",
    "id": "LnYPPK9IRrOA"
   },
   "outputs": [],
   "source": [
    "# Create a 10x8 grid of the first 80 salary records\n",
    "salaries_10_by_8_grid = employee_salaries[:80].reshape(10, 8)\n",
    "print(salaries_10_by_8_grid)"
   ]
  },
  {
   "cell_type": "code",
   "execution_count": null,
   "metadata": {
    "colab": {},
    "colab_type": "code",
    "id": "050Nf_RQRrOF"
   },
   "outputs": [],
   "source": [
    "# `np.sum()` gets the total of all values in all dimensions \n",
    "# of the multi-dimensional array.\n",
    "np.sum(salaries_10_by_8_grid)"
   ]
  },
  {
   "cell_type": "markdown",
   "metadata": {
    "colab_type": "text",
    "id": "QIL68nN9RrOJ"
   },
   "source": [
    "### No Love for Standard Python `sum()`, `min()`, and `max()`\n",
    "Python has a standard `sum()` method, but I haven't demonstrated it here. The same is true for the `min()` & `max()` functions will we look at next.\n",
    "\n",
    "The reason I didn't mention it here is because you will almost always want to use the NumPy versions of these functions. Remember that the standard Python versions won't have the speed advantages of the NumPy ones and they do not always support multi-dimensional arrays.\n",
    "\n",
    "So, unless you've got a good reason to do so, use the NumPy versions of aggregation functions."
   ]
  },
  {
   "cell_type": "markdown",
   "metadata": {
    "colab_type": "text",
    "id": "9KD_Xb8rRrOL"
   },
   "source": [
    "### Special Note: Aggregating by Dimension in Multidimensional Arrays\n",
    "*Fair warning, this is going make your head hurt.*\n",
    "\n",
    "Another feature offered by NumPy aggregation function when dealing with multidimensional arrays is the ability to spit out calculations not just for the array as a whole, but for a given dimension.\n",
    "\n",
    "You do this be specifying an `axis` parameter when invoking the function. Let's go through some examples to demonstrate."
   ]
  },
  {
   "cell_type": "code",
   "execution_count": null,
   "metadata": {
    "colab": {},
    "colab_type": "code",
    "id": "BBiwO4mnRrOL"
   },
   "outputs": [],
   "source": [
    "# Take a slice out of our `salaries_10_by_8_grid` grid so that\n",
    "# so that we have something more manageable to work with here.\n",
    "salaries_4_by_5_grid = salaries_10_by_8_grid[0:4, 0:5]\n",
    "print(salaries_4_by_5_grid)"
   ]
  },
  {
   "cell_type": "markdown",
   "metadata": {
    "colab_type": "text",
    "id": "d417JjA7RrOP"
   },
   "source": [
    "And now let's say that we wanted to get the sum of each row or each column."
   ]
  },
  {
   "cell_type": "code",
   "execution_count": null,
   "metadata": {
    "colab": {},
    "colab_type": "code",
    "id": "9_fe9CCSRrOR"
   },
   "outputs": [],
   "source": [
    "# Calculate the total salary for each column\n",
    "np.sum(salaries_4_by_5_grid, axis=0)"
   ]
  },
  {
   "cell_type": "markdown",
   "metadata": {
    "colab_type": "text",
    "id": "EuOHu0APRrOU"
   },
   "source": [
    "Note: \n",
    "axis=0 means \"perform the operation row-wise\", or vertically. \n",
    "axis=1 means \"perform the operation column-wise\", or horizontally."
   ]
  },
  {
   "cell_type": "code",
   "execution_count": null,
   "metadata": {
    "colab": {},
    "colab_type": "code",
    "id": "UpiFh3ZkRrOV"
   },
   "outputs": [],
   "source": [
    "# Calculate the total salary for each row\n",
    "np.sum(salaries_4_by_5_grid, axis=1)"
   ]
  },
  {
   "cell_type": "markdown",
   "metadata": {
    "colab_type": "text",
    "id": "MoDvBk2PRrOZ"
   },
   "source": [
    "## `np.min()` & `np.max()`\n",
    "These functions are pretty self-explanatory: \n",
    "* `np.min()` gives you the minimum value in an array (or specified array dimension). \n",
    "* `np.max()` gives you the maximum value in an array (or specified array dimension). "
   ]
  },
  {
   "cell_type": "code",
   "execution_count": null,
   "metadata": {
    "colab": {},
    "colab_type": "code",
    "id": "x24XytoDRrOa"
   },
   "outputs": [],
   "source": [
    "# Grab the min and max salaries out of `employee_hourly_rate`\n",
    "print(np.min(employee_hourly_rate))  \n",
    "print(np.max(employee_hourly_rate))"
   ]
  },
  {
   "cell_type": "code",
   "execution_count": null,
   "metadata": {
    "colab": {},
    "colab_type": "code",
    "id": "pzmJsG5xRrOe"
   },
   "outputs": [],
   "source": [
    "# Now let's try it with our `salaries_4_by_5_grid`\n",
    "np.min(salaries_4_by_5_grid), np.max(salaries_4_by_5_grid)"
   ]
  },
  {
   "cell_type": "code",
   "execution_count": null,
   "metadata": {
    "colab": {},
    "colab_type": "code",
    "id": "cvn6O7uTRrOj"
   },
   "outputs": [],
   "source": [
    "# What is the the maximum salary in each column\n",
    "# of `salaries_4_by_5_grid`?\n",
    "np.max(salaries_4_by_5_grid, axis=0)"
   ]
  },
  {
   "cell_type": "code",
   "execution_count": null,
   "metadata": {
    "colab": {},
    "colab_type": "code",
    "id": "BsArwMILRrOp"
   },
   "outputs": [],
   "source": [
    "# What is the the minimum salary in each row\n",
    "# of `salaries_4_by_5_grid`?\n",
    "np.min(salaries_4_by_5_grid, axis=1)"
   ]
  },
  {
   "cell_type": "markdown",
   "metadata": {
    "colab_type": "text",
    "id": "oL6p4wgIRrOt"
   },
   "source": [
    "## `np.mean()` & `np.median()`\n",
    "Before we demonstrate these functions, let's briefly review the difference between **mean** and **median** values.\n",
    "\n",
    "* The **mean** value of an array is the average value of all elements.\n",
    "* The **median** value is the value at which half of the array elements are less and half of the array elements are more than itself.\n",
    "    * Special Note: If there is an even number of elements in an array, the median will be the mean (average) of the middle two elements."
   ]
  },
  {
   "cell_type": "code",
   "execution_count": null,
   "metadata": {
    "colab": {},
    "colab_type": "code",
    "id": "EYs_rxMLRrOu"
   },
   "outputs": [],
   "source": [
    "# Let's calculate the mean of our `employee_hourly_rate`\n",
    "np.mean(employee_hourly_rate)"
   ]
  },
  {
   "cell_type": "code",
   "execution_count": null,
   "metadata": {
    "colab": {},
    "colab_type": "code",
    "id": "T7UxPv14RrOy"
   },
   "outputs": [],
   "source": [
    "# Now let's calculate the median.\n",
    "np.median(employee_hourly_rate)"
   ]
  },
  {
   "cell_type": "markdown",
   "metadata": {
    "colab_type": "text",
    "id": "dIDbTu5lRrO_"
   },
   "source": [
    "## `np.std()`\n",
    "Now let's talk about the **standard deviation** function. If you need a quick refresher on how this value is calculated, as well as the related **variance** number, <a href=\"http://www.mathsisfun.com/data/standard-deviation.html\" target=\"_blank\">take a look at this website.</a>\n",
    "\n",
    "Here are the quick definitions:\n",
    "* *Variance*: The average of the squared differences from the mean.\n",
    "* *Standard Deviation*: The square root of the variance.\n",
    "\n",
    "Essentially, we use these functions to determine how spread out the values in a given array are and measure the relative position of a given element."
   ]
  },
  {
   "cell_type": "code",
   "execution_count": null,
   "metadata": {
    "colab": {},
    "colab_type": "code",
    "id": "iZz8sU2TRrPB"
   },
   "outputs": [],
   "source": [
    "# Let's calculate the standard deviation of `employee_salaries`\n",
    "# As well as the standard deviation of `employee_hourly_rate`\n",
    "np.std(employee_salaries), np.std(employee_hourly_rate)"
   ]
  },
  {
   "cell_type": "code",
   "execution_count": null,
   "metadata": {
    "colab": {},
    "colab_type": "code",
    "id": "Vw-DzmW0RrPE"
   },
   "outputs": [],
   "source": [
    "# And now let's get the mean for both of these data sets.\n",
    "np.mean(employee_salaries), np.mean(employee_hourly_rate)"
   ]
  },
  {
   "cell_type": "markdown",
   "metadata": {
    "colab_type": "text",
    "id": "lPpQEDBcRrPR"
   },
   "source": [
    "So, with these 4 pieces of data we have all we need to uncover particularly high/low salaries and/or hourly pay rates of Chicago employees."
   ]
  },
  {
   "cell_type": "code",
   "execution_count": null,
   "metadata": {
    "colab": {},
    "colab_type": "code",
    "id": "UapO1CYrRrPT"
   },
   "outputs": [],
   "source": [
    "high_salaries_mask = employee_salaries > (np.mean(employee_salaries) + np.std(employee_salaries))\n",
    "low_hourly_mask = employee_hourly_rate < (np.mean(employee_hourly_rate) - np.std(employee_hourly_rate))"
   ]
  },
  {
   "cell_type": "code",
   "execution_count": null,
   "metadata": {
    "colab": {},
    "colab_type": "code",
    "id": "t5RhC0o6RrPX"
   },
   "outputs": [],
   "source": [
    "# Which employees have annual salaries greater than one standard deviation from the mean?\n",
    "employee_salaries[high_salaries_mask]"
   ]
  },
  {
   "cell_type": "code",
   "execution_count": null,
   "metadata": {
    "colab": {},
    "colab_type": "code",
    "id": "MphNmpA6RrPf"
   },
   "outputs": [],
   "source": [
    "# Which employees have hour wages less than one standard deviation from the mean?\n",
    "employee_hourly_rate[low_hourly_mask]"
   ]
  },
  {
   "cell_type": "markdown",
   "metadata": {
    "colab_type": "text",
    "id": "wM8MKPBTRrPp"
   },
   "source": [
    "## `np.percentile()`\n",
    "Finally, let's take a look at calculating percentages. \n",
    "\n",
    "Remember, that a *percentile is a measure used in statistics indicating the value below which a given percentage of observations in a group of observations fall. For example, the 20th percentile is the value (or score) below which 20% of the observations may be found.*\n",
    "\n",
    "Thank you Wikipedia for your consise definition."
   ]
  },
  {
   "cell_type": "code",
   "execution_count": null,
   "metadata": {
    "colab": {},
    "colab_type": "code",
    "id": "_7FHEnZ6RrPr"
   },
   "outputs": [],
   "source": [
    "# What's the 25th percentile of `employee_hourly_rate`\n",
    "np.percentile(employee_hourly_rate, 25)"
   ]
  },
  {
   "cell_type": "code",
   "execution_count": null,
   "metadata": {
    "colab": {},
    "colab_type": "code",
    "id": "QhTwc9Z2RrPx"
   },
   "outputs": [],
   "source": [
    "# What about the 75th percentile?\n",
    "np.percentile(employee_hourly_rate, 75)"
   ]
  },
  {
   "cell_type": "markdown",
   "metadata": {
    "colab_type": "text",
    "id": "f86x0iV6RrP2"
   },
   "source": [
    "You can also use this function on multi-dimensional arrays. Let's go back to using our of our sample salary grid arrays to demonstrate."
   ]
  },
  {
   "cell_type": "code",
   "execution_count": null,
   "metadata": {
    "colab": {},
    "colab_type": "code",
    "id": "Jq9KoqcLRrP3"
   },
   "outputs": [],
   "source": [
    "# Here is what this looks like again as a reminder\n",
    "salaries_4_by_5_grid"
   ]
  },
  {
   "cell_type": "code",
   "execution_count": null,
   "metadata": {
    "colab": {},
    "colab_type": "code",
    "id": "9rCM2VY3RrP7"
   },
   "outputs": [],
   "source": [
    "# You can get the percentile when considering ALL elements in ALL dimensions.\n",
    "np.percentile(salaries_4_by_5_grid, 65)"
   ]
  },
  {
   "cell_type": "code",
   "execution_count": null,
   "metadata": {
    "colab": {},
    "colab_type": "code",
    "id": "DLUAeBE4RrP_"
   },
   "outputs": [],
   "source": [
    "# Or you can use the `axis` parameter like in many other functions\n",
    "# to calculate the percentages for rows or columns\n",
    "\n",
    "# What is the 50th percentile for each columns\n",
    "# i.e. Across the 0th (row) dimension/axis\n",
    "np.percentile(salaries_4_by_5_grid, 50, axis=0)"
   ]
  },
  {
   "cell_type": "code",
   "execution_count": null,
   "metadata": {
    "colab": {},
    "colab_type": "code",
    "id": "TXMjm79TRrQD"
   },
   "outputs": [],
   "source": [
    "# What is the 90th percentile for each row?\n",
    "# i.e. Across the 1st (column) dimension/axis\n",
    "np.percentile(salaries_4_by_5_grid, 90, axis=1)"
   ]
  },
  {
   "cell_type": "markdown",
   "metadata": {
    "colab_type": "text",
    "id": "vMv75hY1RrQI"
   },
   "source": [
    "Finally, you can pass a list of percentiles to a single call of `np.percentile()` if you want to calculate many percentiles at once. A handy trick."
   ]
  },
  {
   "cell_type": "code",
   "execution_count": null,
   "metadata": {
    "colab": {},
    "colab_type": "code",
    "id": "EHsqEHBTRrQI"
   },
   "outputs": [],
   "source": [
    "# What are the 25, 50, and 75 percentiles of `employee_salaries`?\n",
    "np.percentile(employee_salaries, [25, 50, 75])"
   ]
  }
 ],
 "metadata": {
  "colab": {
   "collapsed_sections": [],
   "name": "2.6 NumPy Aggregation Functions.ipynb",
   "provenance": [],
   "version": "0.3.2"
  },
  "kernelspec": {
   "display_name": "Python 3",
   "language": "python",
   "name": "python3"
  },
  "language_info": {
   "codemirror_mode": {
    "name": "ipython",
    "version": 3
   },
   "file_extension": ".py",
   "mimetype": "text/x-python",
   "name": "python",
   "nbconvert_exporter": "python",
   "pygments_lexer": "ipython3",
   "version": "3.7.3"
  }
 },
 "nbformat": 4,
 "nbformat_minor": 1
}
