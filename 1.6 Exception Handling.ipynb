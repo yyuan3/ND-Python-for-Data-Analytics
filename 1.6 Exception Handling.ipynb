{
 "cells": [
  {
   "cell_type": "markdown",
   "metadata": {
    "colab_type": "text",
    "id": "dkpA--aGrDC6"
   },
   "source": [
    "# Tutorial 1.6: Exception Handling\n",
    "Python for Data Analytics \n",
    "Module 1"
   ]
  },
  {
   "cell_type": "markdown",
   "metadata": {
    "colab_type": "text",
    "id": "mVRkAIAcrDC8"
   },
   "source": [
    "In all but the most trivial of programs, sometimes things are going to happen that aren't part of the \"normal\" or expected set of outcomes. Most commonly, these are unexpected errors, but they can also other types of special/unexpected circumstances.\n",
    "\n",
    "In Python, both of these scenarios are covered by **exception handling**."
   ]
  },
  {
   "cell_type": "markdown",
   "metadata": {
    "colab_type": "text",
    "id": "EFHkbnjWrDC9"
   },
   "source": [
    "## Tracebacks Tell Us About Exceptions\n",
    "There have been a couple of times so far in our course where you have seen an error message or **traceback**. This happens when an **exception** occurs within your program and you haven't written code to handle it.\n",
    "\n",
    "For instance, in the next cell, I'll attempt to perform an impossible mathematical operation and we will get one of these traceback messages."
   ]
  },
  {
   "cell_type": "code",
   "execution_count": 0,
   "metadata": {
    "colab": {},
    "colab_type": "code",
    "id": "01aXGDbCrDC-"
   },
   "outputs": [],
   "source": [
    "# First, do some valid operations\n",
    "4 + 2\n",
    "6 / 7 \n",
    "\n",
    "# No Try Some Illegal Math: Dividing by 0\n",
    "1 / 0"
   ]
  },
  {
   "cell_type": "markdown",
   "metadata": {
    "colab_type": "text",
    "id": "fna6T24trDDB"
   },
   "source": [
    "As you can see, there is a lot going on even in this short traceback. It is somewhat difficult to explain in text, so let me show you a visual explanation.\n",
    "<img src=\"https://i.imgur.com/I2XOluj.png\">"
   ]
  },
  {
   "cell_type": "markdown",
   "metadata": {
    "colab_type": "text",
    "id": "Xq_inNv-rDDC"
   },
   "source": [
    "First of all, my deepest apologies to the graphic designers in the crowd for how ugly this is. *It is surprisingly difficult to draw arrows via your laptop touchpad!*"
   ]
  },
  {
   "cell_type": "markdown",
   "metadata": {
    "colab_type": "text",
    "id": "bm5MUKlMrDDE"
   },
   "source": [
    "* The class from which the exception object was created is displayed at the top and bottom of the left side of the traceback.\n",
    "* Additional details, if available, are presented at the bottom. In this case: \"division by zero\" - which is somewhat redundant in this case, but often provides more helpful information.\n",
    "* Finally, in the middle of the traceback is an explanation of where the error actually occurred within your code. In my image, you can see that this occurred on line 2. Check the output of the code cell above to see what line the error occurred on for you!"
   ]
  },
  {
   "cell_type": "markdown",
   "metadata": {
    "colab_type": "text",
    "id": "PhRyBUjprDDF"
   },
   "source": [
    "***Pythonista Tip:*** Tracebacks can get quite long...\n",
    "The point of a traceback is to \"trace\" the execution flow of your program to the point of where an exception was raised.\n",
    "Since there was only a single line to our program, it didn't take much to show the execution flow. But in a larger program this won't always be the case.\n"
   ]
  },
  {
   "cell_type": "markdown",
   "metadata": {
    "colab_type": "text",
    "id": "GnYqL016rDDG"
   },
   "source": [
    "## Basic `try/except` Usage\n",
    "All exception handling in Python is done with a `try/except` statement. Here is the most basic way that we could use it with our bad code from above."
   ]
  },
  {
   "cell_type": "code",
   "execution_count": 0,
   "metadata": {
    "colab": {},
    "colab_type": "code",
    "id": "2QoVQY-FrDDG"
   },
   "outputs": [],
   "source": [
    "try:\n",
    "    1/0  # Still illegal\n",
    "except:\n",
    "    print(\"You can't divide by 0! Give up your hopes of being a mathematician!\")"
   ]
  },
  {
   "cell_type": "markdown",
   "metadata": {
    "colab_type": "text",
    "id": "oY4eLSznrDDL"
   },
   "source": [
    "Did you notice that when you executed the above cell, you were not presented with a traceback?\n",
    "\n",
    "This is because you told Python to try `1/0` and if an exception occurred to print the error message."
   ]
  },
  {
   "cell_type": "markdown",
   "metadata": {
    "colab_type": "text",
    "id": "HxHx5YS-rDDM"
   },
   "source": [
    "Anytime that you have code that you think might generate an error, you can  put it inside the `try` clause of a `try/except` statement. If an error does occur control is past to the `except` clause instead of just blowing up the program and presenting the exception traceback to the user."
   ]
  },
  {
   "cell_type": "markdown",
   "metadata": {
    "colab_type": "text",
    "id": "YRMD4yeVrDDM"
   },
   "source": [
    "## Using Specific `except` clauses\n",
    "Using the `except` clause as we did above will catch any sort of exception that your program generates.\n",
    "\n",
    "*While that is valid syntax, it is not considered a good coding practice.* The reason for this is that a given piece of code might generate different kinds of errors, but if you catch them all with one `except` clause, you won't be able to respond to the different errors appropriately."
   ]
  },
  {
   "cell_type": "code",
   "execution_count": 0,
   "metadata": {
    "colab": {},
    "colab_type": "code",
    "id": "3S90Ms55rDDO"
   },
   "outputs": [],
   "source": [
    "# For example, now our code can raise two different types of \n",
    "# exceptions: ZeroDivisionError and AttributeError\n",
    "# But because we are using a \"bare\" `except` clause\n",
    "# they will be handled in the same fashion.\n",
    "\n",
    "import random\n",
    "random_number = random.randint(0, 1)  # Generates a random number.\n",
    "\n",
    "try:\n",
    "    # If random number is 0, generates ZeroDivisionError\n",
    "    1 / random_number  \n",
    "    \n",
    "    # If random number is not 0, then this will get executed\n",
    "    # but throw a AttributeError because we are trying to \n",
    "    # retrieve a nonexistent attribute from the `int` object.\n",
    "    random_number.nonexistentattribute\n",
    "except:\n",
    "    print(\"Hmmm.... some sort of error occurred, \"\n",
    "          \"but I'm too generic to be helpful.\")        "
   ]
  },
  {
   "cell_type": "markdown",
   "metadata": {
    "colab_type": "text",
    "id": "OHtcs4YLrDDP"
   },
   "source": [
    "So, in order to deal with this problem, Python allows you to specify multiple `except` clauses *and* to indicate which type of exception each clause should handle."
   ]
  },
  {
   "cell_type": "code",
   "execution_count": 0,
   "metadata": {
    "colab": {},
    "colab_type": "code",
    "id": "At9PNxDNrDDQ"
   },
   "outputs": [],
   "source": [
    "# Execute this cell a number of times\n",
    "# so that you can see both outcomes \n",
    "# from the random number generator\n",
    "import random\n",
    "random_number = random.randint(0, 1)\n",
    "\n",
    "try:\n",
    "    # If random number is 0, generates ZeroDivisionError\n",
    "    1 / random_number  \n",
    "    \n",
    "    # If random number is not 0, then this will get executed\n",
    "    # but throw a AttributeError because we are trying to \n",
    "    # retrieve a nonexistent attribute from the `int` object.\n",
    "    random_number.nonexistentattribute\n",
    "\n",
    "# This handles ZeroDivisionError exceptions!\n",
    "except ZeroDivisionError:\n",
    "    print(\"You can't divide by zero! Einstein gives you a grumpy face.\") \n",
    "\n",
    "# This handles AttributeError exceptions!\n",
    "except AttributeError:\n",
    "    print(\"Um.. that attribute doesn't exist.\") \n"
   ]
  },
  {
   "cell_type": "markdown",
   "metadata": {
    "colab_type": "text",
    "id": "W0wj6-qvrDDS"
   },
   "source": [
    "## Using the Exception Object\n",
    "If you want, you can also gain access to the exception object that was generated by the \"bad\" code inside of your `except` clause. You simply add as `as [name]` phrase after the relevant `except [ExceptionClass]`.  The exception object will be bound to whatever name you supply inside of the `except` code block."
   ]
  },
  {
   "cell_type": "code",
   "execution_count": 0,
   "metadata": {
    "colab": {},
    "colab_type": "code",
    "id": "F5sAUTv8rDDT"
   },
   "outputs": [],
   "source": [
    "# Execute this cell a number of times\n",
    "# so that you can see both outcomes \n",
    "# from the random number generator\n",
    "import random\n",
    "random_number = random.randint(0, 1)\n",
    "\n",
    "try:\n",
    "    # If random number is 0, generates ZeroDivisionError\n",
    "    1 / random_number  \n",
    "    \n",
    "    # If random number is not 0, then this will get executed\n",
    "    # but throw a AttributeError because we are trying to \n",
    "    # retrieve a nonexistent attribute from the `int` object.\n",
    "    random_number.nonexistentattribute\n",
    "\n",
    "except ZeroDivisionError:\n",
    "    print(\"You can't divide by zero! Einstein gives you a grumpy face.\") \n",
    "\n",
    "# In this clause we will bind the exception to the name 'error'\n",
    "# Then print the actual error object to provide additional\n",
    "# detail to the user.\n",
    "except AttributeError as error:\n",
    "    print(\"Um.. that attribute doesn't exist.\")\n",
    "    print(\"Details: {}\".format(error))"
   ]
  },
  {
   "cell_type": "markdown",
   "metadata": {
    "colab_type": "text",
    "id": "j_6W1qllrDDV"
   },
   "source": [
    "### More About Exception Objects\n",
    "In most cases, exception objects will contain a string giving a \"user friendly\" explaination of what happen as well as the traceback info.\n",
    "\n",
    "* When you `print()` an exception object (as we did here), you are given that user friendly message.\n",
    "* You can get the trackback by invoking the `with_traceback()` method of the exception object.\n",
    "* There are times when exception objects are more complex. Just remember, you can always use `dir()`, `help()`, `?`, and `??` to find out more about an object. "
   ]
  },
  {
   "cell_type": "markdown",
   "metadata": {
    "colab_type": "text",
    "id": "DmJgwjbzrDDW"
   },
   "source": [
    "## The `else` clause\n",
    "The else clause of a `try/except` statement comes after all the `except` clauses and is used to specify a block of code that is related to what is in the `try` clause and should be executed * **only** if no exceptions are encountered.*"
   ]
  },
  {
   "cell_type": "code",
   "execution_count": 0,
   "metadata": {
    "colab": {},
    "colab_type": "code",
    "id": "tZWZK-nBrDDX"
   },
   "outputs": [],
   "source": [
    "# In the following example, I will remove the attempt to access \n",
    "# `nonexistentattribute` and simply print the number if it is 1. \n",
    "# This will not raise an exception. So, the else clause will be \n",
    "# executed IF the random number is not 0.\n",
    "\n",
    "import random\n",
    "random_number = random.randint(0, 1)\n",
    "\n",
    "try:\n",
    "    # If random number is 0, generates ZeroDivisionError\n",
    "    1 / random_number  \n",
    "    \n",
    "    # If the random number is 1, this will not fail.\n",
    "    print(random_number)\n",
    "except ZeroDivisionError:\n",
    "    print(\"You can't divide by zero! Einstein gives you a grumpy face.\") \n",
    "\n",
    "else:\n",
    "    print(\"No exceptions were encountered in your code. Nice!\")"
   ]
  },
  {
   "cell_type": "markdown",
   "metadata": {
    "colab_type": "text",
    "id": "pxNu_nNBrDDY"
   },
   "source": [
    "**Pythonista Tip: ** Only \"related\" code should be in the `else` clause.\n",
    "\n",
    "Code that goes inside of a `else` clause should have a direct relationship to what is inside of the `try` clause. If there isn't a directly relationship, just put the next part of your code after and outside of the `try/except` statement.\n",
    "\n",
    "It is a bit of an art deciding when something is or is not directly related. You'll develop a feel for it over time."
   ]
  },
  {
   "cell_type": "markdown",
   "metadata": {
    "colab_type": "text",
    "id": "yWMUd2R3rDDZ"
   },
   "source": [
    "## The `finally` clause\n",
    "Finally (pun intended), you can use the `finally` clause at the end of a `try/except` statement to designate code that should be executed whether or not an exception occurs.\n",
    "\n",
    "Run the following code block a few times to see how the `finally` clause is executed regardless of whether an exception occurs or not."
   ]
  },
  {
   "cell_type": "code",
   "execution_count": 0,
   "metadata": {
    "colab": {},
    "colab_type": "code",
    "id": "2-H9nKNJrDDa"
   },
   "outputs": [],
   "source": [
    "import random\n",
    "random_number = random.randint(0, 1)\n",
    "\n",
    "try:\n",
    "    # If random number is 0, generates ZeroDivisionError\n",
    "    1 / random_number  \n",
    "    \n",
    "    # If the random number is 1, this will not fail.\n",
    "    print(random_number)\n",
    "except ZeroDivisionError:\n",
    "    print(\"You can't divide by zero! Einstein gives you a grumpy face.\") \n",
    "\n",
    "else:\n",
    "    print(\"No exceptions were encountered in your code. Nice!\")\n",
    "finally:\n",
    "    print(\"I execute no matter what. Use me to do things like \"\n",
    "          \"closing files and database connections.\")"
   ]
  },
  {
   "cell_type": "markdown",
   "metadata": {
    "colab_type": "text",
    "id": "5WaW2NsdrDDc"
   },
   "source": [
    "## Items for Further Study\n",
    "* [Python's Built-In (Commonly Used) Exceptions](https://docs.python.org/3/library/exceptions.html#bltin-exceptions)"
   ]
  }
 ],
 "metadata": {
  "colab": {
   "collapsed_sections": [],
   "name": "1.6 Exception Handling.ipynb",
   "provenance": [],
   "toc_visible": true,
   "version": "0.3.2"
  },
  "kernelspec": {
   "display_name": "Python 3",
   "language": "python",
   "name": "python3"
  },
  "language_info": {
   "codemirror_mode": {
    "name": "ipython",
    "version": 3
   },
   "file_extension": ".py",
   "mimetype": "text/x-python",
   "name": "python",
   "nbconvert_exporter": "python",
   "pygments_lexer": "ipython3",
   "version": "3.7.3"
  }
 },
 "nbformat": 4,
 "nbformat_minor": 1
}
