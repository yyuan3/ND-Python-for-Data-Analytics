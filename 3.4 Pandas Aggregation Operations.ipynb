{
 "cells": [
  {
   "cell_type": "markdown",
   "metadata": {
    "colab_type": "text",
    "id": "e9cEpxxel_yH"
   },
   "source": [
    "# Tutorial 3.4: Pandas Aggregation Data Methods\n",
    "Python for Data Analytics | Module 3  \n",
    "Professor James Ng"
   ]
  },
  {
   "cell_type": "code",
   "execution_count": 1,
   "metadata": {
    "colab": {},
    "colab_type": "code",
    "id": "bZV9N849l_yM"
   },
   "outputs": [],
   "source": [
    "# SETUP: DO NOT CHANGE\n",
    "import numpy as np\n",
    "import pandas as pd"
   ]
  },
  {
   "cell_type": "code",
   "execution_count": 2,
   "metadata": {
    "colab": {},
    "colab_type": "code",
    "id": "8L3RHPRtl_yY"
   },
   "outputs": [],
   "source": [
    "# Optional Adjustments to Float Display\n",
    "pd.options.display.float_format = '{:,.2f}'.format"
   ]
  },
  {
   "cell_type": "markdown",
   "metadata": {
    "colab_type": "text",
    "id": "aUFlitRcl_yl"
   },
   "source": [
    "## Introduction"
   ]
  },
  {
   "cell_type": "markdown",
   "metadata": {
    "colab_type": "text",
    "id": "tzBntjbZl_yn"
   },
   "source": [
    "In this tutorial, we will explore how to perform simple aggregations on Pandas **`Series`** and **`DataFrame`** objects. Per the common theme in our *pandas* coverage thus far, you will see a lot of overlap between these operations and the aggregation functions we covered in *NumPy*."
   ]
  },
  {
   "cell_type": "code",
   "execution_count": 3,
   "metadata": {
    "colab": {},
    "colab_type": "code",
    "id": "FKRifFOHl_yp"
   },
   "outputs": [
    {
     "name": "stdout",
     "output_type": "stream",
     "text": [
      "  % Total    % Received % Xferd  Average Speed   Time    Time     Time  Current\n",
      "                                 Dload  Upload   Total   Spent    Left  Speed\n",
      "100   459  100   459    0     0    701      0 --:--:-- --:--:-- --:--:--   701\n",
      "100 2737k  100 2737k    0     0  1570k      0  0:00:01  0:00:01 --:--:-- 9339k\n"
     ]
    },
    {
     "data": {
      "text/html": [
       "<div>\n",
       "<style scoped>\n",
       "    .dataframe tbody tr th:only-of-type {\n",
       "        vertical-align: middle;\n",
       "    }\n",
       "\n",
       "    .dataframe tbody tr th {\n",
       "        vertical-align: top;\n",
       "    }\n",
       "\n",
       "    .dataframe thead th {\n",
       "        text-align: right;\n",
       "    }\n",
       "</style>\n",
       "<table border=\"1\" class=\"dataframe\">\n",
       "  <thead>\n",
       "    <tr style=\"text-align: right;\">\n",
       "      <th></th>\n",
       "      <th>UNITID</th>\n",
       "      <th>OPEID</th>\n",
       "      <th>OPEID6</th>\n",
       "      <th>institution_name</th>\n",
       "      <th>city</th>\n",
       "      <th>state</th>\n",
       "      <th>url</th>\n",
       "      <th>predominant_degree_code</th>\n",
       "      <th>predominant_degree_desc</th>\n",
       "      <th>institutional_owner_code</th>\n",
       "      <th>...</th>\n",
       "      <th>pell_grant_receipents</th>\n",
       "      <th>full_time_retention_rate_4_year</th>\n",
       "      <th>full_time_retention_rate_less_than_4_year</th>\n",
       "      <th>part_time_rentention_rate_4_year</th>\n",
       "      <th>part_time_rentention_rate_less_than_4_year</th>\n",
       "      <th>students_with_federal_loans</th>\n",
       "      <th>median_student_earnings</th>\n",
       "      <th>median_student_debt</th>\n",
       "      <th>less_than_4_year_school_completion_rate</th>\n",
       "      <th>4_year_school_completion_rate</th>\n",
       "    </tr>\n",
       "  </thead>\n",
       "  <tbody>\n",
       "    <tr>\n",
       "      <th>0</th>\n",
       "      <td>102580</td>\n",
       "      <td>884300</td>\n",
       "      <td>8843</td>\n",
       "      <td>Alaska Bible College</td>\n",
       "      <td>Palmer</td>\n",
       "      <td>AK</td>\n",
       "      <td>www.akbible.edu/</td>\n",
       "      <td>3</td>\n",
       "      <td>Bachelors</td>\n",
       "      <td>2</td>\n",
       "      <td>...</td>\n",
       "      <td>0.36</td>\n",
       "      <td>0.33</td>\n",
       "      <td>nan</td>\n",
       "      <td>nan</td>\n",
       "      <td>nan</td>\n",
       "      <td>0.29</td>\n",
       "      <td>NaN</td>\n",
       "      <td>PrivacySuppressed</td>\n",
       "      <td>NaN</td>\n",
       "      <td>NaN</td>\n",
       "    </tr>\n",
       "    <tr>\n",
       "      <th>1</th>\n",
       "      <td>103501</td>\n",
       "      <td>2541000</td>\n",
       "      <td>25410</td>\n",
       "      <td>Alaska Career College</td>\n",
       "      <td>Anchorage</td>\n",
       "      <td>AK</td>\n",
       "      <td>www.alaskacareercollege.edu</td>\n",
       "      <td>1</td>\n",
       "      <td>Certificate</td>\n",
       "      <td>3</td>\n",
       "      <td>...</td>\n",
       "      <td>0.71</td>\n",
       "      <td>nan</td>\n",
       "      <td>0.79</td>\n",
       "      <td>nan</td>\n",
       "      <td>nan</td>\n",
       "      <td>0.79</td>\n",
       "      <td>28700</td>\n",
       "      <td>8994</td>\n",
       "      <td>0.707589494</td>\n",
       "      <td>NaN</td>\n",
       "    </tr>\n",
       "    <tr>\n",
       "      <th>2</th>\n",
       "      <td>442523</td>\n",
       "      <td>4138600</td>\n",
       "      <td>41386</td>\n",
       "      <td>Alaska Christian College</td>\n",
       "      <td>Soldotna</td>\n",
       "      <td>AK</td>\n",
       "      <td>www.alaskacc.edu</td>\n",
       "      <td>1</td>\n",
       "      <td>Certificate</td>\n",
       "      <td>2</td>\n",
       "      <td>...</td>\n",
       "      <td>0.89</td>\n",
       "      <td>nan</td>\n",
       "      <td>0.47</td>\n",
       "      <td>nan</td>\n",
       "      <td>1.00</td>\n",
       "      <td>0.68</td>\n",
       "      <td>NaN</td>\n",
       "      <td>PrivacySuppressed</td>\n",
       "      <td>0</td>\n",
       "      <td>NaN</td>\n",
       "    </tr>\n",
       "    <tr>\n",
       "      <th>3</th>\n",
       "      <td>102669</td>\n",
       "      <td>106100</td>\n",
       "      <td>1061</td>\n",
       "      <td>Alaska Pacific University</td>\n",
       "      <td>Anchorage</td>\n",
       "      <td>AK</td>\n",
       "      <td>www.alaskapacific.edu</td>\n",
       "      <td>3</td>\n",
       "      <td>Bachelors</td>\n",
       "      <td>2</td>\n",
       "      <td>...</td>\n",
       "      <td>0.32</td>\n",
       "      <td>0.77</td>\n",
       "      <td>nan</td>\n",
       "      <td>1.00</td>\n",
       "      <td>nan</td>\n",
       "      <td>0.53</td>\n",
       "      <td>47000</td>\n",
       "      <td>23250</td>\n",
       "      <td>NaN</td>\n",
       "      <td>0.514833663</td>\n",
       "    </tr>\n",
       "    <tr>\n",
       "      <th>4</th>\n",
       "      <td>102711</td>\n",
       "      <td>3160300</td>\n",
       "      <td>31603</td>\n",
       "      <td>AVTEC-Alaska's Institute of Technology</td>\n",
       "      <td>Seward</td>\n",
       "      <td>AK</td>\n",
       "      <td>www.avtec.edu/</td>\n",
       "      <td>1</td>\n",
       "      <td>Certificate</td>\n",
       "      <td>1</td>\n",
       "      <td>...</td>\n",
       "      <td>0.07</td>\n",
       "      <td>nan</td>\n",
       "      <td>1.00</td>\n",
       "      <td>nan</td>\n",
       "      <td>1.00</td>\n",
       "      <td>0.07</td>\n",
       "      <td>33500</td>\n",
       "      <td>PrivacySuppressed</td>\n",
       "      <td>0.846055789</td>\n",
       "      <td>NaN</td>\n",
       "    </tr>\n",
       "  </tbody>\n",
       "</table>\n",
       "<p>5 rows × 63 columns</p>\n",
       "</div>"
      ],
      "text/plain": [
       "   UNITID    OPEID  OPEID6                        institution_name       city  \\\n",
       "0  102580   884300    8843                    Alaska Bible College     Palmer   \n",
       "1  103501  2541000   25410                   Alaska Career College  Anchorage   \n",
       "2  442523  4138600   41386                Alaska Christian College   Soldotna   \n",
       "3  102669   106100    1061               Alaska Pacific University  Anchorage   \n",
       "4  102711  3160300   31603  AVTEC-Alaska's Institute of Technology     Seward   \n",
       "\n",
       "  state                          url  predominant_degree_code  \\\n",
       "0    AK             www.akbible.edu/                        3   \n",
       "1    AK  www.alaskacareercollege.edu                        1   \n",
       "2    AK             www.alaskacc.edu                        1   \n",
       "3    AK        www.alaskapacific.edu                        3   \n",
       "4    AK               www.avtec.edu/                        1   \n",
       "\n",
       "  predominant_degree_desc  institutional_owner_code  ...  \\\n",
       "0               Bachelors                         2  ...   \n",
       "1             Certificate                         3  ...   \n",
       "2             Certificate                         2  ...   \n",
       "3               Bachelors                         2  ...   \n",
       "4             Certificate                         1  ...   \n",
       "\n",
       "  pell_grant_receipents  full_time_retention_rate_4_year  \\\n",
       "0                  0.36                             0.33   \n",
       "1                  0.71                              nan   \n",
       "2                  0.89                              nan   \n",
       "3                  0.32                             0.77   \n",
       "4                  0.07                              nan   \n",
       "\n",
       "   full_time_retention_rate_less_than_4_year  \\\n",
       "0                                        nan   \n",
       "1                                       0.79   \n",
       "2                                       0.47   \n",
       "3                                        nan   \n",
       "4                                       1.00   \n",
       "\n",
       "   part_time_rentention_rate_4_year  \\\n",
       "0                               nan   \n",
       "1                               nan   \n",
       "2                               nan   \n",
       "3                              1.00   \n",
       "4                               nan   \n",
       "\n",
       "   part_time_rentention_rate_less_than_4_year students_with_federal_loans  \\\n",
       "0                                         nan                        0.29   \n",
       "1                                         nan                        0.79   \n",
       "2                                        1.00                        0.68   \n",
       "3                                         nan                        0.53   \n",
       "4                                        1.00                        0.07   \n",
       "\n",
       "   median_student_earnings  median_student_debt  \\\n",
       "0                      NaN    PrivacySuppressed   \n",
       "1                    28700                 8994   \n",
       "2                      NaN    PrivacySuppressed   \n",
       "3                    47000                23250   \n",
       "4                    33500    PrivacySuppressed   \n",
       "\n",
       "   less_than_4_year_school_completion_rate  4_year_school_completion_rate  \n",
       "0                                      NaN                            NaN  \n",
       "1                              0.707589494                            NaN  \n",
       "2                                        0                            NaN  \n",
       "3                                      NaN                    0.514833663  \n",
       "4                              0.846055789                            NaN  \n",
       "\n",
       "[5 rows x 63 columns]"
      ]
     },
     "execution_count": 3,
     "metadata": {},
     "output_type": "execute_result"
    }
   ],
   "source": [
    "# We'll be using our college scorecard dataset in this tutorial.\n",
    "!curl -L https://osf.io/cz253/download --create-dirs -o data-sets/college-scorecard-data-scrubbed.csv\n",
    "\n",
    "college_scorecard = pd.read_csv(\n",
    "    'data-sets/college-scorecard-data-scrubbed.csv', \n",
    "    encoding='latin-1')\n",
    "college_scorecard.head()"
   ]
  },
  {
   "cell_type": "markdown",
   "metadata": {
    "colab_type": "text",
    "id": "l7SmnpO3l_yv"
   },
   "source": [
    "### Table of Common Aggregation Methods\n",
    "The following table contains a list of common aggregation methods that are available on *pandas* objects. This list is not exhaustive and, as you grow in your *pandas* knowledge, you'll discover additional methods on your own.\n",
    "\n",
    "|Method Name      |   Description  |\n",
    "|-----------------|---------------------|\n",
    "| `count`         | Number of non-NaN values                       |\n",
    "| `min`       | Minimum value                   |\n",
    "| `max`       | Maximum value    |\n",
    "| `sum`        | Sum of values                    |\n",
    "| `mean`        | Mean of values                              |\n",
    "| `median`        | Median value                            |\n",
    "| `std`        | Standard Deviation                            |\n",
    "| `quantile`     | Find index of minimum value                   |\n",
    "| `cumsum`     | Find index of maximum value                   |\n",
    "| `cummin`     | Compute median of elements                    |\n",
    "| `cummax` | Compute rank-based statistics of elements     |"
   ]
  },
  {
   "cell_type": "markdown",
   "metadata": {
    "colab_type": "text",
    "id": "OWB0CMltl_yx"
   },
   "source": [
    "## Aggregations with `Series` Objects\n",
    "For most, if not all practical purposes, performing aggregations on **`Series`** objects is no different that performing the same operation on a NumPy array.\n",
    "\n",
    "Let us perform some simple aggregations on the SAT Average series of our `college_scorecard` *DataFrame* to demonstrate."
   ]
  },
  {
   "cell_type": "code",
   "execution_count": null,
   "metadata": {
    "colab": {},
    "colab_type": "code",
    "id": "82nPmJabl_y1"
   },
   "outputs": [],
   "source": [
    "# Get the SAT Average Series\n",
    "sat_averages = college_scorecard['sat_average']"
   ]
  },
  {
   "cell_type": "code",
   "execution_count": null,
   "metadata": {
    "colab": {},
    "colab_type": "code",
    "id": "Z-QGjuaul_y6"
   },
   "outputs": [],
   "source": [
    "# Get the count of non NaN values in the Series\n",
    "sat_averages.count()"
   ]
  },
  {
   "cell_type": "code",
   "execution_count": null,
   "metadata": {
    "colab": {},
    "colab_type": "code",
    "id": "7Oqik8gUl_zD"
   },
   "outputs": [],
   "source": [
    "# Mean/Average of SAT Averages - Kinda Funny\n",
    "sat_averages.mean()"
   ]
  },
  {
   "cell_type": "code",
   "execution_count": null,
   "metadata": {
    "colab": {},
    "colab_type": "code",
    "id": "QlLlWSqzl_zP"
   },
   "outputs": [],
   "source": [
    "# Max SAT Average in Series\n",
    "sat_averages.max()"
   ]
  },
  {
   "cell_type": "code",
   "execution_count": null,
   "metadata": {
    "colab": {},
    "colab_type": "code",
    "id": "iSyuv2aNl_zX"
   },
   "outputs": [],
   "source": [
    "# Min SAT Average in Series\n",
    "sat_averages.min()"
   ]
  },
  {
   "cell_type": "code",
   "execution_count": null,
   "metadata": {
    "colab": {},
    "colab_type": "code",
    "id": "B0JQg_qGl_zf"
   },
   "outputs": [],
   "source": [
    "# Median SAT Average\n",
    "sat_averages.median()"
   ]
  },
  {
   "cell_type": "code",
   "execution_count": null,
   "metadata": {
    "colab": {},
    "colab_type": "code",
    "id": "pmTyBFgMl_zl"
   },
   "outputs": [],
   "source": [
    "# Stardard Deviation\n",
    "sat_averages.std()"
   ]
  },
  {
   "cell_type": "code",
   "execution_count": null,
   "metadata": {
    "colab": {},
    "colab_type": "code",
    "id": "aH6rEa-Ll_zs"
   },
   "outputs": [],
   "source": [
    "# Quantile - this is just like np.percentile except you\n",
    "# specify the desired percentiles as a fraction of 1.\n",
    "sat_averages.quantile([.25, .50, .75]) # Get the 25th, 50th, and 75th percentiles"
   ]
  },
  {
   "cell_type": "markdown",
   "metadata": {
    "colab_type": "text",
    "id": "BO7tteOKl_zy"
   },
   "source": [
    "A couple of things to note here. Back in NumPy, if you had an array with NaN values in it, those NaN values would have prevented you from getting back anything helpful from the equivalent aggregations functions:"
   ]
  },
  {
   "cell_type": "code",
   "execution_count": null,
   "metadata": {
    "colab": {},
    "colab_type": "code",
    "id": "Q47X5a35l_zz"
   },
   "outputs": [],
   "source": [
    "# One NaN value in a NumPy array means that you'll get NaN as the \n",
    "# result of aggregation functions. NOT COOL.\n",
    "example_array = np.array([1, 2, np.NaN])\n",
    "np.max(example_array)"
   ]
  },
  {
   "cell_type": "markdown",
   "metadata": {
    "colab_type": "text",
    "id": "rjyWyuxyl_z7"
   },
   "source": [
    "The `sat_averages` *Series* contains many `NaN` values and yet *pandas* give us a helpful result when we invoke it's aggregation methods. *pandas* performs whatever calculation we asked for with whatever data is available, and simply overlooks NaN values.\n",
    "\n",
    "You can however, turn this ability off by specifying the `skipna` parameter with a value of `False`. This doesn't make much sense when operating on an individual *Series* object, but you might want to use it when dealing with a *DataFrame*."
   ]
  },
  {
   "cell_type": "code",
   "execution_count": null,
   "metadata": {
    "colab": {},
    "colab_type": "code",
    "id": "A7xyMyyGl_z_"
   },
   "outputs": [],
   "source": [
    "# You can make pandas act like NumPy and barf on NaN values if you want.\n",
    "sat_averages.mean(skipna=False)"
   ]
  },
  {
   "cell_type": "markdown",
   "metadata": {
    "colab_type": "text",
    "id": "cwECu79nl_0I"
   },
   "source": [
    "## Aggregations with `DataFrame` Objects\n",
    "When you invoke one of the aggregation methods on a *DataFrame* object, *pandas* will by default attempt to perform the requested aggregation on a per column basis.\n",
    "\n",
    "Let's demonstrate with a couple of the methods."
   ]
  },
  {
   "cell_type": "code",
   "execution_count": null,
   "metadata": {
    "colab": {},
    "colab_type": "code",
    "id": "DUQKsdyVl_0M"
   },
   "outputs": [],
   "source": [
    "# Get the count of valid (not NaN) entries in the \n",
    "# all the columns of the dataset.\n",
    "\n",
    "# As an aside, this is a quick way of identifying\n",
    "# which columns have a lot of NaN values.\n",
    "college_scorecard.count()"
   ]
  },
  {
   "cell_type": "code",
   "execution_count": null,
   "metadata": {},
   "outputs": [],
   "source": [
    "# With many columns, the printout from count() is truncated. To see them all, use info()\n",
    "college_scorecard.info()"
   ]
  },
  {
   "cell_type": "code",
   "execution_count": null,
   "metadata": {
    "colab": {},
    "colab_type": "code",
    "id": "_k_tlf1jl_0S"
   },
   "outputs": [],
   "source": [
    "# Get the mean of the first ten columns\n",
    "college_scorecard.mean()[0:10]"
   ]
  },
  {
   "cell_type": "markdown",
   "metadata": {
    "colab_type": "text",
    "id": "fgWBVcwjl_0a"
   },
   "source": [
    "If you want, you can override *pandas* default behavior and have it aggregate across the columns' axis (i.e. by rows) by specifying the `axis` parameter with a value of `1`.\n",
    "\n",
    "In most cases you won't find this helpful unless you've transposed your data so that the columns/rows have switched places.\n",
    "\n",
    "That said, the `count()` method can still be of some value here:"
   ]
  },
  {
   "cell_type": "code",
   "execution_count": null,
   "metadata": {
    "colab": {},
    "colab_type": "code",
    "id": "k7WNKoYVl_0b"
   },
   "outputs": [],
   "source": [
    "# For each row, how many columns have valid (non-NaN) values?\n",
    "# In other words, how many valid values does EACH ROW have?\n",
    "\n",
    "# Here we will display the results for the first\n",
    "# 10 rows\n",
    "college_scorecard.count(axis=1)[:10]"
   ]
  },
  {
   "cell_type": "markdown",
   "metadata": {
    "colab_type": "text",
    "id": "ZthjWxFdl_0e"
   },
   "source": [
    "Now, for the sake of completeness, I'll quickly demonstrate the remaining aggregation methods. Take note that some of these methods only return data on numeric Series, while others will return data for both numeric and non-numeric Series."
   ]
  },
  {
   "cell_type": "code",
   "execution_count": null,
   "metadata": {
    "colab": {},
    "colab_type": "code",
    "id": "QOw8VY9dl_0e"
   },
   "outputs": [],
   "source": [
    "# mean()\n",
    "# Numeric Only\n",
    "college_scorecard.mean().head()"
   ]
  },
  {
   "cell_type": "code",
   "execution_count": null,
   "metadata": {
    "colab": {},
    "colab_type": "code",
    "id": "Jnl-XKBYl_0i"
   },
   "outputs": [],
   "source": [
    "# sum()\n",
    "# Numeric and Non-Numeric \n",
    "# Has the strange effect of concatenating string Series values together into \n",
    "# really really reallllllly long strings.\n",
    "college_scorecard.sum().head()"
   ]
  },
  {
   "cell_type": "code",
   "execution_count": null,
   "metadata": {
    "colab": {},
    "colab_type": "code",
    "id": "Eyx38nd8l_0p"
   },
   "outputs": [],
   "source": [
    "# You can specify to only return data on numeric fields\n",
    "# on this and other methods that process non-numeric data.\n",
    "college_scorecard.sum(numeric_only=True)[:10]"
   ]
  },
  {
   "cell_type": "code",
   "execution_count": null,
   "metadata": {
    "colab": {},
    "colab_type": "code",
    "id": "hUwcvHF2l_0v"
   },
   "outputs": [],
   "source": [
    "# min()\n",
    "# Numeric and Non-Numeric \n",
    "college_scorecard.min()[:10]"
   ]
  },
  {
   "cell_type": "code",
   "execution_count": null,
   "metadata": {
    "colab": {},
    "colab_type": "code",
    "id": "7IvYGMcol_05"
   },
   "outputs": [],
   "source": [
    "# max()\n",
    "# Numeric and Non-Numeric \n",
    "college_scorecard.max()[:10]"
   ]
  },
  {
   "cell_type": "code",
   "execution_count": null,
   "metadata": {
    "colab": {},
    "colab_type": "code",
    "id": "7bvAlVLil_08"
   },
   "outputs": [],
   "source": [
    "# std()\n",
    "# Numeric Only\n",
    "college_scorecard.std()[:10]"
   ]
  },
  {
   "cell_type": "code",
   "execution_count": null,
   "metadata": {
    "colab": {},
    "colab_type": "code",
    "id": "73h-ja3yl_1B"
   },
   "outputs": [],
   "source": [
    "# quantile()\n",
    "# Numeric Only\n",
    "\n",
    "# This on is interesting in that if you pass multiple values, *pandas*\n",
    "# returns a DataFrame object with the requested data.\n",
    "college_scorecard.quantile([.25, .75])"
   ]
  },
  {
   "cell_type": "code",
   "execution_count": null,
   "metadata": {
    "colab": {},
    "colab_type": "code",
    "id": "UOtmi1Url_1L"
   },
   "outputs": [],
   "source": [
    "# If you pass only one value, you just get a Series back.\n",
    "college_scorecard.quantile(.50)[:10]"
   ]
  },
  {
   "cell_type": "markdown",
   "metadata": {
    "colab_type": "text",
    "id": "9CQoX5fYl_1O"
   },
   "source": [
    "## The `describe()` method\n",
    "When you are doing initial exploratory analysis of a data set the `describe()` method can be very handy. It is available on both **`Series`** and **`DataFrame`** objects and outputs a variety of aggregations that are very useful in getting the general \"sense\" of a dataset.\n",
    "\n",
    "Take a look at the output for our **`sat_average`** series and **`college_scorecard`** dataframe."
   ]
  },
  {
   "cell_type": "code",
   "execution_count": null,
   "metadata": {
    "colab": {},
    "colab_type": "code",
    "id": "jH6ZEEuGl_1P"
   },
   "outputs": [],
   "source": [
    "sat_averages.describe()"
   ]
  },
  {
   "cell_type": "code",
   "execution_count": null,
   "metadata": {
    "colab": {},
    "colab_type": "code",
    "id": "Vm2jpFVGl_1i"
   },
   "outputs": [],
   "source": [
    "college_scorecard.describe()"
   ]
  },
  {
   "cell_type": "markdown",
   "metadata": {
    "colab_type": "text",
    "id": "l76vVOtll_1r"
   },
   "source": [
    "### Tweaking `describe()` behavior with `include` and `exclude` parameters.\n",
    "When used on a **`DataFrame`** object, the default behavior of the **`describe()`** method is to provide statistics on numeric columns only.\n",
    "\n",
    "Let's take a look at the **`dtypes`** attribute on our college_scorecard dataframe to see what columns this does/doesn't include."
   ]
  },
  {
   "cell_type": "code",
   "execution_count": null,
   "metadata": {
    "colab": {},
    "colab_type": "code",
    "id": "uSXmawWnl_1t"
   },
   "outputs": [],
   "source": [
    "college_scorecard.dtypes"
   ]
  },
  {
   "cell_type": "markdown",
   "metadata": {
    "colab_type": "text",
    "id": "E9IxoU9Ql_1z"
   },
   "source": [
    "See all the places where it lists the datatype of a column as 'object'? These columns won't be reported on with the **`describe()`** method when using the default parameters.\n",
    "\n",
    "We can change this using either the **`include`** or the **`exclude`** parameters:"
   ]
  },
  {
   "cell_type": "code",
   "execution_count": null,
   "metadata": {
    "colab": {},
    "colab_type": "code",
    "id": "OTovwnLol_11"
   },
   "outputs": [],
   "source": [
    "# Include the object datatype columns\n",
    "college_scorecard.describe(include=[np.object])"
   ]
  },
  {
   "cell_type": "code",
   "execution_count": null,
   "metadata": {
    "colab": {},
    "colab_type": "code",
    "id": "gD58PMRdl_19"
   },
   "outputs": [],
   "source": [
    "# Exclude the numeric datatypes\n",
    "college_scorecard.describe(exclude=[np.number])"
   ]
  },
  {
   "cell_type": "markdown",
   "metadata": {
    "colab_type": "text",
    "id": "O1-CYUqfl_2A"
   },
   "source": [
    "There are two things here that are important to notice:\n",
    "1. The type of statistics returned changed when operating on **`object`** column types.\n",
    "2. I used NumPy datatypes in the specification of what to include and exclude. While you could do it other ways, this is the recommendation of *pandas* itself."
   ]
  },
  {
   "cell_type": "markdown",
   "metadata": {
    "colab_type": "text",
    "id": "wEDauMY3l_2B"
   },
   "source": [
    "Finally, you can specify **`include='all'`** to force Pandas to evaluate all columns.  It will inject `NaN` where\n",
    "a calculation cannot be done."
   ]
  },
  {
   "cell_type": "code",
   "execution_count": null,
   "metadata": {
    "colab": {},
    "colab_type": "code",
    "id": "K1Qlg6u0l_2D"
   },
   "outputs": [],
   "source": [
    "college_scorecard.describe(include='all')"
   ]
  },
  {
   "cell_type": "code",
   "execution_count": null,
   "metadata": {},
   "outputs": [],
   "source": []
  }
 ],
 "metadata": {
  "colab": {
   "collapsed_sections": [],
   "name": "3.5 - Pandas Aggregation Methods.ipynb",
   "provenance": [],
   "toc_visible": true,
   "version": "0.3.2"
  },
  "kernelspec": {
   "display_name": "Python 3",
   "language": "python",
   "name": "python3"
  },
  "language_info": {
   "codemirror_mode": {
    "name": "ipython",
    "version": 3
   },
   "file_extension": ".py",
   "mimetype": "text/x-python",
   "name": "python",
   "nbconvert_exporter": "python",
   "pygments_lexer": "ipython3",
   "version": "3.7.3"
  }
 },
 "nbformat": 4,
 "nbformat_minor": 1
}
