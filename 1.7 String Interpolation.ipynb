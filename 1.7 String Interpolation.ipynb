{
 "cells": [
  {
   "cell_type": "markdown",
   "metadata": {
    "colab_type": "text",
    "id": "_GxPRvAY5qh8"
   },
   "source": [
    "# Tutorial 1.7: String Interpolation\n",
    "Python for Data Analytics \n",
    "Module 1"
   ]
  },
  {
   "cell_type": "markdown",
   "metadata": {
    "colab_type": "text",
    "id": "QuDQnhzs5qh9"
   },
   "source": [
    "While we've covered the basics of using strings (`str` objects) in our programs, we have left one important topic untouched: How to insert variable values into strings. The process of doing so is called **string interpolation** and it is the subject of this tutorial."
   ]
  },
  {
   "cell_type": "markdown",
   "metadata": {
    "colab_type": "text",
    "id": "YSzZ0Dkh5qh_"
   },
   "source": [
    "## Getting started with `str.format()`\n",
    "Essentially, you use the `format()` method of a string object to insert representations of other objects into designated \"placeholders\".\n",
    "\n",
    "Let's get started with a simple example."
   ]
  },
  {
   "cell_type": "code",
   "execution_count": null,
   "metadata": {
    "colab": {},
    "colab_type": "code",
    "id": "a9H3sfPo5qh_"
   },
   "outputs": [],
   "source": [
    "\"Hello, my name is {}\".format(\"Professor Dunn\")"
   ]
  },
  {
   "cell_type": "markdown",
   "metadata": {
    "colab_type": "text",
    "id": "vIIO5G2l5qiC"
   },
   "source": [
    "Anytime you see a pair of curly braces inside of a string along with a call to `format()`, those curly represent a placeholder to be exchanged for the value of a variable that is passed into the `format()` call."
   ]
  },
  {
   "cell_type": "code",
   "execution_count": null,
   "metadata": {
    "colab": {},
    "colab_type": "code",
    "id": "GG-MSXOl5qiD"
   },
   "outputs": [],
   "source": [
    "# This time, let's iterpolate two different variables.\n",
    "\"I really like {} and {}.\".format('Chipotle', 'In-N-Out Burger')"
   ]
  },
  {
   "cell_type": "markdown",
   "metadata": {
    "colab_type": "text",
    "id": "qeNuIkZv5qiG"
   },
   "source": [
    "You can see here that the first placeholder is replaced with the first object. The same is true for the second object. You can however, specify the order in which you want to use the arguments passed to `format` like so:"
   ]
  },
  {
   "cell_type": "code",
   "execution_count": null,
   "metadata": {
    "colab": {},
    "colab_type": "code",
    "id": "ucVCA-Dl5qiG"
   },
   "outputs": [],
   "source": [
    "# Specify the \"index\" of the argument passed in\n",
    "# to control what value is inserted into a placeholder\n",
    "\"I really like {1} and {0}\".format('Chipotle', 'In-N-Out Burger')"
   ]
  },
  {
   "cell_type": "code",
   "execution_count": null,
   "metadata": {
    "colab": {},
    "colab_type": "code",
    "id": "JPR6691j5qiI"
   },
   "outputs": [],
   "source": [
    "# When you do this, you can reuse a given argument\n",
    "\"I really like {1} and {0}, but I like {1} the most.\".format(\n",
    "    'Chipotle', 'In-N-Out Burger')"
   ]
  },
  {
   "cell_type": "markdown",
   "metadata": {
    "colab_type": "text",
    "id": "1D96f8MZ5qiK"
   },
   "source": [
    "You can also assign names to objects and then use those namaes inside of your placeholders."
   ]
  },
  {
   "cell_type": "code",
   "execution_count": null,
   "metadata": {
    "colab": {},
    "colab_type": "code",
    "id": "e9qHe9uZ5qiL"
   },
   "outputs": [],
   "source": [
    "\"This summer, I'm going to fly on {airline} to visit {location}\".format(\n",
    "    airline=\"Southwest\", location=\"Disneyland\")"
   ]
  },
  {
   "cell_type": "markdown",
   "metadata": {
    "colab_type": "text",
    "id": "RGlfVbj-5qiM"
   },
   "source": [
    "### Referencing Elements of a Container\n",
    "You can access elements of container objects inside of a placeholder. Mostly commonly, you would do this with a `list` object, which we will demonstrate first. "
   ]
  },
  {
   "cell_type": "code",
   "execution_count": null,
   "metadata": {
    "colab": {},
    "colab_type": "code",
    "id": "eBY9kbXu5qiO"
   },
   "outputs": [],
   "source": [
    "# In this example, we have not assigned a name to \n",
    "# `example_list` inside of the `format()` call.\n",
    "\n",
    "# You can see that we just use normal index notation to \n",
    "# extract the elements from the list that we want \n",
    "# to insert into our placeholders\n",
    "example_list = [98, 57, 32, 94]\n",
    "\"The first element in my list is {0[0]} and the last item is {0[3]}\".format(\n",
    "    example_list)"
   ]
  },
  {
   "cell_type": "markdown",
   "metadata": {
    "colab_type": "text",
    "id": "o3gE0Brg5qiQ"
   },
   "source": [
    "**Pythonista Tip:** You cannot reference list elements with negative index numbers or slice notation with `format`."
   ]
  },
  {
   "cell_type": "code",
   "execution_count": null,
   "metadata": {
    "colab": {},
    "colab_type": "code",
    "id": "uKNntjMP5qiR"
   },
   "outputs": [],
   "source": [
    "# This time we will give the list a name inside \n",
    "# of the `format` method. We can then use this \n",
    "# name inside of our placeholders.\n",
    "\n",
    "# Notice that we still use normal index notation\n",
    "# to extra the list element for us.\n",
    "\"The first element in my list is {example_name[0]} and the last item is {example_name[3]}\".format(\n",
    "    example_name=example_list)"
   ]
  },
  {
   "cell_type": "markdown",
   "metadata": {
    "colab_type": "text",
    "id": "Y5M3sLY2Rm4L"
   },
   "source": [
    "Now let's take a look at how we could do a similar operation with dictionary objects.\n",
    "For this example, let us assume that we have the following dictionary:"
   ]
  },
  {
   "cell_type": "code",
   "execution_count": null,
   "metadata": {
    "colab": {},
    "colab_type": "code",
    "id": "ElFinwQtR6g_"
   },
   "outputs": [],
   "source": [
    "example_dictionary = {\n",
    "    'day': 'Saturday',\n",
    "    'month': 'September'\n",
    "}"
   ]
  },
  {
   "cell_type": "markdown",
   "metadata": {
    "colab_type": "text",
    "id": "DhLq2ZCeR9Xr"
   },
   "source": [
    "As you know, you would retrieve individual elements from the dictionary by specifying their key name like so:"
   ]
  },
  {
   "cell_type": "code",
   "execution_count": null,
   "metadata": {
    "colab": {},
    "colab_type": "code",
    "id": "8HZnbKtuSFHs"
   },
   "outputs": [],
   "source": [
    "example_dictionary['day']"
   ]
  },
  {
   "cell_type": "markdown",
   "metadata": {
    "colab_type": "text",
    "id": "_2nNJZyISWgo"
   },
   "source": [
    "When you are using a dictionary with the `format()` method you use almost the same syntax, but you leave out the quotes when specifying the key name."
   ]
  },
  {
   "cell_type": "code",
   "execution_count": null,
   "metadata": {
    "colab": {},
    "colab_type": "code",
    "id": "Z8i0khElOPUb"
   },
   "outputs": [],
   "source": [
    "\n",
    "\"Today is a {0[day]} in the month of {0[month]}\".format(example_dictionary)"
   ]
  },
  {
   "cell_type": "code",
   "execution_count": null,
   "metadata": {},
   "outputs": [],
   "source": [
    "### Alternatively"
   ]
  },
  {
   "cell_type": "code",
   "execution_count": null,
   "metadata": {},
   "outputs": [],
   "source": [
    "\"The first element in my list is\" + example_list[0] + \" and the last item is \" + example_list[3]"
   ]
  },
  {
   "cell_type": "code",
   "execution_count": null,
   "metadata": {},
   "outputs": [],
   "source": [
    "# Notice the error. How would you fix the error?"
   ]
  },
  {
   "cell_type": "markdown",
   "metadata": {
    "colab_type": "text",
    "id": "h_YklsEi5qiZ"
   },
   "source": [
    "### Further Study\n",
    "If you really want to get fancy and find out all the you can do with the `str.format()` method, you can check out the [official documentation](https://docs.python.org/3/library/string.html#format-examples)."
   ]
  }
 ],
 "metadata": {
  "colab": {
   "collapsed_sections": [],
   "name": "1.7 String Interpolation.ipynb",
   "provenance": [],
   "version": "0.3.2"
  },
  "kernelspec": {
   "display_name": "Python 3",
   "language": "python",
   "name": "python3"
  },
  "language_info": {
   "codemirror_mode": {
    "name": "ipython",
    "version": 3
   },
   "file_extension": ".py",
   "mimetype": "text/x-python",
   "name": "python",
   "nbconvert_exporter": "python",
   "pygments_lexer": "ipython3",
   "version": "3.7.3"
  }
 },
 "nbformat": 4,
 "nbformat_minor": 1
}
