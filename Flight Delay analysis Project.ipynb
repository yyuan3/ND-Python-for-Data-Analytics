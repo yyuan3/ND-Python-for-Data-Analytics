{
 "cells": [
  {
   "cell_type": "code",
   "execution_count": null,
   "metadata": {},
   "outputs": [],
   "source": [
    "## Starter code\n",
    "\n",
    "import pandas as pd\n",
    "import numpy as np\n",
    "\n",
    "# The following statements should get the three data files loaded as DataFrames. \n",
    "\n",
    "airlines = pd.read_csv(\"../resource/asnlib/publicdata/airlines.csv\")\n",
    "airports = pd.read_csv(\"../resource/asnlib/publicdata/airports.csv\")\n",
    "flights  = pd.read_csv(\"https://www3.nd.edu/~jng2/flights_20_perc.csv\") \n",
    "# the flights file is ~140mb so will take a few seconds to load"
   ]
  }
 ],
 "metadata": {
  "kernelspec": {
   "display_name": "Python 3",
   "language": "python",
   "name": "python3"
  },
  "language_info": {
   "codemirror_mode": {
    "name": "ipython",
    "version": 3
   },
   "file_extension": ".py",
   "mimetype": "text/x-python",
   "name": "python",
   "nbconvert_exporter": "python",
   "pygments_lexer": "ipython3",
   "version": "3.7.3"
  }
 },
 "nbformat": 4,
 "nbformat_minor": 2
}
