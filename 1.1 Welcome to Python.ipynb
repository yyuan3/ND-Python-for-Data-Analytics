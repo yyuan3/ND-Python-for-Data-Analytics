{
 "cells": [
  {
   "cell_type": "raw",
   "metadata": {
    "colab_type": "text",
    "id": "mAcLdvJYrsWf"
   },
   "source": [
    "# Tutorial 1.1: Welcome to Python!\n",
    "Python for Data Analytics \n",
    "Module 1"
   ]
  },
  {
   "cell_type": "markdown",
   "metadata": {
    "colab_type": "text",
    "id": "fA5DbzlUrsWg"
   },
   "source": [
    "## Welcome to **Python for Data Analytics**. \n",
    "I'm looking forward to welcoming you into the awesome world of Python and giving you a taste of what you can accomplish with it in a very short amount of time."
   ]
  },
  {
   "cell_type": "markdown",
   "metadata": {
    "colab_type": "text",
    "id": "eElt3y9brsWh"
   },
   "source": [
    "While the primary focus of our course is learning how to effectively use Python libraries specifically created for data science/analytics, you will need at least a basic understanding of the the Python language in order to be successful.\n",
    "\n",
    "Therefore, in the first module of our course, we will \"learn the ropes\" of the language."
   ]
  },
  {
   "cell_type": "markdown",
   "metadata": {
    "colab_type": "text",
    "id": "pjvrVLtmrsWh"
   },
   "source": [
    "## So what is Python anyway?\n",
    "The [official description of Python](https://www.python.org/doc/essays/blurb/) is that: *Python is an interpreted, object-oriented, high-level programming language with dynamic semantics.*\n",
    "\n",
    "Now, unless you are a computer science major who knows multiple languages, that probably isn't all that helpful to you. So, let's go through each of the terms in that sentence."
   ]
  },
  {
   "cell_type": "markdown",
   "metadata": {
    "colab_type": "text",
    "id": "4PaL4gYOrsWi"
   },
   "source": [
    "### Interpreted\n",
    "We could go deep into the weeds on this particular topic. People can and do get into arguments about this. However, for our purposes, you can basically think of this as the fact that Python programs do not require a separate \"build\" or \"compiliation\" process that you have to perform before you can execute them.\n",
    "\n",
    "The absense of this extra step allows for faster development and an iterative, even playful, coding style."
   ]
  },
  {
   "cell_type": "markdown",
   "metadata": {
    "colab_type": "text",
    "id": "dSuw7MalrsWi"
   },
   "source": [
    "### Object Oriented\n",
    "If you've ever done any programming, chances are you've heard the term \"object-oriented\" tossed around. Essentially, it is a label attached to a style of programming in which pieces of related data and operations are grouped together into \"objects\".\n",
    "\n",
    "Often, these objects will have some degree of correspondence to real world entities. Let's take a look at the definition of an object type (also called a *class*) which we will use to help demonstrate how this works in practice."
   ]
  },
  {
   "cell_type": "code",
   "execution_count": 0,
   "metadata": {
    "colab": {},
    "colab_type": "code",
    "id": "zaGft6B5rsWk"
   },
   "outputs": [],
   "source": [
    "# This is an example of a class/object type definition in Python\n",
    "class ExampleDog():\n",
    "    def __init__(self):\n",
    "        self.name = 'Aslan'\n",
    "        self.species = 'Golden Retriever'\n",
    "        \n",
    "    def bark(self):\n",
    "        print(f\"My name is {self.name} and I'm a {self.species}.\")"
   ]
  },
  {
   "cell_type": "markdown",
   "metadata": {
    "colab_type": "text",
    "id": "LdM2ogBdrsWn"
   },
   "source": [
    "In the cell above is a *class definition* statement. Classes (sometimes also called object types) can be thought of as blueprints that are used to generate objects inside of a program. Just as an architect would create an actual building from a blueprint, a program creates actual objects from classes."
   ]
  },
  {
   "cell_type": "markdown",
   "metadata": {
    "colab_type": "text",
    "id": "UKX3m_V3rsWo"
   },
   "source": [
    "As was stated above, objects are used to group related data and operations. Technically, the data an object contains are called **data attributes** and its operations (things it can do) are called **methods**.\n",
    "\n",
    "In our case here, objects created from the ``ExampleDog`` class will have two attributes (self.name and self.species) and one method (bark)."
   ]
  },
  {
   "cell_type": "code",
   "execution_count": 0,
   "metadata": {
    "colab": {},
    "colab_type": "code",
    "id": "1h-u9WjbrsWp"
   },
   "outputs": [],
   "source": [
    "# Let's create an actual object from our ExampleDog class.\n",
    "# The following statement will create an object from our class\n",
    "# and assign it the label \"dog_one\"\n",
    "\n",
    "# Note the () here after the class name.\n",
    "dog_one = ExampleDog()"
   ]
  },
  {
   "cell_type": "markdown",
   "metadata": {
    "colab_type": "text",
    "id": "p5ygLaDtrsWq"
   },
   "source": [
    "So now that we have `dog_one`, how do we access its attributes (`name` & `species`) and execute its method (`bark`)?"
   ]
  },
  {
   "cell_type": "code",
   "execution_count": 3,
   "metadata": {
    "colab": {
     "base_uri": "https://localhost:8080/",
     "height": 35
    },
    "colab_type": "code",
    "id": "SCHDKq23rsWr",
    "outputId": "3df5843c-3e8a-42bc-8fa0-25ac5bf0016c"
   },
   "outputs": [
    {
     "data": {
      "text/plain": [
       "'Aslan'"
      ]
     },
     "execution_count": 3,
     "metadata": {
      "tags": []
     },
     "output_type": "execute_result"
    }
   ],
   "source": [
    "# To access an object's attribute, simply use dot notation.\n",
    "dog_one.name"
   ]
  },
  {
   "cell_type": "markdown",
   "metadata": {
    "colab_type": "text",
    "id": "94OAJUf5rsWw"
   },
   "source": [
    "**Notice that I didn't write `dog_one.self.name`? Perhaps that was what you were expecting.**\n",
    "\n",
    "The reason for this is that once an object is created, whatever label you assign to it takes the place of the `self` name you saw inside of the class definition."
   ]
  },
  {
   "cell_type": "code",
   "execution_count": 4,
   "metadata": {
    "colab": {
     "base_uri": "https://localhost:8080/",
     "height": 35
    },
    "colab_type": "code",
    "id": "GwLQQUrHrsWw",
    "outputId": "0772e597-e199-40b2-a155-971ff6b462c8"
   },
   "outputs": [
    {
     "name": "stdout",
     "output_type": "stream",
     "text": [
      "My name is Aslan and I'm a Golden Retriever.\n"
     ]
    }
   ],
   "source": [
    "# To invoke an object's method(s), you use dot notation\n",
    "# but add a parenthesis at the end. This means that you want to \n",
    "# invoke (or run) something\n",
    "dog_one.bark()"
   ]
  },
  {
   "cell_type": "markdown",
   "metadata": {
    "colab_type": "text",
    "id": "YbDxKFKPrsWz"
   },
   "source": [
    "\n",
    "**Pythonista Tidbit: ** Did you notice that we added the parenthesis to `ExampleDog` when we created our `dog_one` object? In that case, we were \"executing\" the class blueprint to create our object. Whenever you see parathesis in Python immediately after an object/class name, something is being executed."
   ]
  },
  {
   "cell_type": "markdown",
   "metadata": {
    "colab_type": "text",
    "id": "gl49J5v7rsW0"
   },
   "source": [
    "### Dynamic vs. Static Typing\n",
    "One of the major reasons that Python has become so widely used is that it is very approachable for beginners. Part of this approachability comes from it being what is called a *dynamically typed* language.\n",
    "\n",
    "While a statically-typed language (the opposite of Python) like C or Java requires the type (or class) of each variable to be explicitly declared, a dynamically-typed language like Python skips this specification. For example, in C you might specify a simple loop operation as follows:\n",
    "\n",
    "```C\n",
    "/* C code */\n",
    "int result = 0;\n",
    "for(int i=0; i<100; i++){\n",
    "    result += i;\n",
    "}\n",
    "```\n",
    "\n",
    "<div class=\"alert alert-block alert-info\">\n",
    "The two `int` strings that appear before `result = 0` and `i=0` are ***type declarations***.  It limits what types of data can be stored in those variable names.\n",
    "</div> \n",
    "\n",
    "In Python, the equivalent operation could be written this way:\n",
    "\n",
    "```python\n",
    "# Python code\n",
    "result = 0\n",
    "for i in range(100):\n",
    "    result += i\n",
    "```\n",
    "\n",
    "Notice the main difference: in C, the data types of each variable are explicitly declared, while in Python the types are dynamically inferred. This means, for example, that we can assign any kind of data to any variable **and** we can change the data types of an existing variable:\n",
    "\n",
    "```python\n",
    "# Python code\n",
    "x = 42\n",
    "x = \"fortytwo\"\n",
    "```\n",
    "\n",
    "Here we've switched the contents of ``x`` from an integer (number) to a string. The same thing in a statically typed language would lead to a compilation error or other unintented consequences:\n",
    "\n",
    "```C\n",
    "/* C code */\n",
    "int x = 42;\n",
    "x = \"fortytwo\";  // FAILS\n",
    "```\n",
    "\n",
    "Being able to skip type declarations like this removes a lot of boilerplate (repetitive) code from your programs - which speeds up program development.\n",
    "\n",
    "There are however, a couple of tradeoffs with dynamic typing. One of the is that under the covers, a given Python variable stores not only it's value, but also it's current type, which takes up a small amount of additional memory.\n",
    "\n",
    "In addition to this, various operations often have to inspect objects and determine their type/class before performing their work. This inspection takes time, and therefore an equivalent program in a dynamically typed language can be expected to run slower than one in a statically typed language.\n",
    "\n",
    "It is a tradeoff between development speed vs. execution speed."
   ]
  },
  {
   "cell_type": "raw",
   "metadata": {
    "colab_type": "text",
    "id": "U09W1zvrrsW0"
   },
   "source": [
    "### A \"High Level\" Language & Other Goodies\n",
    "The creator of Python, [Guido van Rossum](https://en.wikipedia.org/wiki/Guido_van_Rossum), made the choice to focus on programmer productivity when designing the language. This is why the language is dynamically typed, but it is also the reason for a number of other features of the language such as:\n",
    "\n",
    "* Built-in high level data structures\n",
    "* An expansive standard library.\n",
    "* Automatic memory management.\n",
    "* Strong community standards about what the correct (aka \"Pythonic\") way of doing things is.\n",
    "* Focus on code readability.\n",
    "* A HUGH open source community where people from all over the world give away cool software for free that you can use in your programs.\n",
    "\n",
    "It is in no small part because of these characteristics that Python has become one of the most, if not the most popular programming languages in the world today.\n",
    "\n",
    "It is an essential part of the data scientist's toolkit."
   ]
  },
  {
   "cell_type": "code",
   "execution_count": 0,
   "metadata": {
    "colab": {},
    "colab_type": "code",
    "id": "EnV15WSBVDZs"
   },
   "outputs": [],
   "source": []
  }
 ],
 "metadata": {
  "colab": {
   "collapsed_sections": [],
   "name": "1.1 Welcome to Python.ipynb",
   "provenance": [],
   "version": "0.3.2"
  },
  "kernelspec": {
   "display_name": "Python 3",
   "language": "python",
   "name": "python3"
  },
  "language_info": {
   "codemirror_mode": {
    "name": "ipython",
    "version": 3
   },
   "file_extension": ".py",
   "mimetype": "text/x-python",
   "name": "python",
   "nbconvert_exporter": "python",
   "pygments_lexer": "ipython3",
   "version": "3.7.3"
  }
 },
 "nbformat": 4,
 "nbformat_minor": 1
}
