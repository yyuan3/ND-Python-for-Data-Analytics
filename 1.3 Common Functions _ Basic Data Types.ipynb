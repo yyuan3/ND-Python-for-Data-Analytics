{
 "cells": [
  {
   "cell_type": "markdown",
   "metadata": {
    "colab_type": "text",
    "id": "RGPQmtPUWgr9"
   },
   "source": [
    "# Tutorial 1.3: Common Functions & Basic Data Types\n",
    "Python for Data Analytics \n",
    "Module 1"
   ]
  },
  {
   "cell_type": "markdown",
   "metadata": {
    "colab_type": "text",
    "id": "bf2ynibEWgr9"
   },
   "source": [
    "Alright, it's time to actually start working with code! "
   ]
  },
  {
   "cell_type": "markdown",
   "metadata": {
    "colab_type": "text",
    "id": "wbjhxh5qWgr-"
   },
   "source": [
    "Previously we mentioned that Python is an object-oriented language. There are many such languages and something that most, if not all, of them have in common is the set of \"built-in\" basic types/classes of objects.\n",
    "\n",
    "This is true for Python as well. In this tutorial we will briefly introduce most of Python's basic types that you will be dealing with throughout the rest of our course."
   ]
  },
  {
   "cell_type": "markdown",
   "metadata": {
    "colab_type": "text",
    "id": "WzJLPtkIWgsA"
   },
   "source": [
    "**Pythonista Tip: **Remember that objects come from blueprints called *classes* or *types*. It is sometimes confusing for beginners to remember which comes first and that classes & types basically mean the same thing in Python. "
   ]
  },
  {
   "cell_type": "markdown",
   "metadata": {
    "colab_type": "text",
    "id": "1zMnvgXQWgsA"
   },
   "source": [
    "## Common Functions\n",
    "Before we look at the specifics of our basic data types, I'd like to introduce you to a number of functions that you will commonly use on all sorts of different objects. In order to demonstrate their use, I will need to create a simple object.\n",
    "\n",
    "I'll create a `list` object, which you will read more about later in this tutorial."
   ]
  },
  {
   "cell_type": "code",
   "execution_count": 2,
   "metadata": {
    "colab": {},
    "colab_type": "code",
    "id": "fIbaGEHJWgsB"
   },
   "outputs": [],
   "source": [
    "# Here I'll create a simple list of three strings\n",
    "cool_things = ['In-N-Out', 'Chipotle', 'Notre Dame']"
   ]
  },
  {
   "cell_type": "code",
   "execution_count": 3,
   "metadata": {
    "colab": {},
    "colab_type": "code",
    "id": "VMA-EhgWWgsE"
   },
   "outputs": [
    {
     "data": {
      "text/plain": [
       "list"
      ]
     },
     "execution_count": 3,
     "metadata": {},
     "output_type": "execute_result"
    }
   ],
   "source": [
    "# To get an object's type(or class) you pass it to the `type` function\n",
    "type(cool_things)"
   ]
  },
  {
   "cell_type": "code",
   "execution_count": 4,
   "metadata": {
    "colab": {},
    "colab_type": "code",
    "id": "IrzulVRcWgsG"
   },
   "outputs": [
    {
     "data": {
      "text/plain": [
       "True"
      ]
     },
     "execution_count": 4,
     "metadata": {},
     "output_type": "execute_result"
    }
   ],
   "source": [
    "# You can ask if a given object comes from a certain class/type\n",
    "# with the `isinstance` function\n",
    "\n",
    "# This asks, is the `cool_things` object a list?\n",
    "isinstance(cool_things, list)"
   ]
  },
  {
   "cell_type": "code",
   "execution_count": 5,
   "metadata": {
    "colab": {},
    "colab_type": "code",
    "id": "xsQkr3RfWgsJ"
   },
   "outputs": [
    {
     "data": {
      "text/plain": [
       "3"
      ]
     },
     "execution_count": 5,
     "metadata": {},
     "output_type": "execute_result"
    }
   ],
   "source": [
    "# Sequence and Container objects (objects that contain multiple elements)\n",
    "# support the `len` function, which will tell you how many elements\n",
    "# the sequence or container holds.\n",
    "\n",
    "# Here will we use it to see how many strings are inside of our list\n",
    "len(cool_things)"
   ]
  },
  {
   "cell_type": "code",
   "execution_count": 6,
   "metadata": {
    "colab": {},
    "colab_type": "code",
    "id": "AWUyEnznWgsL"
   },
   "outputs": [
    {
     "data": {
      "text/plain": [
       "['__add__',\n",
       " '__class__',\n",
       " '__contains__',\n",
       " '__delattr__',\n",
       " '__delitem__',\n",
       " '__dir__',\n",
       " '__doc__',\n",
       " '__eq__',\n",
       " '__format__',\n",
       " '__ge__',\n",
       " '__getattribute__',\n",
       " '__getitem__',\n",
       " '__gt__',\n",
       " '__hash__',\n",
       " '__iadd__',\n",
       " '__imul__',\n",
       " '__init__',\n",
       " '__init_subclass__',\n",
       " '__iter__',\n",
       " '__le__',\n",
       " '__len__',\n",
       " '__lt__',\n",
       " '__mul__',\n",
       " '__ne__',\n",
       " '__new__',\n",
       " '__reduce__',\n",
       " '__reduce_ex__',\n",
       " '__repr__',\n",
       " '__reversed__',\n",
       " '__rmul__',\n",
       " '__setattr__',\n",
       " '__setitem__',\n",
       " '__sizeof__',\n",
       " '__str__',\n",
       " '__subclasshook__',\n",
       " 'append',\n",
       " 'clear',\n",
       " 'copy',\n",
       " 'count',\n",
       " 'extend',\n",
       " 'index',\n",
       " 'insert',\n",
       " 'pop',\n",
       " 'remove',\n",
       " 'reverse',\n",
       " 'sort']"
      ]
     },
     "execution_count": 6,
     "metadata": {},
     "output_type": "execute_result"
    }
   ],
   "source": [
    "# Passing an object to the `dir` function will return \n",
    "# a list of attributes (data) and methods (operations)\n",
    "# that are available on that object.\n",
    "dir(cool_things)"
   ]
  },
  {
   "cell_type": "markdown",
   "metadata": {
    "colab_type": "text",
    "id": "90hs3expWgsN"
   },
   "source": [
    "See how there are a lot of items in the output that start and end with double underscores? These are the so-called \"magic methods\" in Python. We can just ignore them, since you have to be a pretty advanced Pythonista to know how to use them.\n",
    "\n",
    "**For our purposes in this course, just focus on the ones without underscores.**"
   ]
  },
  {
   "cell_type": "code",
   "execution_count": 7,
   "metadata": {
    "colab": {},
    "colab_type": "code",
    "id": "LnPwiBnOWgsO"
   },
   "outputs": [],
   "source": [
    "# We've already shown how you can use the `?` operator to find\n",
    "# out more about an object. As a reminder, you can execute this cell\n",
    "# to see how it works.\n",
    "cool_things?"
   ]
  },
  {
   "cell_type": "code",
   "execution_count": 8,
   "metadata": {
    "colab": {},
    "colab_type": "code",
    "id": "5m-PT-aVWgsQ"
   },
   "outputs": [
    {
     "name": "stdout",
     "output_type": "stream",
     "text": [
      "Help on list object:\n",
      "\n",
      "class list(object)\n",
      " |  list(iterable=(), /)\n",
      " |  \n",
      " |  Built-in mutable sequence.\n",
      " |  \n",
      " |  If no argument is given, the constructor creates a new empty list.\n",
      " |  The argument must be an iterable if specified.\n",
      " |  \n",
      " |  Methods defined here:\n",
      " |  \n",
      " |  __add__(self, value, /)\n",
      " |      Return self+value.\n",
      " |  \n",
      " |  __contains__(self, key, /)\n",
      " |      Return key in self.\n",
      " |  \n",
      " |  __delitem__(self, key, /)\n",
      " |      Delete self[key].\n",
      " |  \n",
      " |  __eq__(self, value, /)\n",
      " |      Return self==value.\n",
      " |  \n",
      " |  __ge__(self, value, /)\n",
      " |      Return self>=value.\n",
      " |  \n",
      " |  __getattribute__(self, name, /)\n",
      " |      Return getattr(self, name).\n",
      " |  \n",
      " |  __getitem__(...)\n",
      " |      x.__getitem__(y) <==> x[y]\n",
      " |  \n",
      " |  __gt__(self, value, /)\n",
      " |      Return self>value.\n",
      " |  \n",
      " |  __iadd__(self, value, /)\n",
      " |      Implement self+=value.\n",
      " |  \n",
      " |  __imul__(self, value, /)\n",
      " |      Implement self*=value.\n",
      " |  \n",
      " |  __init__(self, /, *args, **kwargs)\n",
      " |      Initialize self.  See help(type(self)) for accurate signature.\n",
      " |  \n",
      " |  __iter__(self, /)\n",
      " |      Implement iter(self).\n",
      " |  \n",
      " |  __le__(self, value, /)\n",
      " |      Return self<=value.\n",
      " |  \n",
      " |  __len__(self, /)\n",
      " |      Return len(self).\n",
      " |  \n",
      " |  __lt__(self, value, /)\n",
      " |      Return self<value.\n",
      " |  \n",
      " |  __mul__(self, value, /)\n",
      " |      Return self*value.\n",
      " |  \n",
      " |  __ne__(self, value, /)\n",
      " |      Return self!=value.\n",
      " |  \n",
      " |  __repr__(self, /)\n",
      " |      Return repr(self).\n",
      " |  \n",
      " |  __reversed__(self, /)\n",
      " |      Return a reverse iterator over the list.\n",
      " |  \n",
      " |  __rmul__(self, value, /)\n",
      " |      Return value*self.\n",
      " |  \n",
      " |  __setitem__(self, key, value, /)\n",
      " |      Set self[key] to value.\n",
      " |  \n",
      " |  __sizeof__(self, /)\n",
      " |      Return the size of the list in memory, in bytes.\n",
      " |  \n",
      " |  append(self, object, /)\n",
      " |      Append object to the end of the list.\n",
      " |  \n",
      " |  clear(self, /)\n",
      " |      Remove all items from list.\n",
      " |  \n",
      " |  copy(self, /)\n",
      " |      Return a shallow copy of the list.\n",
      " |  \n",
      " |  count(self, value, /)\n",
      " |      Return number of occurrences of value.\n",
      " |  \n",
      " |  extend(self, iterable, /)\n",
      " |      Extend list by appending elements from the iterable.\n",
      " |  \n",
      " |  index(self, value, start=0, stop=9223372036854775807, /)\n",
      " |      Return first index of value.\n",
      " |      \n",
      " |      Raises ValueError if the value is not present.\n",
      " |  \n",
      " |  insert(self, index, object, /)\n",
      " |      Insert object before index.\n",
      " |  \n",
      " |  pop(self, index=-1, /)\n",
      " |      Remove and return item at index (default last).\n",
      " |      \n",
      " |      Raises IndexError if list is empty or index is out of range.\n",
      " |  \n",
      " |  remove(self, value, /)\n",
      " |      Remove first occurrence of value.\n",
      " |      \n",
      " |      Raises ValueError if the value is not present.\n",
      " |  \n",
      " |  reverse(self, /)\n",
      " |      Reverse *IN PLACE*.\n",
      " |  \n",
      " |  sort(self, /, *, key=None, reverse=False)\n",
      " |      Stable sort *IN PLACE*.\n",
      " |  \n",
      " |  ----------------------------------------------------------------------\n",
      " |  Static methods defined here:\n",
      " |  \n",
      " |  __new__(*args, **kwargs) from builtins.type\n",
      " |      Create and return a new object.  See help(type) for accurate signature.\n",
      " |  \n",
      " |  ----------------------------------------------------------------------\n",
      " |  Data and other attributes defined here:\n",
      " |  \n",
      " |  __hash__ = None\n",
      "\n"
     ]
    }
   ],
   "source": [
    "# You can also get information on a given object using the `help`\n",
    "# function. Using it on our `cool_things` list will tell you about\n",
    "# all the methods available on a list object.\n",
    "help(cool_things)"
   ]
  },
  {
   "cell_type": "code",
   "execution_count": 9,
   "metadata": {
    "colab": {},
    "colab_type": "code",
    "id": "cyj-bfV7WgsS"
   },
   "outputs": [
    {
     "name": "stdout",
     "output_type": "stream",
     "text": [
      "['In-N-Out', 'Chipotle', 'Notre Dame']\n"
     ]
    }
   ],
   "source": [
    "# Many objects will support the ability to display some sort\n",
    "# of string representation via the `print` function.\n",
    "print(cool_things)"
   ]
  },
  {
   "cell_type": "code",
   "execution_count": 10,
   "metadata": {
    "colab": {},
    "colab_type": "code",
    "id": "0jXOuZDSWgsU"
   },
   "outputs": [
    {
     "data": {
      "text/plain": [
       "(140704346125448, 140704346125448)"
      ]
     },
     "execution_count": 10,
     "metadata": {},
     "output_type": "execute_result"
    }
   ],
   "source": [
    "# This one is somewhat esoteric for the beginner.\n",
    "# Every object is memory has a unique identifier.\n",
    "# You can get this identifier using the id() function.\n",
    "\n",
    "# This would allow you to see if two different labels refer\n",
    "# to the same actual objects.\n",
    "\n",
    "# Here I'll bind/assign another label to the `cool_things` list.\n",
    "another_label = cool_things\n",
    "\n",
    "# Now I'll compare their id() values.\n",
    "id(another_label), id(cool_things)\n",
    "\n",
    "# You'll see that both labels point to the same\n",
    "# object in memory."
   ]
  },
  {
   "cell_type": "markdown",
   "metadata": {
    "colab_type": "text",
    "id": "mS1Dan1KWgsX"
   },
   "source": [
    "The `input()` function is where you get started with interactive programs. It will display a textfield into which a user can type something.\n",
    "\n",
    "You can assign the results of the function to a variable in order to make the value available to the rest of your program."
   ]
  },
  {
   "cell_type": "code",
   "execution_count": 11,
   "metadata": {
    "colab": {},
    "colab_type": "code",
    "id": "x_d-oEb0WgsY"
   },
   "outputs": [
    {
     "name": "stdout",
     "output_type": "stream",
     "text": [
      "hello\n"
     ]
    }
   ],
   "source": [
    "# Here I will capture whatever you enter into a variable\n",
    "user_input = input()"
   ]
  },
  {
   "cell_type": "code",
   "execution_count": 12,
   "metadata": {
    "colab": {},
    "colab_type": "code",
    "id": "FcvyPjEVWgsZ"
   },
   "outputs": [
    {
     "name": "stdout",
     "output_type": "stream",
     "text": [
      "hello\n"
     ]
    }
   ],
   "source": [
    "# Now I have access to this inside of the program\n",
    "# and I'll print it back.\n",
    "print(user_input)"
   ]
  },
  {
   "cell_type": "markdown",
   "metadata": {
    "colab_type": "text",
    "id": "BuaDNaQUWgsb"
   },
   "source": [
    "## Common Data Types/Classes\n",
    "Alright, now that we've covered some commonly used functions, let's take a look at the specifics of some common data types."
   ]
  },
  {
   "cell_type": "markdown",
   "metadata": {
    "colab_type": "text",
    "id": "aMqZHUZVWgsc"
   },
   "source": [
    "### Strings\n",
    "Objects that hold text data in Python have the  `str` type (short for string). Let's define a sample string object."
   ]
  },
  {
   "cell_type": "code",
   "execution_count": 13,
   "metadata": {
    "colab": {},
    "colab_type": "code",
    "id": "-7f1GpkvWgsd"
   },
   "outputs": [],
   "source": [
    "# Assign a `str` object to the `my_string` label.\n",
    "my_string = 'Python is my friend'"
   ]
  },
  {
   "cell_type": "code",
   "execution_count": 14,
   "metadata": {
    "colab": {},
    "colab_type": "code",
    "id": "Ml1B82flWgsg"
   },
   "outputs": [
    {
     "data": {
      "text/plain": [
       "19"
      ]
     },
     "execution_count": 14,
     "metadata": {},
     "output_type": "execute_result"
    }
   ],
   "source": [
    "# String are a sequence of (unicode) characters, so you can \n",
    "# use the `len` function to see how many characters are in them\n",
    "len(my_string)"
   ]
  },
  {
   "cell_type": "code",
   "execution_count": 15,
   "metadata": {
    "colab": {},
    "colab_type": "code",
    "id": "b_Cx8P0sWgsi"
   },
   "outputs": [
    {
     "name": "stdout",
     "output_type": "stream",
     "text": [
      "Python is my friend\n"
     ]
    }
   ],
   "source": [
    "# You can print a string using the `print` function\n",
    "print(my_string)"
   ]
  },
  {
   "cell_type": "code",
   "execution_count": 16,
   "metadata": {
    "colab": {},
    "colab_type": "code",
    "id": "q6OzGyVlWgsl"
   },
   "outputs": [
    {
     "data": {
      "text/plain": [
       "['__add__',\n",
       " '__class__',\n",
       " '__contains__',\n",
       " '__delattr__',\n",
       " '__dir__',\n",
       " '__doc__',\n",
       " '__eq__',\n",
       " '__format__',\n",
       " '__ge__',\n",
       " '__getattribute__',\n",
       " '__getitem__',\n",
       " '__getnewargs__',\n",
       " '__gt__',\n",
       " '__hash__',\n",
       " '__init__',\n",
       " '__init_subclass__',\n",
       " '__iter__',\n",
       " '__le__',\n",
       " '__len__',\n",
       " '__lt__',\n",
       " '__mod__',\n",
       " '__mul__',\n",
       " '__ne__',\n",
       " '__new__',\n",
       " '__reduce__',\n",
       " '__reduce_ex__',\n",
       " '__repr__',\n",
       " '__rmod__',\n",
       " '__rmul__',\n",
       " '__setattr__',\n",
       " '__sizeof__',\n",
       " '__str__',\n",
       " '__subclasshook__',\n",
       " 'capitalize',\n",
       " 'casefold',\n",
       " 'center',\n",
       " 'count',\n",
       " 'encode',\n",
       " 'endswith',\n",
       " 'expandtabs',\n",
       " 'find',\n",
       " 'format',\n",
       " 'format_map',\n",
       " 'index',\n",
       " 'isalnum',\n",
       " 'isalpha',\n",
       " 'isascii',\n",
       " 'isdecimal',\n",
       " 'isdigit',\n",
       " 'isidentifier',\n",
       " 'islower',\n",
       " 'isnumeric',\n",
       " 'isprintable',\n",
       " 'isspace',\n",
       " 'istitle',\n",
       " 'isupper',\n",
       " 'join',\n",
       " 'ljust',\n",
       " 'lower',\n",
       " 'lstrip',\n",
       " 'maketrans',\n",
       " 'partition',\n",
       " 'replace',\n",
       " 'rfind',\n",
       " 'rindex',\n",
       " 'rjust',\n",
       " 'rpartition',\n",
       " 'rsplit',\n",
       " 'rstrip',\n",
       " 'split',\n",
       " 'splitlines',\n",
       " 'startswith',\n",
       " 'strip',\n",
       " 'swapcase',\n",
       " 'title',\n",
       " 'translate',\n",
       " 'upper',\n",
       " 'zfill']"
      ]
     },
     "execution_count": 16,
     "metadata": {},
     "output_type": "execute_result"
    }
   ],
   "source": [
    "# Using the `dir()` function on a `str` object, you'll\n",
    "# see that they a MANY methods.\n",
    "dir(my_string)"
   ]
  },
  {
   "cell_type": "code",
   "execution_count": 17,
   "metadata": {
    "colab": {},
    "colab_type": "code",
    "id": "B3pncaGOWgsm"
   },
   "outputs": [
    {
     "name": "stdout",
     "output_type": "stream",
     "text": [
      "PYTHON IS MY FRIEND\n",
      "Python is my friend\n"
     ]
    }
   ],
   "source": [
    "# Here are a couple of examples of using the methods that we\n",
    "# see are available for str objects.\n",
    "\n",
    "# Uppercase\n",
    "print(my_string.upper())\n",
    "\n",
    "# Capitalize\n",
    "print(my_string.capitalize())"
   ]
  },
  {
   "cell_type": "code",
   "execution_count": 18,
   "metadata": {
    "colab": {},
    "colab_type": "code",
    "id": "k4m2mWihWgsp"
   },
   "outputs": [],
   "source": [
    "# Try using some additional string methods in this cell.\n",
    "# Create additional cells to try as many as you'd like."
   ]
  },
  {
   "cell_type": "markdown",
   "metadata": {
    "colab_type": "text",
    "id": "Bhgu6gY3Wgsq"
   },
   "source": [
    "### Integers & Floats\n",
    "In general, numbers are stored in two basic types: \n",
    "* *`int`*: For integer (or whole) numbers.\n",
    "* *`float`*: For fractional numbers."
   ]
  },
  {
   "cell_type": "code",
   "execution_count": 19,
   "metadata": {
    "colab": {},
    "colab_type": "code",
    "id": "nrls3fQLWgsq"
   },
   "outputs": [],
   "source": [
    "# Define an `int` and `float` example objects\n",
    "my_int = 7811\n",
    "my_float = 7811.5"
   ]
  },
  {
   "cell_type": "code",
   "execution_count": 20,
   "metadata": {
    "colab": {},
    "colab_type": "code",
    "id": "0s_nsCX5sTIl"
   },
   "outputs": [
    {
     "name": "stdout",
     "output_type": "stream",
     "text": [
      "<class 'int'> <class 'float'>\n"
     ]
    }
   ],
   "source": [
    "# Display the types of each object\n",
    "print(\n",
    "  type(my_int), \n",
    "  type(my_float)\n",
    ")"
   ]
  },
  {
   "cell_type": "code",
   "execution_count": 21,
   "metadata": {
    "colab": {},
    "colab_type": "code",
    "id": "wfRZy3bFWgst"
   },
   "outputs": [
    {
     "data": {
      "text/plain": [
       "7811.0"
      ]
     },
     "execution_count": 21,
     "metadata": {},
     "output_type": "execute_result"
    }
   ],
   "source": [
    "# You can convert an `int` to `float` by using the `float()` constructor function.\n",
    "float(my_int)"
   ]
  },
  {
   "cell_type": "code",
   "execution_count": 22,
   "metadata": {
    "colab": {},
    "colab_type": "code",
    "id": "Kqqxd56eWgsv"
   },
   "outputs": [
    {
     "data": {
      "text/plain": [
       "7811"
      ]
     },
     "execution_count": 22,
     "metadata": {},
     "output_type": "execute_result"
    }
   ],
   "source": [
    "# The opposite is also true, but note that you lose\n",
    "# all decimal values when converting a `float` to an `int`\n",
    "\n",
    "# Important!! Python does not perform rounding here\n",
    "int(my_float)"
   ]
  },
  {
   "cell_type": "markdown",
   "metadata": {
    "colab_type": "text",
    "id": "BJoQOYaTWgsx"
   },
   "source": [
    "### Lists\n",
    "So far, what we've covered has been pretty easy. This one sounds intimidating at first, but really isn't, so stick with me.\n",
    "\n",
    "<strong>The standard mutable heterogeneous ordered multi-element container in Python is the `list` object type.</strong>\n",
    "\n",
    "<div class=\"alert alert-block alert-info\">\n",
    "<h5>A Multi-Mutable What?</h5>\n",
    "That is quite a mouthful isn't it. Let's take it one word at a time.\n",
    "<ul>\n",
    "<li>Container: A Python object that holds other objects.</li>\n",
    "<li>Multi-Element: It can contain multiple (in practice unlimited) objects.</li>\n",
    "<li>Ordered: Lists maintain the order of their elements.</li>\n",
    "<li>Mutable: You can add/remove/change objects in the containter. The opposite is an *immutable* container.</li>\n",
    "<li>Heterogeneous: The elements of a list can be of different types.</li>\n",
    "</ul>\n",
    "</div> "
   ]
  },
  {
   "cell_type": "code",
   "execution_count": 23,
   "metadata": {
    "colab": {},
    "colab_type": "code",
    "id": "TJXPQTYRWgsy"
   },
   "outputs": [
    {
     "data": {
      "text/plain": [
       "[0, 1, 2, 3, 4, 5, 6, 7, 8, 9]"
      ]
     },
     "execution_count": 23,
     "metadata": {},
     "output_type": "execute_result"
    }
   ],
   "source": [
    "# There are a few different ways to create `list` objects.\n",
    "# Here is the simpliest way of doing so:\n",
    "# You simply put a comma separated list of elements inside of `[]` brackets\n",
    "my_list = [0, 1, 2, 3, 4, 5, 6, 7, 8, 9]\n",
    "my_list"
   ]
  },
  {
   "cell_type": "code",
   "execution_count": 24,
   "metadata": {
    "colab": {},
    "colab_type": "code",
    "id": "w23I-y5nWgsz"
   },
   "outputs": [
    {
     "data": {
      "text/plain": [
       "['M',\n",
       " 'o',\n",
       " 'n',\n",
       " 't',\n",
       " 'y',\n",
       " ' ',\n",
       " 'P',\n",
       " 'y',\n",
       " 't',\n",
       " 'h',\n",
       " 'o',\n",
       " 'n',\n",
       " ' ',\n",
       " '&',\n",
       " ' ',\n",
       " 'T',\n",
       " 'h',\n",
       " 'e',\n",
       " ' ',\n",
       " 'H',\n",
       " 'o',\n",
       " 'l',\n",
       " 'y',\n",
       " ' ',\n",
       " 'G',\n",
       " 'r',\n",
       " 'a',\n",
       " 'i',\n",
       " 'l']"
      ]
     },
     "execution_count": 24,
     "metadata": {},
     "output_type": "execute_result"
    }
   ],
   "source": [
    "# You can also create a list from any object that can be\n",
    "# \"iterated\", or separated into pieces using the `list`\n",
    "# constructor function.\n",
    "\n",
    "# Here is an example of turning a string into a list of\n",
    "# individual characters\n",
    "list_of_characters = list(\"Monty Python & The Holy Grail\")\n",
    "list_of_characters"
   ]
  },
  {
   "cell_type": "code",
   "execution_count": 25,
   "metadata": {
    "colab": {},
    "colab_type": "code",
    "id": "IFV43cUPWgs1"
   },
   "outputs": [
    {
     "data": {
      "text/plain": [
       "0"
      ]
     },
     "execution_count": 25,
     "metadata": {},
     "output_type": "execute_result"
    }
   ],
   "source": [
    "# You can access the individual elements of a list by \n",
    "# their \"index value\". Index values in Python start at 0 \n",
    "# (not 1), so the first element has a 0 index value.\n",
    "\n",
    "# This retrieves the first element in the list\n",
    "my_list[0]"
   ]
  },
  {
   "cell_type": "markdown",
   "metadata": {
    "colab_type": "text",
    "id": "E4EHPlJrWgs4"
   },
   "source": [
    "You can also pass negative index values to retrieve list elements. Using negative values retrieves elements based on how far away they are from the end of the list."
   ]
  },
  {
   "cell_type": "code",
   "execution_count": 26,
   "metadata": {
    "colab": {},
    "colab_type": "code",
    "id": "LZTbrFhwWgs4"
   },
   "outputs": [
    {
     "data": {
      "text/plain": [
       "9"
      ]
     },
     "execution_count": 26,
     "metadata": {},
     "output_type": "execute_result"
    }
   ],
   "source": [
    "# Pull the last element of the list\n",
    "my_list[-1]"
   ]
  },
  {
   "cell_type": "code",
   "execution_count": 27,
   "metadata": {
    "colab": {},
    "colab_type": "code",
    "id": "UkaKFxKuWgs6"
   },
   "outputs": [
    {
     "data": {
      "text/plain": [
       "8"
      ]
     },
     "execution_count": 27,
     "metadata": {},
     "output_type": "execute_result"
    }
   ],
   "source": [
    "# Pull the second to last element of the list\n",
    "my_list[-2]"
   ]
  },
  {
   "cell_type": "markdown",
   "metadata": {
    "colab_type": "text",
    "id": "rPy8rWdvWgtA"
   },
   "source": [
    "You can retrieve multiple elements from a list using **slice notation**.\n",
    "\n",
    "The basic form of slice notation looks like this: `list[start_index:finish_index]`. When used, all elements with indexes from the `start_index` value up to (but not including) the `finish_index` value will be returned.\n",
    "\n",
    "Let's take a look at an example:"
   ]
  },
  {
   "cell_type": "code",
   "execution_count": 28,
   "metadata": {
    "colab": {},
    "colab_type": "code",
    "id": "o6YEptesWgtA"
   },
   "outputs": [
    {
     "data": {
      "text/plain": [
       "[0, 1, 2, 3, 4]"
      ]
     },
     "execution_count": 28,
     "metadata": {},
     "output_type": "execute_result"
    }
   ],
   "source": [
    "my_list[0:5]"
   ]
  },
  {
   "cell_type": "markdown",
   "metadata": {
    "colab_type": "text",
    "id": "u67fnnqxWgtC"
   },
   "source": [
    "In the example above, we specified two index values separated by a colon(:).  What this meant to Python was: *give me all elements of `my_list` whose index values are from 0 to 4*."
   ]
  },
  {
   "cell_type": "markdown",
   "metadata": {
    "colab_type": "text",
    "id": "ZYIBdJ9SWgtD"
   },
   "source": [
    "**Important**: Make sure to remember the slices do not include the `finish_index` element.\n"
   ]
  },
  {
   "cell_type": "markdown",
   "metadata": {
    "colab_type": "text",
    "id": "nhtAHRxpWgtD"
   },
   "source": [
    "There is an extended form of slice notation which looks like this: `list[start_index:finish_index:interval]`. You can use this form to change the interval at which you pull elements out of the original list."
   ]
  },
  {
   "cell_type": "code",
   "execution_count": 29,
   "metadata": {
    "colab": {},
    "colab_type": "code",
    "id": "AZQrb-2dWgtD"
   },
   "outputs": [
    {
     "data": {
      "text/plain": [
       "[0, 2, 4]"
      ]
     },
     "execution_count": 29,
     "metadata": {},
     "output_type": "execute_result"
    }
   ],
   "source": [
    "# An interval value of 2 would take every other element\n",
    "my_list[0:5:2]"
   ]
  },
  {
   "cell_type": "code",
   "execution_count": 30,
   "metadata": {
    "colab": {},
    "colab_type": "code",
    "id": "dWWsHJgJWgtG"
   },
   "outputs": [
    {
     "data": {
      "text/plain": [
       "[0, 3, 6, 9]"
      ]
     },
     "execution_count": 30,
     "metadata": {},
     "output_type": "execute_result"
    }
   ],
   "source": [
    "# While an interval value of 3 would take every third element\n",
    "# and so on...\n",
    "my_list[0:10:3]"
   ]
  },
  {
   "cell_type": "markdown",
   "metadata": {
    "colab_type": "text",
    "id": "IkaIFRrOWgtI"
   },
   "source": [
    "**Pythonista Tip: ** You can use slice notation on `str` objects as well. Technically, a string is a sequence/container of individual characters.\n"
   ]
  },
  {
   "cell_type": "code",
   "execution_count": 31,
   "metadata": {
    "colab": {},
    "colab_type": "code",
    "id": "ofpC8bpoWgtI"
   },
   "outputs": [
    {
     "data": {
      "text/plain": [
       "[1, 'Spiderman: Homecoming', 2.1, 'Rogue One']"
      ]
     },
     "execution_count": 31,
     "metadata": {},
     "output_type": "execute_result"
    }
   ],
   "source": [
    "# Lists can contain different types of data\n",
    "heterogeneous_list = [1, 'Spiderman: Homecoming', 2.1, 'Rogue One']\n",
    "heterogeneous_list"
   ]
  },
  {
   "cell_type": "code",
   "execution_count": 32,
   "metadata": {
    "colab": {},
    "colab_type": "code",
    "id": "5yLK2cnpWgtK"
   },
   "outputs": [
    {
     "data": {
      "text/plain": [
       "[0, 1, 2, 3, 4, 5, 6, 7, 8, 9, 10]"
      ]
     },
     "execution_count": 32,
     "metadata": {},
     "output_type": "execute_result"
    }
   ],
   "source": [
    "# You can add elements to a list with the `list.append()` method\n",
    "my_list.append(10)\n",
    "my_list"
   ]
  },
  {
   "cell_type": "code",
   "execution_count": 33,
   "metadata": {
    "colab": {},
    "colab_type": "code",
    "id": "JG8T22IJWgtM"
   },
   "outputs": [
    {
     "name": "stdout",
     "output_type": "stream",
     "text": [
      "[0, 1, 2, 3, 4, 5, 6, 7, 8, 9]\n",
      "[1, 2, 3, 4, 5, 6, 7, 8, 9]\n"
     ]
    }
   ],
   "source": [
    "# You can remove elements from a list with the `list.pop()` method\n",
    "\n",
    "# Remove the last element from a list\n",
    "my_list.pop()\n",
    "print(my_list)\n",
    "\n",
    "# You can pass an index value to remove that specific element\n",
    "my_list.pop(0)\n",
    "print(my_list)"
   ]
  },
  {
   "cell_type": "code",
   "execution_count": 34,
   "metadata": {
    "colab": {},
    "colab_type": "code",
    "id": "dYi78H5lwWge"
   },
   "outputs": [
    {
     "data": {
      "text/plain": [
       "[1, 2, 4, 5, 6, 7, 8, 9]"
      ]
     },
     "execution_count": 34,
     "metadata": {},
     "output_type": "execute_result"
    }
   ],
   "source": [
    "# You can also use the `remove()` method\n",
    "# Which will remove the first occurrence of a value\n",
    "my_list.remove(3)\n",
    "my_list"
   ]
  },
  {
   "cell_type": "code",
   "execution_count": 35,
   "metadata": {
    "colab": {},
    "colab_type": "code",
    "id": "sj6EWA44WgtP"
   },
   "outputs": [
    {
     "data": {
      "text/plain": [
       "[123, 2, 4, 5, 6, 7, 8, 9]"
      ]
     },
     "execution_count": 35,
     "metadata": {},
     "output_type": "execute_result"
    }
   ],
   "source": [
    "# You can change (mutate) the value at a given list index.\n",
    "# Here we will change the first element to 123\n",
    "# You simply add the assignment operator `=` and a new value\n",
    "# to your element selection\n",
    "my_list[0] = 123\n",
    "my_list"
   ]
  },
  {
   "cell_type": "code",
   "execution_count": 36,
   "metadata": {
    "colab": {},
    "colab_type": "code",
    "id": "S22OqqMdWgtQ"
   },
   "outputs": [
    {
     "data": {
      "text/plain": [
       "[2, 4, 5, 6, 7, 8, 9, 123]"
      ]
     },
     "execution_count": 36,
     "metadata": {},
     "output_type": "execute_result"
    }
   ],
   "source": [
    "# You can sort a list\n",
    "my_list.sort()\n",
    "my_list"
   ]
  },
  {
   "cell_type": "code",
   "execution_count": 37,
   "metadata": {
    "colab": {},
    "colab_type": "code",
    "id": "WRa1WyOSWgtS"
   },
   "outputs": [
    {
     "data": {
      "text/plain": [
       "[123, 9, 8, 7, 6, 5, 4, 2]"
      ]
     },
     "execution_count": 37,
     "metadata": {},
     "output_type": "execute_result"
    }
   ],
   "source": [
    "# Or reverse it\n",
    "my_list.reverse()\n",
    "my_list"
   ]
  },
  {
   "cell_type": "code",
   "execution_count": 38,
   "metadata": {
    "colab": {},
    "colab_type": "code",
    "id": "__c53PFQWgtU"
   },
   "outputs": [
    {
     "data": {
      "text/plain": [
       "True"
      ]
     },
     "execution_count": 38,
     "metadata": {},
     "output_type": "execute_result"
    }
   ],
   "source": [
    "# You can ask Python if a given value exists\n",
    "# in a list with the `in` operator\n",
    "\n",
    "123 in my_list"
   ]
  },
  {
   "cell_type": "markdown",
   "metadata": {
    "colab_type": "text",
    "id": "jw5Cecn4xGOT"
   },
   "source": [
    "### Sets\n",
    "A set has many of the same characteristics as `list` objects. \n",
    "\n",
    "The most essential differences between them are: \n",
    "* A `set` will only allow a given value to exist once inside of it. \n",
    "* `set` objects do not have any sense of guaranteed order\n",
    "* `set` objects have special methods to quickly compare the items they contain with other sets or lists"
   ]
  },
  {
   "cell_type": "code",
   "execution_count": 39,
   "metadata": {
    "colab": {},
    "colab_type": "code",
    "id": "BZSN28pcxjC1"
   },
   "outputs": [
    {
     "data": {
      "text/plain": [
       "{1, 2, 3, 4, 5}"
      ]
     },
     "execution_count": 39,
     "metadata": {},
     "output_type": "execute_result"
    }
   ],
   "source": [
    "# Just like with a list, you can create a set object\n",
    "# using short-hand syntax, this time with curly braces\n",
    "# instead of square ones.\n",
    "\n",
    "# Notice that in the input, I have included '3' twice\n",
    "# but the second instance of the '3' will be dropped \n",
    "# as the set is constructed\n",
    "my_set = {1, 2, 3, 3, 4, 5}\n",
    "my_set"
   ]
  },
  {
   "cell_type": "code",
   "execution_count": 40,
   "metadata": {
    "colab": {},
    "colab_type": "code",
    "id": "7czdlAZ80sGV"
   },
   "outputs": [
    {
     "data": {
      "text/plain": [
       "{' ',\n",
       " '&',\n",
       " 'G',\n",
       " 'H',\n",
       " 'M',\n",
       " 'P',\n",
       " 'T',\n",
       " 'a',\n",
       " 'e',\n",
       " 'h',\n",
       " 'i',\n",
       " 'l',\n",
       " 'n',\n",
       " 'o',\n",
       " 'r',\n",
       " 't',\n",
       " 'y'}"
      ]
     },
     "execution_count": 40,
     "metadata": {},
     "output_type": "execute_result"
    }
   ],
   "source": [
    "# You can also create `set` objects with the `set()` \n",
    "# constructor function that consumes some sort of iterable\n",
    "# just like the `list()` function\n",
    "\n",
    "# Here we will use it to generate a set from \n",
    "# the same string used above but note how\n",
    "# duplicate letters are dropped and the \n",
    "# order is all out of whack\n",
    "set(\"Monty Python & The Holy Grail\")"
   ]
  },
  {
   "cell_type": "code",
   "execution_count": 41,
   "metadata": {
    "colab": {},
    "colab_type": "code",
    "id": "vCJZ2FdfNT8z"
   },
   "outputs": [],
   "source": [
    "# Sets are awesome when you want to \n",
    "# compare/combine/substract one group of items\n",
    "# from another. \n",
    "\n",
    "# To demonstrate, let's assume that we have \n",
    "# the following two sets of integers\n",
    "\n",
    "set_one = {1, 2, 3, 5, 8}\n",
    "set_two = {1, 3, 5, 7}"
   ]
  },
  {
   "cell_type": "code",
   "execution_count": 42,
   "metadata": {
    "colab": {},
    "colab_type": "code",
    "id": "hA2Jws0sOyXA"
   },
   "outputs": [
    {
     "data": {
      "text/plain": [
       "{1, 2, 3, 5, 7, 8}"
      ]
     },
     "execution_count": 42,
     "metadata": {},
     "output_type": "execute_result"
    }
   ],
   "source": [
    "# You can add two sets together and get a unique\n",
    "# list of elements from both sets with the `union()` method\n",
    "set_one.union(set_two)"
   ]
  },
  {
   "cell_type": "code",
   "execution_count": 43,
   "metadata": {
    "colab": {},
    "colab_type": "code",
    "id": "KfrBM1xPPH1K"
   },
   "outputs": [
    {
     "data": {
      "text/plain": [
       "{1, 3, 5}"
      ]
     },
     "execution_count": 43,
     "metadata": {},
     "output_type": "execute_result"
    }
   ],
   "source": [
    "# You can use the `intersection()` method to see which \n",
    "# elements belong to both sets\n",
    "set_one.intersection(set_two)"
   ]
  },
  {
   "cell_type": "code",
   "execution_count": 44,
   "metadata": {
    "colab": {},
    "colab_type": "code",
    "id": "ZNQve8hdPZq9"
   },
   "outputs": [
    {
     "data": {
      "text/plain": [
       "{2, 8}"
      ]
     },
     "execution_count": 44,
     "metadata": {},
     "output_type": "execute_result"
    }
   ],
   "source": [
    "# The `difference()` method allows you to identify\n",
    "# elements that exist in one set, but not the other\n",
    "set_one.difference(set_two)"
   ]
  },
  {
   "cell_type": "markdown",
   "metadata": {
    "colab_type": "text",
    "id": "xyBkYxlpWgtW"
   },
   "source": [
    "### Dictionaries\n",
    "A Python *`dict`* object is a mapping between keys and values. Like a *`list`*, *`dict`* objects are also containers, but you access the specific elements with their 'key' rather than an index value."
   ]
  },
  {
   "cell_type": "markdown",
   "metadata": {
    "colab_type": "text",
    "id": "T-GU_jNxWgtW"
   },
   "source": [
    "<div class=\"alert alert-block alert-info\">\n",
    "<h4>Python's Evolving</h4>\n",
    "<p>Historically, dictionaries did not maintain the order of the elements added and removed to/from it. However, starting with the upcoming Python 3.7, this feature will be a part of the language.</p>\n",
    "<p>\n",
    "    In our class, we are running Python 3.6 (since 3.7 isn't out yet). In this version of Python, dictionary element ordered is also maintained, but it was considered a \"beta\" feature.\n",
    "</p>\n",
    "</div> "
   ]
  },
  {
   "cell_type": "markdown",
   "metadata": {
    "colab_type": "text",
    "id": "q8RdX3zeWgtW"
   },
   "source": [
    "As with a `list` object, there are a couple of different ways to create `dict` objects."
   ]
  },
  {
   "cell_type": "code",
   "execution_count": 45,
   "metadata": {
    "colab": {},
    "colab_type": "code",
    "id": "Ist4xYq_WgtX"
   },
   "outputs": [
    {
     "data": {
      "text/plain": [
       "{}"
      ]
     },
     "execution_count": 45,
     "metadata": {},
     "output_type": "execute_result"
    }
   ],
   "source": [
    "# You can create an empty dict with the constructor function\n",
    "# and then add elements (see below)\n",
    "example_dict = dict()\n",
    "example_dict"
   ]
  },
  {
   "cell_type": "code",
   "execution_count": 46,
   "metadata": {
    "colab": {},
    "colab_type": "code",
    "id": "ORduN-FKWgta"
   },
   "outputs": [
    {
     "data": {
      "text/plain": [
       "{'name': 'Donald', 'species': 'Duck'}"
      ]
     },
     "execution_count": 46,
     "metadata": {},
     "output_type": "execute_result"
    }
   ],
   "source": [
    "# You can pass key/value pairs to the constructor function\n",
    "example_dict = dict(name='Donald', species='Duck')\n",
    "example_dict"
   ]
  },
  {
   "cell_type": "code",
   "execution_count": 47,
   "metadata": {
    "colab": {},
    "colab_type": "code",
    "id": "gxPzS5zMWgtf"
   },
   "outputs": [],
   "source": [
    "# You can also use the curly braces syntax\n",
    "# to quickly specify the key/value pairs.\n",
    "\n",
    "# IMPORTANT: This looks similar to how you \n",
    "# constructed `set` objects in the previous\n",
    "# section. Notice the key is separated from the \n",
    "# value by a colon in the `dict` form.\n",
    "university_info = {\n",
    "    'name': 'University of Notre Dame',\n",
    "    'mascot': 'Fighting Irish',\n",
    "    'city': 'Notre Dame',\n",
    "    'state': 'Indiana'\n",
    "}"
   ]
  },
  {
   "cell_type": "markdown",
   "metadata": {
    "colab_type": "text",
    "id": "ClBRZhJUWgth"
   },
   "source": [
    "**Pythonista Tip: **You can use both strings and numbers for keys in a dictionary.\n"
   ]
  },
  {
   "cell_type": "code",
   "execution_count": 48,
   "metadata": {
    "colab": {},
    "colab_type": "code",
    "id": "sAd1vVlnWgti"
   },
   "outputs": [
    {
     "data": {
      "text/plain": [
       "'University of Notre Dame'"
      ]
     },
     "execution_count": 48,
     "metadata": {},
     "output_type": "execute_result"
    }
   ],
   "source": [
    "# You access dictionary items with their key\n",
    "university_info['name']"
   ]
  },
  {
   "cell_type": "code",
   "execution_count": 49,
   "metadata": {
    "colab": {},
    "colab_type": "code",
    "id": "n0ODhJ4DWgtj"
   },
   "outputs": [
    {
     "data": {
      "text/plain": [
       "{'name': 'University of Notre Dame',\n",
       " 'mascot': 'Fighting Irish',\n",
       " 'city': 'Notre Dame',\n",
       " 'state': 'California'}"
      ]
     },
     "execution_count": 49,
     "metadata": {},
     "output_type": "execute_result"
    }
   ],
   "source": [
    "# Dictionaries are also mutable.\n",
    "# You can change the values associated with a given key\n",
    "university_info['state'] = 'California'\n",
    "university_info"
   ]
  },
  {
   "cell_type": "code",
   "execution_count": 50,
   "metadata": {
    "colab": {},
    "colab_type": "code",
    "id": "_Kr9gs_bWgtk"
   },
   "outputs": [
    {
     "data": {
      "text/plain": [
       "{'name': 'University of Notre Dame',\n",
       " 'mascot': 'Fighting Irish',\n",
       " 'city': 'Notre Dame',\n",
       " 'state': 'California',\n",
       " 'country': 'United States'}"
      ]
     },
     "execution_count": 50,
     "metadata": {},
     "output_type": "execute_result"
    }
   ],
   "source": [
    "# You can add new elements to a dictionary by simply\n",
    "# assigning a new value to a new key\n",
    "university_info['country'] = 'United States'\n",
    "university_info"
   ]
  },
  {
   "cell_type": "code",
   "execution_count": 51,
   "metadata": {
    "colab": {},
    "colab_type": "code",
    "id": "-CZmgWqSWgtm"
   },
   "outputs": [
    {
     "data": {
      "text/plain": [
       "{'name': 'University of Notre Dame',\n",
       " 'mascot': 'Fighting Irish',\n",
       " 'city': 'Notre Dame',\n",
       " 'state': 'California'}"
      ]
     },
     "execution_count": 51,
     "metadata": {},
     "output_type": "execute_result"
    }
   ],
   "source": [
    "# Dictionaries also have the `pop()` method to remove items\n",
    "# but you have to provide the key (not the value) you want to remove\n",
    "university_info.pop('country')\n",
    "university_info"
   ]
  },
  {
   "cell_type": "code",
   "execution_count": 52,
   "metadata": {
    "colab": {},
    "colab_type": "code",
    "id": "D5PanH5fWgtp"
   },
   "outputs": [
    {
     "name": "stdout",
     "output_type": "stream",
     "text": [
      "dict_keys(['name', 'mascot', 'city', 'state'])\n",
      "dict_values(['University of Notre Dame', 'Fighting Irish', 'Notre Dame', 'California'])\n"
     ]
    }
   ],
   "source": [
    "# You get retrieve just the keys or values of a dict\n",
    "\n",
    "# keys only\n",
    "print(university_info.keys())\n",
    "\n",
    "# values only\n",
    "print(university_info.values())"
   ]
  },
  {
   "cell_type": "code",
   "execution_count": 53,
   "metadata": {
    "colab": {},
    "colab_type": "code",
    "id": "27wZaGvmWgtr"
   },
   "outputs": [
    {
     "data": {
      "text/plain": [
       "{'name': 'Michael Dunn', 'age': '999'}"
      ]
     },
     "execution_count": 53,
     "metadata": {},
     "output_type": "execute_result"
    }
   ],
   "source": [
    "# And you can update one dictionary with\n",
    "# the values in another\n",
    "dict_1 = {'name': 'Michael Dunn'}\n",
    "dict_2 = {'age': '999'}\n",
    "\n",
    "dict_1.update(dict_2)\n",
    "dict_1"
   ]
  },
  {
   "cell_type": "markdown",
   "metadata": {
    "colab_type": "text",
    "id": "V_t4GYIdWgtt"
   },
   "source": [
    "### Booleans\n",
    "A *`bool`* object has two possible values in Python: *`True`* or *`False`*. This type of object is often returned from conditional statements (like an *`if`* statement, where you are testing whether or not something is true)."
   ]
  },
  {
   "cell_type": "code",
   "execution_count": 54,
   "metadata": {
    "colab": {},
    "colab_type": "code",
    "id": "3y8hchoqWgtu"
   },
   "outputs": [
    {
     "data": {
      "text/plain": [
       "True"
      ]
     },
     "execution_count": 54,
     "metadata": {},
     "output_type": "execute_result"
    }
   ],
   "source": [
    "# Here I will assign the result of the \"greater than\"\n",
    "# conditional operator to the variable `my_boolean`\n",
    "my_boolean = 5 > 4\n",
    "my_boolean"
   ]
  },
  {
   "cell_type": "code",
   "execution_count": 55,
   "metadata": {
    "colab": {},
    "colab_type": "code",
    "id": "5bRpyBB0Wgtx"
   },
   "outputs": [
    {
     "data": {
      "text/plain": [
       "False"
      ]
     },
     "execution_count": 55,
     "metadata": {},
     "output_type": "execute_result"
    }
   ],
   "source": [
    "# And correspondingly if I come up with an un-true statement\n",
    "# the value of my `bool` object will become `False`\n",
    "my_boolean = 4 > 5\n",
    "my_boolean"
   ]
  },
  {
   "cell_type": "code",
   "execution_count": 56,
   "metadata": {
    "colab": {},
    "colab_type": "code",
    "id": "Tcg3QoGhWgtz"
   },
   "outputs": [
    {
     "data": {
      "text/plain": [
       "bool"
      ]
     },
     "execution_count": 56,
     "metadata": {},
     "output_type": "execute_result"
    }
   ],
   "source": [
    "# As always, you can check the object type\n",
    "type(my_boolean)"
   ]
  },
  {
   "cell_type": "code",
   "execution_count": 57,
   "metadata": {
    "colab": {},
    "colab_type": "code",
    "id": "1uC4F68qWgt1"
   },
   "outputs": [
    {
     "data": {
      "text/plain": [
       "True"
      ]
     },
     "execution_count": 57,
     "metadata": {},
     "output_type": "execute_result"
    }
   ],
   "source": [
    "# 'True' boolean values are considered equal to 1\n",
    "True == 1"
   ]
  },
  {
   "cell_type": "code",
   "execution_count": 58,
   "metadata": {
    "colab": {},
    "colab_type": "code",
    "id": "l6fj46DGWgt3"
   },
   "outputs": [
    {
     "data": {
      "text/plain": [
       "True"
      ]
     },
     "execution_count": 58,
     "metadata": {},
     "output_type": "execute_result"
    }
   ],
   "source": [
    "# 'False' boolean values are considered equal to 0\n",
    "False == 0"
   ]
  },
  {
   "cell_type": "markdown",
   "metadata": {
    "colab_type": "text",
    "id": "TClSDVqPWgt5"
   },
   "source": [
    "### `None` Object\n",
    "The special object *`None`* represents the lack of a value. This is a bit esoteric without context, but just remember that this object exists. We will see it used practically as we move through our course."
   ]
  },
  {
   "cell_type": "code",
   "execution_count": null,
   "metadata": {},
   "outputs": [],
   "source": []
  }
 ],
 "metadata": {
  "colab": {
   "collapsed_sections": [
    "TClSDVqPWgt5"
   ],
   "name": "1.3 Common Functions & Basic Data Types.ipynb",
   "provenance": [],
   "version": "0.3.2"
  },
  "kernelspec": {
   "display_name": "Python 3",
   "language": "python",
   "name": "python3"
  },
  "language_info": {
   "codemirror_mode": {
    "name": "ipython",
    "version": 3
   },
   "file_extension": ".py",
   "mimetype": "text/x-python",
   "name": "python",
   "nbconvert_exporter": "python",
   "pygments_lexer": "ipython3",
   "version": "3.7.3"
  }
 },
 "nbformat": 4,
 "nbformat_minor": 1
}
